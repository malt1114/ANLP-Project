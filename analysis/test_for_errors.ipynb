{
 "cells": [
  {
   "cell_type": "code",
   "execution_count": 5,
   "metadata": {},
   "outputs": [
    {
     "name": "stdout",
     "output_type": "stream",
     "text": [
      "Words not in test_aggregated_easy.csv: set()\n",
      "Count: 0\n",
      "Words not in easy_baseline_stats.csv: set()\n",
      "Count: 0\n"
     ]
    }
   ],
   "source": [
    "import pandas as pd\n",
    "# Load the CSV files\n",
    "test_aggregated_easy = pd.read_csv('test_aggregated_easy.csv')\n",
    "easy_baseline_stats = pd.read_csv('easy_baseline_stats.csv')\n",
    "test_aggregated_hard = pd.read_csv('test_aggregated_hard.csv')\n",
    "hard_baseline_stats = pd.read_csv('hard_baseline_stats.csv')\n",
    "\n",
    "# Convert the dataframes to sets of words\n",
    "words_in_test_aggregated_easy = set(test_aggregated_easy[\"Word\"])\n",
    "words_in_easy_baseline_stats = set(easy_baseline_stats[\"word\"])\n",
    "words_in_test_aggregated_hard = set(test_aggregated_hard[\"Word\"])\n",
    "words_in_hard_baseline_stats = set(hard_baseline_stats[\"word\"])\n",
    "\n",
    "\n",
    "# Find words that are not in each file\n",
    "words_not_in_test_aggregated_easy = words_in_easy_baseline_stats - words_in_test_aggregated_easy\n",
    "words_not_in_easy_baseline_stats = words_in_test_aggregated_easy - words_in_easy_baseline_stats\n",
    "\n",
    "print(\"Words not in test_aggregated_easy.csv:\", words_not_in_test_aggregated_easy)\n",
    "print(\"Count:\", len(words_not_in_test_aggregated_easy))\n",
    "print(\"Words not in easy_baseline_stats.csv:\", words_not_in_easy_baseline_stats)\n",
    "print(\"Count:\", len(words_not_in_easy_baseline_stats))"
   ]
  },
  {
   "cell_type": "code",
   "execution_count": 6,
   "metadata": {},
   "outputs": [
    {
     "name": "stdout",
     "output_type": "stream",
     "text": [
      "amount of unique words in test_aggregated_easy: 44591\n",
      "amount of unique words in easy_baseline_stats: 44591\n",
      "amount of unique words in test_aggregated_hard: 51893\n",
      "amount of unique words in hard_baseline_stats: 51893\n"
     ]
    }
   ],
   "source": [
    "print(f\"amount of unique words in test_aggregated_easy: {len(words_in_test_aggregated_easy)}\")\n",
    "print(f\"amount of unique words in easy_baseline_stats: {len(words_in_easy_baseline_stats)}\")\n",
    "print(f\"amount of unique words in test_aggregated_hard: {len(words_in_test_aggregated_hard)}\")\n",
    "print(f\"amount of unique words in hard_baseline_stats: {len(words_in_hard_baseline_stats)}\")"
   ]
  },
  {
   "cell_type": "code",
   "execution_count": null,
   "metadata": {},
   "outputs": [],
   "source": []
  }
 ],
 "metadata": {
  "kernelspec": {
   "display_name": "base",
   "language": "python",
   "name": "python3"
  },
  "language_info": {
   "codemirror_mode": {
    "name": "ipython",
    "version": 3
   },
   "file_extension": ".py",
   "mimetype": "text/x-python",
   "name": "python",
   "nbconvert_exporter": "python",
   "pygments_lexer": "ipython3",
   "version": "3.11.7"
  }
 },
 "nbformat": 4,
 "nbformat_minor": 2
}
