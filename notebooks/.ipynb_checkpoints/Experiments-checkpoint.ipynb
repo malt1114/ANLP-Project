{
 "cells": [
  {
   "cell_type": "markdown",
   "id": "06e9ca99",
   "metadata": {
    "heading_collapsed": true
   },
   "source": [
    "# Settings"
   ]
  },
  {
   "cell_type": "code",
   "execution_count": 1,
   "id": "6adebd2a",
   "metadata": {
    "ExecuteTime": {
     "end_time": "2024-10-11T09:36:14.370196Z",
     "start_time": "2024-10-11T09:36:14.342683Z"
    },
    "hidden": true
   },
   "outputs": [
    {
     "data": {
      "text/plain": [
       "'C:\\\\Users\\\\ruben\\\\OneDrive\\\\Dokumenter\\\\GitHub\\\\ANLP-Project'"
      ]
     },
     "execution_count": 1,
     "metadata": {},
     "output_type": "execute_result"
    }
   ],
   "source": [
    "import sys\n",
    "import os\n",
    "\n",
    "os.chdir('..')\n",
    "os.getcwd()"
   ]
  },
  {
   "cell_type": "markdown",
   "id": "b062a02c",
   "metadata": {},
   "source": [
    "# Imports"
   ]
  },
  {
   "cell_type": "code",
   "execution_count": 2,
   "id": "a187787d",
   "metadata": {
    "ExecuteTime": {
     "end_time": "2024-10-11T09:36:14.388056Z",
     "start_time": "2024-10-11T09:36:14.378237Z"
    }
   },
   "outputs": [],
   "source": [
    "#! pip install editdistance"
   ]
  },
  {
   "cell_type": "code",
   "execution_count": 3,
   "id": "29f6f2ce",
   "metadata": {
    "ExecuteTime": {
     "end_time": "2024-10-11T09:36:17.640086Z",
     "start_time": "2024-10-11T09:36:14.396098Z"
    }
   },
   "outputs": [],
   "source": [
    "from scripts.model import device, CharBiLSTM\n",
    "from scripts.data import create_data_loader, load_data\n",
    "from scripts.preprocessing import get_typoglycemia_modified_data\n",
    "from scripts.baseline import get_base_line_score\n",
    "\n",
    "from torch import nn, optim\n",
    "import torch\n",
    "\n",
    "from sklearn.model_selection import train_test_split\n",
    "\n",
    "import editdistance\n",
    "from tqdm.notebook import tqdm\n",
    "import random \n",
    "random.seed(42)\n",
    "torch.manual_seed(42);"
   ]
  },
  {
   "cell_type": "markdown",
   "id": "52b0678d",
   "metadata": {},
   "source": [
    "# Data"
   ]
  },
  {
   "cell_type": "code",
   "execution_count": 4,
   "id": "c763fef2",
   "metadata": {
    "ExecuteTime": {
     "end_time": "2024-10-11T09:36:19.892698Z",
     "start_time": "2024-10-11T09:36:17.642073Z"
    }
   },
   "outputs": [],
   "source": [
    "df = load_data(file_path = \"data/processed/sscorpus.csv\")"
   ]
  },
  {
   "cell_type": "code",
   "execution_count": 5,
   "id": "184933bf",
   "metadata": {
    "ExecuteTime": {
     "end_time": "2024-10-11T09:36:19.907457Z",
     "start_time": "2024-10-11T09:36:19.893696Z"
    }
   },
   "outputs": [
    {
     "data": {
      "text/html": [
       "<div>\n",
       "<style scoped>\n",
       "    .dataframe tbody tr th:only-of-type {\n",
       "        vertical-align: middle;\n",
       "    }\n",
       "\n",
       "    .dataframe tbody tr th {\n",
       "        vertical-align: top;\n",
       "    }\n",
       "\n",
       "    .dataframe thead th {\n",
       "        text-align: right;\n",
       "    }\n",
       "</style>\n",
       "<table border=\"1\" class=\"dataframe\">\n",
       "  <thead>\n",
       "    <tr style=\"text-align: right;\">\n",
       "      <th></th>\n",
       "      <th>Hard</th>\n",
       "      <th>Easy</th>\n",
       "      <th>Similarity</th>\n",
       "      <th>Easy_Typo</th>\n",
       "      <th>Hard_Typo</th>\n",
       "    </tr>\n",
       "  </thead>\n",
       "  <tbody>\n",
       "    <tr>\n",
       "      <th>0</th>\n",
       "      <td>on the Dover Air Force Base .</td>\n",
       "      <td>It ends near the Dover Air Force Base and DE o...</td>\n",
       "      <td>0.7</td>\n",
       "      <td>It edns naer the Dover Air Frcoe Bsae and DE o...</td>\n",
       "      <td>on the Dveor Air Froce Bsae .</td>\n",
       "    </tr>\n",
       "    <tr>\n",
       "      <th>1</th>\n",
       "      <td>in games including `` Super Smash Bros. '' and...</td>\n",
       "      <td>He has been in a number of video games includi...</td>\n",
       "      <td>0.7</td>\n",
       "      <td>He has been in a nubemr of vdeio games iinudcn...</td>\n",
       "      <td>in gmeas iiudcnlng `` Suepr Smash Bsor. '' and...</td>\n",
       "    </tr>\n",
       "    <tr>\n",
       "      <th>2</th>\n",
       "      <td>`` Usucha '' , or thin tea , is prepared with ...</td>\n",
       "      <td>`` Usucha '' , or thin tea , is prepared with ...</td>\n",
       "      <td>0.7</td>\n",
       "      <td>`` Uhusca '' , or tihn tea , is ppareerd with ...</td>\n",
       "      <td>`` Usucha '' , or thin tea , is prpraeed wtih ...</td>\n",
       "    </tr>\n",
       "  </tbody>\n",
       "</table>\n",
       "</div>"
      ],
      "text/plain": [
       "                                                Hard  \\\n",
       "0                      on the Dover Air Force Base .   \n",
       "1  in games including `` Super Smash Bros. '' and...   \n",
       "2  `` Usucha '' , or thin tea , is prepared with ...   \n",
       "\n",
       "                                                Easy  Similarity  \\\n",
       "0  It ends near the Dover Air Force Base and DE o...         0.7   \n",
       "1  He has been in a number of video games includi...         0.7   \n",
       "2  `` Usucha '' , or thin tea , is prepared with ...         0.7   \n",
       "\n",
       "                                           Easy_Typo  \\\n",
       "0  It edns naer the Dover Air Frcoe Bsae and DE o...   \n",
       "1  He has been in a nubemr of vdeio games iinudcn...   \n",
       "2  `` Uhusca '' , or tihn tea , is ppareerd with ...   \n",
       "\n",
       "                                           Hard_Typo  \n",
       "0                      on the Dveor Air Froce Bsae .  \n",
       "1  in gmeas iiudcnlng `` Suepr Smash Bsor. '' and...  \n",
       "2  `` Usucha '' , or thin tea , is prpraeed wtih ...  "
      ]
     },
     "execution_count": 5,
     "metadata": {},
     "output_type": "execute_result"
    }
   ],
   "source": [
    "df.head(3)"
   ]
  },
  {
   "cell_type": "markdown",
   "id": "3cba319a",
   "metadata": {},
   "source": [
    "## Splitting data into train, val, test"
   ]
  },
  {
   "cell_type": "code",
   "execution_count": 6,
   "id": "61b52710",
   "metadata": {
    "ExecuteTime": {
     "end_time": "2024-10-11T09:36:20.077936Z",
     "start_time": "2024-10-11T09:36:19.908981Z"
    }
   },
   "outputs": [],
   "source": [
    "dev, test = train_test_split(df, test_size=0.2)\n",
    "train, validation = train_test_split(dev, test_size=0.2)"
   ]
  },
  {
   "cell_type": "markdown",
   "id": "1e28c86d",
   "metadata": {},
   "source": [
    "## Baseline dev"
   ]
  },
  {
   "cell_type": "code",
   "execution_count": 7,
   "id": "c856a6c7",
   "metadata": {
    "ExecuteTime": {
     "end_time": "2024-10-11T09:36:23.846967Z",
     "start_time": "2024-10-11T09:36:20.078956Z"
    }
   },
   "outputs": [
    {
     "name": "stdout",
     "output_type": "stream",
     "text": [
      "The base line has a mean editdistance of 0.267 pr. sentence, and 0.272 pr. word\n"
     ]
    }
   ],
   "source": [
    "get_base_line_score(train = train, test = test, type = 'Easy')"
   ]
  },
  {
   "cell_type": "code",
   "execution_count": 8,
   "id": "34e1e7fa",
   "metadata": {
    "ExecuteTime": {
     "end_time": "2024-10-11T09:36:29.445026Z",
     "start_time": "2024-10-11T09:36:23.848970Z"
    }
   },
   "outputs": [
    {
     "name": "stdout",
     "output_type": "stream",
     "text": [
      "The base line has a mean editdistance of 0.3 pr. sentence, and 0.294 pr. word\n"
     ]
    }
   ],
   "source": [
    "get_base_line_score(train = train, test = test, type = 'Hard')"
   ]
  },
  {
   "cell_type": "markdown",
   "id": "e7d6bd21",
   "metadata": {},
   "source": [
    "## Getting dataloaders"
   ]
  },
  {
   "cell_type": "code",
   "execution_count": 9,
   "id": "d122bfd0",
   "metadata": {
    "ExecuteTime": {
     "end_time": "2024-10-11T09:36:29.450556Z",
     "start_time": "2024-10-11T09:36:29.447039Z"
    }
   },
   "outputs": [],
   "source": [
    "complexity_level = \"Hard\""
   ]
  },
  {
   "cell_type": "code",
   "execution_count": 12,
   "id": "5678856c",
   "metadata": {
    "ExecuteTime": {
     "end_time": "2024-10-11T09:37:16.533263Z",
     "start_time": "2024-10-11T09:37:15.296041Z"
    }
   },
   "outputs": [
    {
     "name": "stdout",
     "output_type": "stream",
     "text": [
      "                                                     Hard  \\\n",
      "117180  Born in San Diego , California , to parents Ph...   \n",
      "301933  The first such blades were made by the Wilkins...   \n",
      "76182   It featured talent from the Raw , SmackDown , ...   \n",
      "102357  The predominant bout on the card was for the N...   \n",
      "299880  In one thousand, nine hundred and two he condu...   \n",
      "...                                                   ...   \n",
      "177393  After the qualifying session for the British G...   \n",
      "98927   The magnitude of the momentum four-vector is e...   \n",
      "216321  Sweeney was born in Spokane , Washington , the...   \n",
      "124204  In one thousand, nine hundred and thirty-one t...   \n",
      "288879  In Bangladesh , the Muslim League was revived ...   \n",
      "\n",
      "                                                Hard_Typo  \n",
      "117180  Born in San Degio , Cronlafiia , to peantrs Pi...  \n",
      "301933  The frist such beadls were made by the Wolkini...  \n",
      "76182   It fueatred telnat from the Raw , SamDkwcon , ...  \n",
      "102357  The peoramndnit buot on the crad was for the N...  \n",
      "299880  In one tuhsdano, nnie hendrud and two he cednc...  \n",
      "...                                                   ...  \n",
      "177393  Aeftr the qyfiinluag seossin for the Btrisih G...  \n",
      "98927   The muadigtne of the mmtunoem fuvcooet-rr is e...  \n",
      "216321  Sneweey was bron in Sanokpe , Wgnosthain , the...  \n",
      "124204  In one thnoadsu, nine hnuredd and tyih-rtone t...  \n",
      "288879  In Baglnadesh , the Mislum Luagee was reivevd ...  \n",
      "\n",
      "[196504 rows x 2 columns]\n"
     ]
    },
    {
     "ename": "KeyError",
     "evalue": "'typo_Hard'",
     "output_type": "error",
     "traceback": [
      "\u001b[1;31m---------------------------------------------------------------------------\u001b[0m",
      "\u001b[1;31mKeyError\u001b[0m                                  Traceback (most recent call last)",
      "File \u001b[1;32m~\\anaconda3\\Lib\\site-packages\\pandas\\core\\indexes\\base.py:3653\u001b[0m, in \u001b[0;36mIndex.get_loc\u001b[1;34m(self, key)\u001b[0m\n\u001b[0;32m   3652\u001b[0m \u001b[38;5;28;01mtry\u001b[39;00m:\n\u001b[1;32m-> 3653\u001b[0m     \u001b[38;5;28;01mreturn\u001b[39;00m \u001b[38;5;28mself\u001b[39m\u001b[38;5;241m.\u001b[39m_engine\u001b[38;5;241m.\u001b[39mget_loc(casted_key)\n\u001b[0;32m   3654\u001b[0m \u001b[38;5;28;01mexcept\u001b[39;00m \u001b[38;5;167;01mKeyError\u001b[39;00m \u001b[38;5;28;01mas\u001b[39;00m err:\n",
      "File \u001b[1;32m~\\anaconda3\\Lib\\site-packages\\pandas\\_libs\\index.pyx:147\u001b[0m, in \u001b[0;36mpandas._libs.index.IndexEngine.get_loc\u001b[1;34m()\u001b[0m\n",
      "File \u001b[1;32m~\\anaconda3\\Lib\\site-packages\\pandas\\_libs\\index.pyx:176\u001b[0m, in \u001b[0;36mpandas._libs.index.IndexEngine.get_loc\u001b[1;34m()\u001b[0m\n",
      "File \u001b[1;32mpandas\\_libs\\hashtable_class_helper.pxi:7080\u001b[0m, in \u001b[0;36mpandas._libs.hashtable.PyObjectHashTable.get_item\u001b[1;34m()\u001b[0m\n",
      "File \u001b[1;32mpandas\\_libs\\hashtable_class_helper.pxi:7088\u001b[0m, in \u001b[0;36mpandas._libs.hashtable.PyObjectHashTable.get_item\u001b[1;34m()\u001b[0m\n",
      "\u001b[1;31mKeyError\u001b[0m: 'typo_Hard'",
      "\nThe above exception was the direct cause of the following exception:\n",
      "\u001b[1;31mKeyError\u001b[0m                                  Traceback (most recent call last)",
      "Cell \u001b[1;32mIn[12], line 1\u001b[0m\n\u001b[1;32m----> 1\u001b[0m train_loader \u001b[38;5;241m=\u001b[39m create_data_loader(train[[complexity_level, complexity_level \u001b[38;5;241m+\u001b[39m \u001b[38;5;124m\"\u001b[39m\u001b[38;5;124m_Typo\u001b[39m\u001b[38;5;124m\"\u001b[39m]], complexity\u001b[38;5;241m=\u001b[39mcomplexity_level)\n",
      "File \u001b[1;32m~\\OneDrive\\Dokumenter\\GitHub\\ANLP-Project\\scripts\\data.py:33\u001b[0m, in \u001b[0;36mcreate_data_loader\u001b[1;34m(df, complexity, batch_size)\u001b[0m\n\u001b[0;32m     31\u001b[0m \u001b[38;5;28mprint\u001b[39m(df)\n\u001b[0;32m     32\u001b[0m sentence \u001b[38;5;241m=\u001b[39m convert_sentence_to_char_sequence(df[complexity])\n\u001b[1;32m---> 33\u001b[0m typo_sentence \u001b[38;5;241m=\u001b[39m convert_sentence_to_char_sequence(df[\u001b[38;5;124m\"\u001b[39m\u001b[38;5;124mtypo_\u001b[39m\u001b[38;5;124m\"\u001b[39m \u001b[38;5;241m+\u001b[39m complexity])\n\u001b[0;32m     35\u001b[0m dataset \u001b[38;5;241m=\u001b[39m DataClass(typo_sentence, sentence)\n\u001b[0;32m     36\u001b[0m loader \u001b[38;5;241m=\u001b[39m torch\u001b[38;5;241m.\u001b[39mutils\u001b[38;5;241m.\u001b[39mdata\u001b[38;5;241m.\u001b[39mDataLoader(dataset, batch_size\u001b[38;5;241m=\u001b[39mbatch_size, shuffle\u001b[38;5;241m=\u001b[39m\u001b[38;5;28;01mFalse\u001b[39;00m)\n",
      "File \u001b[1;32m~\\anaconda3\\Lib\\site-packages\\pandas\\core\\frame.py:3761\u001b[0m, in \u001b[0;36mDataFrame.__getitem__\u001b[1;34m(self, key)\u001b[0m\n\u001b[0;32m   3759\u001b[0m \u001b[38;5;28;01mif\u001b[39;00m \u001b[38;5;28mself\u001b[39m\u001b[38;5;241m.\u001b[39mcolumns\u001b[38;5;241m.\u001b[39mnlevels \u001b[38;5;241m>\u001b[39m \u001b[38;5;241m1\u001b[39m:\n\u001b[0;32m   3760\u001b[0m     \u001b[38;5;28;01mreturn\u001b[39;00m \u001b[38;5;28mself\u001b[39m\u001b[38;5;241m.\u001b[39m_getitem_multilevel(key)\n\u001b[1;32m-> 3761\u001b[0m indexer \u001b[38;5;241m=\u001b[39m \u001b[38;5;28mself\u001b[39m\u001b[38;5;241m.\u001b[39mcolumns\u001b[38;5;241m.\u001b[39mget_loc(key)\n\u001b[0;32m   3762\u001b[0m \u001b[38;5;28;01mif\u001b[39;00m is_integer(indexer):\n\u001b[0;32m   3763\u001b[0m     indexer \u001b[38;5;241m=\u001b[39m [indexer]\n",
      "File \u001b[1;32m~\\anaconda3\\Lib\\site-packages\\pandas\\core\\indexes\\base.py:3655\u001b[0m, in \u001b[0;36mIndex.get_loc\u001b[1;34m(self, key)\u001b[0m\n\u001b[0;32m   3653\u001b[0m     \u001b[38;5;28;01mreturn\u001b[39;00m \u001b[38;5;28mself\u001b[39m\u001b[38;5;241m.\u001b[39m_engine\u001b[38;5;241m.\u001b[39mget_loc(casted_key)\n\u001b[0;32m   3654\u001b[0m \u001b[38;5;28;01mexcept\u001b[39;00m \u001b[38;5;167;01mKeyError\u001b[39;00m \u001b[38;5;28;01mas\u001b[39;00m err:\n\u001b[1;32m-> 3655\u001b[0m     \u001b[38;5;28;01mraise\u001b[39;00m \u001b[38;5;167;01mKeyError\u001b[39;00m(key) \u001b[38;5;28;01mfrom\u001b[39;00m \u001b[38;5;21;01merr\u001b[39;00m\n\u001b[0;32m   3656\u001b[0m \u001b[38;5;28;01mexcept\u001b[39;00m \u001b[38;5;167;01mTypeError\u001b[39;00m:\n\u001b[0;32m   3657\u001b[0m     \u001b[38;5;66;03m# If we have a listlike key, _check_indexing_error will raise\u001b[39;00m\n\u001b[0;32m   3658\u001b[0m     \u001b[38;5;66;03m#  InvalidIndexError. Otherwise we fall through and re-raise\u001b[39;00m\n\u001b[0;32m   3659\u001b[0m     \u001b[38;5;66;03m#  the TypeError.\u001b[39;00m\n\u001b[0;32m   3660\u001b[0m     \u001b[38;5;28mself\u001b[39m\u001b[38;5;241m.\u001b[39m_check_indexing_error(key)\n",
      "\u001b[1;31mKeyError\u001b[0m: 'typo_Hard'"
     ]
    }
   ],
   "source": [
    "train_loader = create_data_loader(train[[complexity_level, complexity_level + \"_Typo\"]], complexity=complexity_level) # TODO "
   ]
  },
  {
   "cell_type": "code",
   "execution_count": null,
   "id": "5094bb7c",
   "metadata": {
    "ExecuteTime": {
     "end_time": "2024-10-04T09:42:06.033454Z",
     "start_time": "2024-10-04T09:42:06.027449Z"
    }
   },
   "outputs": [],
   "source": [
    "train_loader = create_data_loader(train) # TODO \n",
    "validation_loader = create_data_loader(validation) # TODO \n",
    "test_loader = create_data_loader(test) # TODO "
   ]
  },
  {
   "cell_type": "markdown",
   "id": "22f7af09",
   "metadata": {},
   "source": [
    "# Model  (Not finished just a template)"
   ]
  },
  {
   "cell_type": "code",
   "execution_count": null,
   "id": "d9acefe3",
   "metadata": {
    "ExecuteTime": {
     "end_time": "2024-10-04T09:42:09.614732Z",
     "start_time": "2024-10-04T09:42:06.036454Z"
    }
   },
   "outputs": [],
   "source": [
    "input_size = 10\n",
    "hidden_size = 128\n",
    "output_size = 10\n",
    "num_layers = 1\n",
    "\n",
    "model = CharBiLSTM(input_size, hidden_size, output_size, num_layers).to(device)\n",
    "loss_function = nn.CrossEntropyLoss().to(device)\n",
    "optimizer = optim.Adam(model.parameters(), lr=0.01, amsgrad=True)\n",
    "\n",
    "epochs = 1"
   ]
  },
  {
   "cell_type": "markdown",
   "id": "a59ef874",
   "metadata": {},
   "source": [
    "# Training"
   ]
  },
  {
   "cell_type": "code",
   "execution_count": null,
   "id": "f2735a44",
   "metadata": {
    "ExecuteTime": {
     "end_time": "2024-10-04T09:42:10.199660Z",
     "start_time": "2024-10-04T09:42:09.616755Z"
    }
   },
   "outputs": [],
   "source": [
    "model.train()\n",
    "for epoch in range(epochs):\n",
    "    epoch_loss = 0.0    \n",
    "    for batch in tqdm(train_loader):\n",
    "        typo_batch, sentence_batch = batch        \n",
    "\n",
    "        optimizer.zero_grad()\n",
    "        y = model.forward(typo_batch)\n",
    "\n",
    "        loss = loss_function(y, sentence_batch)\n",
    "        loss.backward()\n",
    "        optimizer.step()\n",
    "        epoch_loss += loss.item()\n",
    "\n",
    "    epoch_loss_avg = epoch_loss/len(train_loader)"
   ]
  },
  {
   "cell_type": "code",
   "execution_count": null,
   "id": "b1703dd6",
   "metadata": {},
   "outputs": [],
   "source": [
    "plt.plot(train_loss_dc.keys(), train_loss_dc.values(), label=\"Train Loss\")\n",
    "plt.plot(val_loss_dc.keys(), val_loss_dc.values(), label=\"Validation Loss\")\n",
    "plt.set_xlabel(\"Epochs\")\n",
    "plt.set_ylabel(\"Cross Entropy Loss\")"
   ]
  },
  {
   "cell_type": "code",
   "execution_count": null,
   "id": "ec6852f0",
   "metadata": {},
   "outputs": [],
   "source": []
  },
  {
   "cell_type": "markdown",
   "id": "9675c03d",
   "metadata": {},
   "source": [
    "# Evaluation"
   ]
  },
  {
   "cell_type": "code",
   "execution_count": null,
   "id": "33373a89",
   "metadata": {},
   "outputs": [],
   "source": [
    "model.eval()\n"
   ]
  }
 ],
 "metadata": {
  "kernelspec": {
   "display_name": "Python 3 (ipykernel)",
   "language": "python",
   "name": "python3"
  },
  "language_info": {
   "codemirror_mode": {
    "name": "ipython",
    "version": 3
   },
   "file_extension": ".py",
   "mimetype": "text/x-python",
   "name": "python",
   "nbconvert_exporter": "python",
   "pygments_lexer": "ipython3",
   "version": "3.11.4"
  },
  "toc": {
   "base_numbering": 1,
   "nav_menu": {},
   "number_sections": true,
   "sideBar": true,
   "skip_h1_title": false,
   "title_cell": "Table of Contents",
   "title_sidebar": "Contents",
   "toc_cell": false,
   "toc_position": {},
   "toc_section_display": true,
   "toc_window_display": false
  }
 },
 "nbformat": 4,
 "nbformat_minor": 5
}
