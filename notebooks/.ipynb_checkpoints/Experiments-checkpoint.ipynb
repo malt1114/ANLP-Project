{
 "cells": [
  {
   "cell_type": "markdown",
   "id": "06e9ca99",
   "metadata": {},
   "source": [
    "# Settings"
   ]
  },
  {
   "cell_type": "code",
   "execution_count": 1,
   "id": "6adebd2a",
   "metadata": {
    "ExecuteTime": {
     "end_time": "2024-10-25T11:26:19.903221Z",
     "start_time": "2024-10-25T11:26:19.892220Z"
    }
   },
   "outputs": [
    {
     "data": {
      "text/plain": [
       "'C:\\\\Users\\\\ruben\\\\OneDrive\\\\Dokumenter\\\\GitHub\\\\ANLP-Project'"
      ]
     },
     "execution_count": 1,
     "metadata": {},
     "output_type": "execute_result"
    }
   ],
   "source": [
    "import sys\n",
    "import os\n",
    "\n",
    "os.chdir('..')\n",
    "os.getcwd()"
   ]
  },
  {
   "cell_type": "markdown",
   "id": "b062a02c",
   "metadata": {},
   "source": [
    "# Imports"
   ]
  },
  {
   "cell_type": "code",
   "execution_count": 2,
   "id": "a187787d",
   "metadata": {
    "ExecuteTime": {
     "end_time": "2024-10-25T11:26:19.912752Z",
     "start_time": "2024-10-25T11:26:19.907221Z"
    }
   },
   "outputs": [],
   "source": [
    "#! pip install editdistance"
   ]
  },
  {
   "cell_type": "code",
   "execution_count": 17,
   "id": "29f6f2ce",
   "metadata": {
    "ExecuteTime": {
     "end_time": "2024-10-25T11:29:55.668402Z",
     "start_time": "2024-10-25T11:29:55.647097Z"
    }
   },
   "outputs": [],
   "source": [
    "from scripts.model import device, CharBiLSTM\n",
    "from scripts.data import create_data_loader, load_data\n",
    "from scripts.preprocessing import get_typoglycemia_modified_data, sentence_tokennizer\n",
    "from scripts.baseline import get_base_line_score\n",
    "\n",
    "from torch import nn, optim\n",
    "import torch\n",
    "\n",
    "from sklearn.model_selection import train_test_split\n",
    "\n",
    "import editdistance\n",
    "from tqdm.notebook import tqdm\n",
    "import random \n",
    "\n",
    "import pandas as pd\n",
    "random.seed(42)\n",
    "torch.manual_seed(42);"
   ]
  },
  {
   "cell_type": "markdown",
   "id": "52b0678d",
   "metadata": {},
   "source": [
    "# Data"
   ]
  },
  {
   "cell_type": "code",
   "execution_count": 4,
   "id": "3ed6ecfe",
   "metadata": {
    "ExecuteTime": {
     "end_time": "2024-10-25T11:26:29.603167Z",
     "start_time": "2024-10-25T11:26:25.916570Z"
    }
   },
   "outputs": [],
   "source": [
    "df = load_data(file_path = \"data/processed/sscorpus.csv\")"
   ]
  },
  {
   "cell_type": "code",
   "execution_count": 5,
   "id": "5aac55f0",
   "metadata": {
    "ExecuteTime": {
     "end_time": "2024-10-25T11:26:29.623191Z",
     "start_time": "2024-10-25T11:26:29.605169Z"
    }
   },
   "outputs": [
    {
     "data": {
      "text/html": [
       "<div>\n",
       "<style scoped>\n",
       "    .dataframe tbody tr th:only-of-type {\n",
       "        vertical-align: middle;\n",
       "    }\n",
       "\n",
       "    .dataframe tbody tr th {\n",
       "        vertical-align: top;\n",
       "    }\n",
       "\n",
       "    .dataframe thead th {\n",
       "        text-align: right;\n",
       "    }\n",
       "</style>\n",
       "<table border=\"1\" class=\"dataframe\">\n",
       "  <thead>\n",
       "    <tr style=\"text-align: right;\">\n",
       "      <th></th>\n",
       "      <th>Hard</th>\n",
       "      <th>Easy</th>\n",
       "      <th>Similarity</th>\n",
       "      <th>Easy_Typo</th>\n",
       "      <th>Hard_Typo</th>\n",
       "    </tr>\n",
       "  </thead>\n",
       "  <tbody>\n",
       "    <tr>\n",
       "      <th>0</th>\n",
       "      <td>on the Dover Air Force Base .</td>\n",
       "      <td>It ends near the Dover Air Force Base and DE o...</td>\n",
       "      <td>0.7</td>\n",
       "      <td>It edns naer the Dover Air Frcoe Bsae and DE o...</td>\n",
       "      <td>on the Dveor Air Froce Bsae .</td>\n",
       "    </tr>\n",
       "    <tr>\n",
       "      <th>1</th>\n",
       "      <td>in games including `` Super Smash Bros. '' and...</td>\n",
       "      <td>He has been in a number of video games includi...</td>\n",
       "      <td>0.7</td>\n",
       "      <td>He has been in a nubemr of vdeio games iinudcn...</td>\n",
       "      <td>in gmeas iiudcnlng `` Suepr Smash Bsor. '' and...</td>\n",
       "    </tr>\n",
       "    <tr>\n",
       "      <th>2</th>\n",
       "      <td>`` Usucha '' , or thin tea , is prepared with ...</td>\n",
       "      <td>`` Usucha '' , or thin tea , is prepared with ...</td>\n",
       "      <td>0.7</td>\n",
       "      <td>`` Uhusca '' , or tihn tea , is ppareerd with ...</td>\n",
       "      <td>`` Usucha '' , or thin tea , is prpraeed wtih ...</td>\n",
       "    </tr>\n",
       "  </tbody>\n",
       "</table>\n",
       "</div>"
      ],
      "text/plain": [
       "                                                Hard  \\\n",
       "0                      on the Dover Air Force Base .   \n",
       "1  in games including `` Super Smash Bros. '' and...   \n",
       "2  `` Usucha '' , or thin tea , is prepared with ...   \n",
       "\n",
       "                                                Easy  Similarity  \\\n",
       "0  It ends near the Dover Air Force Base and DE o...         0.7   \n",
       "1  He has been in a number of video games includi...         0.7   \n",
       "2  `` Usucha '' , or thin tea , is prepared with ...         0.7   \n",
       "\n",
       "                                           Easy_Typo  \\\n",
       "0  It edns naer the Dover Air Frcoe Bsae and DE o...   \n",
       "1  He has been in a nubemr of vdeio games iinudcn...   \n",
       "2  `` Uhusca '' , or tihn tea , is ppareerd with ...   \n",
       "\n",
       "                                           Hard_Typo  \n",
       "0                      on the Dveor Air Froce Bsae .  \n",
       "1  in gmeas iiudcnlng `` Suepr Smash Bsor. '' and...  \n",
       "2  `` Usucha '' , or thin tea , is prpraeed wtih ...  "
      ]
     },
     "execution_count": 5,
     "metadata": {},
     "output_type": "execute_result"
    }
   ],
   "source": [
    "df.head(3)"
   ]
  },
  {
   "cell_type": "markdown",
   "id": "3cba319a",
   "metadata": {},
   "source": [
    "## Splitting data into train, val, test"
   ]
  },
  {
   "cell_type": "code",
   "execution_count": 6,
   "id": "61b52710",
   "metadata": {
    "ExecuteTime": {
     "end_time": "2024-10-25T11:26:29.861976Z",
     "start_time": "2024-10-25T11:26:29.626192Z"
    }
   },
   "outputs": [],
   "source": [
    "dev, test = train_test_split(df, test_size=0.2)\n",
    "train, validation = train_test_split(dev, test_size=0.2)"
   ]
  },
  {
   "cell_type": "markdown",
   "id": "1e28c86d",
   "metadata": {},
   "source": [
    "## Baseline dev"
   ]
  },
  {
   "cell_type": "code",
   "execution_count": 7,
   "id": "c856a6c7",
   "metadata": {
    "ExecuteTime": {
     "end_time": "2024-10-25T11:26:36.141814Z",
     "start_time": "2024-10-25T11:26:29.863950Z"
    }
   },
   "outputs": [
    {
     "name": "stdout",
     "output_type": "stream",
     "text": [
      "The base line has a mean editdistance of 0.265 pr. sentence, and 0.27 pr. word\n"
     ]
    }
   ],
   "source": [
    "get_base_line_score(train = train, test = test, type = 'Easy')"
   ]
  },
  {
   "cell_type": "code",
   "execution_count": 8,
   "id": "34e1e7fa",
   "metadata": {
    "ExecuteTime": {
     "end_time": "2024-10-25T11:26:45.330922Z",
     "start_time": "2024-10-25T11:26:36.144818Z"
    }
   },
   "outputs": [
    {
     "name": "stdout",
     "output_type": "stream",
     "text": [
      "The base line has a mean editdistance of 0.294 pr. sentence, and 0.289 pr. word\n"
     ]
    }
   ],
   "source": [
    "get_base_line_score(train = train, test = test, type = 'Hard')"
   ]
  },
  {
   "cell_type": "markdown",
   "id": "e7d6bd21",
   "metadata": {},
   "source": [
    "## Getting dataloaders"
   ]
  },
  {
   "cell_type": "code",
   "execution_count": 9,
   "id": "ad37e7c4",
   "metadata": {
    "ExecuteTime": {
     "end_time": "2024-10-25T11:26:45.337922Z",
     "start_time": "2024-10-25T11:26:45.332923Z"
    }
   },
   "outputs": [],
   "source": [
    "complexity_level = \"Hard\""
   ]
  },
  {
   "cell_type": "code",
   "execution_count": 15,
   "id": "fea86cec",
   "metadata": {
    "ExecuteTime": {
     "end_time": "2024-10-25T11:29:33.112944Z",
     "start_time": "2024-10-25T11:29:29.891378Z"
    }
   },
   "outputs": [],
   "source": [
    "train.loc[:, complexity_level] = train[complexity_level].apply(lambda x: ' '.join(sentence_tokennizer(x)))\n",
    "train.loc[:, complexity_level + \"_Typo\"] = train[complexity_level + \"_Typo\"].apply(lambda x: ' '.join(sentence_tokennizer(x)))\n",
    "\n",
    "validation.loc[:, complexity_level] =validation[complexity_level].apply(lambda x: ' '.join(sentence_tokennizer(x)))\n",
    "validation.loc[:, complexity_level + \"_Typo\"] = validation[complexity_level + \"_Typo\"].apply(lambda x: ' '.join(sentence_tokennizer(x)))\n",
    "\n",
    "test.loc[:, complexity_level] = test[complexity_level].apply(lambda x: ' '.join(sentence_tokennizer(x)))\n",
    "test.loc[:, complexity_level + \"_Typo\"] = test[complexity_level + \"_Typo\"].apply(lambda x: ' '.join(sentence_tokennizer(x)))\n"
   ]
  },
  {
   "cell_type": "code",
   "execution_count": 21,
   "id": "392bd3cd",
   "metadata": {
    "ExecuteTime": {
     "end_time": "2024-10-25T11:31:59.072575Z",
     "start_time": "2024-10-25T11:31:58.709719Z"
    }
   },
   "outputs": [
    {
     "data": {
      "text/plain": [
       "1319"
      ]
     },
     "execution_count": 21,
     "metadata": {},
     "output_type": "execute_result"
    }
   ],
   "source": [
    "all_sentences_train = pd.concat([train[complexity_level], train[complexity_level + \"_Typo\"]])\n",
    "max_length_train = all_sentences_train.str.len().max()\n",
    "\n",
    "all_sentences_validation = pd.concat([validation[complexity_level], validation[complexity_level + \"_Typo\"]])\n",
    "max_length_validation = all_sentences_validation.str.len().max()\n",
    "\n",
    "all_sentences_test = pd.concat([test[complexity_level], test[complexity_level + \"_Typo\"]])\n",
    "max_length_test = all_sentences_test.str.len().max()\n",
    "\n",
    "max_length = max([max_length_train, max_length_validation, max_length_test])\n",
    "max_length"
   ]
  },
  {
   "cell_type": "code",
   "execution_count": 20,
   "id": "ae883648",
   "metadata": {
    "ExecuteTime": {
     "end_time": "2024-10-25T11:31:58.705718Z",
     "start_time": "2024-10-25T11:31:32.120693Z"
    }
   },
   "outputs": [],
   "source": [
    "train_loader = create_data_loader(train, complexity=complexity_level, max_length=max_length) # TODO "
   ]
  },
  {
   "cell_type": "code",
   "execution_count": null,
   "id": "5094bb7c",
   "metadata": {
    "ExecuteTime": {
     "end_time": "2024-10-25T11:26:46.007635Z",
     "start_time": "2024-10-25T11:26:46.007635Z"
    }
   },
   "outputs": [],
   "source": [
    "# train_loader = create_data_loader(train, complexity=complexity_level, batch_size=16) # TODO \n",
    "# validation_loader = create_data_loader(validation, complexity=\"Easy\", batch_size=16) # TODO \n",
    "# test_loader = create_data_loader(test, complexity=\"Easy\", batch_size=16) # TODO "
   ]
  },
  {
   "cell_type": "markdown",
   "id": "22f7af09",
   "metadata": {},
   "source": [
    "# Model  (Not finished just a template)"
   ]
  },
  {
   "cell_type": "code",
   "execution_count": 22,
   "id": "d9acefe3",
   "metadata": {
    "ExecuteTime": {
     "end_time": "2024-10-25T11:36:12.582705Z",
     "start_time": "2024-10-25T11:36:08.929278Z"
    }
   },
   "outputs": [],
   "source": [
    "input_size = max_length\n",
    "hidden_size = 128\n",
    "output_size = max_length\n",
    "num_layers = 1\n",
    "\n",
    "model = CharBiLSTM(input_size, hidden_size, output_size, num_layers).to(device)\n",
    "loss_function = nn.CrossEntropyLoss().to(device)\n",
    "optimizer = optim.Adam(model.parameters(), lr=0.01, amsgrad=True)\n",
    "\n",
    "epochs = 1"
   ]
  },
  {
   "cell_type": "markdown",
   "id": "a59ef874",
   "metadata": {},
   "source": [
    "# Training"
   ]
  },
  {
   "cell_type": "code",
   "execution_count": 24,
   "id": "f2735a44",
   "metadata": {
    "ExecuteTime": {
     "end_time": "2024-10-25T11:37:40.648489Z",
     "start_time": "2024-10-25T11:37:39.428623Z"
    }
   },
   "outputs": [
    {
     "data": {
      "application/vnd.jupyter.widget-view+json": {
       "model_id": "497a1455ad77420eb703f87ce105ba2d",
       "version_major": 2,
       "version_minor": 0
      },
      "text/plain": [
       "  0%|          | 0/12282 [00:00<?, ?it/s]"
      ]
     },
     "metadata": {},
     "output_type": "display_data"
    },
    {
     "name": "stdout",
     "output_type": "stream",
     "text": [
      "torch.Size([16, 1319]) tensor([[23.,  4., 14.,  ..., -1., -1., -1.],\n",
      "        [ 1., 11., 11.,  ..., -1., -1., -1.],\n",
      "        [13.,  8.,  5.,  ..., -1., -1., -1.],\n",
      "        ...,\n",
      "        [12.,  5., 15.,  ..., -1., -1., -1.],\n",
      "        [20.,  8.,  5.,  ..., -1., -1., -1.],\n",
      "        [15., 14.,  5.,  ..., -1., -1., -1.]], device='cuda:0')\n",
      "torch.Size([16, 1319]) tensor([[23.,  9., 14.,  ..., -1., -1., -1.],\n",
      "        [ 1., 11., 11.,  ..., -1., -1., -1.],\n",
      "        [13.,  5.,  7.,  ..., -1., -1., -1.],\n",
      "        ...,\n",
      "        [12., 15., 23.,  ..., -1., -1., -1.],\n",
      "        [20.,  8.,  5.,  ..., -1., -1., -1.],\n",
      "        [15., 14.,  5.,  ..., -1., -1., -1.]], device='cuda:0')\n"
     ]
    },
    {
     "ename": "RuntimeError",
     "evalue": "shape '[675328, 1]' is invalid for input of size 5120",
     "output_type": "error",
     "traceback": [
      "\u001b[1;31m---------------------------------------------------------------------------\u001b[0m",
      "\u001b[1;31mRuntimeError\u001b[0m                              Traceback (most recent call last)",
      "Cell \u001b[1;32mIn[24], line 9\u001b[0m\n\u001b[0;32m      7\u001b[0m \u001b[38;5;28mprint\u001b[39m(sentence_batch\u001b[38;5;241m.\u001b[39mshape, sentence_batch)\n\u001b[0;32m      8\u001b[0m optimizer\u001b[38;5;241m.\u001b[39mzero_grad()\n\u001b[1;32m----> 9\u001b[0m y \u001b[38;5;241m=\u001b[39m model\u001b[38;5;241m.\u001b[39mforward(typo_batch)\n\u001b[0;32m     10\u001b[0m \u001b[38;5;28mprint\u001b[39m(y)\n\u001b[0;32m     11\u001b[0m \u001b[38;5;28;01mbreak\u001b[39;00m\n",
      "File \u001b[1;32m~\\OneDrive\\Dokumenter\\GitHub\\ANLP-Project\\scripts\\model.py:19\u001b[0m, in \u001b[0;36mCharBiLSTM.forward\u001b[1;34m(self, inputs, train)\u001b[0m\n\u001b[0;32m     18\u001b[0m \u001b[38;5;28;01mdef\u001b[39;00m \u001b[38;5;21mforward\u001b[39m(\u001b[38;5;28mself\u001b[39m, inputs, train\u001b[38;5;241m=\u001b[39m\u001b[38;5;28;01mTrue\u001b[39;00m):\n\u001b[1;32m---> 19\u001b[0m     lstm_out, state \u001b[38;5;241m=\u001b[39m \u001b[38;5;28mself\u001b[39m\u001b[38;5;241m.\u001b[39mlstm(inputs)\n\u001b[0;32m     20\u001b[0m     out \u001b[38;5;241m=\u001b[39m \u001b[38;5;28mself\u001b[39m\u001b[38;5;241m.\u001b[39mfc(lstm_out)\n\u001b[0;32m     21\u001b[0m     y \u001b[38;5;241m=\u001b[39m out[:, \u001b[38;5;241m-\u001b[39m\u001b[38;5;241m1\u001b[39m, :]\n",
      "File \u001b[1;32m~\\anaconda3\\Lib\\site-packages\\torch\\nn\\modules\\module.py:1511\u001b[0m, in \u001b[0;36mModule._wrapped_call_impl\u001b[1;34m(self, *args, **kwargs)\u001b[0m\n\u001b[0;32m   1509\u001b[0m     \u001b[38;5;28;01mreturn\u001b[39;00m \u001b[38;5;28mself\u001b[39m\u001b[38;5;241m.\u001b[39m_compiled_call_impl(\u001b[38;5;241m*\u001b[39margs, \u001b[38;5;241m*\u001b[39m\u001b[38;5;241m*\u001b[39mkwargs)  \u001b[38;5;66;03m# type: ignore[misc]\u001b[39;00m\n\u001b[0;32m   1510\u001b[0m \u001b[38;5;28;01melse\u001b[39;00m:\n\u001b[1;32m-> 1511\u001b[0m     \u001b[38;5;28;01mreturn\u001b[39;00m \u001b[38;5;28mself\u001b[39m\u001b[38;5;241m.\u001b[39m_call_impl(\u001b[38;5;241m*\u001b[39margs, \u001b[38;5;241m*\u001b[39m\u001b[38;5;241m*\u001b[39mkwargs)\n",
      "File \u001b[1;32m~\\anaconda3\\Lib\\site-packages\\torch\\nn\\modules\\module.py:1520\u001b[0m, in \u001b[0;36mModule._call_impl\u001b[1;34m(self, *args, **kwargs)\u001b[0m\n\u001b[0;32m   1515\u001b[0m \u001b[38;5;66;03m# If we don't have any hooks, we want to skip the rest of the logic in\u001b[39;00m\n\u001b[0;32m   1516\u001b[0m \u001b[38;5;66;03m# this function, and just call forward.\u001b[39;00m\n\u001b[0;32m   1517\u001b[0m \u001b[38;5;28;01mif\u001b[39;00m \u001b[38;5;129;01mnot\u001b[39;00m (\u001b[38;5;28mself\u001b[39m\u001b[38;5;241m.\u001b[39m_backward_hooks \u001b[38;5;129;01mor\u001b[39;00m \u001b[38;5;28mself\u001b[39m\u001b[38;5;241m.\u001b[39m_backward_pre_hooks \u001b[38;5;129;01mor\u001b[39;00m \u001b[38;5;28mself\u001b[39m\u001b[38;5;241m.\u001b[39m_forward_hooks \u001b[38;5;129;01mor\u001b[39;00m \u001b[38;5;28mself\u001b[39m\u001b[38;5;241m.\u001b[39m_forward_pre_hooks\n\u001b[0;32m   1518\u001b[0m         \u001b[38;5;129;01mor\u001b[39;00m _global_backward_pre_hooks \u001b[38;5;129;01mor\u001b[39;00m _global_backward_hooks\n\u001b[0;32m   1519\u001b[0m         \u001b[38;5;129;01mor\u001b[39;00m _global_forward_hooks \u001b[38;5;129;01mor\u001b[39;00m _global_forward_pre_hooks):\n\u001b[1;32m-> 1520\u001b[0m     \u001b[38;5;28;01mreturn\u001b[39;00m forward_call(\u001b[38;5;241m*\u001b[39margs, \u001b[38;5;241m*\u001b[39m\u001b[38;5;241m*\u001b[39mkwargs)\n\u001b[0;32m   1522\u001b[0m \u001b[38;5;28;01mtry\u001b[39;00m:\n\u001b[0;32m   1523\u001b[0m     result \u001b[38;5;241m=\u001b[39m \u001b[38;5;28;01mNone\u001b[39;00m\n",
      "File \u001b[1;32m~\\anaconda3\\Lib\\site-packages\\torch\\nn\\modules\\rnn.py:878\u001b[0m, in \u001b[0;36mLSTM.forward\u001b[1;34m(self, input, hx)\u001b[0m\n\u001b[0;32m    875\u001b[0m         hx \u001b[38;5;241m=\u001b[39m \u001b[38;5;28mself\u001b[39m\u001b[38;5;241m.\u001b[39mpermute_hidden(hx, sorted_indices)\n\u001b[0;32m    877\u001b[0m \u001b[38;5;28;01mif\u001b[39;00m batch_sizes \u001b[38;5;129;01mis\u001b[39;00m \u001b[38;5;28;01mNone\u001b[39;00m:\n\u001b[1;32m--> 878\u001b[0m     result \u001b[38;5;241m=\u001b[39m _VF\u001b[38;5;241m.\u001b[39mlstm(\u001b[38;5;28minput\u001b[39m, hx, \u001b[38;5;28mself\u001b[39m\u001b[38;5;241m.\u001b[39m_flat_weights, \u001b[38;5;28mself\u001b[39m\u001b[38;5;241m.\u001b[39mbias, \u001b[38;5;28mself\u001b[39m\u001b[38;5;241m.\u001b[39mnum_layers,\n\u001b[0;32m    879\u001b[0m                       \u001b[38;5;28mself\u001b[39m\u001b[38;5;241m.\u001b[39mdropout, \u001b[38;5;28mself\u001b[39m\u001b[38;5;241m.\u001b[39mtraining, \u001b[38;5;28mself\u001b[39m\u001b[38;5;241m.\u001b[39mbidirectional, \u001b[38;5;28mself\u001b[39m\u001b[38;5;241m.\u001b[39mbatch_first)\n\u001b[0;32m    880\u001b[0m \u001b[38;5;28;01melse\u001b[39;00m:\n\u001b[0;32m    881\u001b[0m     result \u001b[38;5;241m=\u001b[39m _VF\u001b[38;5;241m.\u001b[39mlstm(\u001b[38;5;28minput\u001b[39m, batch_sizes, hx, \u001b[38;5;28mself\u001b[39m\u001b[38;5;241m.\u001b[39m_flat_weights, \u001b[38;5;28mself\u001b[39m\u001b[38;5;241m.\u001b[39mbias,\n\u001b[0;32m    882\u001b[0m                       \u001b[38;5;28mself\u001b[39m\u001b[38;5;241m.\u001b[39mnum_layers, \u001b[38;5;28mself\u001b[39m\u001b[38;5;241m.\u001b[39mdropout, \u001b[38;5;28mself\u001b[39m\u001b[38;5;241m.\u001b[39mtraining, \u001b[38;5;28mself\u001b[39m\u001b[38;5;241m.\u001b[39mbidirectional)\n",
      "\u001b[1;31mRuntimeError\u001b[0m: shape '[675328, 1]' is invalid for input of size 5120"
     ]
    }
   ],
   "source": [
    "model.train()\n",
    "for epoch in range(epochs):\n",
    "    epoch_loss = 0.0    \n",
    "    for batch in tqdm(train_loader):\n",
    "        typo_batch, sentence_batch = batch        \n",
    "        print(typo_batch.shape, typo_batch)\n",
    "        print(sentence_batch.shape, sentence_batch)\n",
    "        optimizer.zero_grad()\n",
    "        y = model.forward(typo_batch)\n",
    "        print(y)\n",
    "        break\n",
    "        loss = loss_function(y, sentence_batch)\n",
    "        loss.backward()\n",
    "        optimizer.step()\n",
    "        epoch_loss += loss.item()\n",
    "    break\n",
    "    epoch_loss_avg = epoch_loss/len(train_loader)"
   ]
  },
  {
   "cell_type": "code",
   "execution_count": null,
   "id": "b1703dd6",
   "metadata": {
    "ExecuteTime": {
     "end_time": "2024-10-25T10:58:50.977561Z",
     "start_time": "2024-10-25T10:58:50.977561Z"
    }
   },
   "outputs": [],
   "source": [
    "plt.plot(train_loss_dc.keys(), train_loss_dc.values(), label=\"Train Loss\")\n",
    "plt.plot(val_loss_dc.keys(), val_loss_dc.values(), label=\"Validation Loss\")\n",
    "plt.set_xlabel(\"Epochs\")\n",
    "plt.set_ylabel(\"Cross Entropy Loss\")"
   ]
  },
  {
   "cell_type": "code",
   "execution_count": null,
   "id": "ec6852f0",
   "metadata": {},
   "outputs": [],
   "source": []
  },
  {
   "cell_type": "markdown",
   "id": "9675c03d",
   "metadata": {},
   "source": [
    "# Evaluation"
   ]
  },
  {
   "cell_type": "code",
   "execution_count": null,
   "id": "33373a89",
   "metadata": {
    "ExecuteTime": {
     "end_time": "2024-10-25T10:58:50.981557Z",
     "start_time": "2024-10-25T10:58:50.981557Z"
    }
   },
   "outputs": [],
   "source": [
    "model.eval()\n"
   ]
  }
 ],
 "metadata": {
  "kernelspec": {
   "display_name": "Python 3 (ipykernel)",
   "language": "python",
   "name": "python3"
  },
  "language_info": {
   "codemirror_mode": {
    "name": "ipython",
    "version": 3
   },
   "file_extension": ".py",
   "mimetype": "text/x-python",
   "name": "python",
   "nbconvert_exporter": "python",
   "pygments_lexer": "ipython3",
   "version": "3.11.4"
  },
  "toc": {
   "base_numbering": 1,
   "nav_menu": {},
   "number_sections": true,
   "sideBar": true,
   "skip_h1_title": false,
   "title_cell": "Table of Contents",
   "title_sidebar": "Contents",
   "toc_cell": false,
   "toc_position": {},
   "toc_section_display": true,
   "toc_window_display": false
  }
 },
 "nbformat": 4,
 "nbformat_minor": 5
}
