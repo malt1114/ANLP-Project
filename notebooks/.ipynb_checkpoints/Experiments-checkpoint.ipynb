{
 "cells": [
  {
   "cell_type": "markdown",
   "id": "06e9ca99",
   "metadata": {},
   "source": [
    "# Settings"
   ]
  },
  {
   "cell_type": "code",
   "execution_count": 1,
   "id": "6adebd2a",
   "metadata": {
    "ExecuteTime": {
     "end_time": "2024-10-25T11:47:43.868781Z",
     "start_time": "2024-10-25T11:47:43.856298Z"
    },
    "execution": {
     "iopub.execute_input": "2024-10-26T22:13:17.120395Z",
     "iopub.status.busy": "2024-10-26T22:13:17.120395Z",
     "iopub.status.idle": "2024-10-26T22:13:17.127299Z",
     "shell.execute_reply": "2024-10-26T22:13:17.127299Z",
     "shell.execute_reply.started": "2024-10-26T22:13:17.120395Z"
    }
   },
   "outputs": [
    {
     "data": {
      "text/plain": [
       "'C:\\\\Users\\\\ruben\\\\Documents\\\\GitHub\\\\ANLP-Project'"
      ]
     },
     "execution_count": 1,
     "metadata": {},
     "output_type": "execute_result"
    }
   ],
   "source": [
    "import sys\n",
    "import os\n",
    "\n",
    "os.chdir('..')\n",
    "os.getcwd()"
   ]
  },
  {
   "cell_type": "markdown",
   "id": "b062a02c",
   "metadata": {},
   "source": [
    "# Imports"
   ]
  },
  {
   "cell_type": "code",
   "execution_count": 2,
   "id": "a187787d",
   "metadata": {
    "ExecuteTime": {
     "end_time": "2024-10-25T11:47:43.877891Z",
     "start_time": "2024-10-25T11:47:43.872803Z"
    },
    "execution": {
     "iopub.execute_input": "2024-10-26T22:13:17.128299Z",
     "iopub.status.busy": "2024-10-26T22:13:17.128299Z",
     "iopub.status.idle": "2024-10-26T22:13:20.395092Z",
     "shell.execute_reply": "2024-10-26T22:13:20.395092Z",
     "shell.execute_reply.started": "2024-10-26T22:13:17.128299Z"
    }
   },
   "outputs": [
    {
     "name": "stdout",
     "output_type": "stream",
     "text": [
      "Requirement already satisfied: editdistance in c:\\users\\ruben\\anaconda3\\lib\\site-packages (0.8.1)\n",
      "Requirement already satisfied: num2words in c:\\users\\ruben\\anaconda3\\lib\\site-packages (0.5.13)\n",
      "Requirement already satisfied: docopt>=0.6.2 in c:\\users\\ruben\\anaconda3\\lib\\site-packages (from num2words) (0.6.2)\n"
     ]
    }
   ],
   "source": [
    "! pip install editdistance\n",
    "! pip install num2words"
   ]
  },
  {
   "cell_type": "code",
   "execution_count": 3,
   "id": "29f6f2ce",
   "metadata": {
    "ExecuteTime": {
     "end_time": "2024-10-25T11:47:49.091594Z",
     "start_time": "2024-10-25T11:47:43.877891Z"
    },
    "execution": {
     "iopub.execute_input": "2024-10-26T22:13:20.396101Z",
     "iopub.status.busy": "2024-10-26T22:13:20.396101Z",
     "iopub.status.idle": "2024-10-26T22:13:21.450991Z",
     "shell.execute_reply": "2024-10-26T22:13:21.449979Z",
     "shell.execute_reply.started": "2024-10-26T22:13:20.396101Z"
    }
   },
   "outputs": [
    {
     "name": "stderr",
     "output_type": "stream",
     "text": [
      "\n",
      "KeyboardInterrupt\n",
      "\n"
     ]
    }
   ],
   "source": [
    "from scripts.model import device, CharBiLSTM\n",
    "from scripts.data import create_data_loader, load_data\n",
    "from scripts.preprocessing import get_typoglycemia_modified_data, sentence_tokennizer, tokenize_dataframe, get_max_length\n",
    "from scripts.baseline import get_base_line_score\n",
    "\n",
    "from torch import nn, optim\n",
    "import torch\n",
    "\n",
    "from sklearn.model_selection import train_test_split\n",
    "\n",
    "import editdistance\n",
    "#from tqdm import tqdm\n",
    "# from tqdm.notebook import tqdm\n",
    "from tqdm.autonotebook import trange, tqdm\n",
    "import random \n",
    "\n",
    "from sklearn.metrics import f1_score, accuracy_score\n",
    "import numpy as np\n",
    "\n",
    "\n",
    "\n",
    "import pandas as pd\n",
    "import matplotlib.pyplot as plt\n",
    "random.seed(42)\n",
    "torch.manual_seed(42);\n",
    "\n",
    "device"
   ]
  },
  {
   "cell_type": "markdown",
   "id": "52b0678d",
   "metadata": {},
   "source": [
    "# Data"
   ]
  },
  {
   "cell_type": "code",
   "execution_count": null,
   "id": "3ed6ecfe",
   "metadata": {
    "ExecuteTime": {
     "end_time": "2024-10-25T11:47:52.714529Z",
     "start_time": "2024-10-25T11:47:49.091594Z"
    },
    "execution": {
     "iopub.status.busy": "2024-10-26T22:13:21.450991Z",
     "iopub.status.idle": "2024-10-26T22:13:21.450991Z",
     "shell.execute_reply": "2024-10-26T22:13:21.450991Z",
     "shell.execute_reply.started": "2024-10-26T22:13:21.450991Z"
    }
   },
   "outputs": [],
   "source": [
    "df = load_data(file_path = \"data/processed/sscorpus.csv\")"
   ]
  },
  {
   "cell_type": "code",
   "execution_count": null,
   "id": "5aac55f0",
   "metadata": {
    "ExecuteTime": {
     "end_time": "2024-10-25T11:47:52.733504Z",
     "start_time": "2024-10-25T11:47:52.714529Z"
    },
    "execution": {
     "iopub.status.busy": "2024-10-26T22:13:21.451983Z",
     "iopub.status.idle": "2024-10-26T22:13:21.451983Z",
     "shell.execute_reply": "2024-10-26T22:13:21.451983Z",
     "shell.execute_reply.started": "2024-10-26T22:13:21.451983Z"
    }
   },
   "outputs": [],
   "source": [
    "df.head(3)"
   ]
  },
  {
   "cell_type": "markdown",
   "id": "3cba319a",
   "metadata": {},
   "source": [
    "## Splitting data into train, val, test"
   ]
  },
  {
   "cell_type": "code",
   "execution_count": null,
   "id": "61b52710",
   "metadata": {
    "ExecuteTime": {
     "end_time": "2024-10-25T11:47:52.964768Z",
     "start_time": "2024-10-25T11:47:52.733504Z"
    },
    "execution": {
     "iopub.status.busy": "2024-10-26T22:13:21.452974Z",
     "iopub.status.idle": "2024-10-26T22:13:21.452974Z",
     "shell.execute_reply": "2024-10-26T22:13:21.452974Z",
     "shell.execute_reply.started": "2024-10-26T22:13:21.452974Z"
    }
   },
   "outputs": [],
   "source": [
    "dev, test = train_test_split(df, test_size=0.2)\n",
    "train, validation = train_test_split(dev, test_size=0.2)"
   ]
  },
  {
   "cell_type": "markdown",
   "id": "1e28c86d",
   "metadata": {},
   "source": [
    "## Baseline dev"
   ]
  },
  {
   "cell_type": "code",
   "execution_count": null,
   "id": "c856a6c7",
   "metadata": {
    "ExecuteTime": {
     "end_time": "2024-10-25T11:47:59.251992Z",
     "start_time": "2024-10-25T11:47:52.964768Z"
    },
    "execution": {
     "iopub.status.busy": "2024-10-26T22:13:21.453971Z",
     "iopub.status.idle": "2024-10-26T22:13:21.453971Z",
     "shell.execute_reply": "2024-10-26T22:13:21.453971Z",
     "shell.execute_reply.started": "2024-10-26T22:13:21.453971Z"
    }
   },
   "outputs": [],
   "source": [
    "get_base_line_score(train = train, test = test, type = 'Easy')"
   ]
  },
  {
   "cell_type": "code",
   "execution_count": null,
   "id": "34e1e7fa",
   "metadata": {
    "ExecuteTime": {
     "end_time": "2024-10-25T11:48:08.571849Z",
     "start_time": "2024-10-25T11:47:59.251992Z"
    },
    "execution": {
     "iopub.status.busy": "2024-10-26T22:13:21.453971Z",
     "iopub.status.idle": "2024-10-26T22:13:21.454969Z",
     "shell.execute_reply": "2024-10-26T22:13:21.454969Z",
     "shell.execute_reply.started": "2024-10-26T22:13:21.454969Z"
    }
   },
   "outputs": [],
   "source": [
    "get_base_line_score(train = train, test = test, type = 'Hard')"
   ]
  },
  {
   "cell_type": "markdown",
   "id": "e7d6bd21",
   "metadata": {},
   "source": [
    "## Getting dataloaders"
   ]
  },
  {
   "cell_type": "code",
   "execution_count": null,
   "id": "ad37e7c4",
   "metadata": {
    "ExecuteTime": {
     "end_time": "2024-10-25T11:48:08.578386Z",
     "start_time": "2024-10-25T11:48:08.573898Z"
    },
    "execution": {
     "iopub.status.busy": "2024-10-26T22:13:21.454969Z",
     "iopub.status.idle": "2024-10-26T22:13:21.455966Z",
     "shell.execute_reply": "2024-10-26T22:13:21.454969Z",
     "shell.execute_reply.started": "2024-10-26T22:13:21.454969Z"
    }
   },
   "outputs": [],
   "source": [
    "complexity_level = \"Hard\""
   ]
  },
  {
   "cell_type": "code",
   "execution_count": null,
   "id": "bec97a02-53ba-406d-ab25-0175c41dccb2",
   "metadata": {
    "execution": {
     "iopub.status.busy": "2024-10-26T22:13:21.455966Z",
     "iopub.status.idle": "2024-10-26T22:13:21.456964Z",
     "shell.execute_reply": "2024-10-26T22:13:21.456964Z",
     "shell.execute_reply.started": "2024-10-26T22:13:21.456964Z"
    }
   },
   "outputs": [],
   "source": [
    "train = tokenize_dataframe(train, complexity_level)\n",
    "validation = tokenize_dataframe(validation, complexity_level)\n",
    "test = tokenize_dataframe(test, complexity_level)"
   ]
  },
  {
   "cell_type": "code",
   "execution_count": null,
   "id": "821d7c7a-113f-4347-86eb-62eaeef0839c",
   "metadata": {
    "execution": {
     "iopub.status.busy": "2024-10-26T22:13:21.456964Z",
     "iopub.status.idle": "2024-10-26T22:13:21.456964Z",
     "shell.execute_reply": "2024-10-26T22:13:21.456964Z",
     "shell.execute_reply.started": "2024-10-26T22:13:21.456964Z"
    }
   },
   "outputs": [],
   "source": [
    "combined_text = ' '.join(train[\"Hard_Typo\"])\n",
    "unique_characters = set(combined_text)\n",
    "vocabulary_size = len(unique_characters)\n",
    "vocabulary_size"
   ]
  },
  {
   "cell_type": "code",
   "execution_count": null,
   "id": "0a3d397c-cc62-4bdd-88f1-b26d2099cd4c",
   "metadata": {
    "execution": {
     "iopub.status.busy": "2024-10-26T22:13:21.457961Z",
     "iopub.status.idle": "2024-10-26T22:13:21.457961Z",
     "shell.execute_reply": "2024-10-26T22:13:21.457961Z",
     "shell.execute_reply.started": "2024-10-26T22:13:21.457961Z"
    }
   },
   "outputs": [],
   "source": [
    "max_length_train = get_max_length(train, complexity_level)\n",
    "max_length_validation = get_max_length(validation, complexity_level)\n",
    "max_length_test = get_max_length(test, complexity_level)"
   ]
  },
  {
   "cell_type": "code",
   "execution_count": null,
   "id": "80a1a085",
   "metadata": {
    "ExecuteTime": {
     "end_time": "2024-10-25T11:48:15.290219Z",
     "start_time": "2024-10-25T11:48:15.015764Z"
    },
    "execution": {
     "iopub.status.busy": "2024-10-26T22:13:21.458957Z",
     "iopub.status.idle": "2024-10-26T22:13:21.458957Z",
     "shell.execute_reply": "2024-10-26T22:13:21.458957Z",
     "shell.execute_reply.started": "2024-10-26T22:13:21.458957Z"
    }
   },
   "outputs": [],
   "source": [
    "max_length = max([max_length_train, max_length_validation, max_length_test])\n",
    "max_length=400\n",
    "max_length\n"
   ]
  },
  {
   "cell_type": "code",
   "execution_count": null,
   "id": "df42bdff-acfc-4d91-8bf8-5bf3f198f639",
   "metadata": {
    "execution": {
     "iopub.status.busy": "2024-10-26T22:13:21.459955Z",
     "iopub.status.idle": "2024-10-26T22:13:21.459955Z",
     "shell.execute_reply": "2024-10-26T22:13:21.459955Z",
     "shell.execute_reply.started": "2024-10-26T22:13:21.459955Z"
    }
   },
   "outputs": [],
   "source": [
    "all_sentences = pd.concat([df[complexity_level], df[complexity_level + \"_Typo\"]])\n",
    "lengths = all_sentences.str.len()\n",
    "lengths"
   ]
  },
  {
   "cell_type": "code",
   "execution_count": null,
   "id": "0adf123e-dd4f-457e-8246-9ae93ff2992e",
   "metadata": {
    "execution": {
     "iopub.status.busy": "2024-10-26T22:13:21.459955Z",
     "iopub.status.idle": "2024-10-26T22:13:21.460951Z",
     "shell.execute_reply": "2024-10-26T22:13:21.459955Z",
     "shell.execute_reply.started": "2024-10-26T22:13:21.459955Z"
    }
   },
   "outputs": [],
   "source": [
    "batch_size = 2**8\n",
    "# batch_size = 2"
   ]
  },
  {
   "cell_type": "code",
   "execution_count": null,
   "id": "ae883648",
   "metadata": {
    "ExecuteTime": {
     "end_time": "2024-10-25T11:48:58.639125Z",
     "start_time": "2024-10-25T11:48:15.290756Z"
    },
    "execution": {
     "iopub.status.busy": "2024-10-26T22:13:21.460951Z",
     "iopub.status.idle": "2024-10-26T22:13:21.460951Z",
     "shell.execute_reply": "2024-10-26T22:13:21.460951Z",
     "shell.execute_reply.started": "2024-10-26T22:13:21.460951Z"
    }
   },
   "outputs": [],
   "source": [
    "train_loader = create_data_loader(train, complexity=complexity_level, max_length=max_length, batch_size=batch_size) # TODO \n",
    "validation_loader = create_data_loader(validation, complexity=complexity_level, max_length=max_length, batch_size=batch_size) # TODO \n",
    "test_loader = create_data_loader(test, complexity=complexity_level, max_length=max_length, batch_size=batch_size) # TODO "
   ]
  },
  {
   "cell_type": "code",
   "execution_count": null,
   "id": "1812337b-b373-4700-a21b-a3dfc0ac3c50",
   "metadata": {
    "execution": {
     "iopub.status.busy": "2024-10-26T22:13:21.461949Z",
     "iopub.status.idle": "2024-10-26T22:13:21.461949Z",
     "shell.execute_reply": "2024-10-26T22:13:21.461949Z",
     "shell.execute_reply.started": "2024-10-26T22:13:21.461949Z"
    }
   },
   "outputs": [],
   "source": [
    "for sample in train_loader:\n",
    "    X, y = sample\n",
    "    print(X.shape, y.shape)\n",
    "    print(np.unique(y.cpu(), return_counts=True))\n",
    "    break"
   ]
  },
  {
   "cell_type": "markdown",
   "id": "22f7af09",
   "metadata": {},
   "source": [
    "# Model  (Not finished just a template)"
   ]
  },
  {
   "cell_type": "code",
   "execution_count": null,
   "id": "d9acefe3",
   "metadata": {
    "ExecuteTime": {
     "end_time": "2024-10-25T11:49:00.689509Z",
     "start_time": "2024-10-25T11:48:58.646238Z"
    },
    "execution": {
     "iopub.status.busy": "2024-10-26T22:13:21.462947Z",
     "iopub.status.idle": "2024-10-26T22:13:21.462947Z",
     "shell.execute_reply": "2024-10-26T22:13:21.462947Z",
     "shell.execute_reply.started": "2024-10-26T22:13:21.462947Z"
    }
   },
   "outputs": [],
   "source": [
    "input_size = vocabulary_size \n",
    "input_size = 1  \n",
    "hidden_size = 128  \n",
    "output_size = vocabulary_size +  1 \n",
    "num_layers = 1  \n",
    "\n",
    "model = CharBiLSTM(input_size, hidden_size, output_size, num_layers, max_length, batch_size).to(device)\n",
    "loss_function = nn.CrossEntropyLoss(ignore_index=-1).to(device)\n",
    "optimizer = optim.Adam(model.parameters(), lr=0.01, amsgrad=True)\n",
    "\n",
    "epochs = 100\n"
   ]
  },
  {
   "cell_type": "markdown",
   "id": "a59ef874",
   "metadata": {},
   "source": [
    "# Training"
   ]
  },
  {
   "cell_type": "code",
   "execution_count": null,
   "id": "f2735a44",
   "metadata": {
    "ExecuteTime": {
     "end_time": "2024-10-25T11:58:12.838741Z",
     "start_time": "2024-10-25T11:56:53.575997Z"
    },
    "execution": {
     "iopub.status.busy": "2024-10-26T22:13:21.463944Z",
     "iopub.status.idle": "2024-10-26T22:13:21.463944Z",
     "shell.execute_reply": "2024-10-26T22:13:21.463944Z",
     "shell.execute_reply.started": "2024-10-26T22:13:21.463944Z"
    }
   },
   "outputs": [],
   "source": [
    "val_loss_dc = {}\n",
    "train_loss_dc = {}\n",
    "\n",
    "for epoch in tqdm(range(epochs), position=0):\n",
    "    model.train()\n",
    "    epoch_loss = 0.0    \n",
    "    for batch in tqdm(train_loader, position=1, leave=False):\n",
    "        typo_batch, sentence_batch = batch  \n",
    "        \n",
    "        sentence_batch = sentence_batch.view(-1)\n",
    "        typo_batch = typo_batch.reshape(-1, max_length, 1)\n",
    "\n",
    "        y = model.forward(typo_batch, train=False)  \n",
    "        loss = loss_function(y, sentence_batch)  \n",
    "        loss.backward()\n",
    "        optimizer.step()\n",
    "        optimizer.zero_grad()\n",
    "        epoch_loss += loss.item()\n",
    "\n",
    "    epoch_loss_avg = epoch_loss / len(train_loader)\n",
    "    train_loss_dc[epoch] = epoch_loss_avg\n",
    "\n",
    "    model.eval()\n",
    "    val_loss = 0.0\n",
    "    with torch.no_grad():  \n",
    "        for val_batch in tqdm(validation_loader, position=2, leave=False):\n",
    "            typo_val_batch, sentence_val_batch = val_batch\n",
    "            \n",
    "            sentence_val_batch = sentence_val_batch.view(-1)\n",
    "            typo_val_batch = typo_val_batch.reshape(-1, max_length, 1)\n",
    "            \n",
    "            val_y = model.forward(typo_val_batch, train=False)\n",
    "            \n",
    "            val_loss_batch = loss_function(val_y, sentence_val_batch)\n",
    "            val_loss += val_loss_batch.item()\n",
    "                \n",
    "    val_loss_avg = val_loss / len(validation_loader)\n",
    "    val_loss_dc[epoch] = val_loss_avg\n",
    "    \n",
    "    print(f\"Epoch {epoch + 1}/{epochs} Train Loss: {epoch_loss_avg:.4f} Val Loss: {val_loss_avg:.4f}\")\n"
   ]
  },
  {
   "cell_type": "code",
   "execution_count": null,
   "id": "b1703dd6",
   "metadata": {
    "ExecuteTime": {
     "end_time": "2024-10-25T11:49:01.577423Z",
     "start_time": "2024-10-25T11:49:00.873892Z"
    },
    "execution": {
     "iopub.status.busy": "2024-10-26T22:13:21.464941Z",
     "iopub.status.idle": "2024-10-26T22:13:21.464941Z",
     "shell.execute_reply": "2024-10-26T22:13:21.464941Z",
     "shell.execute_reply.started": "2024-10-26T22:13:21.464941Z"
    }
   },
   "outputs": [],
   "source": [
    "plt.plot(train_loss_dc.keys(), train_loss_dc.values(), label=\"Train Loss\")\n",
    "plt.plot(val_loss_dc.keys(), val_loss_dc.values(), label=\"Validation Loss\")\n",
    "plt.xlabel(\"Epochs\")\n",
    "plt.ylabel(\"Cross Entropy Loss\")"
   ]
  },
  {
   "cell_type": "markdown",
   "id": "9675c03d",
   "metadata": {},
   "source": [
    "# Evaluation"
   ]
  },
  {
   "cell_type": "code",
   "execution_count": null,
   "id": "6d4742ca-c9e2-46db-81a9-1fd58101e778",
   "metadata": {
    "execution": {
     "iopub.status.busy": "2024-10-26T22:13:21.465939Z",
     "iopub.status.idle": "2024-10-26T22:13:21.465939Z",
     "shell.execute_reply": "2024-10-26T22:13:21.465939Z",
     "shell.execute_reply.started": "2024-10-26T22:13:21.465939Z"
    }
   },
   "outputs": [],
   "source": [
    "def get_metrics(loader, model, loader_str):\n",
    "    preds = []\n",
    "    labels = []\n",
    "    \n",
    "    model.eval()\n",
    "    loss = 0.0\n",
    "    with torch.no_grad():\n",
    "        for batch in tqdm(loader, position=3, leave=False):\n",
    "            typo_batch, sentence_batch = batch  # typo_batch is the input, sentence_batch is the target sequence\n",
    "\n",
    "            sentence_batch = sentence_batch.view(-1)\n",
    "            typo_batch = typo_batch.reshape(-1, max_length, 1)\n",
    "            \n",
    "            y = model.forward(typo_batch, train=False)  # y should be shape (batch_size, seq_len, vocab_size)\n",
    "            \n",
    "            loss_batch = loss_function(y, sentence_batch)\n",
    "            loss += loss_batch.item()\n",
    "            \n",
    "            preds.extend(torch.argmax(y, dim=1).cpu().numpy().reshape(-1))  # Flatten across batch and sequence\n",
    "            labels.extend(sentence_batch.cpu().numpy().reshape(-1))  # Flatten across batch and sequence\n",
    "\n",
    "    loss_avg = loss / len(loader)\n",
    "    print(f\"{loader_str} Loss: {loss_avg:.4f}\")\n",
    "    accuracy = accuracy_score(labels, preds)\n",
    "    f1 = f1_score(labels, preds, average='weighted')\n",
    "    \n",
    "    print(f\"{loader_str} Accuracy: {accuracy:.4f}, F1 Score: {f1:.4f}\")"
   ]
  },
  {
   "cell_type": "code",
   "execution_count": null,
   "id": "ead1e0bc-2f40-4870-9426-91c690a961f5",
   "metadata": {
    "execution": {
     "iopub.status.busy": "2024-10-26T22:13:21.465939Z",
     "iopub.status.idle": "2024-10-26T22:13:21.465939Z",
     "shell.execute_reply": "2024-10-26T22:13:21.465939Z",
     "shell.execute_reply.started": "2024-10-26T22:13:21.465939Z"
    }
   },
   "outputs": [],
   "source": [
    "get_metrics(train_loader, model, \"train\")"
   ]
  },
  {
   "cell_type": "code",
   "execution_count": null,
   "id": "da1d9a86-795a-41c6-ab84-7d18ab750bad",
   "metadata": {
    "execution": {
     "iopub.status.busy": "2024-10-26T22:13:21.466936Z",
     "iopub.status.idle": "2024-10-26T22:13:21.466936Z",
     "shell.execute_reply": "2024-10-26T22:13:21.466936Z",
     "shell.execute_reply.started": "2024-10-26T22:13:21.466936Z"
    }
   },
   "outputs": [],
   "source": [
    "get_metrics(validation_loader, model, \"validation\")"
   ]
  },
  {
   "cell_type": "code",
   "execution_count": null,
   "id": "7afd3421-3c10-4ac7-945f-b70c5450be59",
   "metadata": {
    "execution": {
     "iopub.status.busy": "2024-10-26T22:13:21.467933Z",
     "iopub.status.idle": "2024-10-26T22:13:21.467933Z",
     "shell.execute_reply": "2024-10-26T22:13:21.467933Z",
     "shell.execute_reply.started": "2024-10-26T22:13:21.467933Z"
    }
   },
   "outputs": [],
   "source": [
    "get_metrics(test_loader, model, \"test\")\n"
   ]
  }
 ],
 "metadata": {
  "kernelspec": {
   "display_name": "Python 3 (ipykernel)",
   "language": "python",
   "name": "python3"
  },
  "language_info": {
   "codemirror_mode": {
    "name": "ipython",
    "version": 3
   },
   "file_extension": ".py",
   "mimetype": "text/x-python",
   "name": "python",
   "nbconvert_exporter": "python",
   "pygments_lexer": "ipython3",
   "version": "3.12.4"
  },
  "toc": {
   "base_numbering": 1,
   "nav_menu": {},
   "number_sections": true,
   "sideBar": true,
   "skip_h1_title": false,
   "title_cell": "Table of Contents",
   "title_sidebar": "Contents",
   "toc_cell": false,
   "toc_position": {},
   "toc_section_display": true,
   "toc_window_display": false
  }
 },
 "nbformat": 4,
 "nbformat_minor": 5
}
