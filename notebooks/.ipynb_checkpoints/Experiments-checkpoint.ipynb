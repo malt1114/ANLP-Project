{
 "cells": [
  {
   "cell_type": "markdown",
   "id": "06e9ca99",
   "metadata": {},
   "source": [
    "# Settings"
   ]
  },
  {
   "cell_type": "code",
   "execution_count": 1,
   "id": "6adebd2a",
   "metadata": {
    "ExecuteTime": {
     "end_time": "2024-10-25T11:47:43.868781Z",
     "start_time": "2024-10-25T11:47:43.856298Z"
    },
    "execution": {
     "iopub.execute_input": "2024-10-27T20:13:06.494825Z",
     "iopub.status.busy": "2024-10-27T20:13:06.493828Z",
     "iopub.status.idle": "2024-10-27T20:13:06.499753Z",
     "shell.execute_reply": "2024-10-27T20:13:06.499753Z",
     "shell.execute_reply.started": "2024-10-27T20:13:06.494825Z"
    }
   },
   "outputs": [
    {
     "data": {
      "text/plain": [
       "'C:\\\\Users\\\\ruben\\\\Documents\\\\GitHub\\\\ANLP-Project'"
      ]
     },
     "execution_count": 1,
     "metadata": {},
     "output_type": "execute_result"
    }
   ],
   "source": [
    "import sys\n",
    "import os\n",
    "\n",
    "os.chdir('..')\n",
    "os.getcwd()"
   ]
  },
  {
   "cell_type": "markdown",
   "id": "b062a02c",
   "metadata": {},
   "source": [
    "# Imports"
   ]
  },
  {
   "cell_type": "code",
   "execution_count": 2,
   "id": "a187787d",
   "metadata": {
    "ExecuteTime": {
     "end_time": "2024-10-25T11:47:43.877891Z",
     "start_time": "2024-10-25T11:47:43.872803Z"
    },
    "execution": {
     "iopub.execute_input": "2024-10-27T20:13:06.500779Z",
     "iopub.status.busy": "2024-10-27T20:13:06.500779Z",
     "iopub.status.idle": "2024-10-27T20:13:09.638608Z",
     "shell.execute_reply": "2024-10-27T20:13:09.638525Z",
     "shell.execute_reply.started": "2024-10-27T20:13:06.500779Z"
    }
   },
   "outputs": [
    {
     "name": "stdout",
     "output_type": "stream",
     "text": [
      "Requirement already satisfied: editdistance in c:\\users\\ruben\\anaconda3\\lib\\site-packages (0.8.1)\n",
      "Requirement already satisfied: num2words in c:\\users\\ruben\\anaconda3\\lib\\site-packages (0.5.13)\n",
      "Requirement already satisfied: docopt>=0.6.2 in c:\\users\\ruben\\anaconda3\\lib\\site-packages (from num2words) (0.6.2)\n"
     ]
    }
   ],
   "source": [
    "! pip install editdistance\n",
    "! pip install num2words"
   ]
  },
  {
   "cell_type": "code",
   "execution_count": 3,
   "id": "29f6f2ce",
   "metadata": {
    "ExecuteTime": {
     "end_time": "2024-10-25T11:47:49.091594Z",
     "start_time": "2024-10-25T11:47:43.877891Z"
    },
    "execution": {
     "iopub.execute_input": "2024-10-27T20:13:09.639605Z",
     "iopub.status.busy": "2024-10-27T20:13:09.639605Z",
     "iopub.status.idle": "2024-10-27T20:13:12.311092Z",
     "shell.execute_reply": "2024-10-27T20:13:12.311092Z",
     "shell.execute_reply.started": "2024-10-27T20:13:09.639605Z"
    }
   },
   "outputs": [
    {
     "name": "stderr",
     "output_type": "stream",
     "text": [
      "C:\\Users\\ruben\\AppData\\Local\\Temp\\ipykernel_9716\\2117565946.py:14: TqdmExperimentalWarning: Using `tqdm.autonotebook.tqdm` in notebook mode. Use `tqdm.tqdm` instead to force console mode (e.g. in jupyter console)\n",
      "  from tqdm.autonotebook import trange, tqdm\n"
     ]
    },
    {
     "data": {
      "text/plain": [
       "device(type='cuda')"
      ]
     },
     "execution_count": 3,
     "metadata": {},
     "output_type": "execute_result"
    }
   ],
   "source": [
    "from scripts.model import device, CharBiLSTM\n",
    "from scripts.data import create_data_loader, load_data\n",
    "from scripts.preprocessing import get_typoglycemia_modified_data, sentence_tokennizer, tokenize_dataframe, get_max_length\n",
    "from scripts.baseline import get_base_line_score\n",
    "\n",
    "from torch import nn, optim\n",
    "import torch\n",
    "\n",
    "from sklearn.model_selection import train_test_split\n",
    "\n",
    "import editdistance\n",
    "#from tqdm import tqdm\n",
    "# from tqdm.notebook import tqdm\n",
    "from tqdm.autonotebook import trange, tqdm\n",
    "import random \n",
    "\n",
    "from sklearn.metrics import f1_score, accuracy_score\n",
    "import numpy as np\n",
    "\n",
    "\n",
    "\n",
    "import pandas as pd\n",
    "import matplotlib.pyplot as plt\n",
    "random.seed(42)\n",
    "torch.manual_seed(42);\n",
    "\n",
    "device"
   ]
  },
  {
   "cell_type": "markdown",
   "id": "52b0678d",
   "metadata": {},
   "source": [
    "# Data"
   ]
  },
  {
   "cell_type": "code",
   "execution_count": 4,
   "id": "3ed6ecfe",
   "metadata": {
    "ExecuteTime": {
     "end_time": "2024-10-25T11:47:52.714529Z",
     "start_time": "2024-10-25T11:47:49.091594Z"
    },
    "execution": {
     "iopub.execute_input": "2024-10-27T20:13:12.312106Z",
     "iopub.status.busy": "2024-10-27T20:13:12.311092Z",
     "iopub.status.idle": "2024-10-27T20:13:13.887345Z",
     "shell.execute_reply": "2024-10-27T20:13:13.886766Z",
     "shell.execute_reply.started": "2024-10-27T20:13:12.312106Z"
    }
   },
   "outputs": [],
   "source": [
    "df = load_data(file_path = \"data/processed/sscorpus.csv\")"
   ]
  },
  {
   "cell_type": "code",
   "execution_count": 5,
   "id": "5aac55f0",
   "metadata": {
    "ExecuteTime": {
     "end_time": "2024-10-25T11:47:52.733504Z",
     "start_time": "2024-10-25T11:47:52.714529Z"
    },
    "execution": {
     "iopub.execute_input": "2024-10-27T20:13:13.887345Z",
     "iopub.status.busy": "2024-10-27T20:13:13.887345Z",
     "iopub.status.idle": "2024-10-27T20:13:13.896499Z",
     "shell.execute_reply": "2024-10-27T20:13:13.896499Z",
     "shell.execute_reply.started": "2024-10-27T20:13:13.887345Z"
    }
   },
   "outputs": [
    {
     "data": {
      "text/html": [
       "<div>\n",
       "<style scoped>\n",
       "    .dataframe tbody tr th:only-of-type {\n",
       "        vertical-align: middle;\n",
       "    }\n",
       "\n",
       "    .dataframe tbody tr th {\n",
       "        vertical-align: top;\n",
       "    }\n",
       "\n",
       "    .dataframe thead th {\n",
       "        text-align: right;\n",
       "    }\n",
       "</style>\n",
       "<table border=\"1\" class=\"dataframe\">\n",
       "  <thead>\n",
       "    <tr style=\"text-align: right;\">\n",
       "      <th></th>\n",
       "      <th>Hard</th>\n",
       "      <th>Easy</th>\n",
       "      <th>Similarity</th>\n",
       "      <th>Easy_Typo</th>\n",
       "      <th>Hard_Typo</th>\n",
       "    </tr>\n",
       "  </thead>\n",
       "  <tbody>\n",
       "    <tr>\n",
       "      <th>0</th>\n",
       "      <td>on the Dover Air Force Base .</td>\n",
       "      <td>It ends near the Dover Air Force Base and DE o...</td>\n",
       "      <td>0.7</td>\n",
       "      <td>It edns naer the Dover Air Frcoe Bsae and DE o...</td>\n",
       "      <td>on the Dveor Air Froce Bsae .</td>\n",
       "    </tr>\n",
       "    <tr>\n",
       "      <th>1</th>\n",
       "      <td>in games including `` Super Smash Bros. '' and...</td>\n",
       "      <td>He has been in a number of video games includi...</td>\n",
       "      <td>0.7</td>\n",
       "      <td>He has been in a nubemr of vdeio games iinudcn...</td>\n",
       "      <td>in gmeas iiudcnlng `` Suepr Smash Bsor. '' and...</td>\n",
       "    </tr>\n",
       "    <tr>\n",
       "      <th>2</th>\n",
       "      <td>`` Usucha '' , or thin tea , is prepared with ...</td>\n",
       "      <td>`` Usucha '' , or thin tea , is prepared with ...</td>\n",
       "      <td>0.7</td>\n",
       "      <td>`` Uhusca '' , or tihn tea , is ppareerd with ...</td>\n",
       "      <td>`` Usucha '' , or thin tea , is prpraeed wtih ...</td>\n",
       "    </tr>\n",
       "  </tbody>\n",
       "</table>\n",
       "</div>"
      ],
      "text/plain": [
       "                                                Hard  \\\n",
       "0                      on the Dover Air Force Base .   \n",
       "1  in games including `` Super Smash Bros. '' and...   \n",
       "2  `` Usucha '' , or thin tea , is prepared with ...   \n",
       "\n",
       "                                                Easy  Similarity  \\\n",
       "0  It ends near the Dover Air Force Base and DE o...         0.7   \n",
       "1  He has been in a number of video games includi...         0.7   \n",
       "2  `` Usucha '' , or thin tea , is prepared with ...         0.7   \n",
       "\n",
       "                                           Easy_Typo  \\\n",
       "0  It edns naer the Dover Air Frcoe Bsae and DE o...   \n",
       "1  He has been in a nubemr of vdeio games iinudcn...   \n",
       "2  `` Uhusca '' , or tihn tea , is ppareerd with ...   \n",
       "\n",
       "                                           Hard_Typo  \n",
       "0                      on the Dveor Air Froce Bsae .  \n",
       "1  in gmeas iiudcnlng `` Suepr Smash Bsor. '' and...  \n",
       "2  `` Usucha '' , or thin tea , is prpraeed wtih ...  "
      ]
     },
     "execution_count": 5,
     "metadata": {},
     "output_type": "execute_result"
    }
   ],
   "source": [
    "df.head(3)"
   ]
  },
  {
   "cell_type": "markdown",
   "id": "3cba319a",
   "metadata": {},
   "source": [
    "## Splitting data into train, val, test"
   ]
  },
  {
   "cell_type": "code",
   "execution_count": 6,
   "id": "61b52710",
   "metadata": {
    "ExecuteTime": {
     "end_time": "2024-10-25T11:47:52.964768Z",
     "start_time": "2024-10-25T11:47:52.733504Z"
    },
    "execution": {
     "iopub.execute_input": "2024-10-27T20:13:13.897509Z",
     "iopub.status.busy": "2024-10-27T20:13:13.897509Z",
     "iopub.status.idle": "2024-10-27T20:13:14.009313Z",
     "shell.execute_reply": "2024-10-27T20:13:14.009313Z",
     "shell.execute_reply.started": "2024-10-27T20:13:13.897509Z"
    }
   },
   "outputs": [],
   "source": [
    "dev, test = train_test_split(df, test_size=0.2)\n",
    "train, validation = train_test_split(dev, test_size=0.2)"
   ]
  },
  {
   "cell_type": "markdown",
   "id": "1e28c86d",
   "metadata": {},
   "source": [
    "## Baseline dev"
   ]
  },
  {
   "cell_type": "code",
   "execution_count": 7,
   "id": "c856a6c7",
   "metadata": {
    "ExecuteTime": {
     "end_time": "2024-10-25T11:47:59.251992Z",
     "start_time": "2024-10-25T11:47:52.964768Z"
    },
    "execution": {
     "iopub.execute_input": "2024-10-27T20:13:14.011333Z",
     "iopub.status.busy": "2024-10-27T20:13:14.010334Z",
     "iopub.status.idle": "2024-10-27T20:13:16.636596Z",
     "shell.execute_reply": "2024-10-27T20:13:16.636596Z",
     "shell.execute_reply.started": "2024-10-27T20:13:14.011333Z"
    }
   },
   "outputs": [
    {
     "name": "stdout",
     "output_type": "stream",
     "text": [
      "The base line has a mean editdistance of 0.259 pr. sentence, and 0.264 pr. word\n"
     ]
    }
   ],
   "source": [
    "get_base_line_score(train = train, test = test, type = 'Easy')"
   ]
  },
  {
   "cell_type": "code",
   "execution_count": 8,
   "id": "34e1e7fa",
   "metadata": {
    "ExecuteTime": {
     "end_time": "2024-10-25T11:48:08.571849Z",
     "start_time": "2024-10-25T11:47:59.251992Z"
    },
    "execution": {
     "iopub.execute_input": "2024-10-27T20:13:16.637595Z",
     "iopub.status.busy": "2024-10-27T20:13:16.637595Z",
     "iopub.status.idle": "2024-10-27T20:13:20.420463Z",
     "shell.execute_reply": "2024-10-27T20:13:20.420463Z",
     "shell.execute_reply.started": "2024-10-27T20:13:16.637595Z"
    }
   },
   "outputs": [
    {
     "name": "stdout",
     "output_type": "stream",
     "text": [
      "The base line has a mean editdistance of 0.296 pr. sentence, and 0.29 pr. word\n"
     ]
    }
   ],
   "source": [
    "get_base_line_score(train = train, test = test, type = 'Hard')"
   ]
  },
  {
   "cell_type": "markdown",
   "id": "e7d6bd21",
   "metadata": {},
   "source": [
    "## Getting dataloaders"
   ]
  },
  {
   "cell_type": "code",
   "execution_count": 9,
   "id": "ad37e7c4",
   "metadata": {
    "ExecuteTime": {
     "end_time": "2024-10-25T11:48:08.578386Z",
     "start_time": "2024-10-25T11:48:08.573898Z"
    },
    "execution": {
     "iopub.execute_input": "2024-10-27T20:13:20.421462Z",
     "iopub.status.busy": "2024-10-27T20:13:20.421462Z",
     "iopub.status.idle": "2024-10-27T20:13:20.423832Z",
     "shell.execute_reply": "2024-10-27T20:13:20.423832Z",
     "shell.execute_reply.started": "2024-10-27T20:13:20.421462Z"
    }
   },
   "outputs": [],
   "source": [
    "complexity_level = \"Hard\""
   ]
  },
  {
   "cell_type": "code",
   "execution_count": 10,
   "id": "bec97a02-53ba-406d-ab25-0175c41dccb2",
   "metadata": {
    "execution": {
     "iopub.execute_input": "2024-10-27T20:13:20.424831Z",
     "iopub.status.busy": "2024-10-27T20:13:20.424831Z",
     "iopub.status.idle": "2024-10-27T20:13:23.104197Z",
     "shell.execute_reply": "2024-10-27T20:13:23.104197Z",
     "shell.execute_reply.started": "2024-10-27T20:13:20.424831Z"
    }
   },
   "outputs": [],
   "source": [
    "train = tokenize_dataframe(train, complexity_level)\n",
    "validation = tokenize_dataframe(validation, complexity_level)\n",
    "test = tokenize_dataframe(test, complexity_level)"
   ]
  },
  {
   "cell_type": "code",
   "execution_count": 11,
   "id": "821d7c7a-113f-4347-86eb-62eaeef0839c",
   "metadata": {
    "execution": {
     "iopub.execute_input": "2024-10-27T20:13:23.105195Z",
     "iopub.status.busy": "2024-10-27T20:13:23.105195Z",
     "iopub.status.idle": "2024-10-27T20:13:23.269568Z",
     "shell.execute_reply": "2024-10-27T20:13:23.269568Z",
     "shell.execute_reply.started": "2024-10-27T20:13:23.105195Z"
    }
   },
   "outputs": [
    {
     "data": {
      "text/plain": [
       "27"
      ]
     },
     "execution_count": 11,
     "metadata": {},
     "output_type": "execute_result"
    }
   ],
   "source": [
    "combined_text = ' '.join(train[\"Hard_Typo\"])\n",
    "unique_characters = set(combined_text)\n",
    "vocabulary_size = len(unique_characters)\n",
    "vocabulary_size"
   ]
  },
  {
   "cell_type": "code",
   "execution_count": 12,
   "id": "0a3d397c-cc62-4bdd-88f1-b26d2099cd4c",
   "metadata": {
    "execution": {
     "iopub.execute_input": "2024-10-27T20:13:23.270585Z",
     "iopub.status.busy": "2024-10-27T20:13:23.270585Z",
     "iopub.status.idle": "2024-10-27T20:13:26.486351Z",
     "shell.execute_reply": "2024-10-27T20:13:26.486351Z",
     "shell.execute_reply.started": "2024-10-27T20:13:23.270585Z"
    }
   },
   "outputs": [
    {
     "name": "stdout",
     "output_type": "stream",
     "text": [
      "Five-number summary: Min: 9, Q1: 89.0, Median: 130.0, Q3: 182.0, Max: 1319\n",
      "Mean: 143.99036151935837, Std Dev: 76.95859269836403\n"
     ]
    },
    {
     "data": {
      "image/png": "[encoded data removed]",
      "text/plain": [
       "<Figure size 1000x600 with 1 Axes>"
      ]
     },
     "metadata": {},
     "output_type": "display_data"
    },
    {
     "name": "stdout",
     "output_type": "stream",
     "text": [
      "Five-number summary: Min: 15, Q1: 89.0, Median: 130.0, Q3: 183.0, Max: 1020\n",
      "Mean: 144.59693441354884, Std Dev: 77.69253288329301\n"
     ]
    },
    {
     "data": {
      "image/png": "[encoded data removed]",
      "text/plain": [
       "<Figure size 1000x600 with 1 Axes>"
      ]
     },
     "metadata": {},
     "output_type": "display_data"
    },
    {
     "name": "stdout",
     "output_type": "stream",
     "text": [
      "Five-number summary: Min: 19, Q1: 89.0, Median: 130.0, Q3: 182.0, Max: 1052\n",
      "Mean: 143.85114317352787, Std Dev: 76.5395632313453\n"
     ]
    },
    {
     "data": {
      "image/png": "[encoded data removed]",
      "text/plain": [
       "<Figure size 1000x600 with 1 Axes>"
      ]
     },
     "metadata": {},
     "output_type": "display_data"
    }
   ],
   "source": [
    "max_length_train = get_max_length(train, complexity_level)\n",
    "max_length_validation = get_max_length(validation, complexity_level)\n",
    "max_length_test = get_max_length(test, complexity_level)"
   ]
  },
  {
   "cell_type": "code",
   "execution_count": 13,
   "id": "80a1a085",
   "metadata": {
    "ExecuteTime": {
     "end_time": "2024-10-25T11:48:15.290219Z",
     "start_time": "2024-10-25T11:48:15.015764Z"
    },
    "execution": {
     "iopub.execute_input": "2024-10-27T20:13:26.487401Z",
     "iopub.status.busy": "2024-10-27T20:13:26.487401Z",
     "iopub.status.idle": "2024-10-27T20:13:26.491082Z",
     "shell.execute_reply": "2024-10-27T20:13:26.491082Z",
     "shell.execute_reply.started": "2024-10-27T20:13:26.487401Z"
    }
   },
   "outputs": [
    {
     "data": {
      "text/plain": [
       "300"
      ]
     },
     "execution_count": 13,
     "metadata": {},
     "output_type": "execute_result"
    }
   ],
   "source": [
    "max_length = max([max_length_train, max_length_validation, max_length_test])\n",
    "max_length=300\n",
    "max_length\n"
   ]
  },
  {
   "cell_type": "code",
   "execution_count": 14,
   "id": "df42bdff-acfc-4d91-8bf8-5bf3f198f639",
   "metadata": {
    "execution": {
     "iopub.execute_input": "2024-10-27T20:13:26.492082Z",
     "iopub.status.busy": "2024-10-27T20:13:26.492082Z",
     "iopub.status.idle": "2024-10-27T20:13:26.668020Z",
     "shell.execute_reply": "2024-10-27T20:13:26.668020Z",
     "shell.execute_reply.started": "2024-10-27T20:13:26.492082Z"
    }
   },
   "outputs": [
    {
     "data": {
      "text/plain": [
       "0          29\n",
       "1          50\n",
       "2         396\n",
       "3          86\n",
       "4         162\n",
       "         ... \n",
       "307033     76\n",
       "307034     94\n",
       "307035    236\n",
       "307036     63\n",
       "307037     85\n",
       "Length: 614076, dtype: int64"
      ]
     },
     "execution_count": 14,
     "metadata": {},
     "output_type": "execute_result"
    }
   ],
   "source": [
    "all_sentences = pd.concat([df[complexity_level], df[complexity_level + \"_Typo\"]])\n",
    "lengths = all_sentences.str.len()\n",
    "lengths"
   ]
  },
  {
   "cell_type": "code",
   "execution_count": 15,
   "id": "0adf123e-dd4f-457e-8246-9ae93ff2992e",
   "metadata": {
    "execution": {
     "iopub.execute_input": "2024-10-27T20:13:26.668020Z",
     "iopub.status.busy": "2024-10-27T20:13:26.668020Z",
     "iopub.status.idle": "2024-10-27T20:13:26.670714Z",
     "shell.execute_reply": "2024-10-27T20:13:26.670714Z",
     "shell.execute_reply.started": "2024-10-27T20:13:26.668020Z"
    }
   },
   "outputs": [],
   "source": [
    "batch_size = 2**8\n",
    "# batch_size = 2"
   ]
  },
  {
   "cell_type": "code",
   "execution_count": 16,
   "id": "ae883648",
   "metadata": {
    "ExecuteTime": {
     "end_time": "2024-10-25T11:48:58.639125Z",
     "start_time": "2024-10-25T11:48:15.290756Z"
    },
    "execution": {
     "iopub.execute_input": "2024-10-27T20:13:26.671715Z",
     "iopub.status.busy": "2024-10-27T20:13:26.670714Z",
     "iopub.status.idle": "2024-10-27T20:13:47.231675Z",
     "shell.execute_reply": "2024-10-27T20:13:47.231675Z",
     "shell.execute_reply.started": "2024-10-27T20:13:26.671715Z"
    }
   },
   "outputs": [],
   "source": [
    "train_loader = create_data_loader(train, complexity=complexity_level, max_length=max_length, batch_size=batch_size) # TODO \n",
    "validation_loader = create_data_loader(validation, complexity=complexity_level, max_length=max_length, batch_size=batch_size) # TODO \n",
    "test_loader = create_data_loader(test, complexity=complexity_level, max_length=max_length, batch_size=batch_size) # TODO "
   ]
  },
  {
   "cell_type": "code",
   "execution_count": 17,
   "id": "1812337b-b373-4700-a21b-a3dfc0ac3c50",
   "metadata": {
    "execution": {
     "iopub.execute_input": "2024-10-27T20:13:47.232674Z",
     "iopub.status.busy": "2024-10-27T20:13:47.232674Z",
     "iopub.status.idle": "2024-10-27T20:13:47.263869Z",
     "shell.execute_reply": "2024-10-27T20:13:47.263869Z",
     "shell.execute_reply.started": "2024-10-27T20:13:47.232674Z"
    }
   },
   "outputs": [
    {
     "name": "stdout",
     "output_type": "stream",
     "text": [
      "torch.Size([64, 300]) torch.Size([64, 300])\n",
      "(array([-1,  1,  2,  3,  4,  5,  6,  7,  8,  9, 10, 11, 12, 13, 14, 15, 16,\n",
      "       17, 18, 19, 20, 21, 22, 23, 24, 25, 26], dtype=int64), array([10386,   629,    86,   197,   352,   909,   164,   131,   343,\n",
      "         556,    13,    36,   268,   175,   686,   565,   122,     5,\n",
      "         507,   437,   642,   205,    98,   135,    25,   124,  1404],\n",
      "      dtype=int64))\n"
     ]
    }
   ],
   "source": [
    "for sample in train_loader:\n",
    "    X, y = sample\n",
    "    print(X.shape, y.shape)\n",
    "    print(np.unique(y.cpu(), return_counts=True))\n",
    "    break"
   ]
  },
  {
   "cell_type": "markdown",
   "id": "22f7af09",
   "metadata": {},
   "source": [
    "# Model  (Not finished just a template)"
   ]
  },
  {
   "cell_type": "code",
   "execution_count": 18,
   "id": "d9acefe3",
   "metadata": {
    "ExecuteTime": {
     "end_time": "2024-10-25T11:49:00.689509Z",
     "start_time": "2024-10-25T11:48:58.646238Z"
    },
    "execution": {
     "iopub.execute_input": "2024-10-27T20:13:47.264869Z",
     "iopub.status.busy": "2024-10-27T20:13:47.264869Z",
     "iopub.status.idle": "2024-10-27T20:13:47.879811Z",
     "shell.execute_reply": "2024-10-27T20:13:47.879811Z",
     "shell.execute_reply.started": "2024-10-27T20:13:47.264869Z"
    }
   },
   "outputs": [],
   "source": [
    "input_size = vocabulary_size \n",
    "input_size = 1  # Uses the raw index in alphabet as input\n",
    "hidden_size = 2**5 # Maps to hidden size\n",
    "output_size = vocabulary_size +  1  # Outputs probabilities for each character in vocabulary + padding\n",
    "num_layers = 1   \n",
    "\n",
    "model = CharBiLSTM(input_size, hidden_size, output_size, num_layers, max_length, batch_size).to(device)\n",
    "loss_function = nn.CrossEntropyLoss(ignore_index=-1).to(device) # Padding is value -1, therefore we want to ignore it in our loss function\n",
    "optimizer = optim.Adam(model.parameters(), lr=0.02, amsgrad=True)\n",
    "\n",
    "epochs = 200"
   ]
  },
  {
   "cell_type": "markdown",
   "id": "a59ef874",
   "metadata": {},
   "source": [
    "# Training"
   ]
  },
  {
   "cell_type": "code",
   "execution_count": 19,
   "id": "f2735a44",
   "metadata": {
    "ExecuteTime": {
     "end_time": "2024-10-25T11:58:12.838741Z",
     "start_time": "2024-10-25T11:56:53.575997Z"
    },
    "execution": {
     "iopub.execute_input": "2024-10-27T20:13:47.880811Z",
     "iopub.status.busy": "2024-10-27T20:13:47.880811Z",
     "iopub.status.idle": "2024-10-27T20:19:42.571854Z",
     "shell.execute_reply": "2024-10-27T20:19:42.571854Z",
     "shell.execute_reply.started": "2024-10-27T20:13:47.880811Z"
    }
   },
   "outputs": [
    {
     "data": {
      "application/vnd.jupyter.widget-view+json": {
       "model_id": "95f5234cb8344dc1b4b373abeb3fa2cd",
       "version_major": 2,
       "version_minor": 0
      },
      "text/plain": [
       "  0%|          | 0/200 [00:00<?, ?it/s]"
      ]
     },
     "metadata": {},
     "output_type": "display_data"
    },
    {
     "data": {
      "application/vnd.jupyter.widget-view+json": {
       "model_id": "",
       "version_major": 2,
       "version_minor": 0
      },
      "text/plain": [
       "  0%|          | 0/3071 [00:00<?, ?it/s]"
      ]
     },
     "metadata": {},
     "output_type": "display_data"
    },
    {
     "data": {
      "application/vnd.jupyter.widget-view+json": {
       "model_id": "",
       "version_major": 2,
       "version_minor": 0
      },
      "text/plain": [
       "  0%|          | 0/768 [00:00<?, ?it/s]"
      ]
     },
     "metadata": {},
     "output_type": "display_data"
    },
    {
     "name": "stdout",
     "output_type": "stream",
     "text": [
      "Epoch 1/200 Train Loss: 3.02936707 Val Loss: 3.01353024\n"
     ]
    },
    {
     "data": {
      "application/vnd.jupyter.widget-view+json": {
       "model_id": "",
       "version_major": 2,
       "version_minor": 0
      },
      "text/plain": [
       "  0%|          | 0/3071 [00:00<?, ?it/s]"
      ]
     },
     "metadata": {},
     "output_type": "display_data"
    },
    {
     "data": {
      "application/vnd.jupyter.widget-view+json": {
       "model_id": "",
       "version_major": 2,
       "version_minor": 0
      },
      "text/plain": [
       "  0%|          | 0/768 [00:00<?, ?it/s]"
      ]
     },
     "metadata": {},
     "output_type": "display_data"
    },
    {
     "name": "stdout",
     "output_type": "stream",
     "text": [
      "Epoch 2/200 Train Loss: 3.01078981 Val Loss: 3.00872577\n"
     ]
    },
    {
     "data": {
      "application/vnd.jupyter.widget-view+json": {
       "model_id": "",
       "version_major": 2,
       "version_minor": 0
      },
      "text/plain": [
       "  0%|          | 0/3071 [00:00<?, ?it/s]"
      ]
     },
     "metadata": {},
     "output_type": "display_data"
    },
    {
     "data": {
      "application/vnd.jupyter.widget-view+json": {
       "model_id": "",
       "version_major": 2,
       "version_minor": 0
      },
      "text/plain": [
       "  0%|          | 0/768 [00:00<?, ?it/s]"
      ]
     },
     "metadata": {},
     "output_type": "display_data"
    },
    {
     "name": "stdout",
     "output_type": "stream",
     "text": [
      "Epoch 3/200 Train Loss: 3.00825831 Val Loss: 3.00758569\n"
     ]
    },
    {
     "data": {
      "application/vnd.jupyter.widget-view+json": {
       "model_id": "",
       "version_major": 2,
       "version_minor": 0
      },
      "text/plain": [
       "  0%|          | 0/3071 [00:00<?, ?it/s]"
      ]
     },
     "metadata": {},
     "output_type": "display_data"
    },
    {
     "data": {
      "application/vnd.jupyter.widget-view+json": {
       "model_id": "",
       "version_major": 2,
       "version_minor": 0
      },
      "text/plain": [
       "  0%|          | 0/768 [00:00<?, ?it/s]"
      ]
     },
     "metadata": {},
     "output_type": "display_data"
    },
    {
     "name": "stdout",
     "output_type": "stream",
     "text": [
      "Epoch 4/200 Train Loss: 3.00683736 Val Loss: 3.00572512\n"
     ]
    },
    {
     "data": {
      "application/vnd.jupyter.widget-view+json": {
       "model_id": "",
       "version_major": 2,
       "version_minor": 0
      },
      "text/plain": [
       "  0%|          | 0/3071 [00:00<?, ?it/s]"
      ]
     },
     "metadata": {},
     "output_type": "display_data"
    },
    {
     "data": {
      "application/vnd.jupyter.widget-view+json": {
       "model_id": "",
       "version_major": 2,
       "version_minor": 0
      },
      "text/plain": [
       "  0%|          | 0/768 [00:00<?, ?it/s]"
      ]
     },
     "metadata": {},
     "output_type": "display_data"
    },
    {
     "name": "stdout",
     "output_type": "stream",
     "text": [
      "Epoch 5/200 Train Loss: 2.99611777 Val Loss: 2.99383133\n"
     ]
    },
    {
     "data": {
      "application/vnd.jupyter.widget-view+json": {
       "model_id": "",
       "version_major": 2,
       "version_minor": 0
      },
      "text/plain": [
       "  0%|          | 0/3071 [00:00<?, ?it/s]"
      ]
     },
     "metadata": {},
     "output_type": "display_data"
    },
    {
     "data": {
      "application/vnd.jupyter.widget-view+json": {
       "model_id": "",
       "version_major": 2,
       "version_minor": 0
      },
      "text/plain": [
       "  0%|          | 0/768 [00:00<?, ?it/s]"
      ]
     },
     "metadata": {},
     "output_type": "display_data"
    },
    {
     "name": "stdout",
     "output_type": "stream",
     "text": [
      "Epoch 6/200 Train Loss: 2.99397213 Val Loss: 2.99366851\n"
     ]
    },
    {
     "data": {
      "application/vnd.jupyter.widget-view+json": {
       "model_id": "",
       "version_major": 2,
       "version_minor": 0
      },
      "text/plain": [
       "  0%|          | 0/3071 [00:00<?, ?it/s]"
      ]
     },
     "metadata": {},
     "output_type": "display_data"
    },
    {
     "data": {
      "application/vnd.jupyter.widget-view+json": {
       "model_id": "",
       "version_major": 2,
       "version_minor": 0
      },
      "text/plain": [
       "  0%|          | 0/768 [00:00<?, ?it/s]"
      ]
     },
     "metadata": {},
     "output_type": "display_data"
    },
    {
     "name": "stdout",
     "output_type": "stream",
     "text": [
      "Epoch 7/200 Train Loss: 2.99418114 Val Loss: 2.99465433\n"
     ]
    },
    {
     "data": {
      "application/vnd.jupyter.widget-view+json": {
       "model_id": "",
       "version_major": 2,
       "version_minor": 0
      },
      "text/plain": [
       "  0%|          | 0/3071 [00:00<?, ?it/s]"
      ]
     },
     "metadata": {},
     "output_type": "display_data"
    },
    {
     "data": {
      "application/vnd.jupyter.widget-view+json": {
       "model_id": "",
       "version_major": 2,
       "version_minor": 0
      },
      "text/plain": [
       "  0%|          | 0/768 [00:00<?, ?it/s]"
      ]
     },
     "metadata": {},
     "output_type": "display_data"
    },
    {
     "name": "stdout",
     "output_type": "stream",
     "text": [
      "Epoch 8/200 Train Loss: 2.99426869 Val Loss: 2.99449321\n"
     ]
    },
    {
     "data": {
      "application/vnd.jupyter.widget-view+json": {
       "model_id": "",
       "version_major": 2,
       "version_minor": 0
      },
      "text/plain": [
       "  0%|          | 0/3071 [00:00<?, ?it/s]"
      ]
     },
     "metadata": {},
     "output_type": "display_data"
    },
    {
     "data": {
      "application/vnd.jupyter.widget-view+json": {
       "model_id": "",
       "version_major": 2,
       "version_minor": 0
      },
      "text/plain": [
       "  0%|          | 0/768 [00:00<?, ?it/s]"
      ]
     },
     "metadata": {},
     "output_type": "display_data"
    },
    {
     "name": "stdout",
     "output_type": "stream",
     "text": [
      "Epoch 9/200 Train Loss: 2.99331833 Val Loss: 2.99340572\n"
     ]
    },
    {
     "data": {
      "application/vnd.jupyter.widget-view+json": {
       "model_id": "",
       "version_major": 2,
       "version_minor": 0
      },
      "text/plain": [
       "  0%|          | 0/3071 [00:00<?, ?it/s]"
      ]
     },
     "metadata": {},
     "output_type": "display_data"
    },
    {
     "data": {
      "application/vnd.jupyter.widget-view+json": {
       "model_id": "",
       "version_major": 2,
       "version_minor": 0
      },
      "text/plain": [
       "  0%|          | 0/768 [00:00<?, ?it/s]"
      ]
     },
     "metadata": {},
     "output_type": "display_data"
    },
    {
     "name": "stdout",
     "output_type": "stream",
     "text": [
      "Epoch 10/200 Train Loss: 2.99302397 Val Loss: 2.99501545\n"
     ]
    },
    {
     "data": {
      "application/vnd.jupyter.widget-view+json": {
       "model_id": "",
       "version_major": 2,
       "version_minor": 0
      },
      "text/plain": [
       "  0%|          | 0/3071 [00:00<?, ?it/s]"
      ]
     },
     "metadata": {},
     "output_type": "display_data"
    },
    {
     "data": {
      "application/vnd.jupyter.widget-view+json": {
       "model_id": "",
       "version_major": 2,
       "version_minor": 0
      },
      "text/plain": [
       "  0%|          | 0/768 [00:00<?, ?it/s]"
      ]
     },
     "metadata": {},
     "output_type": "display_data"
    },
    {
     "name": "stdout",
     "output_type": "stream",
     "text": [
      "Epoch 11/200 Train Loss: 2.99390828 Val Loss: 2.99464215\n"
     ]
    },
    {
     "data": {
      "application/vnd.jupyter.widget-view+json": {
       "model_id": "",
       "version_major": 2,
       "version_minor": 0
      },
      "text/plain": [
       "  0%|          | 0/3071 [00:00<?, ?it/s]"
      ]
     },
     "metadata": {},
     "output_type": "display_data"
    },
    {
     "data": {
      "application/vnd.jupyter.widget-view+json": {
       "model_id": "",
       "version_major": 2,
       "version_minor": 0
      },
      "text/plain": [
       "  0%|          | 0/768 [00:00<?, ?it/s]"
      ]
     },
     "metadata": {},
     "output_type": "display_data"
    },
    {
     "name": "stdout",
     "output_type": "stream",
     "text": [
      "Epoch 12/200 Train Loss: 2.99277705 Val Loss: 2.99230057\n"
     ]
    },
    {
     "data": {
      "application/vnd.jupyter.widget-view+json": {
       "model_id": "",
       "version_major": 2,
       "version_minor": 0
      },
      "text/plain": [
       "  0%|          | 0/3071 [00:00<?, ?it/s]"
      ]
     },
     "metadata": {},
     "output_type": "display_data"
    },
    {
     "data": {
      "application/vnd.jupyter.widget-view+json": {
       "model_id": "",
       "version_major": 2,
       "version_minor": 0
      },
      "text/plain": [
       "  0%|          | 0/768 [00:00<?, ?it/s]"
      ]
     },
     "metadata": {},
     "output_type": "display_data"
    },
    {
     "name": "stdout",
     "output_type": "stream",
     "text": [
      "Epoch 13/200 Train Loss: 2.99245985 Val Loss: 2.99223289\n"
     ]
    },
    {
     "data": {
      "application/vnd.jupyter.widget-view+json": {
       "model_id": "",
       "version_major": 2,
       "version_minor": 0
      },
      "text/plain": [
       "  0%|          | 0/3071 [00:00<?, ?it/s]"
      ]
     },
     "metadata": {},
     "output_type": "display_data"
    },
    {
     "data": {
      "application/vnd.jupyter.widget-view+json": {
       "model_id": "",
       "version_major": 2,
       "version_minor": 0
      },
      "text/plain": [
       "  0%|          | 0/768 [00:00<?, ?it/s]"
      ]
     },
     "metadata": {},
     "output_type": "display_data"
    },
    {
     "name": "stdout",
     "output_type": "stream",
     "text": [
      "Epoch 14/200 Train Loss: 2.99241754 Val Loss: 2.99196870\n"
     ]
    },
    {
     "data": {
      "application/vnd.jupyter.widget-view+json": {
       "model_id": "",
       "version_major": 2,
       "version_minor": 0
      },
      "text/plain": [
       "  0%|          | 0/3071 [00:00<?, ?it/s]"
      ]
     },
     "metadata": {},
     "output_type": "display_data"
    },
    {
     "data": {
      "application/vnd.jupyter.widget-view+json": {
       "model_id": "",
       "version_major": 2,
       "version_minor": 0
      },
      "text/plain": [
       "  0%|          | 0/768 [00:00<?, ?it/s]"
      ]
     },
     "metadata": {},
     "output_type": "display_data"
    },
    {
     "name": "stdout",
     "output_type": "stream",
     "text": [
      "Epoch 15/200 Train Loss: 2.99218889 Val Loss: 2.99152891\n"
     ]
    },
    {
     "data": {
      "application/vnd.jupyter.widget-view+json": {
       "model_id": "",
       "version_major": 2,
       "version_minor": 0
      },
      "text/plain": [
       "  0%|          | 0/3071 [00:00<?, ?it/s]"
      ]
     },
     "metadata": {},
     "output_type": "display_data"
    },
    {
     "data": {
      "application/vnd.jupyter.widget-view+json": {
       "model_id": "",
       "version_major": 2,
       "version_minor": 0
      },
      "text/plain": [
       "  0%|          | 0/768 [00:00<?, ?it/s]"
      ]
     },
     "metadata": {},
     "output_type": "display_data"
    },
    {
     "name": "stdout",
     "output_type": "stream",
     "text": [
      "Epoch 16/200 Train Loss: 2.99198473 Val Loss: 2.99163236\n"
     ]
    },
    {
     "data": {
      "application/vnd.jupyter.widget-view+json": {
       "model_id": "",
       "version_major": 2,
       "version_minor": 0
      },
      "text/plain": [
       "  0%|          | 0/3071 [00:00<?, ?it/s]"
      ]
     },
     "metadata": {},
     "output_type": "display_data"
    },
    {
     "data": {
      "application/vnd.jupyter.widget-view+json": {
       "model_id": "",
       "version_major": 2,
       "version_minor": 0
      },
      "text/plain": [
       "  0%|          | 0/768 [00:00<?, ?it/s]"
      ]
     },
     "metadata": {},
     "output_type": "display_data"
    },
    {
     "name": "stdout",
     "output_type": "stream",
     "text": [
      "Epoch 17/200 Train Loss: 2.99396641 Val Loss: 2.99474274\n"
     ]
    },
    {
     "data": {
      "application/vnd.jupyter.widget-view+json": {
       "model_id": "",
       "version_major": 2,
       "version_minor": 0
      },
      "text/plain": [
       "  0%|          | 0/3071 [00:00<?, ?it/s]"
      ]
     },
     "metadata": {},
     "output_type": "display_data"
    },
    {
     "data": {
      "application/vnd.jupyter.widget-view+json": {
       "model_id": "",
       "version_major": 2,
       "version_minor": 0
      },
      "text/plain": [
       "  0%|          | 0/768 [00:00<?, ?it/s]"
      ]
     },
     "metadata": {},
     "output_type": "display_data"
    },
    {
     "name": "stdout",
     "output_type": "stream",
     "text": [
      "Epoch 18/200 Train Loss: 2.99393545 Val Loss: 2.99317101\n"
     ]
    },
    {
     "data": {
      "application/vnd.jupyter.widget-view+json": {
       "model_id": "",
       "version_major": 2,
       "version_minor": 0
      },
      "text/plain": [
       "  0%|          | 0/3071 [00:00<?, ?it/s]"
      ]
     },
     "metadata": {},
     "output_type": "display_data"
    },
    {
     "data": {
      "application/vnd.jupyter.widget-view+json": {
       "model_id": "",
       "version_major": 2,
       "version_minor": 0
      },
      "text/plain": [
       "  0%|          | 0/768 [00:00<?, ?it/s]"
      ]
     },
     "metadata": {},
     "output_type": "display_data"
    },
    {
     "name": "stdout",
     "output_type": "stream",
     "text": [
      "Epoch 19/200 Train Loss: 2.99354922 Val Loss: 2.99363522\n"
     ]
    },
    {
     "data": {
      "application/vnd.jupyter.widget-view+json": {
       "model_id": "",
       "version_major": 2,
       "version_minor": 0
      },
      "text/plain": [
       "  0%|          | 0/3071 [00:00<?, ?it/s]"
      ]
     },
     "metadata": {},
     "output_type": "display_data"
    },
    {
     "data": {
      "application/vnd.jupyter.widget-view+json": {
       "model_id": "",
       "version_major": 2,
       "version_minor": 0
      },
      "text/plain": [
       "  0%|          | 0/768 [00:00<?, ?it/s]"
      ]
     },
     "metadata": {},
     "output_type": "display_data"
    },
    {
     "name": "stdout",
     "output_type": "stream",
     "text": [
      "Epoch 20/200 Train Loss: 2.99337414 Val Loss: 2.99324218\n"
     ]
    },
    {
     "data": {
      "application/vnd.jupyter.widget-view+json": {
       "model_id": "",
       "version_major": 2,
       "version_minor": 0
      },
      "text/plain": [
       "  0%|          | 0/3071 [00:00<?, ?it/s]"
      ]
     },
     "metadata": {},
     "output_type": "display_data"
    },
    {
     "data": {
      "application/vnd.jupyter.widget-view+json": {
       "model_id": "",
       "version_major": 2,
       "version_minor": 0
      },
      "text/plain": [
       "  0%|          | 0/768 [00:00<?, ?it/s]"
      ]
     },
     "metadata": {},
     "output_type": "display_data"
    },
    {
     "name": "stdout",
     "output_type": "stream",
     "text": [
      "Epoch 21/200 Train Loss: 2.99324674 Val Loss: 2.99258521\n"
     ]
    },
    {
     "data": {
      "application/vnd.jupyter.widget-view+json": {
       "model_id": "",
       "version_major": 2,
       "version_minor": 0
      },
      "text/plain": [
       "  0%|          | 0/3071 [00:00<?, ?it/s]"
      ]
     },
     "metadata": {},
     "output_type": "display_data"
    },
    {
     "data": {
      "application/vnd.jupyter.widget-view+json": {
       "model_id": "",
       "version_major": 2,
       "version_minor": 0
      },
      "text/plain": [
       "  0%|          | 0/768 [00:00<?, ?it/s]"
      ]
     },
     "metadata": {},
     "output_type": "display_data"
    },
    {
     "name": "stdout",
     "output_type": "stream",
     "text": [
      "Epoch 22/200 Train Loss: 2.99296940 Val Loss: 2.99317180\n"
     ]
    },
    {
     "data": {
      "application/vnd.jupyter.widget-view+json": {
       "model_id": "",
       "version_major": 2,
       "version_minor": 0
      },
      "text/plain": [
       "  0%|          | 0/3071 [00:00<?, ?it/s]"
      ]
     },
     "metadata": {},
     "output_type": "display_data"
    },
    {
     "data": {
      "application/vnd.jupyter.widget-view+json": {
       "model_id": "",
       "version_major": 2,
       "version_minor": 0
      },
      "text/plain": [
       "  0%|          | 0/768 [00:00<?, ?it/s]"
      ]
     },
     "metadata": {},
     "output_type": "display_data"
    },
    {
     "name": "stdout",
     "output_type": "stream",
     "text": [
      "Epoch 23/200 Train Loss: 2.99274912 Val Loss: 2.99251930\n"
     ]
    },
    {
     "data": {
      "application/vnd.jupyter.widget-view+json": {
       "model_id": "",
       "version_major": 2,
       "version_minor": 0
      },
      "text/plain": [
       "  0%|          | 0/3071 [00:00<?, ?it/s]"
      ]
     },
     "metadata": {},
     "output_type": "display_data"
    },
    {
     "data": {
      "application/vnd.jupyter.widget-view+json": {
       "model_id": "",
       "version_major": 2,
       "version_minor": 0
      },
      "text/plain": [
       "  0%|          | 0/768 [00:00<?, ?it/s]"
      ]
     },
     "metadata": {},
     "output_type": "display_data"
    },
    {
     "name": "stdout",
     "output_type": "stream",
     "text": [
      "Epoch 24/200 Train Loss: 2.99286177 Val Loss: 2.99276783\n"
     ]
    },
    {
     "data": {
      "application/vnd.jupyter.widget-view+json": {
       "model_id": "",
       "version_major": 2,
       "version_minor": 0
      },
      "text/plain": [
       "  0%|          | 0/3071 [00:00<?, ?it/s]"
      ]
     },
     "metadata": {},
     "output_type": "display_data"
    },
    {
     "data": {
      "application/vnd.jupyter.widget-view+json": {
       "model_id": "",
       "version_major": 2,
       "version_minor": 0
      },
      "text/plain": [
       "  0%|          | 0/768 [00:00<?, ?it/s]"
      ]
     },
     "metadata": {},
     "output_type": "display_data"
    },
    {
     "name": "stdout",
     "output_type": "stream",
     "text": [
      "Epoch 25/200 Train Loss: 2.99286706 Val Loss: 2.99227096\n"
     ]
    },
    {
     "data": {
      "application/vnd.jupyter.widget-view+json": {
       "model_id": "",
       "version_major": 2,
       "version_minor": 0
      },
      "text/plain": [
       "  0%|          | 0/3071 [00:00<?, ?it/s]"
      ]
     },
     "metadata": {},
     "output_type": "display_data"
    },
    {
     "data": {
      "application/vnd.jupyter.widget-view+json": {
       "model_id": "",
       "version_major": 2,
       "version_minor": 0
      },
      "text/plain": [
       "  0%|          | 0/768 [00:00<?, ?it/s]"
      ]
     },
     "metadata": {},
     "output_type": "display_data"
    },
    {
     "name": "stdout",
     "output_type": "stream",
     "text": [
      "Epoch 26/200 Train Loss: 2.99267885 Val Loss: 2.99216009\n"
     ]
    },
    {
     "data": {
      "application/vnd.jupyter.widget-view+json": {
       "model_id": "",
       "version_major": 2,
       "version_minor": 0
      },
      "text/plain": [
       "  0%|          | 0/3071 [00:00<?, ?it/s]"
      ]
     },
     "metadata": {},
     "output_type": "display_data"
    },
    {
     "data": {
      "application/vnd.jupyter.widget-view+json": {
       "model_id": "",
       "version_major": 2,
       "version_minor": 0
      },
      "text/plain": [
       "  0%|          | 0/768 [00:00<?, ?it/s]"
      ]
     },
     "metadata": {},
     "output_type": "display_data"
    },
    {
     "name": "stdout",
     "output_type": "stream",
     "text": [
      "Epoch 27/200 Train Loss: 2.99263382 Val Loss: 2.99237358\n"
     ]
    },
    {
     "data": {
      "application/vnd.jupyter.widget-view+json": {
       "model_id": "",
       "version_major": 2,
       "version_minor": 0
      },
      "text/plain": [
       "  0%|          | 0/3071 [00:00<?, ?it/s]"
      ]
     },
     "metadata": {},
     "output_type": "display_data"
    },
    {
     "data": {
      "application/vnd.jupyter.widget-view+json": {
       "model_id": "",
       "version_major": 2,
       "version_minor": 0
      },
      "text/plain": [
       "  0%|          | 0/768 [00:00<?, ?it/s]"
      ]
     },
     "metadata": {},
     "output_type": "display_data"
    },
    {
     "name": "stdout",
     "output_type": "stream",
     "text": [
      "Epoch 28/200 Train Loss: 2.99267849 Val Loss: 2.99234063\n"
     ]
    },
    {
     "data": {
      "application/vnd.jupyter.widget-view+json": {
       "model_id": "",
       "version_major": 2,
       "version_minor": 0
      },
      "text/plain": [
       "  0%|          | 0/3071 [00:00<?, ?it/s]"
      ]
     },
     "metadata": {},
     "output_type": "display_data"
    },
    {
     "data": {
      "application/vnd.jupyter.widget-view+json": {
       "model_id": "",
       "version_major": 2,
       "version_minor": 0
      },
      "text/plain": [
       "  0%|          | 0/768 [00:00<?, ?it/s]"
      ]
     },
     "metadata": {},
     "output_type": "display_data"
    },
    {
     "name": "stdout",
     "output_type": "stream",
     "text": [
      "Epoch 29/200 Train Loss: 2.99273100 Val Loss: 2.99224020\n"
     ]
    },
    {
     "data": {
      "application/vnd.jupyter.widget-view+json": {
       "model_id": "",
       "version_major": 2,
       "version_minor": 0
      },
      "text/plain": [
       "  0%|          | 0/3071 [00:00<?, ?it/s]"
      ]
     },
     "metadata": {},
     "output_type": "display_data"
    },
    {
     "data": {
      "application/vnd.jupyter.widget-view+json": {
       "model_id": "",
       "version_major": 2,
       "version_minor": 0
      },
      "text/plain": [
       "  0%|          | 0/768 [00:00<?, ?it/s]"
      ]
     },
     "metadata": {},
     "output_type": "display_data"
    },
    {
     "name": "stdout",
     "output_type": "stream",
     "text": [
      "Epoch 30/200 Train Loss: 2.99265092 Val Loss: 2.99255361\n"
     ]
    },
    {
     "data": {
      "application/vnd.jupyter.widget-view+json": {
       "model_id": "",
       "version_major": 2,
       "version_minor": 0
      },
      "text/plain": [
       "  0%|          | 0/3071 [00:00<?, ?it/s]"
      ]
     },
     "metadata": {},
     "output_type": "display_data"
    },
    {
     "data": {
      "application/vnd.jupyter.widget-view+json": {
       "model_id": "",
       "version_major": 2,
       "version_minor": 0
      },
      "text/plain": [
       "  0%|          | 0/768 [00:00<?, ?it/s]"
      ]
     },
     "metadata": {},
     "output_type": "display_data"
    },
    {
     "name": "stdout",
     "output_type": "stream",
     "text": [
      "Epoch 31/200 Train Loss: 2.99263710 Val Loss: 2.99231612\n"
     ]
    },
    {
     "data": {
      "application/vnd.jupyter.widget-view+json": {
       "model_id": "",
       "version_major": 2,
       "version_minor": 0
      },
      "text/plain": [
       "  0%|          | 0/3071 [00:00<?, ?it/s]"
      ]
     },
     "metadata": {},
     "output_type": "display_data"
    },
    {
     "data": {
      "application/vnd.jupyter.widget-view+json": {
       "model_id": "",
       "version_major": 2,
       "version_minor": 0
      },
      "text/plain": [
       "  0%|          | 0/768 [00:00<?, ?it/s]"
      ]
     },
     "metadata": {},
     "output_type": "display_data"
    },
    {
     "name": "stdout",
     "output_type": "stream",
     "text": [
      "Epoch 32/200 Train Loss: 2.99386621 Val Loss: 2.99333646\n"
     ]
    },
    {
     "data": {
      "application/vnd.jupyter.widget-view+json": {
       "model_id": "",
       "version_major": 2,
       "version_minor": 0
      },
      "text/plain": [
       "  0%|          | 0/3071 [00:00<?, ?it/s]"
      ]
     },
     "metadata": {},
     "output_type": "display_data"
    },
    {
     "data": {
      "application/vnd.jupyter.widget-view+json": {
       "model_id": "",
       "version_major": 2,
       "version_minor": 0
      },
      "text/plain": [
       "  0%|          | 0/768 [00:00<?, ?it/s]"
      ]
     },
     "metadata": {},
     "output_type": "display_data"
    },
    {
     "name": "stdout",
     "output_type": "stream",
     "text": [
      "Epoch 33/200 Train Loss: 2.99514617 Val Loss: 2.99416330\n"
     ]
    },
    {
     "data": {
      "application/vnd.jupyter.widget-view+json": {
       "model_id": "",
       "version_major": 2,
       "version_minor": 0
      },
      "text/plain": [
       "  0%|          | 0/3071 [00:00<?, ?it/s]"
      ]
     },
     "metadata": {},
     "output_type": "display_data"
    },
    {
     "data": {
      "application/vnd.jupyter.widget-view+json": {
       "model_id": "",
       "version_major": 2,
       "version_minor": 0
      },
      "text/plain": [
       "  0%|          | 0/768 [00:00<?, ?it/s]"
      ]
     },
     "metadata": {},
     "output_type": "display_data"
    },
    {
     "name": "stdout",
     "output_type": "stream",
     "text": [
      "Epoch 34/200 Train Loss: 2.99440989 Val Loss: 2.99381808\n"
     ]
    },
    {
     "data": {
      "application/vnd.jupyter.widget-view+json": {
       "model_id": "",
       "version_major": 2,
       "version_minor": 0
      },
      "text/plain": [
       "  0%|          | 0/3071 [00:00<?, ?it/s]"
      ]
     },
     "metadata": {},
     "output_type": "display_data"
    },
    {
     "data": {
      "application/vnd.jupyter.widget-view+json": {
       "model_id": "",
       "version_major": 2,
       "version_minor": 0
      },
      "text/plain": [
       "  0%|          | 0/768 [00:00<?, ?it/s]"
      ]
     },
     "metadata": {},
     "output_type": "display_data"
    },
    {
     "name": "stdout",
     "output_type": "stream",
     "text": [
      "Epoch 35/200 Train Loss: 2.99389083 Val Loss: 2.99369894\n"
     ]
    },
    {
     "data": {
      "application/vnd.jupyter.widget-view+json": {
       "model_id": "",
       "version_major": 2,
       "version_minor": 0
      },
      "text/plain": [
       "  0%|          | 0/3071 [00:00<?, ?it/s]"
      ]
     },
     "metadata": {},
     "output_type": "display_data"
    },
    {
     "data": {
      "application/vnd.jupyter.widget-view+json": {
       "model_id": "",
       "version_major": 2,
       "version_minor": 0
      },
      "text/plain": [
       "  0%|          | 0/768 [00:00<?, ?it/s]"
      ]
     },
     "metadata": {},
     "output_type": "display_data"
    },
    {
     "name": "stdout",
     "output_type": "stream",
     "text": [
      "Epoch 36/200 Train Loss: 2.99377472 Val Loss: 2.99351693\n"
     ]
    },
    {
     "data": {
      "application/vnd.jupyter.widget-view+json": {
       "model_id": "",
       "version_major": 2,
       "version_minor": 0
      },
      "text/plain": [
       "  0%|          | 0/3071 [00:00<?, ?it/s]"
      ]
     },
     "metadata": {},
     "output_type": "display_data"
    },
    {
     "data": {
      "application/vnd.jupyter.widget-view+json": {
       "model_id": "",
       "version_major": 2,
       "version_minor": 0
      },
      "text/plain": [
       "  0%|          | 0/768 [00:00<?, ?it/s]"
      ]
     },
     "metadata": {},
     "output_type": "display_data"
    },
    {
     "name": "stdout",
     "output_type": "stream",
     "text": [
      "Epoch 37/200 Train Loss: 2.99362233 Val Loss: 2.99371662\n"
     ]
    },
    {
     "data": {
      "application/vnd.jupyter.widget-view+json": {
       "model_id": "",
       "version_major": 2,
       "version_minor": 0
      },
      "text/plain": [
       "  0%|          | 0/3071 [00:00<?, ?it/s]"
      ]
     },
     "metadata": {},
     "output_type": "display_data"
    },
    {
     "data": {
      "application/vnd.jupyter.widget-view+json": {
       "model_id": "",
       "version_major": 2,
       "version_minor": 0
      },
      "text/plain": [
       "  0%|          | 0/768 [00:00<?, ?it/s]"
      ]
     },
     "metadata": {},
     "output_type": "display_data"
    },
    {
     "name": "stdout",
     "output_type": "stream",
     "text": [
      "Epoch 38/200 Train Loss: 2.99350272 Val Loss: 2.99366593\n"
     ]
    },
    {
     "data": {
      "application/vnd.jupyter.widget-view+json": {
       "model_id": "",
       "version_major": 2,
       "version_minor": 0
      },
      "text/plain": [
       "  0%|          | 0/3071 [00:00<?, ?it/s]"
      ]
     },
     "metadata": {},
     "output_type": "display_data"
    },
    {
     "data": {
      "application/vnd.jupyter.widget-view+json": {
       "model_id": "",
       "version_major": 2,
       "version_minor": 0
      },
      "text/plain": [
       "  0%|          | 0/768 [00:00<?, ?it/s]"
      ]
     },
     "metadata": {},
     "output_type": "display_data"
    },
    {
     "name": "stdout",
     "output_type": "stream",
     "text": [
      "Epoch 39/200 Train Loss: 2.99547233 Val Loss: 2.99881312\n"
     ]
    },
    {
     "data": {
      "application/vnd.jupyter.widget-view+json": {
       "model_id": "",
       "version_major": 2,
       "version_minor": 0
      },
      "text/plain": [
       "  0%|          | 0/3071 [00:00<?, ?it/s]"
      ]
     },
     "metadata": {},
     "output_type": "display_data"
    },
    {
     "data": {
      "application/vnd.jupyter.widget-view+json": {
       "model_id": "",
       "version_major": 2,
       "version_minor": 0
      },
      "text/plain": [
       "  0%|          | 0/768 [00:00<?, ?it/s]"
      ]
     },
     "metadata": {},
     "output_type": "display_data"
    },
    {
     "name": "stdout",
     "output_type": "stream",
     "text": [
      "Epoch 40/200 Train Loss: 2.99782919 Val Loss: 2.99675747\n"
     ]
    },
    {
     "data": {
      "application/vnd.jupyter.widget-view+json": {
       "model_id": "5e0fa1ea01db42e7811dba3f22e13a0d",
       "version_major": 2,
       "version_minor": 0
      },
      "text/plain": [
       "  0%|          | 0/3071 [00:00<?, ?it/s]"
      ]
     },
     "metadata": {},
     "output_type": "display_data"
    },
    {
     "ename": "KeyboardInterrupt",
     "evalue": "",
     "output_type": "error",
     "traceback": [
      "\u001b[1;31m---------------------------------------------------------------------------\u001b[0m",
      "\u001b[1;31mKeyboardInterrupt\u001b[0m                         Traceback (most recent call last)",
      "Cell \u001b[1;32mIn[19], line 15\u001b[0m\n\u001b[0;32m     13\u001b[0m y \u001b[38;5;241m=\u001b[39m model\u001b[38;5;241m.\u001b[39mforward(typo_batch, train\u001b[38;5;241m=\u001b[39m\u001b[38;5;28;01mFalse\u001b[39;00m)  \n\u001b[0;32m     14\u001b[0m loss \u001b[38;5;241m=\u001b[39m loss_function(y, sentence_batch)  \n\u001b[1;32m---> 15\u001b[0m loss\u001b[38;5;241m.\u001b[39mbackward()\n\u001b[0;32m     16\u001b[0m optimizer\u001b[38;5;241m.\u001b[39mstep()\n\u001b[0;32m     17\u001b[0m optimizer\u001b[38;5;241m.\u001b[39mzero_grad()\n",
      "File \u001b[1;32m~\\anaconda3\\Lib\\site-packages\\torch\\_tensor.py:521\u001b[0m, in \u001b[0;36mTensor.backward\u001b[1;34m(self, gradient, retain_graph, create_graph, inputs)\u001b[0m\n\u001b[0;32m    511\u001b[0m \u001b[38;5;28;01mif\u001b[39;00m has_torch_function_unary(\u001b[38;5;28mself\u001b[39m):\n\u001b[0;32m    512\u001b[0m     \u001b[38;5;28;01mreturn\u001b[39;00m handle_torch_function(\n\u001b[0;32m    513\u001b[0m         Tensor\u001b[38;5;241m.\u001b[39mbackward,\n\u001b[0;32m    514\u001b[0m         (\u001b[38;5;28mself\u001b[39m,),\n\u001b[1;32m   (...)\u001b[0m\n\u001b[0;32m    519\u001b[0m         inputs\u001b[38;5;241m=\u001b[39minputs,\n\u001b[0;32m    520\u001b[0m     )\n\u001b[1;32m--> 521\u001b[0m torch\u001b[38;5;241m.\u001b[39mautograd\u001b[38;5;241m.\u001b[39mbackward(\n\u001b[0;32m    522\u001b[0m     \u001b[38;5;28mself\u001b[39m, gradient, retain_graph, create_graph, inputs\u001b[38;5;241m=\u001b[39minputs\n\u001b[0;32m    523\u001b[0m )\n",
      "File \u001b[1;32m~\\anaconda3\\Lib\\site-packages\\torch\\autograd\\__init__.py:289\u001b[0m, in \u001b[0;36mbackward\u001b[1;34m(tensors, grad_tensors, retain_graph, create_graph, grad_variables, inputs)\u001b[0m\n\u001b[0;32m    284\u001b[0m     retain_graph \u001b[38;5;241m=\u001b[39m create_graph\n\u001b[0;32m    286\u001b[0m \u001b[38;5;66;03m# The reason we repeat the same comment below is that\u001b[39;00m\n\u001b[0;32m    287\u001b[0m \u001b[38;5;66;03m# some Python versions print out the first line of a multi-line function\u001b[39;00m\n\u001b[0;32m    288\u001b[0m \u001b[38;5;66;03m# calls in the traceback and some print out the last line\u001b[39;00m\n\u001b[1;32m--> 289\u001b[0m _engine_run_backward(\n\u001b[0;32m    290\u001b[0m     tensors,\n\u001b[0;32m    291\u001b[0m     grad_tensors_,\n\u001b[0;32m    292\u001b[0m     retain_graph,\n\u001b[0;32m    293\u001b[0m     create_graph,\n\u001b[0;32m    294\u001b[0m     inputs,\n\u001b[0;32m    295\u001b[0m     allow_unreachable\u001b[38;5;241m=\u001b[39m\u001b[38;5;28;01mTrue\u001b[39;00m,\n\u001b[0;32m    296\u001b[0m     accumulate_grad\u001b[38;5;241m=\u001b[39m\u001b[38;5;28;01mTrue\u001b[39;00m,\n\u001b[0;32m    297\u001b[0m )\n",
      "File \u001b[1;32m~\\anaconda3\\Lib\\site-packages\\torch\\autograd\\graph.py:769\u001b[0m, in \u001b[0;36m_engine_run_backward\u001b[1;34m(t_outputs, *args, **kwargs)\u001b[0m\n\u001b[0;32m    767\u001b[0m     unregister_hooks \u001b[38;5;241m=\u001b[39m _register_logging_hooks_on_whole_graph(t_outputs)\n\u001b[0;32m    768\u001b[0m \u001b[38;5;28;01mtry\u001b[39;00m:\n\u001b[1;32m--> 769\u001b[0m     \u001b[38;5;28;01mreturn\u001b[39;00m Variable\u001b[38;5;241m.\u001b[39m_execution_engine\u001b[38;5;241m.\u001b[39mrun_backward(  \u001b[38;5;66;03m# Calls into the C++ engine to run the backward pass\u001b[39;00m\n\u001b[0;32m    770\u001b[0m         t_outputs, \u001b[38;5;241m*\u001b[39margs, \u001b[38;5;241m*\u001b[39m\u001b[38;5;241m*\u001b[39mkwargs\n\u001b[0;32m    771\u001b[0m     )  \u001b[38;5;66;03m# Calls into the C++ engine to run the backward pass\u001b[39;00m\n\u001b[0;32m    772\u001b[0m \u001b[38;5;28;01mfinally\u001b[39;00m:\n\u001b[0;32m    773\u001b[0m     \u001b[38;5;28;01mif\u001b[39;00m attach_logging_hooks:\n",
      "\u001b[1;31mKeyboardInterrupt\u001b[0m: "
     ]
    }
   ],
   "source": [
    "val_loss_dc = {}\n",
    "train_loss_dc = {}\n",
    "\n",
    "for epoch in tqdm(range(epochs), position=0):\n",
    "    model.train()\n",
    "    epoch_loss = 0.0    \n",
    "    for batch in tqdm(train_loader, position=1, leave=False):\n",
    "        typo_batch, sentence_batch = batch  \n",
    "        \n",
    "        sentence_batch = sentence_batch.view(-1)\n",
    "        typo_batch = typo_batch.reshape(-1, max_length, 1)\n",
    "\n",
    "        y = model.forward(typo_batch, train=False)  \n",
    "        loss = loss_function(y, sentence_batch)  \n",
    "        loss.backward()\n",
    "        optimizer.step()\n",
    "        optimizer.zero_grad()\n",
    "        epoch_loss += loss.item()\n",
    "\n",
    "    epoch_loss_avg = epoch_loss / len(train_loader)\n",
    "    train_loss_dc[epoch] = epoch_loss_avg\n",
    "\n",
    "    model.eval()\n",
    "    val_loss = 0.0\n",
    "    with torch.no_grad():  \n",
    "        for val_batch in tqdm(validation_loader, position=2, leave=False):\n",
    "            typo_val_batch, sentence_val_batch = val_batch\n",
    "            \n",
    "            sentence_val_batch = sentence_val_batch.view(-1)\n",
    "            typo_val_batch = typo_val_batch.reshape(-1, max_length, 1)\n",
    "            \n",
    "            val_y = model.forward(typo_val_batch, train=False)\n",
    "            \n",
    "            val_loss_batch = loss_function(val_y, sentence_val_batch)\n",
    "            val_loss += val_loss_batch.item()\n",
    "                \n",
    "    val_loss_avg = val_loss / len(validation_loader)\n",
    "    val_loss_dc[epoch] = val_loss_avg\n",
    "    \n",
    "    print(f\"Epoch {epoch + 1}/{epochs} Train Loss: {epoch_loss_avg:.8f} Val Loss: {val_loss_avg:.8f}\")"
   ]
  },
  {
   "cell_type": "code",
   "execution_count": null,
   "id": "b1703dd6",
   "metadata": {
    "ExecuteTime": {
     "end_time": "2024-10-25T11:49:01.577423Z",
     "start_time": "2024-10-25T11:49:00.873892Z"
    },
    "execution": {
     "iopub.status.busy": "2024-10-27T20:19:42.572852Z",
     "iopub.status.idle": "2024-10-27T20:19:42.572852Z",
     "shell.execute_reply": "2024-10-27T20:19:42.572852Z",
     "shell.execute_reply.started": "2024-10-27T20:19:42.572852Z"
    }
   },
   "outputs": [],
   "source": [
    "plt.plot(train_loss_dc.keys(), train_loss_dc.values(), label=\"Train Loss\")\n",
    "plt.plot(val_loss_dc.keys(), val_loss_dc.values(), label=\"Validation Loss\")\n",
    "plt.xlabel(\"Epochs\")\n",
    "plt.ylabel(\"Cross Entropy Loss\")"
   ]
  },
  {
   "cell_type": "markdown",
   "id": "9675c03d",
   "metadata": {},
   "source": [
    "# Evaluation"
   ]
  },
  {
   "cell_type": "code",
   "execution_count": null,
   "id": "eb3d740e-c146-48a4-9498-ccd82de5b6bc",
   "metadata": {
    "execution": {
     "iopub.status.busy": "2024-10-27T20:19:42.572852Z",
     "iopub.status.idle": "2024-10-27T20:19:42.572852Z",
     "shell.execute_reply": "2024-10-27T20:19:42.572852Z",
     "shell.execute_reply.started": "2024-10-27T20:19:42.572852Z"
    }
   },
   "outputs": [],
   "source": [
    "def index_to_char(index):\n",
    "    index = int(index)\n",
    "    if 1 <= index <= 25:\n",
    "        return chr(index + ord('a') - 1)\n",
    "    elif index == 26:\n",
    "        return ' '\n",
    "    else:\n",
    "        return \"_\"  # for all other values, return None"
   ]
  },
  {
   "cell_type": "code",
   "execution_count": null,
   "id": "6d4742ca-c9e2-46db-81a9-1fd58101e778",
   "metadata": {
    "execution": {
     "iopub.status.busy": "2024-10-27T20:19:42.573849Z",
     "iopub.status.idle": "2024-10-27T20:19:42.573849Z",
     "shell.execute_reply": "2024-10-27T20:19:42.573849Z",
     "shell.execute_reply.started": "2024-10-27T20:19:42.573849Z"
    }
   },
   "outputs": [],
   "source": [
    "import csv\n",
    "\n",
    "def get_metrics(loader, model, loader_str, output_file=\"output.csv\", sample_size=10):\n",
    "    preds = []\n",
    "    labels = []\n",
    "    inputs = []  # To store input sequences\n",
    "    \n",
    "    model.eval()\n",
    "    loss = 0.0\n",
    "    csv_data = [[\"Input Word\", \"Label Word\", \"Predicted Word\"]]  # CSV header\n",
    "    sentence_label = []\n",
    "    sentence_pred = []\n",
    "    sentence_input = []  # To store input words\n",
    "    word_label = []\n",
    "    word_pred = []\n",
    "    word_input = []\n",
    "\n",
    "    with torch.no_grad():\n",
    "        for batch in tqdm(loader, position=3, leave=False):\n",
    "            typo_batch, sentence_batch = batch  # typo_batch is the input, sentence_batch is the target sequence\n",
    "\n",
    "            # Reshape inputs for model and get predictions\n",
    "            sentence_batch = sentence_batch.view(-1)\n",
    "            typo_batch = typo_batch.reshape(-1, max_length, 1)\n",
    "            y = model.forward(typo_batch, train=False)  # y should be shape (batch_size, seq_len, vocab_size)\n",
    "            \n",
    "            # Calculate and accumulate loss\n",
    "            loss_batch = loss_function(y, sentence_batch)\n",
    "            loss += loss_batch.item()\n",
    "            \n",
    "            # Get predictions, labels, and inputs in a flattened form\n",
    "            batch_preds = torch.argmax(y, dim=1).cpu().numpy().reshape(-1)\n",
    "            batch_labels = sentence_batch.cpu().numpy().reshape(-1)\n",
    "            batch_inputs = typo_batch.cpu().numpy().reshape(-1)\n",
    "            \n",
    "            # Append these results for later accuracy and F1 calculations\n",
    "            preds.extend(batch_preds)\n",
    "            labels.extend(batch_labels)\n",
    "            inputs.extend(batch_inputs)\n",
    "            \n",
    "            # Process each element in the batch\n",
    "            for label_idx in range(len(batch_preds)):\n",
    "                label_char = index_to_char(batch_labels[label_idx])\n",
    "                pred_char = index_to_char(batch_preds[label_idx])\n",
    "                input_char = index_to_char(batch_inputs[label_idx])\n",
    "                \n",
    "                # Ignore padding characters\n",
    "                if label_char != \"_\":\n",
    "                    word_label.append(label_char)\n",
    "                if pred_char != \"_\":\n",
    "                    word_pred.append(pred_char)\n",
    "                if input_char != \"_\":\n",
    "                    word_input.append(input_char)\n",
    "                \n",
    "                # If end of a word (detected by space), append word to csv_data\n",
    "                if label_char == \" \":\n",
    "                    # Join and append the completed word to csv data\n",
    "                    csv_data.append([\"\".join(word_input), \"\".join(word_label), \"\".join(word_pred)])\n",
    "                    # Clear the lists for the next word\n",
    "                    word_label = []\n",
    "                    word_pred = []\n",
    "                    word_input = []\n",
    "                \n",
    "    # Write data to CSV file\n",
    "    with open(output_file, mode=\"w\", newline=\"\") as file:\n",
    "        writer = csv.writer(file)\n",
    "        writer.writerows(csv_data)\n",
    "    \n",
    "    # Display a subset of rows in the old format for console output\n",
    "    print(f\"\\nDisplaying the first {sample_size} rows from the output file:\\n\")\n",
    "    print(\"Input Word      | Label Word      | Predicted Word\")\n",
    "    print(\"-\" * 50)\n",
    "    for row in csv_data[1:sample_size + 1]:  # Skip header row, take only `sample_size` rows\n",
    "        print(f\"{row[0]:<15} | {row[1]:<15} | {row[2]}\")\n",
    "    \n",
    "    # Compute and display metrics\n",
    "    loss_avg = loss / len(loader)\n",
    "    print(f\"\\n{loader_str} Loss: {loss_avg:.4f}\")\n",
    "    accuracy = accuracy_score(labels, preds)\n",
    "    f1 = f1_score(labels, preds, average='weighted')\n",
    "    \n",
    "    print(f\"\\n{loader_str} Accuracy: {accuracy:.4f}, F1 Score: {f1:.4f}\")\n"
   ]
  },
  {
   "cell_type": "code",
   "execution_count": null,
   "id": "70746ff2-c700-4307-bdf3-c0b3d602c988",
   "metadata": {
    "execution": {
     "iopub.status.busy": "2024-10-27T20:19:42.574847Z",
     "iopub.status.idle": "2024-10-27T20:19:42.575845Z",
     "shell.execute_reply": "2024-10-27T20:19:42.575845Z",
     "shell.execute_reply.started": "2024-10-27T20:19:42.575845Z"
    }
   },
   "outputs": [],
   "source": [
    "n_print = 50"
   ]
  },
  {
   "cell_type": "code",
   "execution_count": null,
   "id": "ead1e0bc-2f40-4870-9426-91c690a961f5",
   "metadata": {
    "execution": {
     "iopub.status.busy": "2024-10-27T20:19:42.575845Z",
     "iopub.status.idle": "2024-10-27T20:19:42.575845Z",
     "shell.execute_reply": "2024-10-27T20:19:42.575845Z",
     "shell.execute_reply.started": "2024-10-27T20:19:42.575845Z"
    }
   },
   "outputs": [],
   "source": [
    "get_metrics(train_loader, model, \"train\", \"train_predictions.csv\", n_print)"
   ]
  },
  {
   "cell_type": "code",
   "execution_count": null,
   "id": "da1d9a86-795a-41c6-ab84-7d18ab750bad",
   "metadata": {
    "execution": {
     "iopub.status.busy": "2024-10-27T20:19:42.576850Z",
     "iopub.status.idle": "2024-10-27T20:19:42.576850Z",
     "shell.execute_reply": "2024-10-27T20:19:42.576850Z",
     "shell.execute_reply.started": "2024-10-27T20:19:42.576850Z"
    },
    "scrolled": true
   },
   "outputs": [],
   "source": [
    "get_metrics(validation_loader, model, \"validation\", \"validation_predictions.csv\", n_print)"
   ]
  },
  {
   "cell_type": "code",
   "execution_count": null,
   "id": "7afd3421-3c10-4ac7-945f-b70c5450be59",
   "metadata": {
    "execution": {
     "iopub.status.busy": "2024-10-27T20:19:42.577840Z",
     "iopub.status.idle": "2024-10-27T20:19:42.577840Z",
     "shell.execute_reply": "2024-10-27T20:19:42.577840Z",
     "shell.execute_reply.started": "2024-10-27T20:19:42.577840Z"
    },
    "scrolled": true
   },
   "outputs": [],
   "source": [
    "get_metrics(test_loader, model, \"test\", \"test_predictions.csv\", n_print)"
   ]
  },
  {
   "cell_type": "code",
   "execution_count": null,
   "id": "3fc4e1be-29f2-4ffe-bb5d-a7cabbb4745f",
   "metadata": {},
   "outputs": [],
   "source": []
  },
  {
   "cell_type": "code",
   "execution_count": null,
   "id": "c797f05a-ac5f-4156-8cc6-0468b79f56f7",
   "metadata": {},
   "outputs": [],
   "source": []
  },
  {
   "cell_type": "code",
   "execution_count": null,
   "id": "351f26fc-8135-4345-8414-a70f548996f6",
   "metadata": {},
   "outputs": [],
   "source": []
  }
 ],
 "metadata": {
  "kernelspec": {
   "display_name": "Python 3 (ipykernel)",
   "language": "python",
   "name": "python3"
  },
  "language_info": {
   "codemirror_mode": {
    "name": "ipython",
    "version": 3
   },
   "file_extension": ".py",
   "mimetype": "text/x-python",
   "name": "python",
   "nbconvert_exporter": "python",
   "pygments_lexer": "ipython3",
   "version": "3.12.4"
  },
  "toc": {
   "base_numbering": 1,
   "nav_menu": {},
   "number_sections": true,
   "sideBar": true,
   "skip_h1_title": false,
   "title_cell": "Table of Contents",
   "title_sidebar": "Contents",
   "toc_cell": false,
   "toc_position": {},
   "toc_section_display": true,
   "toc_window_display": false
  }
 },
 "nbformat": 4,
 "nbformat_minor": 5
}
