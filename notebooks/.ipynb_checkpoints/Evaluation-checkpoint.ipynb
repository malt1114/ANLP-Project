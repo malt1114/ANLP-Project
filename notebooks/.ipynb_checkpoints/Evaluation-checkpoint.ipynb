{
 "cells": [
  {
   "cell_type": "markdown",
   "id": "1ea4a4c3-44d9-415d-855d-afa58addf0be",
   "metadata": {},
   "source": [
    "# Settings"
   ]
  },
  {
   "cell_type": "code",
   "execution_count": 1,
   "id": "0a00071e-4324-4de2-947f-d0385b367325",
   "metadata": {},
   "outputs": [
    {
     "data": {
      "text/plain": [
       "'C:\\\\Users\\\\ruben\\\\OneDrive\\\\Dokumenter\\\\GitHub\\\\ANLP-Project'"
      ]
     },
     "execution_count": 1,
     "metadata": {},
     "output_type": "execute_result"
    }
   ],
   "source": [
    "import sys\n",
    "import os\n",
    "\n",
    "os.chdir('..')\n",
    "os.getcwd()"
   ]
  },
  {
   "cell_type": "markdown",
   "id": "cddda24b-27a5-40cc-93d9-6a0fbf3c2de1",
   "metadata": {},
   "source": [
    "# Imports"
   ]
  },
  {
   "cell_type": "code",
   "execution_count": 2,
   "id": "f6abbde7-dc63-471e-8d5f-5a31201c1963",
   "metadata": {},
   "outputs": [
    {
     "name": "stderr",
     "output_type": "stream",
     "text": [
      "C:\\Users\\ruben\\AppData\\Local\\Temp\\ipykernel_34272\\2098325508.py:12: TqdmExperimentalWarning: Using `tqdm.autonotebook.tqdm` in notebook mode. Use `tqdm.tqdm` instead to force console mode (e.g. in jupyter console)\n",
      "  from tqdm.autonotebook import trange, tqdm\n"
     ]
    }
   ],
   "source": [
    "from scripts.model import CharBiLSTM, prepare_data\n",
    "from scripts.data import create_data_loader, load_data\n",
    "from scripts.preprocessing import get_typoglycemia_modified_data, sentence_tokennizer, tokenize_dataframe, get_max_length\n",
    "from scripts.baseline import get_base_line_score\n",
    "\n",
    "from torch import nn, optim\n",
    "import torch\n",
    "\n",
    "from sklearn.model_selection import train_test_split\n",
    "\n",
    "import editdistance\n",
    "from tqdm.autonotebook import trange, tqdm\n",
    "import random \n",
    "\n",
    "from sklearn.metrics import f1_score, accuracy_score\n",
    "import numpy as np\n",
    "\n",
    "import pandas as pd\n",
    "import matplotlib.pyplot as plt"
   ]
  },
  {
   "cell_type": "markdown",
   "id": "1176928e-b58d-46cb-a601-262e9fecfd37",
   "metadata": {},
   "source": [
    "# Hard"
   ]
  },
  {
   "cell_type": "code",
   "execution_count": 3,
   "id": "fd431642-6d32-4817-8b8c-f89994953e5b",
   "metadata": {},
   "outputs": [
    {
     "name": "stdout",
     "output_type": "stream",
     "text": [
      "cuda:0\n",
      "True\n"
     ]
    }
   ],
   "source": [
    "from model_train_easy import device, complexity_level, max_length, batch_size, input_size, hidden_size, output_size, num_layers, complexity_level, model, loss_function, optimizer, epochs"
   ]
  },
  {
   "cell_type": "code",
   "execution_count": 4,
   "id": "6ac98230-142d-40ba-9c8c-1fc24e06329e",
   "metadata": {},
   "outputs": [
    {
     "data": {
      "text/plain": [
       "(device(type='cuda', index=0), 'Easy')"
      ]
     },
     "execution_count": 4,
     "metadata": {},
     "output_type": "execute_result"
    }
   ],
   "source": [
    "device, complexity_level"
   ]
  },
  {
   "cell_type": "code",
   "execution_count": 5,
   "id": "a58c359c-3e09-4364-9a7d-a6ac8de05764",
   "metadata": {},
   "outputs": [],
   "source": [
    "train_loader, validation_loader, test_loader = prepare_data(complexity_level = complexity_level,\n",
    "                                                            max_length = max_length,\n",
    "                                                            batch_size = batch_size)"
   ]
  },
  {
   "cell_type": "code",
   "execution_count": 6,
   "id": "df6bdb0d-0e96-4f74-b6b2-572c8b485716",
   "metadata": {},
   "outputs": [
    {
     "name": "stdout",
     "output_type": "stream",
     "text": [
      "torch.Size([512, 150]) torch.Size([512, 150])\n",
      "(array([-1,  1,  2,  3,  4,  5,  6,  7,  8,  9, 10, 11, 12, 13, 14, 15, 16,\n",
      "       17, 18, 19, 20, 21, 22, 23, 24, 25, 26], dtype=int64), array([42946,  2567,   484,   888,  1036,  3337,   598,   484,  1431,\n",
      "        2224,    74,   242,  1173,   733,  2139,  2021,   534,    21,\n",
      "        1832,  1980,  2392,   700,   225,   542,    44,   474,  5679],\n",
      "      dtype=int64))\n",
      "cpu\n"
     ]
    }
   ],
   "source": [
    "for sample in train_loader:\n",
    "    X, y = sample\n",
    "    print(X.shape, y.shape)\n",
    "    print(np.unique(y.cpu(), return_counts=True))\n",
    "    print(X.device)\n",
    "    break"
   ]
  },
  {
   "cell_type": "code",
   "execution_count": 7,
   "id": "8479efdc-13ab-473f-8de5-76b7a0f3ff9d",
   "metadata": {},
   "outputs": [
    {
     "data": {
      "text/plain": [
       "CharBiLSTM(\n",
       "  (lstm): LSTM(1, 512, batch_first=True, bidirectional=True)\n",
       "  (fc): Linear(in_features=1024, out_features=28, bias=True)\n",
       ")"
      ]
     },
     "execution_count": 7,
     "metadata": {},
     "output_type": "execute_result"
    }
   ],
   "source": [
    "# PATH = f'models/{complexity_level.lower()}/model_{epochs}.pt'\n",
    "PATH = \"models/model_182.pt\"\n",
    "model.load_state_dict(torch.load(PATH, weights_only=True))\n",
    "model.eval()"
   ]
  },
  {
   "cell_type": "code",
   "execution_count": 8,
   "id": "adb9886f-f783-4894-9471-a33d36e5120d",
   "metadata": {},
   "outputs": [],
   "source": [
    "def index_to_char(index, target = True):\n",
    "    if target == False:\n",
    "        index = round(index*100, 0)\n",
    "    index = int(index)\n",
    "    if 1 <= index <= 25:\n",
    "        return chr(index + ord('a') - 1), index\n",
    "    elif index == 26:\n",
    "        return ' ', index\n",
    "    else:\n",
    "        return \"_\", index  # for all other values, return None"
   ]
  },
  {
   "cell_type": "code",
   "execution_count": 51,
   "id": "9b23dc96-f6dd-4d73-a97d-edb8fac842a9",
   "metadata": {},
   "outputs": [],
   "source": [
    "import csv\n",
    "\n",
    "def get_metrics(loader, model, loader_str, output_file=\"output.csv\", sample_size=10):\n",
    "    preds = []\n",
    "    labels = []\n",
    "    inputs = []  # To store input sequences\n",
    "    \n",
    "    model.eval()\n",
    "    loss = 0.0\n",
    "    csv_data = [[\"Input Word\", \"Label Word\", \"Predicted Word\"]]  # CSV header\n",
    "    sentence_label = []\n",
    "    sentence_pred = []\n",
    "    sentence_input = []  # To store input words\n",
    "    \n",
    "\n",
    "    with torch.no_grad():\n",
    "        for batch in tqdm(loader, position=3, leave=False):\n",
    "            typo_batch, sentence_batch = batch  # typo_batch is the input, sentence_batch is the target sequence\n",
    "            typo_batch = typo_batch.to(device)\n",
    "            sentence_batch =sentence_batch.to(device)\n",
    "            \n",
    "            sentence_batch = sentence_batch.reshape(-1, max_length, 1)\n",
    "            typo_batch = typo_batch.reshape(-1, max_length, 1)\n",
    "            y = model.forward(typo_batch, train=False)\n",
    "\n",
    "            \n",
    "            sentence_batch_loss = sentence_batch.reshape(-1)\n",
    "            # Calculate and accumulate loss\n",
    "            loss_batch = loss_function(y, sentence_batch_loss)\n",
    "            loss += loss_batch.item()\n",
    "            \n",
    "            \n",
    "\n",
    "            word_label = []\n",
    "            word_pred = []\n",
    "            word_input = []\n",
    "            \n",
    "            y = y.reshape(-1, max_length, output_size)\n",
    "            ### Make it work for the nabsew dimensionality\n",
    "            for sentence_index in range(len(y)):\n",
    "                sentence = y[sentence_index]\n",
    "                sentence_labels = sentence_batch[sentence_index]\n",
    "                sentence_inputs = typo_batch[sentence_index]\n",
    "                \n",
    "                # Get predictions, labels, and inputs in a flattened form\n",
    "                batch_preds = torch.argmax(sentence, dim=1).cpu().numpy().reshape(-1)\n",
    "                batch_labels = sentence_labels.cpu().numpy().reshape(-1)\n",
    "                batch_inputs = sentence_inputs.cpu().numpy().reshape(-1)\n",
    "                \n",
    "                # Append these results for later accuracy and F1 calculations\n",
    "                preds.extend(batch_preds)\n",
    "                labels.extend(batch_labels)\n",
    "                inputs.extend(batch_inputs)\n",
    "                # print(\"label_char\", \"pred_char\", \"input_char\")\n",
    "                \n",
    "                # Process each element in the batch\n",
    "                for label_idx in range(len(batch_preds)):\n",
    "                    label_char, label_index_ = index_to_char(batch_labels[label_idx])\n",
    "                    pred_char, pred_index_ = index_to_char(batch_preds[label_idx])\n",
    "                    input_char, input_index_ = index_to_char(batch_inputs[label_idx],target = False)\n",
    "\n",
    "\n",
    "                    # print(label_char, pred_char, input_char)\n",
    "                    # Ignore padding characters\n",
    "                    if label_char != \"_\":\n",
    "                        word_label.append(label_char)\n",
    "                    if pred_char != \"_\":\n",
    "                        word_pred.append(pred_char)\n",
    "                    if input_char != \"_\":\n",
    "                        word_input.append(input_char)\n",
    "                    \n",
    "                    # If end of a word (detected by space), append word to csv_data\n",
    "                    if label_char == \" \":\n",
    "                        # Join and append the completed word to csv data\n",
    "                        csv_data.append([\"\".join(word_input), \"\".join(word_label), \"\".join(word_pred)])\n",
    "                        # Clear the lists for the next word\n",
    "                        word_label = []\n",
    "                        word_pred = []\n",
    "                        word_input = []\n",
    "                csv_data.append([\"\".join(word_input), \"\".join(word_label), \"\".join(word_pred)])\n",
    "                word_label = []\n",
    "                word_pred = []\n",
    "                word_input = []\n",
    "            #     if sentence_index == 2:\n",
    "            #         break\n",
    "            # break\n",
    "\n",
    "    # Write data to CSV file\n",
    "    with open(output_file, mode=\"w\", newline=\"\") as file:\n",
    "        writer = csv.writer(file)\n",
    "        writer.writerows(csv_data)\n",
    "    \n",
    "    # Display a subset of rows in the old format for console output\n",
    "    print(f\"\\nDisplaying the first {sample_size} rows from the output file:\\n\")\n",
    "    print(\"Input Word      | Label Word      | Predicted Word\")\n",
    "    print(\"-\" * 50)\n",
    "    for row in csv_data[1:sample_size + 1]:  # Skip header row, take only `sample_size` rows\n",
    "        print(f\"{row[0]:<15} | {row[1]:<15} | {row[2]}\")\n",
    "    \n",
    "    # Compute and display metrics\n",
    "    loss_avg = loss / len(loader)\n",
    "    print(f\"\\n{loader_str} Loss: {loss_avg:.4f}\")\n",
    "    accuracy = accuracy_score(labels, preds)\n",
    "    f1 = f1_score(labels, preds, average='weighted')\n",
    "\n",
    "\n",
    "    # # ADD EDIT DISTANCE METRIC HERE\n",
    "    \n",
    "    \n",
    "    # print(f\"\\n{loader_str} Accuracy: {accuracy:.4f}, F1 Score: {f1:.4f}\")\n"
   ]
  },
  {
   "cell_type": "code",
   "execution_count": 55,
   "id": "14f76451-8a1f-4457-aba3-32bfccc076e0",
   "metadata": {},
   "outputs": [],
   "source": [
    "n_print = 200"
   ]
  },
  {
   "cell_type": "code",
   "execution_count": 56,
   "id": "835e22cb-97f5-4232-b739-32b39935cf48",
   "metadata": {},
   "outputs": [],
   "source": [
    "# get_metrics(train_loader, model, \"train\", \"train_predictions.csv\", n_print)"
   ]
  },
  {
   "cell_type": "code",
   "execution_count": 57,
   "id": "16f02c01-46d1-4249-ba0c-28021e49ecbe",
   "metadata": {
    "scrolled": true
   },
   "outputs": [
    {
     "data": {
      "application/vnd.jupyter.widget-view+json": {
       "model_id": "01371cb39d5f48fd9cf3d37cf9583a08",
       "version_major": 2,
       "version_minor": 0
      },
      "text/plain": [
       "  0%|          | 0/95 [00:00<?, ?it/s]"
      ]
     },
     "metadata": {},
     "output_type": "display_data"
    },
    {
     "name": "stdout",
     "output_type": "stream",
     "text": [
      "\n",
      "Displaying the first 200 rows from the output file:\n",
      "\n",
      "Input Word      | Label Word      | Predicted Word\n",
      "--------------------------------------------------\n",
      "kytrkhaeain     | karthikeyan     | lartrkkgyin \n",
      "fshneiid        | finished        | finished \n",
      "sitxh           | sixth           | sixth \n",
      "in              | in              | in \n",
      "the             | the             | the \n",
      "chhoinpamsip    | championship    | championshipaaaaaaaaaaaaaaaaaaaaaaaaaaaaaaaaaaaaaaaaaaaaaaaaaaaaaaaaaaaaaaaaaaaaaaaaaaaaaaaaaaaaaaaaaaaaaaaaaaaaaaaa\n",
      "over            | over            | over \n",
      "my              | my              | my \n",
      "head            | head            | head \n",
      "cblae           | cable           | caale \n",
      "car             | car             | cos \n",
      "is              | is              | is \n",
      "the             | the             | the \n",
      "dbuet           | debut           | debut \n",
      "signle          | single          | shngle \n",
      "by              | by              | by \n",
      "rcok            | rock            | rock \n",
      "band            | band            | band \n",
      "the             | the             | the \n",
      "fray            | fray            | frry \n",
      "off             | off             | off \n",
      "the             | the             | the \n",
      "hit             | hit             | his \n",
      "aulbm           | album           | atbum \n",
      "how             | how             | hot \n",
      "to              | to              | to \n",
      "svae            | save            | save \n",
      "a               | a               | a \n",
      "lfie            | life            | lige \n",
      "abulm           | album           | altumaaaaaaaaaaaaaaaaaaaaaaaaaaaaaaaaaaaaaaaaaaa\n",
      "ski             | ski             | skl \n",
      "peols           | poles           | lorns \n",
      "in              | in              | in \n",
      "ailpne          | alpine          | appine \n",
      "skniig          | skiing          | silini \n",
      "are             | are             | ate \n",
      "sehotrr         | shorter         | sterher \n",
      "tahn            | than            | than \n",
      "ski             | ski             | skl \n",
      "pelos           | poles           | oooes \n",
      "in              | in              | in \n",
      "noridc          | nordic          | puttie \n",
      "sinikg          | skiing          | simingaaaaaaaaaaaaaaaaaaaaaaaaaaaaaaaaaaaaaaaaaaaaaaaaaaaaaaaaaaaaaaaaaaaaaaaaaaaaaaaa\n",
      "yaaygtkora      | yogyakarta      |  yaaaywrpa \n",
      "was             | was             | was \n",
      "the             | the             | the \n",
      "ctaapil         | capital         | capital \n",
      "city            | city            | city \n",
      "of              | of              | of \n",
      "inidensoa       | indonesia       | indonnsia \n",
      "in              | in              | inaaaaaaaaaaaaaaaaaaaaaaaaaaaaaaaaaaaaaaaaaaaaaaaaaaaaaaaaaaaaaaaaaaaaaaaaaaaaaaaaaaaaaaaaaaaaaaaaaaaaaaa\n",
      "he              | he              | he \n",
      "wrtoe           | wrote           | wrote \n",
      "misuc           | music           | music \n",
      "for             | for             | for \n",
      "ocretshra       | orchestra       | orcrretra \n",
      "pinao           | piano           | paaan \n",
      "ogran           | organ           | prgan \n",
      "as              | as              | as \n",
      "wlel            | well            | well \n",
      "as              | as              | as \n",
      "cbhmear         | chamber         | chacfes \n",
      "msuic           | music           | music \n",
      "and             | and             | and \n",
      "miusc           | music           | music \n",
      "for             | for             | for \n",
      "sgninig         | singing         | singiggaaaaaaaaaaaaaaaaaaaaaaaaaaaaaaaaaaaaaaaaaaaaaaaaaaaaaaaaaaaaaaa\n",
      "he              | he              | he \n",
      "was             | was             | was \n",
      "best            | best            | best \n",
      "kownn           | known           | known \n",
      "for             | for             | for \n",
      "his             | his             | his \n",
      "role            | role            | role \n",
      "as              | as              | as \n",
      "cliff           | cliff           | chiff \n",
      "braens          | barnes          | aarder \n",
      "on              | on              | on \n",
      "the             | the             | the \n",
      "s               | s               | s \n",
      "tloiseeivn      | television      | television \n",
      "sereis          | series          | series \n",
      "dllaas          | dallas          | dlalas \n",
      "and             | and             | and \n",
      "its             | its             | its \n",
      "rviavel         | revival         | sevevalaaaaaaaaaaaaaaaaaaaaaaaaaaaaaaaaaaaaaaaaaaaaaaaaaaaaaa\n",
      "on              | on              | on \n",
      "june            | june            | june \n",
      "he              | he              | he \n",
      "won             | won             | won \n",
      "the             | the             | the \n",
      "slnatey         | stanley         | stanley \n",
      "cup             | cup             | cup \n",
      "with            | with            | with \n",
      "the             | the             | the \n",
      "blaakwkchs      | blackhawks      | blackhawks \n",
      "afetr           | after           | after \n",
      "they            | they            | they \n",
      "defteead        | defeated        | defeated \n",
      "the             | the             | the \n",
      "botosn          | boston          | boston \n",
      "brnuis          | bruins          | bruins \n",
      "gmeas           | games           | games \n",
      "to              | to              | to \n",
      "in              | in              | in \n",
      "the             | the             | the \n",
      "snlteay         | stanley         | stanley \n",
      "cup             | cup             | cup \n",
      "fnlias          | finals          | finalsaaaaaaaaaaaaaaaaaaaaaaaaaaa\n",
      "he              | he              | he \n",
      "was             | was             | was \n",
      "the             | the             | the \n",
      "gsarteet        | greatest        | gratfrst \n",
      "ahicertct       | architect       | arecicect \n",
      "of              | of              | of \n",
      "his             | his             | his \n",
      "day             | day             | dayaaaaaaaaaaaaaaaaaaaaaaaaaaaaaaaaaaaaaaaaaaaaaaaaaaaaaaaaaaaaaaaaaaaaaaaaaaaaaaaaaaaaaaaaaaaaaaaaaaaaaaaaaaaaaa\n",
      "he              | he              | he \n",
      "stetrad         | started         | started \n",
      "his             | his             | his \n",
      "own             | own             | own \n",
      "rerocd          | record          | record \n",
      "laebl           | label           | label \n",
      "cealld          | called          | called \n",
      "froeewpir       | firepower       | fererioer \n",
      "roecdrs         | records         | rocrrds \n",
      "in              | in              | in \n",
      "elray           | early           | earlyaaaaaaaaaaaaaaaaaaaaaaaaaaaaaaaaaaaaaaaaaaaaaaaaaaaaaaaaaaaaaaaaaaaaaaaaaaaaaaaaaaaaa\n",
      "a               | a               | a \n",
      "cemuotpr        | computer        | comeuter \n",
      "poarrgm         | program         | program \n",
      "is              | is              | is \n",
      "wtietrn         | written         | written \n",
      "in              | in              | in \n",
      "a               | a               | a \n",
      "pmmanrogrig     | programming     | poomrarming \n",
      "lagguane        | language        | languageaaaaaaaaaaaaaaaaaaaaaaaaaaaaaaaaaaaaaaaaaaaaaaaaaaaaaaaaaaaaaaaaaaaaaaaaaaaaaaaaaaaaaaaaaaaaaaa\n",
      "it              | it              | it \n",
      "was             | was             | was \n",
      "the             | the             | the \n",
      "tteewvntyensh   | twentyseventh   | tweltesswenng \n",
      "smlreusmam      | summerslam      | summermlam \n",
      "evnet           | event           | event \n",
      "hled            | held            | held \n",
      "by              | by              | by \n",
      "the             | the             | the \n",
      "wwe             | wwe             | wweaaaaaaaaaaaaaaaaaaaaaaaaaaaaaaaaaaaaaaaaaaaaaaaaaaaaaaaaaaaaaaaaaaaaaaaaaaaaaaaaaaaaaaaaaaaaa\n",
      "this            | this            | this \n",
      "new             | new             | new \n",
      "irncantioan     | incarnation     | inaaraaaaan \n",
      "rlneetcy        | recently        | recunley \n",
      "cpeelomtd       | completed       | conoirted \n",
      "a               | a               | a \n",
      "new             | new             | new \n",
      "ablum           | album           | album \n",
      "einteltd        | entitled        | entintne \n",
      "lilile          | lillie          | iinele \n",
      "f               | f               | g \n",
      "whcih           | which           | which \n",
      "was             | was             | was \n",
      "reselaed        | released        | released \n",
      "on              | on              | on \n",
      "arpil           | april           | aprilaaaaaaaaaaaaaaaaaaaaaaaaaaaaaaaaaaaaaaaaaaaaaaaabbaba\n",
      "she             | she             | she \n",
      "also            | also            | also \n",
      "svered          | served          | served \n",
      "as              | as              | as \n",
      "the             | the             | the \n",
      "fisrt           | first           | first \n",
      "crmiaahn        | chairman        | chamrian \n",
      "of              | of              | of \n",
      "the             | the             | the \n",
      "u               | u               | taaaaaaaaaaaaaaaaaaaaaaaaaaaaaaaaaaaaaaaaaaaaaaaaaaaaaaaaaaaaaaaaaaaaaaaaaaaaaaaaaaaaaaaaaaaaaaaaaaaaaaaa\n",
      "stidansh        | standish        | scmantrg \n",
      "aslo            | also            | also \n",
      "severd          | served          | served \n",
      "as              | as              | as \n",
      "a               | a               | a \n",
      "svyrueor        | surveyor        | st uetur \n",
      "of              | of              | of \n",
      "hiayhwgs        | highways        | hiaiwiys \n",
      "as              | as              | ar \n",
      "trseauerr       | treasurer       | rerrurres \n",
      "of              | of              | of \n",
      "the             | the             | the \n",
      "clnooy          | colony          | comony \n",
      "from            | from            | from \n",
      "to              | to              | toaaaaaaaaaaaaaaaaaaaaaaaaaaaaaaaaaaaaaaaaaaaaaaaaaaaaaaaaaaaaaaaaaaaaa\n",
      "this            | this            | this \n",
      "ociffe          | office          | office \n",
      "catonnis        | contains        | contiint \n",
      "msot            | most            | most \n",
      "amatidvisntire  | administrative  | andnititiiirve \n",
      "oeicffs         | offices         | offeceraaaaaaaaaaaaaaaaaaaaaaaaaaaaaaaaaaaaaaaaaaaaaaaaaaaaaaaaaaaaaaaaaaaaaaaaaaaaaaaaaaaaaaaaaaaaaaaaaaaaaa\n",
      "my              | my              | my \n",
      "dkesart         | darkest         | fesrrss \n",
      "days            | days            | days \n",
      "has             | has             | has \n",
      "five            | five            | five \n",
      "mreembs         | members         | members \n",
      "\n",
      "validation Loss: 2.6019\n"
     ]
    }
   ],
   "source": [
    "get_metrics(validation_loader, model, \"validation\", \"validation_predictions.csv\", n_print)"
   ]
  },
  {
   "cell_type": "code",
   "execution_count": 13,
   "id": "ac37a233-7f0f-4870-8ae7-fc163bef7c57",
   "metadata": {},
   "outputs": [],
   "source": [
    "# get_metrics(test_loader, model, \"test\", \"test_predictions.csv\", n_print)"
   ]
  },
  {
   "cell_type": "code",
   "execution_count": null,
   "id": "33cc9782-d57d-4cf2-9d25-d2c9cbbc07b8",
   "metadata": {},
   "outputs": [],
   "source": []
  }
 ],
 "metadata": {
  "kernelspec": {
   "display_name": "Python 3 (ipykernel)",
   "language": "python",
   "name": "python3"
  },
  "language_info": {
   "codemirror_mode": {
    "name": "ipython",
    "version": 3
   },
   "file_extension": ".py",
   "mimetype": "text/x-python",
   "name": "python",
   "nbconvert_exporter": "python",
   "pygments_lexer": "ipython3",
   "version": "3.11.7"
  }
 },
 "nbformat": 4,
 "nbformat_minor": 5
}
