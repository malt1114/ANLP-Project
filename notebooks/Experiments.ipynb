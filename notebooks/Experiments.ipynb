{
 "cells": [
  {
   "cell_type": "markdown",
   "id": "06e9ca99",
   "metadata": {},
   "source": [
    "# Settings"
   ]
  },
  {
   "cell_type": "code",
   "execution_count": 1,
   "id": "6adebd2a",
   "metadata": {
    "ExecuteTime": {
     "end_time": "2024-10-25T11:47:43.868781Z",
     "start_time": "2024-10-25T11:47:43.856298Z"
    },
    "execution": {
     "iopub.execute_input": "2024-10-27T20:13:06.494825Z",
     "iopub.status.busy": "2024-10-27T20:13:06.493828Z",
     "iopub.status.idle": "2024-10-27T20:13:06.499753Z",
     "shell.execute_reply": "2024-10-27T20:13:06.499753Z",
     "shell.execute_reply.started": "2024-10-27T20:13:06.494825Z"
    }
   },
   "outputs": [
    {
     "data": {
      "text/plain": [
       "'/Users/malthepabst/Documents/GitHub/ANLP-Project'"
      ]
     },
     "execution_count": 1,
     "metadata": {},
     "output_type": "execute_result"
    }
   ],
   "source": [
    "import sys\n",
    "import os\n",
    "\n",
    "os.chdir('..')\n",
    "os.getcwd()"
   ]
  },
  {
   "cell_type": "markdown",
   "id": "b062a02c",
   "metadata": {},
   "source": [
    "# Imports"
   ]
  },
  {
   "cell_type": "code",
   "execution_count": 2,
   "id": "a187787d",
   "metadata": {
    "ExecuteTime": {
     "end_time": "2024-10-25T11:47:43.877891Z",
     "start_time": "2024-10-25T11:47:43.872803Z"
    },
    "execution": {
     "iopub.execute_input": "2024-10-27T20:13:06.500779Z",
     "iopub.status.busy": "2024-10-27T20:13:06.500779Z",
     "iopub.status.idle": "2024-10-27T20:13:09.638608Z",
     "shell.execute_reply": "2024-10-27T20:13:09.638525Z",
     "shell.execute_reply.started": "2024-10-27T20:13:06.500779Z"
    }
   },
   "outputs": [],
   "source": [
    "#! pip install editdistance\n",
    "#! pip install num2words"
   ]
  },
  {
   "cell_type": "code",
   "execution_count": 3,
   "id": "29f6f2ce",
   "metadata": {
    "ExecuteTime": {
     "end_time": "2024-10-25T11:47:49.091594Z",
     "start_time": "2024-10-25T11:47:43.877891Z"
    },
    "execution": {
     "iopub.execute_input": "2024-10-27T20:13:09.639605Z",
     "iopub.status.busy": "2024-10-27T20:13:09.639605Z",
     "iopub.status.idle": "2024-10-27T20:13:12.311092Z",
     "shell.execute_reply": "2024-10-27T20:13:12.311092Z",
     "shell.execute_reply.started": "2024-10-27T20:13:09.639605Z"
    }
   },
   "outputs": [
    {
     "name": "stderr",
     "output_type": "stream",
     "text": [
      "/var/folders/dn/nd5kb8wx3xs44tlt7kst4n7h0000gn/T/ipykernel_21045/2117565946.py:14: TqdmExperimentalWarning: Using `tqdm.autonotebook.tqdm` in notebook mode. Use `tqdm.tqdm` instead to force console mode (e.g. in jupyter console)\n",
      "  from tqdm.autonotebook import trange, tqdm\n"
     ]
    },
    {
     "data": {
      "text/plain": [
       "device(type='cpu')"
      ]
     },
     "execution_count": 3,
     "metadata": {},
     "output_type": "execute_result"
    }
   ],
   "source": [
    "from scripts.model import device, CharBiLSTM\n",
    "from scripts.data import create_data_loader, load_data\n",
    "from scripts.preprocessing import get_typoglycemia_modified_data, sentence_tokennizer, tokenize_dataframe, get_max_length\n",
    "from scripts.baseline import get_base_line_score\n",
    "\n",
    "from torch import nn, optim\n",
    "import torch\n",
    "\n",
    "from sklearn.model_selection import train_test_split\n",
    "\n",
    "import editdistance\n",
    "#from tqdm import tqdm\n",
    "# from tqdm.notebook import tqdm\n",
    "from tqdm.autonotebook import trange, tqdm\n",
    "import random \n",
    "\n",
    "from sklearn.metrics import f1_score, accuracy_score\n",
    "import numpy as np\n",
    "\n",
    "\n",
    "\n",
    "import pandas as pd\n",
    "import matplotlib.pyplot as plt\n",
    "random.seed(42)\n",
    "torch.manual_seed(42);\n",
    "\n",
    "device"
   ]
  },
  {
   "cell_type": "markdown",
   "id": "52b0678d",
   "metadata": {},
   "source": [
    "# Data"
   ]
  },
  {
   "cell_type": "code",
   "execution_count": 4,
   "id": "3ed6ecfe",
   "metadata": {
    "ExecuteTime": {
     "end_time": "2024-10-25T11:47:52.714529Z",
     "start_time": "2024-10-25T11:47:49.091594Z"
    },
    "execution": {
     "iopub.execute_input": "2024-10-27T20:13:12.312106Z",
     "iopub.status.busy": "2024-10-27T20:13:12.311092Z",
     "iopub.status.idle": "2024-10-27T20:13:13.887345Z",
     "shell.execute_reply": "2024-10-27T20:13:13.886766Z",
     "shell.execute_reply.started": "2024-10-27T20:13:12.312106Z"
    }
   },
   "outputs": [],
   "source": [
    "df_hard = load_data(file_path = \"data/processed/sscorpus_hard.csv\")\n",
    "df_hard = df_hard[(~df_hard['typoglycemia'].isna())]"
   ]
  },
  {
   "cell_type": "code",
   "execution_count": 5,
   "id": "5aac55f0",
   "metadata": {
    "ExecuteTime": {
     "end_time": "2024-10-25T11:47:52.733504Z",
     "start_time": "2024-10-25T11:47:52.714529Z"
    },
    "execution": {
     "iopub.execute_input": "2024-10-27T20:13:13.887345Z",
     "iopub.status.busy": "2024-10-27T20:13:13.887345Z",
     "iopub.status.idle": "2024-10-27T20:13:13.896499Z",
     "shell.execute_reply": "2024-10-27T20:13:13.896499Z",
     "shell.execute_reply.started": "2024-10-27T20:13:13.887345Z"
    }
   },
   "outputs": [
    {
     "data": {
      "text/html": [
       "<div>\n",
       "<style scoped>\n",
       "    .dataframe tbody tr th:only-of-type {\n",
       "        vertical-align: middle;\n",
       "    }\n",
       "\n",
       "    .dataframe tbody tr th {\n",
       "        vertical-align: top;\n",
       "    }\n",
       "\n",
       "    .dataframe thead th {\n",
       "        text-align: right;\n",
       "    }\n",
       "</style>\n",
       "<table border=\"1\" class=\"dataframe\">\n",
       "  <thead>\n",
       "    <tr style=\"text-align: right;\">\n",
       "      <th></th>\n",
       "      <th>Hard</th>\n",
       "      <th>typoglycemia</th>\n",
       "    </tr>\n",
       "  </thead>\n",
       "  <tbody>\n",
       "    <tr>\n",
       "      <th>0</th>\n",
       "      <td>on the Dover Air Force Base</td>\n",
       "      <td>on the Doevr Air Focre Base</td>\n",
       "    </tr>\n",
       "    <tr>\n",
       "      <th>1</th>\n",
       "      <td>in games including Super Smash Bros</td>\n",
       "      <td>in games iulnncidg Seupr Ssmah Bors</td>\n",
       "    </tr>\n",
       "    <tr>\n",
       "      <th>2</th>\n",
       "      <td>Usucha or thin tea is prepared with approximately</td>\n",
       "      <td>Uushca or tihn tea is ppraeerd with aptpxeormialy</td>\n",
       "    </tr>\n",
       "    <tr>\n",
       "      <th>3</th>\n",
       "      <td>grams amounting to</td>\n",
       "      <td>gmars autonimng to</td>\n",
       "    </tr>\n",
       "    <tr>\n",
       "      <th>4</th>\n",
       "      <td>heaping chashaku scoop or about half a teaspoo...</td>\n",
       "      <td>hanpeig cahahksu socop or aoubt half a toepsoa...</td>\n",
       "    </tr>\n",
       "    <tr>\n",
       "      <th>...</th>\n",
       "      <td>...</td>\n",
       "      <td>...</td>\n",
       "    </tr>\n",
       "    <tr>\n",
       "      <th>324667</th>\n",
       "      <td>He was elected to Rajya Sabha in</td>\n",
       "      <td>He was eeelctd to Rajya Sbhaa in</td>\n",
       "    </tr>\n",
       "    <tr>\n",
       "      <th>324668</th>\n",
       "      <td>The expression is not a polynomial because it ...</td>\n",
       "      <td>The eosrsxepin is not a pnoimalyol bceasue it ...</td>\n",
       "    </tr>\n",
       "    <tr>\n",
       "      <th>324669</th>\n",
       "      <td>Ithaca is in the rural Finger Lakes region abo...</td>\n",
       "      <td>Ithaca is in the rraul Fgneir Leaks rogien aou...</td>\n",
       "    </tr>\n",
       "    <tr>\n",
       "      <th>324670</th>\n",
       "      <td>The number of domino tilings of a checkerboard is</td>\n",
       "      <td>The numebr of dniomo tnigils of a cceraoekrbhd is</td>\n",
       "    </tr>\n",
       "    <tr>\n",
       "      <th>324671</th>\n",
       "      <td>Apple snails include species that are the bigg...</td>\n",
       "      <td>Apple silnas ilcnude sceipes taht are the bges...</td>\n",
       "    </tr>\n",
       "  </tbody>\n",
       "</table>\n",
       "<p>324672 rows × 2 columns</p>\n",
       "</div>"
      ],
      "text/plain": [
       "                                                     Hard  \\\n",
       "0                             on the Dover Air Force Base   \n",
       "1                     in games including Super Smash Bros   \n",
       "2       Usucha or thin tea is prepared with approximately   \n",
       "3                                      grams amounting to   \n",
       "4       heaping chashaku scoop or about half a teaspoo...   \n",
       "...                                                   ...   \n",
       "324667                   He was elected to Rajya Sabha in   \n",
       "324668  The expression is not a polynomial because it ...   \n",
       "324669  Ithaca is in the rural Finger Lakes region abo...   \n",
       "324670  The number of domino tilings of a checkerboard is   \n",
       "324671  Apple snails include species that are the bigg...   \n",
       "\n",
       "                                             typoglycemia  \n",
       "0                             on the Doevr Air Focre Base  \n",
       "1                     in games iulnncidg Seupr Ssmah Bors  \n",
       "2       Uushca or tihn tea is ppraeerd with aptpxeormialy  \n",
       "3                                      gmars autonimng to  \n",
       "4       hanpeig cahahksu socop or aoubt half a toepsoa...  \n",
       "...                                                   ...  \n",
       "324667                   He was eeelctd to Rajya Sbhaa in  \n",
       "324668  The eosrsxepin is not a pnoimalyol bceasue it ...  \n",
       "324669  Ithaca is in the rraul Fgneir Leaks rogien aou...  \n",
       "324670  The numebr of dniomo tnigils of a cceraoekrbhd is  \n",
       "324671  Apple silnas ilcnude sceipes taht are the bges...  \n",
       "\n",
       "[324672 rows x 2 columns]"
      ]
     },
     "execution_count": 5,
     "metadata": {},
     "output_type": "execute_result"
    }
   ],
   "source": [
    "df_hard"
   ]
  },
  {
   "cell_type": "markdown",
   "id": "3cba319a",
   "metadata": {},
   "source": [
    "## Splitting data into train, val, test"
   ]
  },
  {
   "cell_type": "code",
   "execution_count": 6,
   "id": "61b52710",
   "metadata": {
    "ExecuteTime": {
     "end_time": "2024-10-25T11:47:52.964768Z",
     "start_time": "2024-10-25T11:47:52.733504Z"
    },
    "execution": {
     "iopub.execute_input": "2024-10-27T20:13:13.897509Z",
     "iopub.status.busy": "2024-10-27T20:13:13.897509Z",
     "iopub.status.idle": "2024-10-27T20:13:14.009313Z",
     "shell.execute_reply": "2024-10-27T20:13:14.009313Z",
     "shell.execute_reply.started": "2024-10-27T20:13:13.897509Z"
    }
   },
   "outputs": [],
   "source": [
    "dev, test = train_test_split(df_hard, test_size=0.2)\n",
    "train, validation = train_test_split(dev, test_size=0.2)"
   ]
  },
  {
   "cell_type": "markdown",
   "id": "1e28c86d",
   "metadata": {},
   "source": [
    "## Baseline dev"
   ]
  },
  {
   "cell_type": "code",
   "execution_count": 7,
   "id": "c856a6c7",
   "metadata": {
    "ExecuteTime": {
     "end_time": "2024-10-25T11:47:59.251992Z",
     "start_time": "2024-10-25T11:47:52.964768Z"
    },
    "execution": {
     "iopub.execute_input": "2024-10-27T20:13:14.011333Z",
     "iopub.status.busy": "2024-10-27T20:13:14.010334Z",
     "iopub.status.idle": "2024-10-27T20:13:16.636596Z",
     "shell.execute_reply": "2024-10-27T20:13:16.636596Z",
     "shell.execute_reply.started": "2024-10-27T20:13:14.011333Z"
    }
   },
   "outputs": [
    {
     "ename": "KeyError",
     "evalue": "'Easy'",
     "output_type": "error",
     "traceback": [
      "\u001b[0;31m---------------------------------------------------------------------------\u001b[0m",
      "\u001b[0;31mKeyError\u001b[0m                                  Traceback (most recent call last)",
      "File \u001b[0;32m~/anaconda3/envs/ML/lib/python3.10/site-packages/pandas/core/indexes/base.py:3802\u001b[0m, in \u001b[0;36mIndex.get_loc\u001b[0;34m(self, key, method, tolerance)\u001b[0m\n\u001b[1;32m   3801\u001b[0m \u001b[38;5;28;01mtry\u001b[39;00m:\n\u001b[0;32m-> 3802\u001b[0m     \u001b[38;5;28;01mreturn\u001b[39;00m \u001b[38;5;28;43mself\u001b[39;49m\u001b[38;5;241;43m.\u001b[39;49m\u001b[43m_engine\u001b[49m\u001b[38;5;241;43m.\u001b[39;49m\u001b[43mget_loc\u001b[49m\u001b[43m(\u001b[49m\u001b[43mcasted_key\u001b[49m\u001b[43m)\u001b[49m\n\u001b[1;32m   3803\u001b[0m \u001b[38;5;28;01mexcept\u001b[39;00m \u001b[38;5;167;01mKeyError\u001b[39;00m \u001b[38;5;28;01mas\u001b[39;00m err:\n",
      "File \u001b[0;32m~/anaconda3/envs/ML/lib/python3.10/site-packages/pandas/_libs/index.pyx:138\u001b[0m, in \u001b[0;36mpandas._libs.index.IndexEngine.get_loc\u001b[0;34m()\u001b[0m\n",
      "File \u001b[0;32m~/anaconda3/envs/ML/lib/python3.10/site-packages/pandas/_libs/index.pyx:165\u001b[0m, in \u001b[0;36mpandas._libs.index.IndexEngine.get_loc\u001b[0;34m()\u001b[0m\n",
      "File \u001b[0;32mpandas/_libs/hashtable_class_helper.pxi:5745\u001b[0m, in \u001b[0;36mpandas._libs.hashtable.PyObjectHashTable.get_item\u001b[0;34m()\u001b[0m\n",
      "File \u001b[0;32mpandas/_libs/hashtable_class_helper.pxi:5753\u001b[0m, in \u001b[0;36mpandas._libs.hashtable.PyObjectHashTable.get_item\u001b[0;34m()\u001b[0m\n",
      "\u001b[0;31mKeyError\u001b[0m: 'Easy'",
      "\nThe above exception was the direct cause of the following exception:\n",
      "\u001b[0;31mKeyError\u001b[0m                                  Traceback (most recent call last)",
      "Cell \u001b[0;32mIn[7], line 1\u001b[0m\n\u001b[0;32m----> 1\u001b[0m \u001b[43mget_base_line_score\u001b[49m\u001b[43m(\u001b[49m\u001b[43mtrain\u001b[49m\u001b[43m \u001b[49m\u001b[38;5;241;43m=\u001b[39;49m\u001b[43m \u001b[49m\u001b[43mtrain\u001b[49m\u001b[43m,\u001b[49m\u001b[43m \u001b[49m\u001b[43mtest\u001b[49m\u001b[43m \u001b[49m\u001b[38;5;241;43m=\u001b[39;49m\u001b[43m \u001b[49m\u001b[43mtest\u001b[49m\u001b[43m,\u001b[49m\u001b[43m \u001b[49m\u001b[38;5;28;43mtype\u001b[39;49m\u001b[43m \u001b[49m\u001b[38;5;241;43m=\u001b[39;49m\u001b[43m \u001b[49m\u001b[38;5;124;43m'\u001b[39;49m\u001b[38;5;124;43mEasy\u001b[39;49m\u001b[38;5;124;43m'\u001b[39;49m\u001b[43m)\u001b[49m\n",
      "File \u001b[0;32m~/Documents/GitHub/ANLP-Project/scripts/baseline.py:103\u001b[0m, in \u001b[0;36mget_base_line_score\u001b[0;34m(train, test, type)\u001b[0m\n\u001b[1;32m    100\u001b[0m \u001b[38;5;28;01mdef\u001b[39;00m \u001b[38;5;21mget_base_line_score\u001b[39m(train: pd\u001b[38;5;241m.\u001b[39mDataFrame, test: pd\u001b[38;5;241m.\u001b[39mDataFrame, \u001b[38;5;28mtype\u001b[39m: \u001b[38;5;28mstr\u001b[39m) \u001b[38;5;241m-\u001b[39m\u001b[38;5;241m>\u001b[39m \u001b[38;5;28;01mNone\u001b[39;00m:\n\u001b[1;32m    101\u001b[0m     \u001b[38;5;66;03m#Get stats\u001b[39;00m\n\u001b[1;32m    102\u001b[0m     word_list \u001b[38;5;241m=\u001b[39m []\n\u001b[0;32m--> 103\u001b[0m     \u001b[38;5;28;01mfor\u001b[39;00m sen \u001b[38;5;129;01min\u001b[39;00m \u001b[43mtrain\u001b[49m\u001b[43m[\u001b[49m\u001b[38;5;28;43mtype\u001b[39;49m\u001b[43m]\u001b[49m\u001b[38;5;241m.\u001b[39mto_list():\n\u001b[1;32m    104\u001b[0m         word_list \u001b[38;5;241m+\u001b[39m\u001b[38;5;241m=\u001b[39m sentence_tokennizer(sen)\n\u001b[1;32m    105\u001b[0m     fre_dict \u001b[38;5;241m=\u001b[39m create_frequent_dict(word_list)\n",
      "File \u001b[0;32m~/anaconda3/envs/ML/lib/python3.10/site-packages/pandas/core/frame.py:3807\u001b[0m, in \u001b[0;36mDataFrame.__getitem__\u001b[0;34m(self, key)\u001b[0m\n\u001b[1;32m   3805\u001b[0m \u001b[38;5;28;01mif\u001b[39;00m \u001b[38;5;28mself\u001b[39m\u001b[38;5;241m.\u001b[39mcolumns\u001b[38;5;241m.\u001b[39mnlevels \u001b[38;5;241m>\u001b[39m \u001b[38;5;241m1\u001b[39m:\n\u001b[1;32m   3806\u001b[0m     \u001b[38;5;28;01mreturn\u001b[39;00m \u001b[38;5;28mself\u001b[39m\u001b[38;5;241m.\u001b[39m_getitem_multilevel(key)\n\u001b[0;32m-> 3807\u001b[0m indexer \u001b[38;5;241m=\u001b[39m \u001b[38;5;28;43mself\u001b[39;49m\u001b[38;5;241;43m.\u001b[39;49m\u001b[43mcolumns\u001b[49m\u001b[38;5;241;43m.\u001b[39;49m\u001b[43mget_loc\u001b[49m\u001b[43m(\u001b[49m\u001b[43mkey\u001b[49m\u001b[43m)\u001b[49m\n\u001b[1;32m   3808\u001b[0m \u001b[38;5;28;01mif\u001b[39;00m is_integer(indexer):\n\u001b[1;32m   3809\u001b[0m     indexer \u001b[38;5;241m=\u001b[39m [indexer]\n",
      "File \u001b[0;32m~/anaconda3/envs/ML/lib/python3.10/site-packages/pandas/core/indexes/base.py:3804\u001b[0m, in \u001b[0;36mIndex.get_loc\u001b[0;34m(self, key, method, tolerance)\u001b[0m\n\u001b[1;32m   3802\u001b[0m     \u001b[38;5;28;01mreturn\u001b[39;00m \u001b[38;5;28mself\u001b[39m\u001b[38;5;241m.\u001b[39m_engine\u001b[38;5;241m.\u001b[39mget_loc(casted_key)\n\u001b[1;32m   3803\u001b[0m \u001b[38;5;28;01mexcept\u001b[39;00m \u001b[38;5;167;01mKeyError\u001b[39;00m \u001b[38;5;28;01mas\u001b[39;00m err:\n\u001b[0;32m-> 3804\u001b[0m     \u001b[38;5;28;01mraise\u001b[39;00m \u001b[38;5;167;01mKeyError\u001b[39;00m(key) \u001b[38;5;28;01mfrom\u001b[39;00m \u001b[38;5;21;01merr\u001b[39;00m\n\u001b[1;32m   3805\u001b[0m \u001b[38;5;28;01mexcept\u001b[39;00m \u001b[38;5;167;01mTypeError\u001b[39;00m:\n\u001b[1;32m   3806\u001b[0m     \u001b[38;5;66;03m# If we have a listlike key, _check_indexing_error will raise\u001b[39;00m\n\u001b[1;32m   3807\u001b[0m     \u001b[38;5;66;03m#  InvalidIndexError. Otherwise we fall through and re-raise\u001b[39;00m\n\u001b[1;32m   3808\u001b[0m     \u001b[38;5;66;03m#  the TypeError.\u001b[39;00m\n\u001b[1;32m   3809\u001b[0m     \u001b[38;5;28mself\u001b[39m\u001b[38;5;241m.\u001b[39m_check_indexing_error(key)\n",
      "\u001b[0;31mKeyError\u001b[0m: 'Easy'"
     ]
    }
   ],
   "source": [
    "get_base_line_score(train = train, test = test, type = 'Easy')"
   ]
  },
  {
   "cell_type": "code",
   "execution_count": 7,
   "id": "34e1e7fa",
   "metadata": {
    "ExecuteTime": {
     "end_time": "2024-10-25T11:48:08.571849Z",
     "start_time": "2024-10-25T11:47:59.251992Z"
    },
    "execution": {
     "iopub.execute_input": "2024-10-27T20:13:16.637595Z",
     "iopub.status.busy": "2024-10-27T20:13:16.637595Z",
     "iopub.status.idle": "2024-10-27T20:13:20.420463Z",
     "shell.execute_reply": "2024-10-27T20:13:20.420463Z",
     "shell.execute_reply.started": "2024-10-27T20:13:16.637595Z"
    }
   },
   "outputs": [
    {
     "name": "stdout",
     "output_type": "stream",
     "text": [
      "The base line has a mean editdistance of 0.299 pr. sentence, and 0.299 pr. word\n"
     ]
    }
   ],
   "source": [
    "get_base_line_score(train = train, test = test, type = 'Hard')"
   ]
  },
  {
   "cell_type": "markdown",
   "id": "e7d6bd21",
   "metadata": {},
   "source": [
    "## Getting dataloaders"
   ]
  },
  {
   "cell_type": "code",
   "execution_count": 8,
   "id": "ad37e7c4",
   "metadata": {
    "ExecuteTime": {
     "end_time": "2024-10-25T11:48:08.578386Z",
     "start_time": "2024-10-25T11:48:08.573898Z"
    },
    "execution": {
     "iopub.execute_input": "2024-10-27T20:13:20.421462Z",
     "iopub.status.busy": "2024-10-27T20:13:20.421462Z",
     "iopub.status.idle": "2024-10-27T20:13:20.423832Z",
     "shell.execute_reply": "2024-10-27T20:13:20.423832Z",
     "shell.execute_reply.started": "2024-10-27T20:13:20.421462Z"
    }
   },
   "outputs": [],
   "source": [
    "complexity_level = \"Hard\""
   ]
  },
  {
   "cell_type": "code",
   "execution_count": null,
   "id": "bec97a02-53ba-406d-ab25-0175c41dccb2",
   "metadata": {
    "execution": {
     "iopub.execute_input": "2024-10-27T20:13:20.424831Z",
     "iopub.status.busy": "2024-10-27T20:13:20.424831Z",
     "iopub.status.idle": "2024-10-27T20:13:23.104197Z",
     "shell.execute_reply": "2024-10-27T20:13:23.104197Z",
     "shell.execute_reply.started": "2024-10-27T20:13:20.424831Z"
    }
   },
   "outputs": [
    {
     "data": {
      "text/html": [
       "<div>\n",
       "<style scoped>\n",
       "    .dataframe tbody tr th:only-of-type {\n",
       "        vertical-align: middle;\n",
       "    }\n",
       "\n",
       "    .dataframe tbody tr th {\n",
       "        vertical-align: top;\n",
       "    }\n",
       "\n",
       "    .dataframe thead th {\n",
       "        text-align: right;\n",
       "    }\n",
       "</style>\n",
       "<table border=\"1\" class=\"dataframe\">\n",
       "  <thead>\n",
       "    <tr style=\"text-align: right;\">\n",
       "      <th></th>\n",
       "      <th>Hard</th>\n",
       "      <th>typoglycemia</th>\n",
       "    </tr>\n",
       "  </thead>\n",
       "  <tbody>\n",
       "    <tr>\n",
       "      <th>235963</th>\n",
       "      <td>it also has radioisotopes of which the longest...</td>\n",
       "      <td>it aslo has ritaoospiedos of wihch the lgtnoel...</td>\n",
       "    </tr>\n",
       "    <tr>\n",
       "      <th>68847</th>\n",
       "      <td>he worked for the bbc until on programmes incl...</td>\n",
       "      <td>he wreokd for the bbc until on pmmgreoars ilni...</td>\n",
       "    </tr>\n",
       "    <tr>\n",
       "      <th>176221</th>\n",
       "      <td>in hamlin ran his first full season in the nas...</td>\n",
       "      <td>in hlaimn ran his fsirt full seoasn in the nsa...</td>\n",
       "    </tr>\n",
       "    <tr>\n",
       "      <th>232147</th>\n",
       "      <td>he is perhaps best known for his role as paris...</td>\n",
       "      <td>he is pperhas best knwon for his role as prais...</td>\n",
       "    </tr>\n",
       "    <tr>\n",
       "      <th>146469</th>\n",
       "      <td>on december ian brown and john squire performe...</td>\n",
       "      <td>on debecemr ian brwon and jhon sriuqe prereomf...</td>\n",
       "    </tr>\n",
       "    <tr>\n",
       "      <th>...</th>\n",
       "      <td>...</td>\n",
       "      <td>...</td>\n",
       "    </tr>\n",
       "    <tr>\n",
       "      <th>211178</th>\n",
       "      <td>in the area s name bori means sack and bandar ...</td>\n",
       "      <td>in the aera s name bori means sack and badnar ...</td>\n",
       "    </tr>\n",
       "    <tr>\n",
       "      <th>1497</th>\n",
       "      <td>she became an adjunct instructor of political ...</td>\n",
       "      <td>she bmeace an adncjut itrtocnusr of pitcloial ...</td>\n",
       "    </tr>\n",
       "    <tr>\n",
       "      <th>125803</th>\n",
       "      <td>sdertlje is a city and the seat of sdertlje mu...</td>\n",
       "      <td>serltdje is a city and the saet of sdljrtee mt...</td>\n",
       "    </tr>\n",
       "    <tr>\n",
       "      <th>68116</th>\n",
       "      <td>in mexico a secretary of state is a member of ...</td>\n",
       "      <td>in meicxo a sceterray of state is a mbmeer of ...</td>\n",
       "    </tr>\n",
       "    <tr>\n",
       "      <th>211642</th>\n",
       "      <td>after traveling rapidly towards the north the ...</td>\n",
       "      <td>aetfr tenlraivg rpidlay toawrds the ntroh the ...</td>\n",
       "    </tr>\n",
       "  </tbody>\n",
       "</table>\n",
       "<p>207789 rows × 2 columns</p>\n",
       "</div>"
      ],
      "text/plain": [
       "                                                     Hard  \\\n",
       "235963  it also has radioisotopes of which the longest...   \n",
       "68847   he worked for the bbc until on programmes incl...   \n",
       "176221  in hamlin ran his first full season in the nas...   \n",
       "232147  he is perhaps best known for his role as paris...   \n",
       "146469  on december ian brown and john squire performe...   \n",
       "...                                                   ...   \n",
       "211178  in the area s name bori means sack and bandar ...   \n",
       "1497    she became an adjunct instructor of political ...   \n",
       "125803  sdertlje is a city and the seat of sdertlje mu...   \n",
       "68116   in mexico a secretary of state is a member of ...   \n",
       "211642  after traveling rapidly towards the north the ...   \n",
       "\n",
       "                                             typoglycemia  \n",
       "235963  it aslo has ritaoospiedos of wihch the lgtnoel...  \n",
       "68847   he wreokd for the bbc until on pmmgreoars ilni...  \n",
       "176221  in hlaimn ran his fsirt full seoasn in the nsa...  \n",
       "232147  he is pperhas best knwon for his role as prais...  \n",
       "146469  on debecemr ian brwon and jhon sriuqe prereomf...  \n",
       "...                                                   ...  \n",
       "211178  in the aera s name bori means sack and badnar ...  \n",
       "1497    she bmeace an adncjut itrtocnusr of pitcloial ...  \n",
       "125803  serltdje is a city and the saet of sdljrtee mt...  \n",
       "68116   in meicxo a sceterray of state is a mbmeer of ...  \n",
       "211642  aetfr tenlraivg rpidlay toawrds the ntroh the ...  \n",
       "\n",
       "[207789 rows x 2 columns]"
      ]
     },
     "execution_count": 22,
     "metadata": {},
     "output_type": "execute_result"
    }
   ],
   "source": [
    "#train = tokenize_dataframe(train, complexity_level)\n",
    "#validation = tokenize_dataframe(validation, complexity_level)\n",
    "#test = tokenize_dataframe(test, complexity_level)\n",
    "#train"
   ]
  },
  {
   "cell_type": "code",
   "execution_count": 10,
   "id": "821d7c7a-113f-4347-86eb-62eaeef0839c",
   "metadata": {
    "execution": {
     "iopub.execute_input": "2024-10-27T20:13:23.105195Z",
     "iopub.status.busy": "2024-10-27T20:13:23.105195Z",
     "iopub.status.idle": "2024-10-27T20:13:23.269568Z",
     "shell.execute_reply": "2024-10-27T20:13:23.269568Z",
     "shell.execute_reply.started": "2024-10-27T20:13:23.105195Z"
    }
   },
   "outputs": [
    {
     "data": {
      "text/plain": [
       "27"
      ]
     },
     "execution_count": 10,
     "metadata": {},
     "output_type": "execute_result"
    }
   ],
   "source": [
    "combined_text = ' '.join(train[\"typoglycemia\"])\n",
    "unique_characters = set(combined_text)\n",
    "vocabulary_size = len(unique_characters)\n",
    "vocabulary_size"
   ]
  },
  {
   "cell_type": "code",
   "execution_count": 11,
   "id": "0a3d397c-cc62-4bdd-88f1-b26d2099cd4c",
   "metadata": {
    "execution": {
     "iopub.execute_input": "2024-10-27T20:13:23.270585Z",
     "iopub.status.busy": "2024-10-27T20:13:23.270585Z",
     "iopub.status.idle": "2024-10-27T20:13:26.486351Z",
     "shell.execute_reply": "2024-10-27T20:13:26.486351Z",
     "shell.execute_reply.started": "2024-10-27T20:13:23.270585Z"
    }
   },
   "outputs": [
    {
     "name": "stdout",
     "output_type": "stream",
     "text": [
      "Five-number summary: Min: 9, Q1: 70.0, Median: 105.0, Q3: 150.0, Max: 1249\n",
      "Mean: 116.58560366525658, Std Dev: 64.1532112660359\n"
     ]
    },
    {
     "data": {
      "image/png": "[encoded data removed]",
      "text/plain": [
       "<Figure size 1000x600 with 1 Axes>"
      ]
     },
     "metadata": {},
     "output_type": "display_data"
    },
    {
     "name": "stdout",
     "output_type": "stream",
     "text": [
      "Five-number summary: Min: 9, Q1: 70.0, Median: 106.0, Q3: 151.0, Max: 901\n",
      "Mean: 117.05865480865481, Std Dev: 64.90465974719932\n"
     ]
    },
    {
     "data": {
      "image/png": "[encoded data removed]",
      "text/plain": [
       "<Figure size 1000x600 with 1 Axes>"
      ]
     },
     "metadata": {},
     "output_type": "display_data"
    },
    {
     "name": "stdout",
     "output_type": "stream",
     "text": [
      "Five-number summary: Min: 9, Q1: 70.0, Median: 106.0, Q3: 151.0, Max: 892\n",
      "Mean: 116.97509817509818, Std Dev: 64.55046131616432\n"
     ]
    },
    {
     "data": {
      "image/png": "[encoded data removed]",
      "text/plain": [
       "<Figure size 1000x600 with 1 Axes>"
      ]
     },
     "metadata": {},
     "output_type": "display_data"
    }
   ],
   "source": [
    "max_length_train = get_max_length(train, complexity_level)\n",
    "max_length_validation = get_max_length(validation, complexity_level)\n",
    "max_length_test = get_max_length(test, complexity_level)"
   ]
  },
  {
   "cell_type": "code",
   "execution_count": 12,
   "id": "80a1a085",
   "metadata": {
    "ExecuteTime": {
     "end_time": "2024-10-25T11:48:15.290219Z",
     "start_time": "2024-10-25T11:48:15.015764Z"
    },
    "execution": {
     "iopub.execute_input": "2024-10-27T20:13:26.487401Z",
     "iopub.status.busy": "2024-10-27T20:13:26.487401Z",
     "iopub.status.idle": "2024-10-27T20:13:26.491082Z",
     "shell.execute_reply": "2024-10-27T20:13:26.491082Z",
     "shell.execute_reply.started": "2024-10-27T20:13:26.487401Z"
    }
   },
   "outputs": [
    {
     "data": {
      "text/plain": [
       "300"
      ]
     },
     "execution_count": 12,
     "metadata": {},
     "output_type": "execute_result"
    }
   ],
   "source": [
    "max_length = max([max_length_train, max_length_validation, max_length_test])\n",
    "max_length=300\n",
    "max_length"
   ]
  },
  {
   "cell_type": "code",
   "execution_count": 13,
   "id": "df42bdff-acfc-4d91-8bf8-5bf3f198f639",
   "metadata": {
    "execution": {
     "iopub.execute_input": "2024-10-27T20:13:26.492082Z",
     "iopub.status.busy": "2024-10-27T20:13:26.492082Z",
     "iopub.status.idle": "2024-10-27T20:13:26.668020Z",
     "shell.execute_reply": "2024-10-27T20:13:26.668020Z",
     "shell.execute_reply.started": "2024-10-27T20:13:26.492082Z"
    }
   },
   "outputs": [
    {
     "data": {
      "text/plain": [
       "0          27\n",
       "1          35\n",
       "2          49\n",
       "3          18\n",
       "4          78\n",
       "         ... \n",
       "324667     32\n",
       "324668     91\n",
       "324669    223\n",
       "324670     49\n",
       "324671     83\n",
       "Length: 649344, dtype: int64"
      ]
     },
     "execution_count": 13,
     "metadata": {},
     "output_type": "execute_result"
    }
   ],
   "source": [
    "all_sentences = pd.concat([df_hard[complexity_level], df_hard['typoglycemia']])\n",
    "lengths = all_sentences.str.len()\n",
    "lengths"
   ]
  },
  {
   "cell_type": "code",
   "execution_count": 14,
   "id": "0adf123e-dd4f-457e-8246-9ae93ff2992e",
   "metadata": {
    "execution": {
     "iopub.execute_input": "2024-10-27T20:13:26.668020Z",
     "iopub.status.busy": "2024-10-27T20:13:26.668020Z",
     "iopub.status.idle": "2024-10-27T20:13:26.670714Z",
     "shell.execute_reply": "2024-10-27T20:13:26.670714Z",
     "shell.execute_reply.started": "2024-10-27T20:13:26.668020Z"
    }
   },
   "outputs": [],
   "source": [
    "batch_size = 2**8\n",
    "# batch_size = 2"
   ]
  },
  {
   "cell_type": "code",
   "execution_count": 20,
   "id": "31de27bf",
   "metadata": {},
   "outputs": [
    {
     "data": {
      "text/html": [
       "<div>\n",
       "<style scoped>\n",
       "    .dataframe tbody tr th:only-of-type {\n",
       "        vertical-align: middle;\n",
       "    }\n",
       "\n",
       "    .dataframe tbody tr th {\n",
       "        vertical-align: top;\n",
       "    }\n",
       "\n",
       "    .dataframe thead th {\n",
       "        text-align: right;\n",
       "    }\n",
       "</style>\n",
       "<table border=\"1\" class=\"dataframe\">\n",
       "  <thead>\n",
       "    <tr style=\"text-align: right;\">\n",
       "      <th></th>\n",
       "      <th>Hard</th>\n",
       "      <th>typoglycemia</th>\n",
       "    </tr>\n",
       "  </thead>\n",
       "  <tbody>\n",
       "    <tr>\n",
       "      <th>235963</th>\n",
       "      <td>it also has radioisotopes of which the longest...</td>\n",
       "      <td>it aslo has ritaoospiedos of wihch the lgtnoel...</td>\n",
       "    </tr>\n",
       "    <tr>\n",
       "      <th>68847</th>\n",
       "      <td>he worked for the bbc until on programmes incl...</td>\n",
       "      <td>he wreokd for the bbc until on pmmgreoars ilni...</td>\n",
       "    </tr>\n",
       "    <tr>\n",
       "      <th>176221</th>\n",
       "      <td>in hamlin ran his first full season in the nas...</td>\n",
       "      <td>in hlaimn ran his fsirt full seoasn in the nsa...</td>\n",
       "    </tr>\n",
       "    <tr>\n",
       "      <th>232147</th>\n",
       "      <td>he is perhaps best known for his role as paris...</td>\n",
       "      <td>he is pperhas best knwon for his role as prais...</td>\n",
       "    </tr>\n",
       "    <tr>\n",
       "      <th>146469</th>\n",
       "      <td>on december ian brown and john squire performe...</td>\n",
       "      <td>on debecemr ian brwon and jhon sriuqe prereomf...</td>\n",
       "    </tr>\n",
       "    <tr>\n",
       "      <th>...</th>\n",
       "      <td>...</td>\n",
       "      <td>...</td>\n",
       "    </tr>\n",
       "    <tr>\n",
       "      <th>211178</th>\n",
       "      <td>in the area s name bori means sack and bandar ...</td>\n",
       "      <td>in the aera s name bori means sack and badnar ...</td>\n",
       "    </tr>\n",
       "    <tr>\n",
       "      <th>1497</th>\n",
       "      <td>she became an adjunct instructor of political ...</td>\n",
       "      <td>she bmeace an adncjut itrtocnusr of pitcloial ...</td>\n",
       "    </tr>\n",
       "    <tr>\n",
       "      <th>125803</th>\n",
       "      <td>sdertlje is a city and the seat of sdertlje mu...</td>\n",
       "      <td>serltdje is a city and the saet of sdljrtee mt...</td>\n",
       "    </tr>\n",
       "    <tr>\n",
       "      <th>68116</th>\n",
       "      <td>in mexico a secretary of state is a member of ...</td>\n",
       "      <td>in meicxo a sceterray of state is a mbmeer of ...</td>\n",
       "    </tr>\n",
       "    <tr>\n",
       "      <th>211642</th>\n",
       "      <td>after traveling rapidly towards the north the ...</td>\n",
       "      <td>aetfr tenlraivg rpidlay toawrds the ntroh the ...</td>\n",
       "    </tr>\n",
       "  </tbody>\n",
       "</table>\n",
       "<p>207789 rows × 2 columns</p>\n",
       "</div>"
      ],
      "text/plain": [
       "                                                     Hard  \\\n",
       "235963  it also has radioisotopes of which the longest...   \n",
       "68847   he worked for the bbc until on programmes incl...   \n",
       "176221  in hamlin ran his first full season in the nas...   \n",
       "232147  he is perhaps best known for his role as paris...   \n",
       "146469  on december ian brown and john squire performe...   \n",
       "...                                                   ...   \n",
       "211178  in the area s name bori means sack and bandar ...   \n",
       "1497    she became an adjunct instructor of political ...   \n",
       "125803  sdertlje is a city and the seat of sdertlje mu...   \n",
       "68116   in mexico a secretary of state is a member of ...   \n",
       "211642  after traveling rapidly towards the north the ...   \n",
       "\n",
       "                                             typoglycemia  \n",
       "235963  it aslo has ritaoospiedos of wihch the lgtnoel...  \n",
       "68847   he wreokd for the bbc until on pmmgreoars ilni...  \n",
       "176221  in hlaimn ran his fsirt full seoasn in the nsa...  \n",
       "232147  he is pperhas best knwon for his role as prais...  \n",
       "146469  on debecemr ian brwon and jhon sriuqe prereomf...  \n",
       "...                                                   ...  \n",
       "211178  in the aera s name bori means sack and badnar ...  \n",
       "1497    she bmeace an adncjut itrtocnusr of pitcloial ...  \n",
       "125803  serltdje is a city and the saet of sdljrtee mt...  \n",
       "68116   in meicxo a sceterray of state is a mbmeer of ...  \n",
       "211642  aetfr tenlraivg rpidlay toawrds the ntroh the ...  \n",
       "\n",
       "[207789 rows x 2 columns]"
      ]
     },
     "execution_count": 20,
     "metadata": {},
     "output_type": "execute_result"
    }
   ],
   "source": [
    "train"
   ]
  },
  {
   "cell_type": "code",
   "execution_count": 15,
   "id": "ae883648",
   "metadata": {
    "ExecuteTime": {
     "end_time": "2024-10-25T11:48:58.639125Z",
     "start_time": "2024-10-25T11:48:15.290756Z"
    },
    "execution": {
     "iopub.execute_input": "2024-10-27T20:13:26.671715Z",
     "iopub.status.busy": "2024-10-27T20:13:26.670714Z",
     "iopub.status.idle": "2024-10-27T20:13:47.231675Z",
     "shell.execute_reply": "2024-10-27T20:13:47.231675Z",
     "shell.execute_reply.started": "2024-10-27T20:13:26.671715Z"
    }
   },
   "outputs": [],
   "source": [
    "train_loader = create_data_loader(train, complexity=complexity_level, max_length=max_length, batch_size=batch_size) # TODO \n",
    "validation_loader = create_data_loader(validation, complexity=complexity_level, max_length=max_length, batch_size=batch_size) # TODO \n",
    "test_loader = create_data_loader(test, complexity=complexity_level, max_length=max_length, batch_size=batch_size) # TODO "
   ]
  },
  {
   "cell_type": "code",
   "execution_count": 16,
   "id": "1812337b-b373-4700-a21b-a3dfc0ac3c50",
   "metadata": {
    "execution": {
     "iopub.execute_input": "2024-10-27T20:13:47.232674Z",
     "iopub.status.busy": "2024-10-27T20:13:47.232674Z",
     "iopub.status.idle": "2024-10-27T20:13:47.263869Z",
     "shell.execute_reply": "2024-10-27T20:13:47.263869Z",
     "shell.execute_reply.started": "2024-10-27T20:13:47.232674Z"
    }
   },
   "outputs": [
    {
     "name": "stdout",
     "output_type": "stream",
     "text": [
      "torch.Size([256, 300]) torch.Size([256, 300])\n",
      "(array([-1,  1,  2,  3,  4,  5,  6,  7,  8,  9, 10, 11, 12, 13, 14, 15, 16,\n",
      "       17, 18, 19, 20, 21, 22, 23, 24, 25, 26]), array([46846,  2256,   423,   839,   993,  2898,   590,   489,  1191,\n",
      "        1932,    75,   186,  1044,   599,  1996,  1839,   518,    33,\n",
      "        1658,  1664,  2037,   656,   238,   442,    38,   402,  4918]))\n"
     ]
    }
   ],
   "source": [
    "for sample in train_loader:\n",
    "    X, y = sample\n",
    "    print(X.shape, y.shape)\n",
    "    print(np.unique(y.cpu(), return_counts=True))\n",
    "    break"
   ]
  },
  {
   "cell_type": "code",
   "execution_count": 17,
   "id": "74887dcc",
   "metadata": {},
   "outputs": [
    {
     "data": {
      "text/plain": [
       "1"
      ]
     },
     "execution_count": 17,
     "metadata": {},
     "output_type": "execute_result"
    }
   ],
   "source": [
    "ord('a') - ord('a') + 1"
   ]
  },
  {
   "cell_type": "markdown",
   "id": "22f7af09",
   "metadata": {},
   "source": [
    "# Model  (Not finished just a template)"
   ]
  },
  {
   "cell_type": "code",
   "execution_count": 23,
   "id": "0bd225c7",
   "metadata": {},
   "outputs": [
    {
     "data": {
      "text/plain": [
       "27"
      ]
     },
     "execution_count": 23,
     "metadata": {},
     "output_type": "execute_result"
    }
   ],
   "source": [
    "vocabulary_size"
   ]
  },
  {
   "cell_type": "code",
   "execution_count": 18,
   "id": "d9acefe3",
   "metadata": {
    "ExecuteTime": {
     "end_time": "2024-10-25T11:49:00.689509Z",
     "start_time": "2024-10-25T11:48:58.646238Z"
    },
    "execution": {
     "iopub.execute_input": "2024-10-27T20:13:47.264869Z",
     "iopub.status.busy": "2024-10-27T20:13:47.264869Z",
     "iopub.status.idle": "2024-10-27T20:13:47.879811Z",
     "shell.execute_reply": "2024-10-27T20:13:47.879811Z",
     "shell.execute_reply.started": "2024-10-27T20:13:47.264869Z"
    }
   },
   "outputs": [],
   "source": [
    "input_size = vocabulary_size \n",
    "input_size = 1  # Uses the raw index in alphabet as input\n",
    "hidden_size = 2**6 # Maps to hidden size\n",
    "output_size = vocabulary_size +  1  # Outputs probabilities for each character in vocabulary + padding\n",
    "num_layers = 1   \n",
    "\n",
    "model = CharBiLSTM(input_size, hidden_size, output_size, num_layers, max_length, batch_size).to(device)\n",
    "loss_function = nn.CrossEntropyLoss(ignore_index=-1).to(device) # Padding is value -1, therefore we want to ignore it in our loss function\n",
    "optimizer = optim.Adam(model.parameters(), lr=0.02, amsgrad=True)\n",
    "\n",
    "epochs = 3"
   ]
  },
  {
   "cell_type": "markdown",
   "id": "a59ef874",
   "metadata": {},
   "source": [
    "# Training"
   ]
  },
  {
   "cell_type": "code",
   "execution_count": 19,
   "id": "f2735a44",
   "metadata": {
    "ExecuteTime": {
     "end_time": "2024-10-25T11:58:12.838741Z",
     "start_time": "2024-10-25T11:56:53.575997Z"
    },
    "execution": {
     "iopub.execute_input": "2024-10-27T20:13:47.880811Z",
     "iopub.status.busy": "2024-10-27T20:13:47.880811Z",
     "iopub.status.idle": "2024-10-27T20:19:42.571854Z",
     "shell.execute_reply": "2024-10-27T20:19:42.571854Z",
     "shell.execute_reply.started": "2024-10-27T20:13:47.880811Z"
    }
   },
   "outputs": [
    {
     "data": {
      "application/vnd.jupyter.widget-view+json": {
       "model_id": "9953f5b4a3424f5ba3afc0746dc64cad",
       "version_major": 2,
       "version_minor": 0
      },
      "text/plain": [
       "  0%|          | 0/3 [00:00<?, ?it/s]"
      ]
     },
     "metadata": {},
     "output_type": "display_data"
    },
    {
     "data": {
      "application/vnd.jupyter.widget-view+json": {
       "model_id": "30c100c059cc49d68e45d39fc983fc6b",
       "version_major": 2,
       "version_minor": 0
      },
      "text/plain": [
       "  0%|          | 0/812 [00:00<?, ?it/s]"
      ]
     },
     "metadata": {},
     "output_type": "display_data"
    },
    {
     "ename": "KeyboardInterrupt",
     "evalue": "",
     "output_type": "error",
     "traceback": [
      "\u001b[0;31m---------------------------------------------------------------------------\u001b[0m",
      "\u001b[0;31mKeyboardInterrupt\u001b[0m                         Traceback (most recent call last)",
      "Cell \u001b[0;32mIn[19], line 13\u001b[0m\n\u001b[1;32m     10\u001b[0m sentence_batch \u001b[38;5;241m=\u001b[39m sentence_batch\u001b[38;5;241m.\u001b[39mview(\u001b[38;5;241m-\u001b[39m\u001b[38;5;241m1\u001b[39m)\n\u001b[1;32m     11\u001b[0m typo_batch \u001b[38;5;241m=\u001b[39m typo_batch\u001b[38;5;241m.\u001b[39mreshape(\u001b[38;5;241m-\u001b[39m\u001b[38;5;241m1\u001b[39m, max_length, \u001b[38;5;241m1\u001b[39m)\n\u001b[0;32m---> 13\u001b[0m y \u001b[38;5;241m=\u001b[39m \u001b[43mmodel\u001b[49m\u001b[38;5;241;43m.\u001b[39;49m\u001b[43mforward\u001b[49m\u001b[43m(\u001b[49m\u001b[43mtypo_batch\u001b[49m\u001b[43m,\u001b[49m\u001b[43m \u001b[49m\u001b[43mtrain\u001b[49m\u001b[38;5;241;43m=\u001b[39;49m\u001b[38;5;28;43;01mFalse\u001b[39;49;00m\u001b[43m)\u001b[49m  \n\u001b[1;32m     14\u001b[0m loss \u001b[38;5;241m=\u001b[39m loss_function(y, sentence_batch)  \n\u001b[1;32m     15\u001b[0m loss\u001b[38;5;241m.\u001b[39mbackward()\n",
      "File \u001b[0;32m~/Documents/GitHub/ANLP-Project/scripts/model.py:22\u001b[0m, in \u001b[0;36mCharBiLSTM.forward\u001b[0;34m(self, inputs, train)\u001b[0m\n\u001b[1;32m     20\u001b[0m \u001b[38;5;28;01mdef\u001b[39;00m \u001b[38;5;21mforward\u001b[39m(\u001b[38;5;28mself\u001b[39m, inputs, train\u001b[38;5;241m=\u001b[39m\u001b[38;5;28;01mTrue\u001b[39;00m):\n\u001b[1;32m     21\u001b[0m     lstm_out, _ \u001b[38;5;241m=\u001b[39m \u001b[38;5;28mself\u001b[39m\u001b[38;5;241m.\u001b[39mlstm(inputs)  \u001b[38;5;66;03m# lstm_out has shape (batch_size, seq_len, hidden_size * 2)\u001b[39;00m\n\u001b[0;32m---> 22\u001b[0m     out \u001b[38;5;241m=\u001b[39m \u001b[38;5;28;43mself\u001b[39;49m\u001b[38;5;241;43m.\u001b[39;49m\u001b[43mfc\u001b[49m\u001b[43m(\u001b[49m\u001b[43mlstm_out\u001b[49m\u001b[43m)\u001b[49m  \u001b[38;5;66;03m# Output shape should be (batch_size, seq_len, output_size)\u001b[39;00m\n\u001b[1;32m     23\u001b[0m     \u001b[38;5;28;01mif\u001b[39;00m train:\n\u001b[1;32m     24\u001b[0m         \u001b[38;5;28;01mreturn\u001b[39;00m out\u001b[38;5;241m.\u001b[39mview(\u001b[38;5;241m-\u001b[39m\u001b[38;5;241m1\u001b[39m, \u001b[38;5;28mself\u001b[39m\u001b[38;5;241m.\u001b[39moutput_size)  \u001b[38;5;66;03m# Logits for training\u001b[39;00m\n",
      "File \u001b[0;32m~/anaconda3/envs/ML/lib/python3.10/site-packages/torch/nn/modules/module.py:1518\u001b[0m, in \u001b[0;36mModule._wrapped_call_impl\u001b[0;34m(self, *args, **kwargs)\u001b[0m\n\u001b[1;32m   1516\u001b[0m     \u001b[38;5;28;01mreturn\u001b[39;00m \u001b[38;5;28mself\u001b[39m\u001b[38;5;241m.\u001b[39m_compiled_call_impl(\u001b[38;5;241m*\u001b[39margs, \u001b[38;5;241m*\u001b[39m\u001b[38;5;241m*\u001b[39mkwargs)  \u001b[38;5;66;03m# type: ignore[misc]\u001b[39;00m\n\u001b[1;32m   1517\u001b[0m \u001b[38;5;28;01melse\u001b[39;00m:\n\u001b[0;32m-> 1518\u001b[0m     \u001b[38;5;28;01mreturn\u001b[39;00m \u001b[38;5;28;43mself\u001b[39;49m\u001b[38;5;241;43m.\u001b[39;49m\u001b[43m_call_impl\u001b[49m\u001b[43m(\u001b[49m\u001b[38;5;241;43m*\u001b[39;49m\u001b[43margs\u001b[49m\u001b[43m,\u001b[49m\u001b[43m \u001b[49m\u001b[38;5;241;43m*\u001b[39;49m\u001b[38;5;241;43m*\u001b[39;49m\u001b[43mkwargs\u001b[49m\u001b[43m)\u001b[49m\n",
      "File \u001b[0;32m~/anaconda3/envs/ML/lib/python3.10/site-packages/torch/nn/modules/module.py:1527\u001b[0m, in \u001b[0;36mModule._call_impl\u001b[0;34m(self, *args, **kwargs)\u001b[0m\n\u001b[1;32m   1522\u001b[0m \u001b[38;5;66;03m# If we don't have any hooks, we want to skip the rest of the logic in\u001b[39;00m\n\u001b[1;32m   1523\u001b[0m \u001b[38;5;66;03m# this function, and just call forward.\u001b[39;00m\n\u001b[1;32m   1524\u001b[0m \u001b[38;5;28;01mif\u001b[39;00m \u001b[38;5;129;01mnot\u001b[39;00m (\u001b[38;5;28mself\u001b[39m\u001b[38;5;241m.\u001b[39m_backward_hooks \u001b[38;5;129;01mor\u001b[39;00m \u001b[38;5;28mself\u001b[39m\u001b[38;5;241m.\u001b[39m_backward_pre_hooks \u001b[38;5;129;01mor\u001b[39;00m \u001b[38;5;28mself\u001b[39m\u001b[38;5;241m.\u001b[39m_forward_hooks \u001b[38;5;129;01mor\u001b[39;00m \u001b[38;5;28mself\u001b[39m\u001b[38;5;241m.\u001b[39m_forward_pre_hooks\n\u001b[1;32m   1525\u001b[0m         \u001b[38;5;129;01mor\u001b[39;00m _global_backward_pre_hooks \u001b[38;5;129;01mor\u001b[39;00m _global_backward_hooks\n\u001b[1;32m   1526\u001b[0m         \u001b[38;5;129;01mor\u001b[39;00m _global_forward_hooks \u001b[38;5;129;01mor\u001b[39;00m _global_forward_pre_hooks):\n\u001b[0;32m-> 1527\u001b[0m     \u001b[38;5;28;01mreturn\u001b[39;00m \u001b[43mforward_call\u001b[49m\u001b[43m(\u001b[49m\u001b[38;5;241;43m*\u001b[39;49m\u001b[43margs\u001b[49m\u001b[43m,\u001b[49m\u001b[43m \u001b[49m\u001b[38;5;241;43m*\u001b[39;49m\u001b[38;5;241;43m*\u001b[39;49m\u001b[43mkwargs\u001b[49m\u001b[43m)\u001b[49m\n\u001b[1;32m   1529\u001b[0m \u001b[38;5;28;01mtry\u001b[39;00m:\n\u001b[1;32m   1530\u001b[0m     result \u001b[38;5;241m=\u001b[39m \u001b[38;5;28;01mNone\u001b[39;00m\n",
      "File \u001b[0;32m~/anaconda3/envs/ML/lib/python3.10/site-packages/torch/nn/modules/linear.py:114\u001b[0m, in \u001b[0;36mLinear.forward\u001b[0;34m(self, input)\u001b[0m\n\u001b[1;32m    113\u001b[0m \u001b[38;5;28;01mdef\u001b[39;00m \u001b[38;5;21mforward\u001b[39m(\u001b[38;5;28mself\u001b[39m, \u001b[38;5;28minput\u001b[39m: Tensor) \u001b[38;5;241m-\u001b[39m\u001b[38;5;241m>\u001b[39m Tensor:\n\u001b[0;32m--> 114\u001b[0m     \u001b[38;5;28;01mreturn\u001b[39;00m \u001b[43mF\u001b[49m\u001b[38;5;241;43m.\u001b[39;49m\u001b[43mlinear\u001b[49m\u001b[43m(\u001b[49m\u001b[38;5;28;43minput\u001b[39;49m\u001b[43m,\u001b[49m\u001b[43m \u001b[49m\u001b[38;5;28;43mself\u001b[39;49m\u001b[38;5;241;43m.\u001b[39;49m\u001b[43mweight\u001b[49m\u001b[43m,\u001b[49m\u001b[43m \u001b[49m\u001b[38;5;28;43mself\u001b[39;49m\u001b[38;5;241;43m.\u001b[39;49m\u001b[43mbias\u001b[49m\u001b[43m)\u001b[49m\n",
      "\u001b[0;31mKeyboardInterrupt\u001b[0m: "
     ]
    }
   ],
   "source": [
    "val_loss_dc = {}\n",
    "train_loss_dc = {}\n",
    "\n",
    "for epoch in tqdm(range(epochs), position=0):\n",
    "    model.train()\n",
    "    epoch_loss = 0.0    \n",
    "    for batch in tqdm(train_loader, position=1, leave=False):\n",
    "        typo_batch, sentence_batch = batch  \n",
    "        \n",
    "        sentence_batch = sentence_batch.view(-1)\n",
    "        typo_batch = typo_batch.reshape(-1, max_length, 1)\n",
    "\n",
    "        y = model.forward(typo_batch, train=False)  \n",
    "        loss = loss_function(y, sentence_batch)  \n",
    "        loss.backward()\n",
    "        optimizer.step()\n",
    "        optimizer.zero_grad()\n",
    "        epoch_loss += loss.item()\n",
    "\n",
    "    epoch_loss_avg = epoch_loss / len(train_loader)\n",
    "    train_loss_dc[epoch] = epoch_loss_avg\n",
    "\n",
    "    model.eval()\n",
    "    val_loss = 0.0\n",
    "    with torch.no_grad():  \n",
    "        for val_batch in tqdm(validation_loader, position=2, leave=False):\n",
    "            typo_val_batch, sentence_val_batch = val_batch\n",
    "            \n",
    "            sentence_val_batch = sentence_val_batch.view(-1)\n",
    "            typo_val_batch = typo_val_batch.reshape(-1, max_length, 1)\n",
    "            \n",
    "            val_y = model.forward(typo_val_batch, train=False)\n",
    "            \n",
    "            val_loss_batch = loss_function(val_y, sentence_val_batch)\n",
    "            val_loss += val_loss_batch.item()\n",
    "                \n",
    "    val_loss_avg = val_loss / len(validation_loader)\n",
    "    val_loss_dc[epoch] = val_loss_avg\n",
    "    \n",
    "    print(f\"Epoch {epoch + 1}/{epochs} Train Loss: {epoch_loss_avg:.8f} Val Loss: {val_loss_avg:.8f}\")"
   ]
  },
  {
   "cell_type": "code",
   "execution_count": 38,
   "id": "b1703dd6",
   "metadata": {
    "ExecuteTime": {
     "end_time": "2024-10-25T11:49:01.577423Z",
     "start_time": "2024-10-25T11:49:00.873892Z"
    },
    "execution": {
     "iopub.status.busy": "2024-10-27T20:19:42.572852Z",
     "iopub.status.idle": "2024-10-27T20:19:42.572852Z",
     "shell.execute_reply": "2024-10-27T20:19:42.572852Z",
     "shell.execute_reply.started": "2024-10-27T20:19:42.572852Z"
    }
   },
   "outputs": [
    {
     "data": {
      "text/plain": [
       "Text(0, 0.5, 'Cross Entropy Loss')"
      ]
     },
     "execution_count": 38,
     "metadata": {},
     "output_type": "execute_result"
    },
    {
     "data": {
      "image/png": "[encoded data removed]",
      "text/plain": [
       "<Figure size 640x480 with 1 Axes>"
      ]
     },
     "metadata": {},
     "output_type": "display_data"
    }
   ],
   "source": [
    "plt.plot(train_loss_dc.keys(), train_loss_dc.values(), label=\"Train Loss\")\n",
    "plt.plot(val_loss_dc.keys(), val_loss_dc.values(), label=\"Validation Loss\")\n",
    "plt.xlabel(\"Epochs\")\n",
    "plt.ylabel(\"Cross Entropy Loss\")"
   ]
  },
  {
   "cell_type": "markdown",
   "id": "9675c03d",
   "metadata": {},
   "source": [
    "# Evaluation"
   ]
  },
  {
   "cell_type": "code",
   "execution_count": 39,
   "id": "eb3d740e-c146-48a4-9498-ccd82de5b6bc",
   "metadata": {
    "execution": {
     "iopub.status.busy": "2024-10-27T20:19:42.572852Z",
     "iopub.status.idle": "2024-10-27T20:19:42.572852Z",
     "shell.execute_reply": "2024-10-27T20:19:42.572852Z",
     "shell.execute_reply.started": "2024-10-27T20:19:42.572852Z"
    }
   },
   "outputs": [],
   "source": [
    "def index_to_char(index, target = True):\n",
    "    if target == False:\n",
    "        index = index*100\n",
    "    index = int(index)\n",
    "    if 1 <= index <= 25:\n",
    "        return chr(index + ord('a') - 1)\n",
    "    elif index == 26:\n",
    "        return ' '\n",
    "    else:\n",
    "        return \"_\"  # for all other values, return None"
   ]
  },
  {
   "cell_type": "code",
   "execution_count": 40,
   "id": "6d4742ca-c9e2-46db-81a9-1fd58101e778",
   "metadata": {
    "execution": {
     "iopub.status.busy": "2024-10-27T20:19:42.573849Z",
     "iopub.status.idle": "2024-10-27T20:19:42.573849Z",
     "shell.execute_reply": "2024-10-27T20:19:42.573849Z",
     "shell.execute_reply.started": "2024-10-27T20:19:42.573849Z"
    }
   },
   "outputs": [],
   "source": [
    "import csv\n",
    "\n",
    "def get_metrics(loader, model, loader_str, output_file=\"output.csv\", sample_size=10):\n",
    "    preds = []\n",
    "    labels = []\n",
    "    inputs = []  # To store input sequences\n",
    "    \n",
    "    model.eval()\n",
    "    loss = 0.0\n",
    "    csv_data = [[\"Input Word\", \"Label Word\", \"Predicted Word\"]]  # CSV header\n",
    "    sentence_label = []\n",
    "    sentence_pred = []\n",
    "    sentence_input = []  # To store input words\n",
    "    word_label = []\n",
    "    word_pred = []\n",
    "    word_input = []\n",
    "\n",
    "    with torch.no_grad():\n",
    "        for batch in tqdm(loader, position=3, leave=False):\n",
    "            typo_batch, sentence_batch = batch  # typo_batch is the input, sentence_batch is the target sequence\n",
    "\n",
    "            # Reshape inputs for model and get predictions\n",
    "            sentence_batch = sentence_batch.view(-1)\n",
    "            typo_batch = typo_batch.reshape(-1, max_length, 1)\n",
    "            y = model.forward(typo_batch, train=False)  # y should be shape (batch_size, seq_len, vocab_size)\n",
    "            \n",
    "            # Calculate and accumulate loss\n",
    "            loss_batch = loss_function(y, sentence_batch)\n",
    "            loss += loss_batch.item()\n",
    "            \n",
    "            # Get predictions, labels, and inputs in a flattened form\n",
    "            batch_preds = torch.argmax(y, dim=1).cpu().numpy().reshape(-1)\n",
    "            batch_labels = sentence_batch.cpu().numpy().reshape(-1)\n",
    "            batch_inputs = typo_batch.cpu().numpy().reshape(-1)\n",
    "            \n",
    "            # Append these results for later accuracy and F1 calculations\n",
    "            preds.extend(batch_preds)\n",
    "            labels.extend(batch_labels)\n",
    "            inputs.extend(batch_inputs)\n",
    "            \n",
    "            # Process each element in the batch\n",
    "            for label_idx in range(len(batch_preds)):\n",
    "                label_char = index_to_char(batch_labels[label_idx])\n",
    "                pred_char = index_to_char(batch_preds[label_idx])\n",
    "                input_char = index_to_char(batch_inputs[label_idx],target = False)\n",
    "                \n",
    "                # Ignore padding characters\n",
    "                if label_char != \"_\":\n",
    "                    word_label.append(label_char)\n",
    "                if pred_char != \"_\":\n",
    "                    word_pred.append(pred_char)\n",
    "                if input_char != \"_\":\n",
    "                    word_input.append(input_char)\n",
    "                \n",
    "                # If end of a word (detected by space), append word to csv_data\n",
    "                if label_char == \" \":\n",
    "                    # Join and append the completed word to csv data\n",
    "                    csv_data.append([\"\".join(word_input), \"\".join(word_label), \"\".join(word_pred)])\n",
    "                    # Clear the lists for the next word\n",
    "                    word_label = []\n",
    "                    word_pred = []\n",
    "                    word_input = []\n",
    "                \n",
    "    # Write data to CSV file\n",
    "    with open(output_file, mode=\"w\", newline=\"\") as file:\n",
    "        writer = csv.writer(file)\n",
    "        writer.writerows(csv_data)\n",
    "    \n",
    "    # Display a subset of rows in the old format for console output\n",
    "    print(f\"\\nDisplaying the first {sample_size} rows from the output file:\\n\")\n",
    "    print(\"Input Word      | Label Word      | Predicted Word\")\n",
    "    print(\"-\" * 50)\n",
    "    for row in csv_data[1:sample_size + 1]:  # Skip header row, take only `sample_size` rows\n",
    "        print(f\"{row[0]:<15} | {row[1]:<15} | {row[2]}\")\n",
    "    \n",
    "    # Compute and display metrics\n",
    "    loss_avg = loss / len(loader)\n",
    "    print(f\"\\n{loader_str} Loss: {loss_avg:.4f}\")\n",
    "    accuracy = accuracy_score(labels, preds)\n",
    "    f1 = f1_score(labels, preds, average='weighted')\n",
    "    \n",
    "    print(f\"\\n{loader_str} Accuracy: {accuracy:.4f}, F1 Score: {f1:.4f}\")\n"
   ]
  },
  {
   "cell_type": "code",
   "execution_count": 41,
   "id": "70746ff2-c700-4307-bdf3-c0b3d602c988",
   "metadata": {
    "execution": {
     "iopub.status.busy": "2024-10-27T20:19:42.574847Z",
     "iopub.status.idle": "2024-10-27T20:19:42.575845Z",
     "shell.execute_reply": "2024-10-27T20:19:42.575845Z",
     "shell.execute_reply.started": "2024-10-27T20:19:42.575845Z"
    }
   },
   "outputs": [],
   "source": [
    "n_print = 100"
   ]
  },
  {
   "cell_type": "code",
   "execution_count": 42,
   "id": "ead1e0bc-2f40-4870-9426-91c690a961f5",
   "metadata": {
    "execution": {
     "iopub.status.busy": "2024-10-27T20:19:42.575845Z",
     "iopub.status.idle": "2024-10-27T20:19:42.575845Z",
     "shell.execute_reply": "2024-10-27T20:19:42.575845Z",
     "shell.execute_reply.started": "2024-10-27T20:19:42.575845Z"
    }
   },
   "outputs": [
    {
     "data": {
      "application/vnd.jupyter.widget-view+json": {
       "model_id": "f24624fc67d5472ca3ca13b6074f9a13",
       "version_major": 2,
       "version_minor": 0
      },
      "text/plain": [
       "  0%|          | 0/1233 [00:00<?, ?it/s]"
      ]
     },
     "metadata": {},
     "output_type": "display_data"
    },
    {
     "name": "stdout",
     "output_type": "stream",
     "text": [
      "\n",
      "Displaying the first 100 rows from the output file:\n",
      "\n",
      "Input Word      | Label Word      | Predicted Word\n",
      "--------------------------------------------------\n",
      "otrerneecy      | presented       |           \n",
      "ayy             | by              |    \n",
      "rnerbijry       | snickers        |          \n",
      "brngebtry       | cruncher        |          \n",
      "ity             | it              |    \n",
      "toojy           | took            |      \n",
      "okbey           | place           |       \n",
      "ony             | on              |    \n",
      "oirky           | april           |       \n",
      "ty              | at              |    \n",
      "tgey            | the             |     \n",
      "rkniety         | reliant         |         \n",
      "rotclroey       | astrodome       |           \n",
      "iny             | in              |    \n",
      "gottorny        | houston         |         \n",
      "twertgey        | texasthe        |                                                                                                                                                                                                                       \n",
      "rongy           | song            |      \n",
      "gry             | has             |     \n",
      "aeeny           | been            |      \n",
      "beuorecy        | covered         |         \n",
      "lnyy            | many            |      \n",
      "tielry          | times           |       \n",
      "ayy             | by              |    \n",
      "ogetry          | other           |       \n",
      "ancry           | bands           |       \n",
      "iny             | in              |    \n",
      "reobirgcnry     | recordings      |            \n",
      "intckinbgttalny | includingtubman  |                                                                                                                                                                                                                                                  \n",
      "bgegncy         | changed         |         \n",
      "gery            | her             |     \n",
      "nley            | name            |      \n",
      "eorly           | from            |      \n",
      "tirlny          | araminta        |          \n",
      "toy             | to              |    \n",
      "grreity         | harriet         |         \n",
      "roony           | soon            |      \n",
      "teery           | after           |       \n",
      "gery            | her             |     \n",
      "lrgirey         | marriage        |          \n",
      "tgtoggy         | though          |        \n",
      "tgey            | the             |     \n",
      "ewbty           | exact           |       \n",
      "tliingy         | timing          |        \n",
      "iry             | is              |    \n",
      "tenbkrwjcoiieiy | unclearwikipedia  |                                                                                                                                                                                                                   \n",
      "rkitebry        | articles        |          \n",
      "rkotgcy         | should          |        \n",
      "aey             | be              |    \n",
      "aercy           | based           |       \n",
      "ony             | on              |    \n",
      "oreakgitcy      | published       |           \n",
      "rncreobyy       | secondary       |           \n",
      "rbortery        | sources         |         \n",
      "ncy             | and             |     \n",
      "toy             | to              |    \n",
      "y               | a               |   \n",
      "kerrery         | lesser          |        \n",
      "eewtnty         | extent          |        \n",
      "ony             | on              |    \n",
      "ttireryy        | tertiary        |          \n",
      "rbertory        | sources         |         \n",
      "ncy             | and             |     \n",
      "oilrryy         | primary         |         \n",
      "rtroebrnieocty  | sourcesnupedia  |                                                                                                                                                                                            \n",
      "wetncy          | wanted          |        \n",
      "rgobrkry        | scholars        |          \n",
      "toy             | to              |    \n",
      "ukenteotry      | volunteer       |           \n",
      "bonentteroly    | contentfrom     |                                                                                                                                                                                                                                                                             \n",
      "toy             | to              |    \n",
      "gey             | he              |    \n",
      "retitccy        | studied         |         \n",
      "enbobiolry      | economics       |           \n",
      "ty              | at              |    \n",
      "tgey            | the             |     \n",
      "tiernutriyy     | university      |            \n",
      "oey             | of              |    \n",
      "aonny           | bonn            |      \n",
      "ennrigy         | earning         |         \n",
      "giry            | his             |     \n",
      "crbtotoeribney  | doctoratesince  |                                                                                                                                                                                                                                                \n",
      "tgey            | the             |     \n",
      "aoercry         | border          |        \n",
      "wtigy           | with            |      \n",
      "aetrkry         | belarus         |         \n",
      "iry             | is              |    \n",
      "rkoy            | also            |      \n",
      "tgey            | the             |     \n",
      "ertreny         | eastern         |         \n",
      "acerory         | border          |        \n",
      "oey             | of              |    \n",
      "tgey            | the             |     \n",
      "eoorteny        | european        |          \n",
      "tnoiny          | union           |       \n",
      "ry              | as              |    \n",
      "wekky           | well            |      \n",
      "ry              | as              |    \n",
      "tgey            | the             |     \n",
      "regenbgny       | schengen        |          \n",
      "ery             | area            |      \n",
      "\n",
      "train Loss: 3.2282\n",
      "\n",
      "train Accuracy: 0.0658, F1 Score: 0.0081\n"
     ]
    }
   ],
   "source": [
    "get_metrics(train_loader, model, \"train\", \"train_predictions.csv\", n_print)"
   ]
  },
  {
   "cell_type": "code",
   "execution_count": null,
   "id": "da1d9a86-795a-41c6-ab84-7d18ab750bad",
   "metadata": {
    "execution": {
     "iopub.status.busy": "2024-10-27T20:19:42.576850Z",
     "iopub.status.idle": "2024-10-27T20:19:42.576850Z",
     "shell.execute_reply": "2024-10-27T20:19:42.576850Z",
     "shell.execute_reply.started": "2024-10-27T20:19:42.576850Z"
    },
    "scrolled": true
   },
   "outputs": [],
   "source": [
    "get_metrics(validation_loader, model, \"validation\", \"validation_predictions.csv\", n_print)"
   ]
  },
  {
   "cell_type": "code",
   "execution_count": null,
   "id": "7afd3421-3c10-4ac7-945f-b70c5450be59",
   "metadata": {
    "execution": {
     "iopub.status.busy": "2024-10-27T20:19:42.577840Z",
     "iopub.status.idle": "2024-10-27T20:19:42.577840Z",
     "shell.execute_reply": "2024-10-27T20:19:42.577840Z",
     "shell.execute_reply.started": "2024-10-27T20:19:42.577840Z"
    },
    "scrolled": true
   },
   "outputs": [],
   "source": [
    "get_metrics(test_loader, model, \"test\", \"test_predictions.csv\", n_print)"
   ]
  },
  {
   "cell_type": "code",
   "execution_count": null,
   "id": "3fc4e1be-29f2-4ffe-bb5d-a7cabbb4745f",
   "metadata": {},
   "outputs": [],
   "source": []
  },
  {
   "cell_type": "code",
   "execution_count": null,
   "id": "c797f05a-ac5f-4156-8cc6-0468b79f56f7",
   "metadata": {},
   "outputs": [],
   "source": []
  },
  {
   "cell_type": "code",
   "execution_count": null,
   "id": "351f26fc-8135-4345-8414-a70f548996f6",
   "metadata": {},
   "outputs": [],
   "source": []
  }
 ],
 "metadata": {
  "kernelspec": {
   "display_name": "ML",
   "language": "python",
   "name": "python3"
  },
  "language_info": {
   "codemirror_mode": {
    "name": "ipython",
    "version": 3
   },
   "file_extension": ".py",
   "mimetype": "text/x-python",
   "name": "python",
   "nbconvert_exporter": "python",
   "pygments_lexer": "ipython3",
   "version": "3.10.13"
  },
  "toc": {
   "base_numbering": 1,
   "nav_menu": {},
   "number_sections": true,
   "sideBar": true,
   "skip_h1_title": false,
   "title_cell": "Table of Contents",
   "title_sidebar": "Contents",
   "toc_cell": false,
   "toc_position": {},
   "toc_section_display": true,
   "toc_window_display": false
  }
 },
 "nbformat": 4,
 "nbformat_minor": 5
}
