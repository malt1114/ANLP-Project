{
 "cells": [
  {
   "cell_type": "markdown",
   "id": "44977fc9",
   "metadata": {},
   "source": [
    "# Settings"
   ]
  },
  {
   "cell_type": "code",
   "execution_count": 1,
   "id": "087b3664",
   "metadata": {
    "ExecuteTime": {
     "end_time": "2024-10-04T09:41:45.514017Z",
     "start_time": "2024-10-04T09:41:45.508635Z"
    }
   },
   "outputs": [],
   "source": [
    "import sys\n",
    "import os\n",
    "\n",
    "os.chdir('..')"
   ]
  },
  {
   "cell_type": "markdown",
   "id": "4d54f4d5",
   "metadata": {},
   "source": [
    "# Imports"
   ]
  },
  {
   "cell_type": "code",
   "execution_count": 2,
   "id": "093a5c06",
   "metadata": {
    "ExecuteTime": {
     "end_time": "2024-10-04T09:41:57.165789Z",
     "start_time": "2024-10-04T09:41:45.518029Z"
    }
   },
   "outputs": [
    {
     "name": "stdout",
     "output_type": "stream",
     "text": [
      "Requirement already satisfied: editdistance in c:\\users\\ruben\\anaconda3\\lib\\site-packages (0.8.1)\n"
     ]
    }
   ],
   "source": [
    "! pip install editdistance"
   ]
  },
  {
   "cell_type": "code",
   "execution_count": 3,
   "id": "d8453c31",
   "metadata": {
    "ExecuteTime": {
     "end_time": "2024-10-04T09:42:03.023847Z",
     "start_time": "2024-10-04T09:41:57.168805Z"
    }
   },
   "outputs": [],
   "source": [
    "from scripts.model import device, CharBiLSTM\n",
    "from scripts.data import create_data_loader, load_data\n",
    "from scripts.preprocessing import get_typoglycemia_modified_data\n",
    "\n",
    "from torch import nn, optim\n",
    "import torch\n",
    "\n",
    "from sklearn.model_selection import train_test_split\n",
    "\n",
    "import editdistance"
   ]
  },
  {
   "cell_type": "markdown",
   "id": "3b47b79b",
   "metadata": {},
   "source": [
    "# Data"
   ]
  },
  {
   "cell_type": "code",
   "execution_count": 4,
   "id": "3574e833",
   "metadata": {
    "ExecuteTime": {
     "end_time": "2024-10-04T09:42:05.721108Z",
     "start_time": "2024-10-04T09:42:03.028847Z"
    }
   },
   "outputs": [],
   "source": [
    "df = load_data(similarity_threshold=0.8)\n",
    "df_typo = get_typoglycemia_modified_data(df)"
   ]
  },
  {
   "cell_type": "markdown",
   "id": "a15487b3",
   "metadata": {},
   "source": [
    "## Splitting data into train, val, test"
   ]
  },
  {
   "cell_type": "code",
   "execution_count": 5,
   "id": "6d1daebe",
   "metadata": {
    "ExecuteTime": {
     "end_time": "2024-10-04T09:42:06.025454Z",
     "start_time": "2024-10-04T09:42:05.724116Z"
    }
   },
   "outputs": [],
   "source": [
    "dev, test = train_test_split(df_typo, test_size=0.2)\n",
    "train, validation = train_test_split(dev, test_size=0.2) "
   ]
  },
  {
   "cell_type": "markdown",
   "id": "4bc3f35b",
   "metadata": {},
   "source": [
    "## Getting dataloaders"
   ]
  },
  {
   "cell_type": "code",
   "execution_count": 6,
   "id": "60ec2671",
   "metadata": {
    "ExecuteTime": {
     "end_time": "2024-10-04T09:42:06.033454Z",
     "start_time": "2024-10-04T09:42:06.027449Z"
    }
   },
   "outputs": [],
   "source": [
    "train_loader = create_data_loader(train)\n",
    "validation_loader = create_data_loader(validation)\n",
    "test_loader = create_data_loader(test)"
   ]
  },
  {
   "cell_type": "markdown",
   "id": "0d831d3f",
   "metadata": {},
   "source": [
    "# Model "
   ]
  },
  {
   "cell_type": "code",
   "execution_count": 7,
   "id": "096eda79",
   "metadata": {
    "ExecuteTime": {
     "end_time": "2024-10-04T09:42:09.614732Z",
     "start_time": "2024-10-04T09:42:06.036454Z"
    }
   },
   "outputs": [],
   "source": [
    "input_size = 10   # Size of one-hot encoded input\n",
    "hidden_size = 128  # Number of LSTM units\n",
    "output_size = 10  # Size of output (number of characters)\n",
    "num_layers = 1   # Number of LSTM layers\n",
    "\n",
    "model = CharBiLSTM(input_size, hidden_size, output_size, num_layers).to(device)\n",
    "loss_function = nn.CrossEntropyLoss().to(device)\n",
    "optimizer = optim.Adam(model.parameters(), lr=0.01)"
   ]
  },
  {
   "cell_type": "markdown",
   "id": "27881640",
   "metadata": {},
   "source": [
    "# Training"
   ]
  },
  {
   "cell_type": "code",
   "execution_count": 8,
   "id": "ba52c834",
   "metadata": {
    "ExecuteTime": {
     "end_time": "2024-10-04T09:42:10.199660Z",
     "start_time": "2024-10-04T09:42:09.616755Z"
    }
   },
   "outputs": [
    {
     "ename": "NameError",
     "evalue": "name 'epochs' is not defined",
     "output_type": "error",
     "traceback": [
      "\u001b[1;31m---------------------------------------------------------------------------\u001b[0m",
      "\u001b[1;31mNameError\u001b[0m                                 Traceback (most recent call last)",
      "Cell \u001b[1;32mIn[8], line 1\u001b[0m\n\u001b[1;32m----> 1\u001b[0m \u001b[38;5;28;01mfor\u001b[39;00m epoch \u001b[38;5;129;01min\u001b[39;00m \u001b[38;5;28mrange\u001b[39m(epochs):\n\u001b[0;32m      2\u001b[0m     epoch_loss \u001b[38;5;241m=\u001b[39m \u001b[38;5;241m0.0\u001b[39m    \n\u001b[0;32m      3\u001b[0m     \u001b[38;5;28;01mfor\u001b[39;00m idx, batch \u001b[38;5;129;01min\u001b[39;00m \u001b[38;5;28menumerate\u001b[39m(train_loader):\n",
      "\u001b[1;31mNameError\u001b[0m: name 'epochs' is not defined"
     ]
    }
   ],
   "source": [
    "for epoch in range(epochs):\n",
    "    epoch_loss = 0.0    \n",
    "    for idx, batch in enumerate(train_loader):\n",
    "        feats_batch, label_batch = batch        \n",
    "\n",
    "        optimizer.zero_grad()\n",
    "        y = model.forward(feats_batch)\n",
    "\n",
    "        loss = loss_function(y, label_batch)\n",
    "        loss.backward()\n",
    "        optimizer.step()\n",
    "        epoch_loss += loss.item()\n",
    "\n",
    "    epoch_loss_avg = epoch_loss/len(train_loader)\n",
    "    \n"
   ]
  },
  {
   "cell_type": "code",
   "execution_count": null,
   "id": "77185e6a",
   "metadata": {},
   "outputs": [],
   "source": []
  },
  {
   "cell_type": "code",
   "execution_count": null,
   "id": "94c874af",
   "metadata": {},
   "outputs": [],
   "source": []
  },
  {
   "cell_type": "markdown",
   "id": "5c8725f2",
   "metadata": {},
   "source": [
    "# Evaluation"
   ]
  },
  {
   "cell_type": "code",
   "execution_count": null,
   "id": "a93aac3e",
   "metadata": {},
   "outputs": [],
   "source": []
  }
 ],
 "metadata": {
  "kernelspec": {
   "display_name": "Python 3 (ipykernel)",
   "language": "python",
   "name": "python3"
  },
  "language_info": {
   "codemirror_mode": {
    "name": "ipython",
    "version": 3
   },
   "file_extension": ".py",
   "mimetype": "text/x-python",
   "name": "python",
   "nbconvert_exporter": "python",
   "pygments_lexer": "ipython3",
   "version": "3.11.4"
  },
  "toc": {
   "base_numbering": 1,
   "nav_menu": {},
   "number_sections": true,
   "sideBar": true,
   "skip_h1_title": false,
   "title_cell": "Table of Contents",
   "title_sidebar": "Contents",
   "toc_cell": false,
   "toc_position": {},
   "toc_section_display": true,
   "toc_window_display": false
  }
 },
 "nbformat": 4,
 "nbformat_minor": 5
}
