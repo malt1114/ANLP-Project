{
 "cells": [
  {
   "cell_type": "markdown",
   "id": "2aecb3ff-14a8-4d23-9484-38c347d32c57",
   "metadata": {},
   "source": [
    "# Settings"
   ]
  },
  {
   "cell_type": "code",
   "execution_count": 1,
   "id": "ebeed61c-022e-467e-af01-9fb8d2f3f1b0",
   "metadata": {},
   "outputs": [
    {
     "data": {
      "text/plain": [
       "'/Users/malthepabst/Documents/GitHub/ANLP-Project'"
      ]
     },
     "execution_count": 1,
     "metadata": {},
     "output_type": "execute_result"
    }
   ],
   "source": [
    "import sys\n",
    "import os\n",
    "\n",
    "os.chdir('..')\n",
    "os.getcwd()"
   ]
  },
  {
   "cell_type": "markdown",
   "id": "06294564-7231-43df-b32a-63b6519c67f5",
   "metadata": {},
   "source": [
    "# Imports"
   ]
  },
  {
   "cell_type": "code",
   "execution_count": 2,
   "id": "b5d887cd-9130-48f8-aa36-8ee6d4c2ffdc",
   "metadata": {},
   "outputs": [],
   "source": [
    "from scripts.preprocessing import get_typoglycemia_modified_data, sentence_tokennizer, tokenize_dataframe, get_max_length\n",
    "from scripts.baseline import get_base_line_score\n",
    "import editdistance\n",
    "from sklearn.metrics import f1_score, accuracy_score\n",
    "import numpy as np\n",
    "import pandas as pd\n",
    "import matplotlib.pyplot as plt\n",
    "\n"
   ]
  },
  {
   "cell_type": "markdown",
   "id": "3870127b-15aa-435f-8eb8-8b158d4d25df",
   "metadata": {},
   "source": [
    "# Data"
   ]
  },
  {
   "cell_type": "code",
   "execution_count": 3,
   "id": "90e06d87-bb76-45a1-b91a-cb050fd1451b",
   "metadata": {},
   "outputs": [],
   "source": [
    "train_easy = pd.read_csv(\"data/processed/easy/train_easy.csv\")\n",
    "test_easy = pd.read_csv(\"data/processed/easy/test_easy.csv\")\n",
    "train_hard = pd.read_csv(\"data/processed/hard/train_hard.csv\")\n",
    "test_hard = pd.read_csv(\"data/processed/hard/test_hard.csv\")"
   ]
  },
  {
   "cell_type": "markdown",
   "id": "0d43be1b-576a-49c4-9428-b247778244e9",
   "metadata": {},
   "source": [
    "# Baseline"
   ]
  },
  {
   "cell_type": "code",
   "execution_count": 4,
   "id": "2bd42a4d-d4ce-44ff-a688-c91bc634f41b",
   "metadata": {},
   "outputs": [
    {
     "name": "stdout",
     "output_type": "stream",
     "text": [
      "The Easy baseline has a mean editdistance of 2.652% pr. sentence\n",
      "The Easy baseline has a mean editdistance of 2.68% pr. word\n"
     ]
    }
   ],
   "source": [
    "get_base_line_score(train = train_easy, test = test_easy, type = 'Easy')"
   ]
  },
  {
   "cell_type": "code",
   "execution_count": 5,
   "id": "dfdf3a42-0b7a-432d-8ef2-3cb3ce52745e",
   "metadata": {},
   "outputs": [
    {
     "name": "stdout",
     "output_type": "stream",
     "text": [
      "The Hard baseline has a mean editdistance of 3.242% pr. sentence\n",
      "The Hard baseline has a mean editdistance of 3.19% pr. word\n"
     ]
    }
   ],
   "source": [
    "get_base_line_score(train = train_hard, test = test_hard, type = 'Hard')"
   ]
  },
  {
   "cell_type": "code",
   "execution_count": null,
   "id": "c7e888cd",
   "metadata": {},
   "outputs": [],
   "source": []
  }
 ],
 "metadata": {
  "kernelspec": {
   "display_name": "ML",
   "language": "python",
   "name": "python3"
  },
  "language_info": {
   "codemirror_mode": {
    "name": "ipython",
    "version": 3
   },
   "file_extension": ".py",
   "mimetype": "text/x-python",
   "name": "python",
   "nbconvert_exporter": "python",
   "pygments_lexer": "ipython3",
   "version": "3.10.13"
  }
 },
 "nbformat": 4,
 "nbformat_minor": 5
}
