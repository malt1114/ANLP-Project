{
 "cells": [
  {
   "cell_type": "markdown",
   "id": "2aecb3ff-14a8-4d23-9484-38c347d32c57",
   "metadata": {},
   "source": [
    "# Settings"
   ]
  },
  {
   "cell_type": "code",
   "execution_count": 1,
   "id": "ebeed61c-022e-467e-af01-9fb8d2f3f1b0",
   "metadata": {},
   "outputs": [
    {
     "data": {
      "text/plain": [
       "'c:\\\\Users\\\\ruben\\\\OneDrive\\\\Dokumenter\\\\GitHub\\\\ANLP-Project'"
      ]
     },
     "execution_count": 1,
     "metadata": {},
     "output_type": "execute_result"
    }
   ],
   "source": [
    "import sys\n",
    "import os\n",
    "\n",
    "os.chdir('..')\n",
    "os.getcwd()"
   ]
  },
  {
   "cell_type": "markdown",
   "id": "06294564-7231-43df-b32a-63b6519c67f5",
   "metadata": {},
   "source": [
    "# Imports"
   ]
  },
  {
   "cell_type": "code",
   "execution_count": 2,
   "id": "b5d887cd-9130-48f8-aa36-8ee6d4c2ffdc",
   "metadata": {},
   "outputs": [],
   "source": [
    "from scripts.preprocessing import get_typoglycemia_modified_data, sentence_tokennizer, tokenize_dataframe, get_max_length\n",
    "from scripts.baseline import get_base_line_score\n",
    "import editdistance\n",
    "from sklearn.metrics import f1_score, accuracy_score\n",
    "import numpy as np\n",
    "import pandas as pd\n",
    "import matplotlib.pyplot as plt\n",
    "\n"
   ]
  },
  {
   "cell_type": "markdown",
   "id": "3870127b-15aa-435f-8eb8-8b158d4d25df",
   "metadata": {},
   "source": [
    "# Data"
   ]
  },
  {
   "cell_type": "code",
   "execution_count": 3,
   "id": "90e06d87-bb76-45a1-b91a-cb050fd1451b",
   "metadata": {},
   "outputs": [],
   "source": [
    "train_easy = pd.read_csv(\"data/processed/easy/train_easy.csv\")\n",
    "test_easy = pd.read_csv(\"data/processed/easy/test_easy.csv\")\n",
    "train_hard = pd.read_csv(\"data/processed/hard/train_hard.csv\")\n",
    "test_hard = pd.read_csv(\"data/processed/hard/test_hard.csv\")"
   ]
  },
  {
   "cell_type": "markdown",
   "id": "0d43be1b-576a-49c4-9428-b247778244e9",
   "metadata": {},
   "source": [
    "# Baseline"
   ]
  },
  {
   "cell_type": "code",
   "execution_count": 5,
   "id": "2bd42a4d-d4ce-44ff-a688-c91bc634f41b",
   "metadata": {},
   "outputs": [
    {
     "name": "stdout",
     "output_type": "stream",
     "text": [
      "[['the', 'final', 'was', 'played', 'in', 'the', 'commerzbank', 'arena', 'in', 'frankfurt', 'germany'], ['the', 'cerebrum', 'is', 'the', 'largest', 'part', 'of', 'the', 'brain']]\n",
      "The Easy baseline has a mean editdistance of 0.0% pr. sentence\n",
      "The Easy baseline has a mean editdistance of 0.0% pr. word\n"
     ]
    }
   ],
   "source": [
    "get_base_line_score(train = train_easy, test = test_easy, type = 'Easy')"
   ]
  },
  {
   "cell_type": "code",
   "execution_count": 5,
   "id": "dfdf3a42-0b7a-432d-8ef2-3cb3ce52745e",
   "metadata": {},
   "outputs": [
    {
     "name": "stdout",
     "output_type": "stream",
     "text": [
      "The Hard baseline has a mean editdistance of 3.242% pr. sentence\n",
      "The Hard baseline has a mean editdistance of 3.19% pr. word\n"
     ]
    }
   ],
   "source": [
    "get_base_line_score(train = train_hard, test = test_hard, type = 'Hard')"
   ]
  },
  {
   "cell_type": "code",
   "execution_count": null,
   "id": "c7e888cd",
   "metadata": {},
   "outputs": [],
   "source": [
    "# Examples"
   ]
  },
  {
   "cell_type": "code",
   "execution_count": 11,
   "id": "4120757b",
   "metadata": {},
   "outputs": [
    {
     "name": "stdout",
     "output_type": "stream",
     "text": [
      "[['murrow', 'and', 'u', 'established', 'rock', 'climbing', 'routes', 'are', 'more', 'predictable', 'and', 'good'], ['descriptions', 'help', 'keep', 'climbers', 'on', 'route', 'and', 'out', 'of', 'trouble'], ['mccaffrey', 'april', 'november', 'was', 'an', 'americanborn', 'irish', 'writer', 'best', 'known', 'for', 'the', '[UNK]', 'of', 'pern', 'fantasy', 'series']]\n",
      "The Easy baseline has a mean editdistance of 2.157% pr. sentence\n",
      "The Easy baseline has a mean editdistance of 2.821% pr. word\n"
     ]
    }
   ],
   "source": [
    "dc = {\"Easy\": [\"murrow and u established rock climbing routes are more predictable and good\",\n",
    "               \"descriptions help keep climbers on route and out of trouble\",\n",
    "               \"mccaffrery april november was an americanborn irish writer best known for the dragonrider of pern fantasy series\"],\n",
    "      \"typoglycemia\": [\"mrurow and u elishbteasd rcok ciblnimg roetus are more prdetibacle and good\",\n",
    "                       \"dotersnicpis help keep cerimlbs on rtoue and out of tburole\", \n",
    "                       \"mecafcfry aripl nvmbeeor was an aibroancermn iirsh witerr best kownn for the deaoinrrrdgs of pern fasntay seires\"]}\n",
    "\n",
    "\n",
    "df = pd.DataFrame.from_dict(dc)\n",
    "get_base_line_score(train = train_easy, test = df, type = 'Easy')"
   ]
  },
  {
   "cell_type": "markdown",
   "id": "a2e26b56",
   "metadata": {},
   "source": [
    "Model output:\n",
    "\n",
    "- murruw and u esbsshsshed rock bhambing seores are more rredicelbde and good \n",
    "- dorpcpproirr helo keep clmbbirs on ruuue and out oe tolbbte\n",
    "- mecccecry appil nocember was an accrraolrirn inith wirter bess known for the drarrporares oe prep faanaav seeees"
   ]
  },
  {
   "cell_type": "code",
   "execution_count": null,
   "id": "4c68a4b6",
   "metadata": {},
   "outputs": [],
   "source": []
  },
  {
   "cell_type": "code",
   "execution_count": null,
   "metadata": {},
   "outputs": [],
   "source": []
  },
  {
   "cell_type": "markdown",
   "id": "27a1116f",
   "metadata": {},
   "source": []
  }
 ],
 "metadata": {
  "kernelspec": {
   "display_name": "base",
   "language": "python",
   "name": "python3"
  },
  "language_info": {
   "codemirror_mode": {
    "name": "ipython",
    "version": 3
   },
   "file_extension": ".py",
   "mimetype": "text/x-python",
   "name": "python",
   "nbconvert_exporter": "python",
   "pygments_lexer": "ipython3",
   "version": "3.12.7"
  }
 },
 "nbformat": 4,
 "nbformat_minor": 5
}
