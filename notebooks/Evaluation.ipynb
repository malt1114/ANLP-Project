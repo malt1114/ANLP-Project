{
 "cells": [
  {
   "cell_type": "markdown",
   "id": "1ea4a4c3-44d9-415d-855d-afa58addf0be",
   "metadata": {},
   "source": [
    "# Settings"
   ]
  },
  {
   "cell_type": "code",
   "execution_count": 1,
   "id": "0a00071e-4324-4de2-947f-d0385b367325",
   "metadata": {},
   "outputs": [
    {
     "data": {
      "text/plain": [
       "'c:\\\\Users\\\\ruben\\\\OneDrive\\\\Dokumenter\\\\GitHub\\\\ANLP-Project'"
      ]
     },
     "execution_count": 1,
     "metadata": {},
     "output_type": "execute_result"
    }
   ],
   "source": [
    "import sys\n",
    "import os\n",
    "\n",
    "os.chdir('..')\n",
    "os.getcwd()"
   ]
  },
  {
   "cell_type": "code",
   "execution_count": 2,
   "id": "6000c37a",
   "metadata": {},
   "outputs": [
    {
     "data": {
      "text/plain": [
       "'c:\\\\Users\\\\ruben\\\\OneDrive\\\\Dokumenter\\\\GitHub\\\\ANLP-Project'"
      ]
     },
     "execution_count": 2,
     "metadata": {},
     "output_type": "execute_result"
    }
   ],
   "source": [
    "import os\n",
    "os.getcwd()\n"
   ]
  },
  {
   "cell_type": "markdown",
   "id": "cddda24b-27a5-40cc-93d9-6a0fbf3c2de1",
   "metadata": {},
   "source": [
    "# Imports"
   ]
  },
  {
   "cell_type": "code",
   "execution_count": 3,
   "id": "f6abbde7-dc63-471e-8d5f-5a31201c1963",
   "metadata": {},
   "outputs": [
    {
     "name": "stderr",
     "output_type": "stream",
     "text": [
      "c:\\Users\\ruben\\OneDrive\\Dokumenter\\GitHub\\ANLP-Project\\scripts\\preprocessing.py:56: SyntaxWarning: invalid escape sequence '\\s'\n",
      "  x = re.sub('[^a-zA-Z\\s\\.]', '', x)\n",
      "c:\\Users\\ruben\\OneDrive\\Dokumenter\\GitHub\\ANLP-Project\\scripts\\preprocessing.py:58: SyntaxWarning: invalid escape sequence '\\.'\n",
      "  x = re.sub('\\.{2,}', '.', x)\n",
      "c:\\Users\\ruben\\OneDrive\\Dokumenter\\GitHub\\ANLP-Project\\scripts\\preprocessing.py:62: SyntaxWarning: invalid escape sequence '\\s'\n",
      "  x = x = re.sub('\\s{2,}', ' ', x)\n",
      "C:\\Users\\ruben\\AppData\\Local\\Temp\\ipykernel_16216\\2098325508.py:12: TqdmExperimentalWarning: Using `tqdm.autonotebook.tqdm` in notebook mode. Use `tqdm.tqdm` instead to force console mode (e.g. in jupyter console)\n",
      "  from tqdm.autonotebook import trange, tqdm\n"
     ]
    }
   ],
   "source": [
    "from scripts.model import CharBiLSTM, prepare_data\n",
    "from scripts.data import create_data_loader, load_data\n",
    "from scripts.preprocessing import get_typoglycemia_modified_data, sentence_tokennizer, tokenize_dataframe, get_max_length\n",
    "from scripts.baseline import get_base_line_score\n",
    "\n",
    "from torch import nn, optim\n",
    "import torch\n",
    "\n",
    "from sklearn.model_selection import train_test_split\n",
    "\n",
    "import editdistance\n",
    "from tqdm.autonotebook import trange, tqdm\n",
    "import random \n",
    "\n",
    "from sklearn.metrics import f1_score, accuracy_score\n",
    "import numpy as np\n",
    "\n",
    "import pandas as pd\n",
    "import matplotlib.pyplot as plt"
   ]
  },
  {
   "cell_type": "markdown",
   "id": "1176928e-b58d-46cb-a601-262e9fecfd37",
   "metadata": {},
   "source": [
    "# Easy"
   ]
  },
  {
   "cell_type": "code",
   "execution_count": 4,
   "id": "fd431642-6d32-4817-8b8c-f89994953e5b",
   "metadata": {},
   "outputs": [
    {
     "name": "stdout",
     "output_type": "stream",
     "text": [
      "cuda:0\n",
      "True\n"
     ]
    }
   ],
   "source": [
    "from model_train_easy import device, complexity_level, max_length, batch_size, input_size, hidden_size, output_size, num_layers, complexity_level, model, loss_function, optimizer, epochs"
   ]
  },
  {
   "cell_type": "code",
   "execution_count": 5,
   "id": "6ac98230-142d-40ba-9c8c-1fc24e06329e",
   "metadata": {},
   "outputs": [
    {
     "data": {
      "text/plain": [
       "(device(type='cuda', index=0), 'Easy')"
      ]
     },
     "execution_count": 5,
     "metadata": {},
     "output_type": "execute_result"
    }
   ],
   "source": [
    "device, complexity_level"
   ]
  },
  {
   "cell_type": "code",
   "execution_count": 6,
   "id": "a58c359c-3e09-4364-9a7d-a6ac8de05764",
   "metadata": {},
   "outputs": [],
   "source": [
    "train_loader, validation_loader, test_loader = prepare_data(complexity_level = complexity_level,\n",
    "                                                            max_length = max_length,\n",
    "                                                            batch_size = batch_size)"
   ]
  },
  {
   "cell_type": "code",
   "execution_count": 7,
   "id": "df6bdb0d-0e96-4f74-b6b2-572c8b485716",
   "metadata": {},
   "outputs": [
    {
     "name": "stdout",
     "output_type": "stream",
     "text": [
      "torch.Size([512, 151]) torch.Size([512, 151])\n",
      "(array([ 0,  1,  2,  3,  4,  5,  6,  7,  8,  9, 10, 11, 12, 13, 14, 15, 16,\n",
      "       17, 18, 19, 20, 21, 22, 23, 24, 25, 26, 27], dtype=int64), array([42657,  2653,   492,   899,  1064,  3384,   623,   522,  1453,\n",
      "        2152,    95,   190,  1182,   753,  2178,  2012,   555,    16,\n",
      "        1848,  2030,  2313,   759,   251,   538,    43,   422,    33,\n",
      "        6195], dtype=int64))\n",
      "cpu\n"
     ]
    }
   ],
   "source": [
    "for sample in train_loader:\n",
    "    X, y = sample\n",
    "    print(X.shape, y.shape)\n",
    "    print(np.unique(y.cpu(), return_counts=True))\n",
    "    print(X.device)\n",
    "    break"
   ]
  },
  {
   "cell_type": "code",
   "execution_count": 8,
   "id": "7eeb2c90",
   "metadata": {},
   "outputs": [
    {
     "data": {
      "text/plain": [
       "'c:\\\\Users\\\\ruben\\\\OneDrive\\\\Dokumenter\\\\GitHub\\\\ANLP-Project'"
      ]
     },
     "execution_count": 8,
     "metadata": {},
     "output_type": "execute_result"
    }
   ],
   "source": [
    "os.getcwd()"
   ]
  },
  {
   "cell_type": "code",
   "execution_count": 9,
   "id": "8479efdc-13ab-473f-8de5-76b7a0f3ff9d",
   "metadata": {},
   "outputs": [
    {
     "data": {
      "text/plain": [
       "CharBiLSTM(\n",
       "  (lstm): LSTM(1, 512, batch_first=True, bidirectional=True)\n",
       "  (fc): Linear(in_features=1024, out_features=29, bias=True)\n",
       ")"
      ]
     },
     "execution_count": 9,
     "metadata": {},
     "output_type": "execute_result"
    }
   ],
   "source": [
    "if complexity_level.lower() == 'easy':\n",
    "    PATH = f'models/{complexity_level.lower()}/model_1154.pt'\n",
    "else:\n",
    "    PATH = f'models/{complexity_level.lower()}/model_987.pt'\n",
    "\n",
    "model.load_state_dict(torch.load(PATH, weights_only=True))\n",
    "model.eval()"
   ]
  },
  {
   "cell_type": "code",
   "execution_count": 10,
   "id": "adb9886f-f783-4894-9471-a33d36e5120d",
   "metadata": {},
   "outputs": [],
   "source": [
    "def index_to_char(index, target = True):\n",
    "    if target == False:\n",
    "        index = round(index*100, 0)\n",
    "    index = int(index)\n",
    "    if 1 <= index <= 25:\n",
    "        return chr(index + ord('a') - 1), index\n",
    "    elif index == 26:\n",
    "        return ' ', index\n",
    "    elif index == 27:\n",
    "        return \"<SENTSTOP>\", index\n",
    "    else:\n",
    "        return \"_\", index  # for all other values, return None\n",
    "    \n",
    "\n",
    "# def index_to_char(index, target = True):\n",
    "#     if target == False:\n",
    "#         index = round(index*100, 0)\n",
    "#     index = int(index)\n",
    "#     if 1 <= index <= 26:\n",
    "#         return chr(index + ord('a') - 1), index\n",
    "#     elif index == 27:\n",
    "#         return ' ', index\n",
    "#     elif index == 28:\n",
    "#         return \"<SENTSTOP>\", index\n",
    "#     else:\n",
    "#         return \"_\", index  # for all other values, return None"
   ]
  },
  {
   "cell_type": "code",
   "execution_count": 69,
   "id": "31edfb9a",
   "metadata": {},
   "outputs": [],
   "source": [
    "import csv\n",
    "import editdistance\n",
    "\n",
    "def get_metrics(loader, model, loader_str, output_file=\"output.csv\", sample_size=10):\n",
    "    preds = []\n",
    "    labels = []\n",
    "    inputs = []  # To store input sequences\n",
    "    \n",
    "    model.eval()\n",
    "    loss = 0.0\n",
    "    csv_data = [[\"Input Word\", \"Label_Input_Editdistance\", \"Label Word\", \"Pred_label_Editdistance\", \"Predicted Word\"]]  # CSV header\n",
    "    sentence_label = []\n",
    "    sentence_pred = []\n",
    "    sentence_input = []  # To store input words\n",
    "    all_edit_distances = []\n",
    "    print_count = 0\n",
    "    all_typo_edit_distances = []\n",
    "    all_edit_sentence_distances = []\n",
    "    all_typo_edit_sentence_distances = []\n",
    "\n",
    "    with torch.no_grad():\n",
    "        for batch in tqdm(loader, position=3, leave=False):\n",
    "            typo_batch, sentence_batch = batch  # typo_batch is the input, sentence_batch is the target sequence\n",
    "            typo_batch = typo_batch.to(device)\n",
    "            sentence_batch =sentence_batch.to(device)\n",
    "            \n",
    "            sentence_batch = sentence_batch.reshape(-1, max_length, 1)\n",
    "            typo_batch = typo_batch.reshape(-1, max_length, 1)\n",
    "            \n",
    "            # print(sentence_batch[0])\n",
    "            # for index in range(len(sentence_batch)):\n",
    "            #     sentence = sentence_batch[index].cpu().numpy().reshape(-1)\n",
    "            #     typo = typo_batch[index].cpu().numpy().reshape(-1)\n",
    "\n",
    "            #     for i, value in enumerate(sentence):\n",
    "            #         if value == -1:\n",
    "            #             sentence[i] = 26\n",
    "            #             break\n",
    "\n",
    "            #     for i, value in enumerate(typo):\n",
    "            #         if value == -1:\n",
    "            #             typo[i] = 26\n",
    "            #             break\n",
    "                \n",
    "            #     sentence_batch[index] = torch.tensor(sentence).reshape(max_length, 1).to(device)\n",
    "            #     typo_batch[index] = torch.tensor(typo).reshape(max_length, 1).to(device)\n",
    "            # print(sentence_batch[0])\n",
    "                \n",
    "            # print(typo_batch.shape)\n",
    "            y = model.forward(typo_batch, train=False)\n",
    "\n",
    "            \n",
    "            sentence_batch_loss = sentence_batch.reshape(-1)\n",
    "            # Calculate and accumulate loss\n",
    "            loss_batch = loss_function(y, sentence_batch_loss)\n",
    "            loss += loss_batch.item()\n",
    "            \n",
    "            \n",
    "\n",
    "            word_label = []\n",
    "            word_pred = []\n",
    "            word_input = []\n",
    "            \n",
    "            y = y.reshape(-1, max_length, output_size)\n",
    "            ### Make it work for the nabsew dimensionality\n",
    "            for sentence_index in range(len(y)):\n",
    "                sentence = y[sentence_index]\n",
    "                sentence_labels = sentence_batch[sentence_index]\n",
    "                sentence_inputs = typo_batch[sentence_index]\n",
    "                \n",
    "                sentence_edit_distances = []\n",
    "                typo_sentence_edit_distances = []\n",
    "\n",
    "\n",
    "                # Get predictions, labels, and inputs in a flattened form\n",
    "                batch_preds = torch.argmax(sentence, dim=1).cpu().numpy().reshape(-1)\n",
    "                batch_labels = sentence_labels.cpu().numpy().reshape(-1)\n",
    "                batch_inputs = sentence_inputs.cpu().numpy().reshape(-1)\n",
    "                \n",
    "                # Append these results for later accuracy and F1 calculations\n",
    "                preds.extend(batch_preds)\n",
    "                labels.extend(batch_labels)\n",
    "                inputs.extend(batch_inputs)\n",
    "                # print(\"label_char\", \"pred_char\", \"input_char\")\n",
    "                \n",
    "                # Process each element in the batch\n",
    "                for label_idx in range(len(batch_preds)):\n",
    "                    label_char, label_index_ = index_to_char(batch_labels[label_idx])\n",
    "                    pred_char, pred_index_ = index_to_char(batch_preds[label_idx])\n",
    "                    input_char, input_index_ = index_to_char(batch_inputs[label_idx],target = False)\n",
    "\n",
    "                    # print(f\"label_index_: {label_index_}, pred_index_: {pred_index_}, input_index_: {input_index_}\")\n",
    "\n",
    "                    # Ignore padding characters\n",
    "                    # if label_char != \"_\":\n",
    "                    #     word_label.append(label_char)\n",
    "                    # if pred_char != \"_\":\n",
    "                    #     word_pred.append(pred_char)\n",
    "                    # if input_char != \"_\":\n",
    "                    #     word_input.append(input_char)\n",
    "                    \n",
    "                    if label_char not in [\"_\", \" \"]:\n",
    "                        word_label.append(label_char)\n",
    "                    if pred_char not in [\"_\", \" \"]:\n",
    "                        word_pred.append(pred_char)\n",
    "                    if input_char not in [\"_\", \" \"]:\n",
    "                        word_input.append(input_char)\n",
    " \n",
    " \n",
    "\n",
    "                    # If end of a word (detected by space), append word to csv_data\n",
    "                    # print(\"Label\", label_char, label_index_, \"Input\", input_char, input_index_, \"Pred\", pred_char, pred_index_)\n",
    "\n",
    "                    if ((label_char == \" \" ) or (label_char == \"<SENTSTOP>\" )) and len(word_label) > 0:\n",
    "                        # Join and append the completed word to csv data\n",
    "                        \n",
    "                        # remove any instances of \"<SENTSTOP>\" from the word_label\n",
    "                        word_label = [char for char in word_label if char != \"<SENTSTOP>\"]\n",
    "                        word_pred = [char for char in word_pred if char != \"<SENTSTOP>\"]\n",
    "                        word_input = [char for char in word_input if char != \"<SENTSTOP>\"]\n",
    "                        try:\n",
    "                            distance = editdistance.eval(\"\".join(word_pred), \"\".join(word_label)) / len(\"\".join(word_label))\n",
    "                            sentence_edit_distances.append(distance)\n",
    "                        except:\n",
    "                            pass\n",
    "                        \n",
    "                        try:\n",
    "                            distance_typo_label = editdistance.eval(\"\".join(word_input), \"\".join(word_label)) / len(\"\".join(word_label))\n",
    "                            typo_sentence_edit_distances.append(distance_typo_label)\n",
    "                        except:\n",
    "                            pass\n",
    "\n",
    "                        if print_count == 0 and len(word_label) > 0:\n",
    "                            print(f\"Word input: {''.join(word_input)} Word pred: {''.join(word_pred)} Editdistance: {distance_typo_label}\")\n",
    "                            print(f\"Word label: {''.join(word_label)} Word pred: {''.join(word_pred)} Editdistance: {distance}\\n\")\n",
    "                        csv_data.append([\"\".join(word_input), distance_typo_label, \"\".join(word_label), distance, \"\".join(word_pred)])\n",
    "                        # Clear the lists for the next word\n",
    "                        word_label = []\n",
    "                        word_pred = []\n",
    "                        word_input = []\n",
    "                \n",
    "                try:\n",
    "                    distance = editdistance.eval(\"\".join(word_pred), \"\".join(word_label)) / len(\"\".join(word_label))\n",
    "                    sentence_edit_distances.append(distance)\n",
    "\n",
    "                    distance_typo_label = editdistance.eval(\"\".join(word_input), \"\".join(word_label)) / len(\"\".join(word_label))\n",
    "                    typo_sentence_edit_distances.append(distance_typo_label)\n",
    "                    csv_data.append([\"\".join(word_input), distance_typo_label, \"\".join(word_label), distance, \"\".join(word_pred)])\n",
    "                    \n",
    "                except:\n",
    "                    pass\n",
    "                    # print(f\"FAILED ON word_input '{word_input}'\", \"word_pred\", word_pred)\n",
    "\n",
    "                all_edit_distances.extend(sentence_edit_distances)\n",
    "                all_edit_sentence_distances.append(np.mean(sentence_edit_distances))\n",
    "                all_typo_edit_distances.extend(typo_sentence_edit_distances)\n",
    "                all_typo_edit_sentence_distances.append(np.mean(typo_sentence_edit_distances))\n",
    "\n",
    "                if print_count == 0 and len(word_label) > 0:\n",
    "                    print(f\"Word input: {''.join(word_input)} Word pred: {''.join(word_pred)} Editdistance: {distance_typo_label}\")\n",
    "                    print(f\"Word label: {''.join(word_label)} Word pred: {''.join(word_pred)} Editdistance: {distance}\\n\")\n",
    "                    print(f\"Word label: {\"\".join(word_label)} Word pred: {\"\".join(word_pred)} Editdistance: {distance}\\n\")                   \n",
    "                    print(f\"All sentence edit distances\", sentence_edit_distances)\n",
    "                    print(f\"Average Normalized Edit Distance Pred-Label: {sum(sentence_edit_distances) / len(sentence_edit_distances):.4f}\")\n",
    "                    print(f\"Average Normalized Edit Distance Input-Label: {sum(typo_sentence_edit_distances) / len(typo_sentence_edit_distances):.4f}\")\n",
    "                word_label = []\n",
    "                word_pred = []\n",
    "                word_input = []\n",
    "                # print_count += 1\n",
    "            \n",
    "                if sentence_index == 5:\n",
    "                    break\n",
    "            break\n",
    "            \n",
    "\n",
    "    # Write data to CSV file\n",
    "    with open(output_file, mode=\"w\", newline=\"\") as file:\n",
    "        writer = csv.writer(file)\n",
    "        writer.writerows(csv_data)\n",
    "    \n",
    "    # Display a subset of rows in the old format for console output\n",
    "    print(f\"\\nDisplaying the first {sample_size} rows from the output file:\\n\")\n",
    "    print(\"Input Word      | Label Word      | Predicted Word\")\n",
    "    print(\"-\" * 50)\n",
    "    for row in csv_data[1:sample_size + 1]:  # Skip header row, take only `sample_size` rows\n",
    "        print(f\"{row[0]:<15} | {row[2]:<15} | {row[4]}\")\n",
    "    \n",
    "    # Compute and display metrics\n",
    "    loss_avg = loss / len(loader)\n",
    "    print(f\"\\n{loader_str} Loss: {loss_avg:.4f}\")\n",
    "    accuracy = accuracy_score(labels, preds)\n",
    "    f1 = f1_score(labels, preds, average='weighted')\n",
    "\n",
    "\n",
    "    # # ADD EDIT DISTANCE METRIC HERE\n",
    "    \n",
    "    \n",
    "    print(f\"\\n{loader_str} Accuracy: {accuracy:.4f}, F1 Score: {f1:.4f}\")\n",
    "    # Calculate average edit distance\n",
    "    avg_edit_distance = sum(all_edit_distances) / len(all_edit_distances)\n",
    "    avg_edit_distance_typo = sum(all_typo_edit_distances) / len(all_typo_edit_distances)\n",
    "    print(f\"\\n{loader_str} Average Normalized Edit Distance Word-Level Pred-Label: {avg_edit_distance:.4f}\")\n",
    "    print(f\"\\n{loader_str} Average Normalized Edit Distance Word-Level Typo-Label: {avg_edit_distance_typo:.4f}\")\n",
    "\n",
    "    print(f\"\\n{loader_str} Average Normalized Edit Distance Sentence-Level Pred-Label: {np.mean(all_edit_sentence_distances)}\")\n",
    "    print(f\"\\n{loader_str} Average Normalized Edit Distance Sentence-Level Typo-Label: {np.mean(all_typo_edit_sentence_distances)}\")\n"
   ]
  },
  {
   "cell_type": "code",
   "execution_count": 70,
   "id": "14f76451-8a1f-4457-aba3-32bfccc076e0",
   "metadata": {},
   "outputs": [],
   "source": [
    "n_print = 100"
   ]
  },
  {
   "cell_type": "code",
   "execution_count": 71,
   "id": "835e22cb-97f5-4232-b739-32b39935cf48",
   "metadata": {},
   "outputs": [],
   "source": [
    "# get_metrics(train_loader, model, \"train\", f\"train_predictions_{complexity_level}.csv\", n_print)"
   ]
  },
  {
   "cell_type": "code",
   "execution_count": 72,
   "id": "16f02c01-46d1-4249-ba0c-28021e49ecbe",
   "metadata": {
    "scrolled": true
   },
   "outputs": [
    {
     "data": {
      "application/vnd.jupyter.widget-view+json": {
       "model_id": "4bc56426700e49388cbbcad3e1758134",
       "version_major": 2,
       "version_minor": 0
      },
      "text/plain": [
       "  0%|          | 0/77 [00:00<?, ?it/s]"
      ]
     },
     "metadata": {},
     "output_type": "display_data"
    },
    {
     "name": "stdout",
     "output_type": "stream",
     "text": [
      "Word input: mrurow Word pred: murruw Editdistance: 0.3333333333333333\n",
      "Word label: murrow Word pred: murruw Editdistance: 0.16666666666666666\n",
      "\n",
      "Word input: and Word pred: and Editdistance: 0.0\n",
      "Word label: and Word pred: and Editdistance: 0.0\n",
      "\n",
      "Word input: u Word pred: u Editdistance: 0.0\n",
      "Word label: u Word pred: u Editdistance: 0.0\n",
      "\n",
      "Word input: elishbteasd Word pred: esbsshsshed Editdistance: 0.7272727272727273\n",
      "Word label: established Word pred: esbsshsshed Editdistance: 0.45454545454545453\n",
      "\n",
      "Word input: rcok Word pred: rock Editdistance: 0.5\n",
      "Word label: rock Word pred: rock Editdistance: 0.0\n",
      "\n",
      "Word input: ciblnimg Word pred: bhambing Editdistance: 0.625\n",
      "Word label: climbing Word pred: bhambing Editdistance: 0.375\n",
      "\n",
      "Word input: roetus Word pred: seores Editdistance: 0.3333333333333333\n",
      "Word label: routes Word pred: seores Editdistance: 0.6666666666666666\n",
      "\n",
      "Word input: are Word pred: are Editdistance: 0.0\n",
      "Word label: are Word pred: are Editdistance: 0.0\n",
      "\n",
      "Word input: more Word pred: more Editdistance: 0.0\n",
      "Word label: more Word pred: more Editdistance: 0.0\n",
      "\n",
      "Word input: prdetibacle Word pred: rredicelbde Editdistance: 0.45454545454545453\n",
      "Word label: predictable Word pred: rredicelbde Editdistance: 0.36363636363636365\n",
      "\n",
      "Word input: and Word pred: and Editdistance: 0.0\n",
      "Word label: and Word pred: and Editdistance: 0.0\n",
      "\n",
      "Word input: good Word pred: good Editdistance: 0.0\n",
      "Word label: good Word pred: good Editdistance: 0.0\n",
      "\n",
      "Word input: dotersnicpis Word pred: dorpcpproiir Editdistance: 0.75\n",
      "Word label: descriptions Word pred: dorpcpproiir Editdistance: 0.8333333333333334\n",
      "\n",
      "Word input: help Word pred: helo Editdistance: 0.0\n",
      "Word label: help Word pred: helo Editdistance: 0.25\n",
      "\n",
      "Word input: keep Word pred: keep Editdistance: 0.0\n",
      "Word label: keep Word pred: keep Editdistance: 0.0\n",
      "\n",
      "Word input: cerimlbs Word pred: clmbbirs Editdistance: 0.625\n",
      "Word label: climbers Word pred: clmbbirs Editdistance: 0.375\n",
      "\n",
      "Word input: on Word pred: on Editdistance: 0.0\n",
      "Word label: on Word pred: on Editdistance: 0.0\n",
      "\n",
      "Word input: rtoue Word pred: ruuue Editdistance: 0.4\n",
      "Word label: route Word pred: ruuue Editdistance: 0.4\n",
      "\n",
      "Word input: and Word pred: and Editdistance: 0.0\n",
      "Word label: and Word pred: and Editdistance: 0.0\n",
      "\n",
      "Word input: out Word pred: out Editdistance: 0.0\n",
      "Word label: out Word pred: out Editdistance: 0.0\n",
      "\n",
      "Word input: of Word pred: oe Editdistance: 0.0\n",
      "Word label: of Word pred: oe Editdistance: 0.5\n",
      "\n",
      "Word input: tburole Word pred: tolbbte Editdistance: 0.5714285714285714\n",
      "Word label: trouble Word pred: tolbbte Editdistance: 0.5714285714285714\n",
      "\n",
      "Word input: anne Word pred: anne Editdistance: 0.0\n",
      "Word label: anne Word pred: anne Editdistance: 0.0\n",
      "\n",
      "Word input: ine Word pred: ine Editdistance: 0.0\n",
      "Word label: ine Word pred: ine Editdistance: 0.0\n",
      "\n",
      "Word input: mecafcfry Word pred: mecccecry Editdistance: 0.3333333333333333\n",
      "Word label: mccaffrey Word pred: mecccecry Editdistance: 0.5555555555555556\n",
      "\n",
      "Word input: aripl Word pred: appil Editdistance: 0.4\n",
      "Word label: april Word pred: appil Editdistance: 0.2\n",
      "\n",
      "Word input: nvmbeeor Word pred: nocember Editdistance: 0.5\n",
      "Word label: november Word pred: nocember Editdistance: 0.125\n",
      "\n",
      "Word input: was Word pred: was Editdistance: 0.0\n",
      "Word label: was Word pred: was Editdistance: 0.0\n",
      "\n",
      "Word input: an Word pred: an Editdistance: 0.0\n",
      "Word label: an Word pred: an Editdistance: 0.0\n",
      "\n",
      "Word input: aibroancermn Word pred: accrraolrirn Editdistance: 0.5833333333333334\n",
      "Word label: americanborn Word pred: accrraolrirn Editdistance: 0.6666666666666666\n",
      "\n",
      "Word input: iirsh Word pred: inith Editdistance: 0.4\n",
      "Word label: irish Word pred: inith Editdistance: 0.4\n",
      "\n",
      "Word input: witerr Word pred: wirter Editdistance: 0.3333333333333333\n",
      "Word label: writer Word pred: wirter Editdistance: 0.3333333333333333\n",
      "\n",
      "Word input: best Word pred: bess Editdistance: 0.0\n",
      "Word label: best Word pred: bess Editdistance: 0.25\n",
      "\n",
      "Word input: kownn Word pred: known Editdistance: 0.4\n",
      "Word label: known Word pred: known Editdistance: 0.0\n",
      "\n",
      "Word input: for Word pred: for Editdistance: 0.0\n",
      "Word label: for Word pred: for Editdistance: 0.0\n",
      "\n",
      "Word input: the Word pred: the Editdistance: 0.0\n",
      "Word label: the Word pred: the Editdistance: 0.0\n",
      "\n",
      "Word input: deaoinrrrdgs Word pred: drarrporares Editdistance: 0.5833333333333334\n",
      "Word label: dragonriders Word pred: drarrporares Editdistance: 0.5833333333333334\n",
      "\n",
      "Word input: of Word pred: oe Editdistance: 0.0\n",
      "Word label: of Word pred: oe Editdistance: 0.5\n",
      "\n",
      "Word input: pern Word pred: prep Editdistance: 0.0\n",
      "Word label: pern Word pred: prep Editdistance: 0.75\n",
      "\n",
      "Word input: fasntay Word pred: faanaav Editdistance: 0.2857142857142857\n",
      "Word label: fantasy Word pred: faanaav Editdistance: 0.5714285714285714\n",
      "\n",
      "Word input: seires Word pred: seeees Editdistance: 0.3333333333333333\n",
      "Word label: series Word pred: seeees Editdistance: 0.3333333333333333\n",
      "\n",
      "Word input: hsanpiic Word pred: histohic Editdistance: 0.5\n",
      "Word label: hispanic Word pred: histohic Editdistance: 0.375\n",
      "\n",
      "Word input: or Word pred: or Editdistance: 0.0\n",
      "Word label: or Word pred: or Editdistance: 0.0\n",
      "\n",
      "Word input: latino Word pred: lasino Editdistance: 0.0\n",
      "Word label: latino Word pred: lasino Editdistance: 0.16666666666666666\n",
      "\n",
      "Word input: of Word pred: of Editdistance: 0.0\n",
      "Word label: of Word pred: of Editdistance: 0.0\n",
      "\n",
      "Word input: any Word pred: any Editdistance: 0.0\n",
      "Word label: any Word pred: any Editdistance: 0.0\n",
      "\n",
      "Word input: race Word pred: racd Editdistance: 0.0\n",
      "Word label: race Word pred: racd Editdistance: 0.25\n",
      "\n",
      "Word input: wree Word pred: were Editdistance: 0.5\n",
      "Word label: were Word pred: were Editdistance: 0.0\n",
      "\n",
      "Word input: pesonrs Word pred: prrsons Editdistance: 0.2857142857142857\n",
      "Word label: persons Word pred: prrsons Editdistance: 0.14285714285714285\n",
      "\n",
      "Word input: in Word pred: in Editdistance: 0.0\n",
      "Word label: in Word pred: in Editdistance: 0.0\n",
      "\n",
      "Word input: los Word pred: los Editdistance: 0.0\n",
      "Word label: los Word pred: los Editdistance: 0.0\n",
      "\n",
      "Word input: aeeglns Word pred: angnles Editdistance: 0.5714285714285714\n",
      "Word label: angeles Word pred: angnles Editdistance: 0.14285714285714285\n",
      "\n",
      "Word input: cntouy Word pred: cuusty Editdistance: 0.6666666666666666\n",
      "Word label: county Word pred: cuusty Editdistance: 0.3333333333333333\n",
      "\n",
      "Word input: cvelur Word pred: cuuveq Editdistance: 0.6666666666666666\n",
      "Word label: culver Word pred: cuuveq Editdistance: 0.3333333333333333\n",
      "\n",
      "Word input: ctiy Word pred: city Editdistance: 0.5\n",
      "Word label: city Word pred: city Editdistance: 0.0\n",
      "\n",
      "Word input: is Word pred: is Editdistance: 0.0\n",
      "Word label: is Word pred: is Editdistance: 0.0\n",
      "\n",
      "Word input: leoactd Word pred: located Editdistance: 0.5714285714285714\n",
      "Word label: located Word pred: located Editdistance: 0.0\n",
      "\n",
      "Word input: in Word pred: in Editdistance: 0.0\n",
      "Word label: in Word pred: in Editdistance: 0.0\n",
      "\n",
      "Word input: the Word pred: the Editdistance: 0.0\n",
      "Word label: the Word pred: the Editdistance: 0.0\n",
      "\n",
      "Word input: nd Word pred: nd Editdistance: 0.0\n",
      "Word label: nd Word pred: nd Editdistance: 0.0\n",
      "\n",
      "Word input: seisprarvouil Word pred: sprrisrsiiram Editdistance: 0.6923076923076923\n",
      "Word label: supervisorial Word pred: sprrisrsiiram Editdistance: 0.6153846153846154\n",
      "\n",
      "Word input: dctisrit Word pred: discrict Editdistance: 0.5\n",
      "Word label: district Word pred: discrict Editdistance: 0.125\n",
      "\n",
      "Word input: crlnertuy Word pred: certerlly Editdistance: 0.5555555555555556\n",
      "Word label: currently Word pred: certerlly Editdistance: 0.4444444444444444\n",
      "\n",
      "Word input: reerpsteend Word pred: represented Editdistance: 0.5454545454545454\n",
      "Word label: represented Word pred: represented Editdistance: 0.0\n",
      "\n",
      "Word input: by Word pred: by Editdistance: 0.0\n",
      "Word label: by Word pred: by Editdistance: 0.0\n",
      "\n",
      "Word input: mark Word pred: mark Editdistance: 0.0\n",
      "Word label: mark Word pred: mark Editdistance: 0.0\n",
      "\n",
      "Word input: romiedyhalts Word pred: syomimiales Editdistance: 0.6666666666666666\n",
      "Word label: ridleythomas Word pred: syomimiales Editdistance: 0.9166666666666666\n",
      "\n",
      "Word input: the Word pred: the Editdistance: 0.0\n",
      "Word label: the Word pred: the Editdistance: 0.0\n",
      "\n",
      "Word input: swnshhaak Word pred: shanhhaak Editdistance: 0.5555555555555556\n",
      "Word label: shawshank Word pred: shanhhaak Editdistance: 0.3333333333333333\n",
      "\n",
      "Word input: ritmedoepn Word pred: sepndceden Editdistance: 0.8\n",
      "Word label: redemption Word pred: sepndceden Editdistance: 0.8\n",
      "\n",
      "Word input: is Word pred: is Editdistance: 0.0\n",
      "Word label: is Word pred: is Editdistance: 0.0\n",
      "\n",
      "Word input: a Word pred: a Editdistance: 0.0\n",
      "Word label: a Word pred: a Editdistance: 0.0\n",
      "\n",
      "Word input: aeacimrn Word pred: american Editdistance: 0.625\n",
      "Word label: american Word pred: american Editdistance: 0.0\n",
      "\n",
      "Word input: damra Word pred: drama Editdistance: 0.4\n",
      "Word label: drama Word pred: drama Editdistance: 0.0\n",
      "\n",
      "Word input: film Word pred: film Editdistance: 0.0\n",
      "Word label: film Word pred: film Editdistance: 0.0\n",
      "\n",
      "Word input: wttrien Word pred: wretten Editdistance: 0.5714285714285714\n",
      "Word label: written Word pred: wretten Editdistance: 0.14285714285714285\n",
      "\n",
      "Word input: and Word pred: and Editdistance: 0.0\n",
      "Word label: and Word pred: and Editdistance: 0.0\n",
      "\n",
      "Word input: deeritcd Word pred: dacicted Editdistance: 0.625\n",
      "Word label: directed Word pred: dacicted Editdistance: 0.375\n",
      "\n",
      "Word input: by Word pred: by Editdistance: 0.0\n",
      "Word label: by Word pred: by Editdistance: 0.0\n",
      "\n",
      "Word input: frnak Word pred: froak Editdistance: 0.4\n",
      "Word label: frank Word pred: froak Editdistance: 0.4\n",
      "\n",
      "Word input: daabnrot Word pred: daaabans Editdistance: 0.5\n",
      "Word label: darabont Word pred: daaabans Editdistance: 0.375\n",
      "\n",
      "Word input: and Word pred: and Editdistance: 0.0\n",
      "Word label: and Word pred: and Editdistance: 0.0\n",
      "\n",
      "Word input: snriartg Word pred: starring Editdistance: 0.75\n",
      "Word label: starring Word pred: starring Editdistance: 0.0\n",
      "\n",
      "Word input: tim Word pred: tim Editdistance: 0.0\n",
      "Word label: tim Word pred: tim Editdistance: 0.0\n",
      "\n",
      "Word input: rbniobs Word pred: robbbbs Editdistance: 0.5714285714285714\n",
      "Word label: robbins Word pred: robbbbs Editdistance: 0.2857142857142857\n",
      "\n",
      "Word input: and Word pred: and Editdistance: 0.0\n",
      "Word label: and Word pred: and Editdistance: 0.0\n",
      "\n",
      "Word input: mroagn Word pred: morcao Editdistance: 0.5\n",
      "Word label: morgan Word pred: morcao Editdistance: 0.3333333333333333\n",
      "\n",
      "Word input: fmaeern Word pred: freeeen Editdistance: 0.5714285714285714\n",
      "Word label: freeman Word pred: freeeen Editdistance: 0.2857142857142857\n",
      "\n",
      "\n",
      "Displaying the first 100 rows from the output file:\n",
      "\n",
      "Input Word      | Label Word      | Predicted Word\n",
      "--------------------------------------------------\n",
      "mrurow          | murrow          | murruw\n",
      "and             | and             | and\n",
      "u               | u               | u\n",
      "elishbteasd     | established     | esbsshsshed\n",
      "rcok            | rock            | rock\n",
      "ciblnimg        | climbing        | bhambing\n",
      "roetus          | routes          | seores\n",
      "are             | are             | are\n",
      "more            | more            | more\n",
      "prdetibacle     | predictable     | rredicelbde\n",
      "and             | and             | and\n",
      "good            | good            | good\n",
      "dotersnicpis    | descriptions    | dorpcpproiir\n",
      "help            | help            | helo\n",
      "keep            | keep            | keep\n",
      "cerimlbs        | climbers        | clmbbirs\n",
      "on              | on              | on\n",
      "rtoue           | route           | ruuue\n",
      "and             | and             | and\n",
      "out             | out             | out\n",
      "of              | of              | oe\n",
      "tburole         | trouble         | tolbbte\n",
      "anne            | anne            | anne\n",
      "ine             | ine             | ine\n",
      "                |                 | \n",
      "mecafcfry       | mccaffrey       | mecccecry\n",
      "aripl           | april           | appil\n",
      "nvmbeeor        | november        | nocember\n",
      "was             | was             | was\n",
      "an              | an              | an\n",
      "aibroancermn    | americanborn    | accrraolrirn\n",
      "iirsh           | irish           | inith\n",
      "witerr          | writer          | wirter\n",
      "best            | best            | bess\n",
      "kownn           | known           | known\n",
      "for             | for             | for\n",
      "the             | the             | the\n",
      "deaoinrrrdgs    | dragonriders    | drarrporares\n",
      "of              | of              | oe\n",
      "pern            | pern            | prep\n",
      "fasntay         | fantasy         | faanaav\n",
      "seires          | series          | seeees\n",
      "hsanpiic        | hispanic        | histohic\n",
      "or              | or              | or\n",
      "latino          | latino          | lasino\n",
      "of              | of              | of\n",
      "any             | any             | any\n",
      "race            | race            | racd\n",
      "wree            | were            | were\n",
      "pesonrs         | persons         | prrsons\n",
      "in              | in              | in\n",
      "los             | los             | los\n",
      "aeeglns         | angeles         | angnles\n",
      "cntouy          | county          | cuusty\n",
      "cvelur          | culver          | cuuveq\n",
      "ctiy            | city            | city\n",
      "is              | is              | is\n",
      "leoactd         | located         | located\n",
      "in              | in              | in\n",
      "the             | the             | the\n",
      "nd              | nd              | nd\n",
      "seisprarvouil   | supervisorial   | sprrisrsiiram\n",
      "dctisrit        | district        | discrict\n",
      "crlnertuy       | currently       | certerlly\n",
      "reerpsteend     | represented     | represented\n",
      "by              | by              | by\n",
      "mark            | mark            | mark\n",
      "romiedyhalts    | ridleythomas    | syomimiales\n",
      "the             | the             | the\n",
      "swnshhaak       | shawshank       | shanhhaak\n",
      "ritmedoepn      | redemption      | sepndceden\n",
      "is              | is              | is\n",
      "a               | a               | a\n",
      "aeacimrn        | american        | american\n",
      "damra           | drama           | drama\n",
      "film            | film            | film\n",
      "wttrien         | written         | wretten\n",
      "and             | and             | and\n",
      "deeritcd        | directed        | dacicted\n",
      "by              | by              | by\n",
      "frnak           | frank           | froak\n",
      "daabnrot        | darabont        | daaabans\n",
      "and             | and             | and\n",
      "snriartg        | starring        | starring\n",
      "tim             | tim             | tim\n",
      "rbniobs         | robbins         | robbbbs\n",
      "and             | and             | and\n",
      "mroagn          | morgan          | morcao\n",
      "fmaeern         | freeman         | freeeen\n",
      "\n",
      "validation Loss: 0.0367\n",
      "\n",
      "validation Accuracy: 0.3698, F1 Score: 0.3244\n",
      "\n",
      "validation Average Normalized Edit Distance Word-Level Pred-Label: 0.1977\n",
      "\n",
      "validation Average Normalized Edit Distance Word-Level Typo-Label: 0.2678\n",
      "\n",
      "validation Average Normalized Edit Distance Sentence-Level Pred-Label: 0.17034888114801436\n",
      "\n",
      "validation Average Normalized Edit Distance Sentence-Level Typo-Label: 0.23495769021040533\n"
     ]
    }
   ],
   "source": [
    "get_metrics(validation_loader, model, \"validation\", f\"validation_predictions_{complexity_level}.csv\", n_print)"
   ]
  },
  {
   "cell_type": "code",
   "execution_count": 15,
   "id": "ac37a233-7f0f-4870-8ae7-fc163bef7c57",
   "metadata": {},
   "outputs": [
    {
     "data": {
      "application/vnd.jupyter.widget-view+json": {
       "model_id": "238245d69d7e4948a57bd1c97fb80f9b",
       "version_major": 2,
       "version_minor": 0
      },
      "text/plain": [
       "  0%|          | 0/118 [00:00<?, ?it/s]"
      ]
     },
     "metadata": {},
     "output_type": "display_data"
    },
    {
     "name": "stdout",
     "output_type": "stream",
     "text": [
      "Word input: big Word pred: big Editdistance: 0.0\n",
      "Word label: big Word pred: big Editdistance: 0.0\n",
      "\n",
      "Word input: boi Word pred: bii Editdistance: 0.0\n",
      "Word label: boi Word pred: bii Editdistance: 0.3333333333333333\n",
      "\n",
      "Word input: tlod Word pred: sold Editdistance: 0.5\n",
      "Word label: told Word pred: sold Editdistance: 0.25\n",
      "\n",
      "Word input: his Word pred: his Editdistance: 0.0\n",
      "Word label: his Word pred: his Editdistance: 0.0\n",
      "\n",
      "Word input: fneird Word pred: fonnnd Editdistance: 0.6666666666666666\n",
      "Word label: friend Word pred: fonnnd Editdistance: 0.5\n",
      "\n",
      "Word input: diddy Word pred: didd Editdistance: 0.0\n",
      "Word label: diddy Word pred: didd Editdistance: 0.2\n",
      "\n",
      "Word input: abuot Word pred: about Editdistance: 0.4\n",
      "Word label: about Word pred: about Editdistance: 0.0\n",
      "\n",
      "Word input: mone Word pred: mone Editdistance: 0.0\n",
      "Word label: mone Word pred: mone Editdistance: 0.0\n",
      "\n",
      "\n",
      "Displaying the first 20 rows from the output file:\n",
      "\n",
      "Input Word      | Label Word      | Predicted Word\n",
      "--------------------------------------------------\n",
      "big             | big             | big\n",
      "boi             | boi             | bii\n",
      "tlod            | told            | sold\n",
      "his             | his             | his\n",
      "fneird          | friend          | fonnnd\n",
      "diddy           | diddy           | didd\n",
      "abuot           | about           | about\n",
      "mone            | mone            | mone\n",
      "on              | on              | np\n",
      "sbptmeeer       | september       | september\n",
      "ltot            | lott            | lost\n",
      "siad            | said            | said\n",
      "that            | that            | that\n",
      "the             | the             | the\n",
      "aublm           | album           | allan\n",
      "wulod           | would           | wolld\n",
      "have            | have            | have\n",
      "claoialorbtnos  | collaborations  | boapalaniolons\n",
      "wtih            | with            | with\n",
      "stveie          | stevie          | seetre\n",
      "\n",
      "test Loss: 2.8119\n",
      "\n",
      "test Accuracy: 0.2921, F1 Score: 0.2579\n",
      "\n",
      "test Average Normalized Edit Distance Word-Level Pred-Label: 0.1697\n",
      "\n",
      "test Average Normalized Edit Distance Word-Level Typo-Label: 0.2288\n",
      "\n",
      "test Average Normalized Edit Distance Sentence-Level Pred-Label: 0.17003113124586608\n",
      "\n",
      "test Average Normalized Edit Distance Sentence-Level Typo-Label: 0.22966545498690688\n"
     ]
    }
   ],
   "source": [
    "get_metrics(test_loader, model, \"test\", f\"test_predictions_{complexity_level}.csv\", n_print)"
   ]
  },
  {
   "cell_type": "markdown",
   "id": "099dcf39",
   "metadata": {},
   "source": [
    "# Model Analysis"
   ]
  },
  {
   "cell_type": "code",
   "execution_count": 46,
   "id": "fff0ed57",
   "metadata": {},
   "outputs": [
    {
     "data": {
      "text/plain": [
       "0.48230250877332187"
      ]
     },
     "execution_count": 46,
     "metadata": {},
     "output_type": "execute_result"
    }
   ],
   "source": [
    "df = pd.read_csv(f\"{\"validation\"}_predictions_{complexity_level}.csv\")\n",
    "# Calculate word frequency, length, and average edit distance\n",
    "df['Word'] = df['Input Word'].str.strip()\n",
    "df['Frequency'] = df.groupby('Word')['Word'].transform('count')\n",
    "df['Length'] = df['Word'].str.len()\n",
    "df['Avg_Edit_Distance'] = df.groupby('Word')['Pred_label_Editdistance'].transform('mean')\n",
    "\n",
    "\n",
    "df.groupby(\"Label Word\")[\"Pred_label_Editdistance\"].mean().mean()"
   ]
  },
  {
   "cell_type": "code",
   "execution_count": 60,
   "id": "5bcb9732",
   "metadata": {},
   "outputs": [
    {
     "data": {
      "text/plain": [
       "0.48230250877332187"
      ]
     },
     "execution_count": 60,
     "metadata": {},
     "output_type": "execute_result"
    }
   ],
   "source": [
    "df = pd.read_csv(f\"{\"validation\"}_predictions_{complexity_level}.csv\")\n",
    "\n",
    "df['Label Word Length'] = df['Label Word'].str.len()\n",
    "grouped = df.groupby(\"Label Word\").agg({\"Label Word\": \"count\", \"Pred_label_Editdistance\": \"sum\", \"Label Word Length\": \"mean\"}).rename({\"Label Word\": \"Count\", \"Pred_label_Editdistance\": \"Total_Edit_Distance\"}, axis=1)\n",
    "grouped[\"mean\"] = grouped[\"Total_Edit_Distance\"] / grouped[\"Count\"]\n",
    "grouped[\"mean\"].mean()\n"
   ]
  },
  {
   "cell_type": "code",
   "execution_count": null,
   "id": "33cc9782-d57d-4cf2-9d25-d2c9cbbc07b8",
   "metadata": {},
   "outputs": [
    {
     "name": "stdout",
     "output_type": "stream",
     "text": [
      "Correlation between Frequency and Avg_Edit_Distance: -0.017754464790179038\n",
      "Correlation between Length and Avg_Edit_Distance: 0.053603651017553856\n",
      "Correlation between Frequency and Avg_Edit_Distance: -0.01673991576951793\n",
      "Correlation between Length and Avg_Edit_Distance: 0.04985416790346151\n"
     ]
    }
   ],
   "source": [
    "def analyze_predictions(data_type):\n",
    "    if data_type not in [\"validation\", \"test\"]:\n",
    "        raise ValueError(\"data_type must be either 'validation' or 'test'\")\n",
    "    \n",
    "    df = pd.read_csv(f\"{data_type}_predictions_{complexity_level}.csv\")\n",
    "    # Calculate word frequency, length, and average edit distance\n",
    "    df['Word'] = df['Input Word'].str.strip()\n",
    "    df['Frequency'] = df.groupby('Word')['Word'].transform('count')\n",
    "    df['Length'] = df['Word'].str.len()\n",
    "    df['Avg_Edit_Distance'] = df.groupby('Word')['Pred_label_Editdistance'].transform('mean')\n",
    "\n",
    "    # Drop duplicates to keep unique words\n",
    "    df_unique = df[['Word', 'Frequency', 'Length', 'Avg_Edit_Distance']].drop_duplicates()\n",
    "\n",
    "    # Calculate correlations\n",
    "    freq_avg_edit_corr = df_unique['Frequency'].corr(df_unique['Avg_Edit_Distance'])\n",
    "    length_avg_edit_corr = df_unique['Length'].corr(df_unique['Avg_Edit_Distance'])\n",
    "\n",
    "    print(f\"Correlation between Frequency and Avg_Edit_Distance: {freq_avg_edit_corr}\")\n",
    "    print(f\"Correlation between Length and Avg_Edit_Distance: {length_avg_edit_corr}\")\n",
    "\n",
    "    df_unique.to_csv(f\"analysis/{data_type}_aggregated_{complexity_level}.csv\", index=False)\n",
    "\n",
    "\n",
    "analyze_predictions(\"validation\")\n",
    "analyze_predictions(\"test\")\n"
   ]
  },
  {
   "cell_type": "markdown",
   "id": "96fe360b",
   "metadata": {},
   "source": [
    "# Hard"
   ]
  },
  {
   "cell_type": "code",
   "execution_count": 17,
   "id": "a0683f51",
   "metadata": {},
   "outputs": [
    {
     "name": "stdout",
     "output_type": "stream",
     "text": [
      "cuda:0\n",
      "True\n"
     ]
    }
   ],
   "source": [
    "from model_train_hard import device, complexity_level, max_length, batch_size, input_size, hidden_size, output_size, num_layers, complexity_level, model, loss_function, optimizer, epochs"
   ]
  },
  {
   "cell_type": "code",
   "execution_count": 18,
   "id": "452ff379",
   "metadata": {},
   "outputs": [
    {
     "data": {
      "text/plain": [
       "(device(type='cuda', index=0), 'Hard')"
      ]
     },
     "execution_count": 18,
     "metadata": {},
     "output_type": "execute_result"
    }
   ],
   "source": [
    "device, complexity_level"
   ]
  },
  {
   "cell_type": "code",
   "execution_count": 19,
   "id": "ba89c68c",
   "metadata": {},
   "outputs": [],
   "source": [
    "train_loader, validation_loader, test_loader = prepare_data(complexity_level = complexity_level,\n",
    "                                                            max_length = max_length,\n",
    "                                                            batch_size = batch_size)"
   ]
  },
  {
   "cell_type": "code",
   "execution_count": 20,
   "id": "01af1f91",
   "metadata": {},
   "outputs": [
    {
     "name": "stdout",
     "output_type": "stream",
     "text": [
      "torch.Size([512, 151]) torch.Size([512, 151])\n",
      "(array([ 0,  1,  2,  3,  4,  5,  6,  7,  8,  9, 10, 11, 12, 13, 14, 15, 16,\n",
      "       17, 18, 19, 20, 21, 22, 23, 24, 25, 26, 27], dtype=int64), array([32341,  3390,   592,  1218,  1492,  4320,   847,   645,  1798,\n",
      "        2873,    94,   250,  1565,   956,  2857,  2710,   787,    28,\n",
      "        2487,  2484,  3186,   959,   346,   632,    65,   571,    55,\n",
      "        7764], dtype=int64))\n",
      "cpu\n"
     ]
    }
   ],
   "source": [
    "for sample in train_loader:\n",
    "    X, y = sample\n",
    "    print(X.shape, y.shape)\n",
    "    print(np.unique(y.cpu(), return_counts=True))\n",
    "    print(X.device)\n",
    "    break"
   ]
  },
  {
   "cell_type": "code",
   "execution_count": 21,
   "id": "f917ca86",
   "metadata": {},
   "outputs": [
    {
     "data": {
      "text/plain": [
       "CharBiLSTM(\n",
       "  (lstm): LSTM(1, 512, batch_first=True, bidirectional=True)\n",
       "  (fc): Linear(in_features=1024, out_features=29, bias=True)\n",
       ")"
      ]
     },
     "execution_count": 21,
     "metadata": {},
     "output_type": "execute_result"
    }
   ],
   "source": [
    "if complexity_level.lower() == 'easy':\n",
    "    PATH = f'models/{complexity_level.lower()}/model_1154.pt'\n",
    "else:\n",
    "    PATH = f'models/{complexity_level.lower()}/model_987.pt'\n",
    "\n",
    "model.load_state_dict(torch.load(PATH, weights_only=True))\n",
    "model.eval()"
   ]
  },
  {
   "cell_type": "code",
   "execution_count": 22,
   "id": "847dc751",
   "metadata": {},
   "outputs": [],
   "source": [
    "# get_metrics(train_loader, model, \"train\", f\"train_predictions_{complexity_level}.csv\", n_print)"
   ]
  },
  {
   "cell_type": "code",
   "execution_count": 23,
   "id": "217b281e",
   "metadata": {},
   "outputs": [
    {
     "data": {
      "application/vnd.jupyter.widget-view+json": {
       "model_id": "8cddc8de4e0643b1b4125fbba8f1b9f5",
       "version_major": 2,
       "version_minor": 0
      },
      "text/plain": [
       "  0%|          | 0/77 [00:00<?, ?it/s]"
      ]
     },
     "metadata": {},
     "output_type": "display_data"
    },
    {
     "name": "stdout",
     "output_type": "stream",
     "text": [
      "Word input: it Word pred: it Editdistance: 0.0\n",
      "Word label: it Word pred: it Editdistance: 0.0\n",
      "\n",
      "Word input: is Word pred: is Editdistance: 0.0\n",
      "Word label: is Word pred: is Editdistance: 0.0\n",
      "\n",
      "Word input: clltceauad Word pred: callecatad Editdistance: 0.6\n",
      "Word label: calculated Word pred: callecatad Editdistance: 0.4\n",
      "\n",
      "Word input: in Word pred: in Editdistance: 0.0\n",
      "Word label: in Word pred: in Editdistance: 0.0\n",
      "\n",
      "Word input: real Word pred: raal Editdistance: 0.0\n",
      "Word label: real Word pred: raal Editdistance: 0.25\n",
      "\n",
      "Word input: tmie Word pred: time Editdistance: 0.5\n",
      "Word label: time Word pred: time Editdistance: 0.0\n",
      "\n",
      "Word input: and Word pred: and Editdistance: 0.0\n",
      "Word label: and Word pred: and Editdistance: 0.0\n",
      "\n",
      "Word input: piseubhld Word pred: phblihhed Editdistance: 0.6666666666666666\n",
      "Word label: published Word pred: phblihhed Editdistance: 0.2222222222222222\n",
      "\n",
      "Word input: eervy Word pred: eesty Editdistance: 0.4\n",
      "Word label: every Word pred: eesty Editdistance: 0.6\n",
      "\n",
      "Word input: sdcones Word pred: secndds Editdistance: 0.2857142857142857\n",
      "Word label: seconds Word pred: secndds Editdistance: 0.2857142857142857\n",
      "\n",
      "Word input: when Word pred: when Editdistance: 0.0\n",
      "Word label: when Word pred: when Editdistance: 0.0\n",
      "\n",
      "Word input: the Word pred: the Editdistance: 0.0\n",
      "Word label: the Word pred: the Editdistance: 0.0\n",
      "\n",
      "Word input: mraekt Word pred: majels Editdistance: 0.5\n",
      "Word label: market Word pred: majels Editdistance: 0.6666666666666666\n",
      "\n",
      "Word input: is Word pred: is Editdistance: 0.0\n",
      "Word label: is Word pred: is Editdistance: 0.0\n",
      "\n",
      "Word input: oepn Word pred: ppen Editdistance: 0.5\n",
      "Word label: open Word pred: ppen Editdistance: 0.25\n",
      "\n",
      "\n",
      "Displaying the first 20 rows from the output file:\n",
      "\n",
      "Input Word      | Label Word      | Predicted Word\n",
      "--------------------------------------------------\n",
      "it              | it              | it\n",
      "is              | is              | is\n",
      "clltceauad      | calculated      | callecatad\n",
      "in              | in              | in\n",
      "real            | real            | raal\n",
      "tmie            | time            | time\n",
      "and             | and             | and\n",
      "piseubhld       | published       | phblihhed\n",
      "eervy           | every           | eesty\n",
      "sdcones         | seconds         | secndds\n",
      "when            | when            | when\n",
      "the             | the             | the\n",
      "mraekt          | market          | majels\n",
      "is              | is              | is\n",
      "oepn            | open            | ppen\n",
      "those           | those           | those\n",
      "suiteds         | studies         | seuuies\n",
      "iidntcaed       | indicated       | inclaised\n",
      "a               | a               | a\n",
      "muaixmm         | maximum         | maximam\n",
      "\n",
      "validation Loss: 2.8216\n",
      "\n",
      "validation Accuracy: 0.3774, F1 Score: 0.3284\n",
      "\n",
      "validation Average Normalized Edit Distance Word-Level Pred-Label: 0.1706\n",
      "\n",
      "validation Average Normalized Edit Distance Word-Level Typo-Label: 0.2413\n",
      "\n",
      "validation Average Normalized Edit Distance Sentence-Level Pred-Label: 0.17315840396748192\n",
      "\n",
      "validation Average Normalized Edit Distance Sentence-Level Typo-Label: 0.24386162272487757\n"
     ]
    }
   ],
   "source": [
    "get_metrics(validation_loader, model, \"validation\", f\"validation_predictions_{complexity_level}.csv\", n_print)"
   ]
  },
  {
   "cell_type": "code",
   "execution_count": 24,
   "id": "e0f5b5bc",
   "metadata": {},
   "outputs": [
    {
     "data": {
      "application/vnd.jupyter.widget-view+json": {
       "model_id": "6dedc2a06db04890a03ff0e0e995be83",
       "version_major": 2,
       "version_minor": 0
      },
      "text/plain": [
       "  0%|          | 0/96 [00:00<?, ?it/s]"
      ]
     },
     "metadata": {},
     "output_type": "display_data"
    },
    {
     "name": "stdout",
     "output_type": "stream",
     "text": [
      "Word input: koelrimets Word pred: koemeetees Editdistance: 0.6\n",
      "Word label: kilometres Word pred: koemeetees Editdistance: 0.5\n",
      "\n",
      "Word input: lnog Word pred: kong Editdistance: 0.5\n",
      "Word label: long Word pred: kong Editdistance: 0.25\n",
      "\n",
      "Word input: and Word pred: and Editdistance: 0.0\n",
      "Word label: and Word pred: and Editdistance: 0.0\n",
      "\n",
      "Word input: is Word pred: is Editdistance: 0.0\n",
      "Word label: is Word pred: is Editdistance: 0.0\n",
      "\n",
      "Word input: noted Word pred: noted Editdistance: 0.0\n",
      "Word label: noted Word pred: noted Editdistance: 0.0\n",
      "\n",
      "Word input: for Word pred: for Editdistance: 0.0\n",
      "Word label: for Word pred: for Editdistance: 0.0\n",
      "\n",
      "Word input: its Word pred: its Editdistance: 0.0\n",
      "Word label: its Word pred: its Editdistance: 0.0\n",
      "\n",
      "Word input: snweipeg Word pred: seeeeing Editdistance: 0.5\n",
      "Word label: sweeping Word pred: seeeeing Editdistance: 0.25\n",
      "\n",
      "Word input: coerrns Word pred: correes Editdistance: 0.5714285714285714\n",
      "Word label: corners Word pred: correes Editdistance: 0.2857142857142857\n",
      "\n",
      "Word input: and Word pred: and Editdistance: 0.0\n",
      "Word label: and Word pred: and Editdistance: 0.0\n",
      "\n",
      "Word input: wide Word pred: wide Editdistance: 0.0\n",
      "Word label: wide Word pred: wide Editdistance: 0.0\n",
      "\n",
      "Word input: sitrghtas Word pred: shrttghhs Editdistance: 0.4444444444444444\n",
      "Word label: straights Word pred: shrttghhs Editdistance: 0.4444444444444444\n",
      "\n",
      "\n",
      "Displaying the first 20 rows from the output file:\n",
      "\n",
      "Input Word      | Label Word      | Predicted Word\n",
      "--------------------------------------------------\n",
      "koelrimets      | kilometres      | koemeetees\n",
      "lnog            | long            | kong\n",
      "and             | and             | and\n",
      "is              | is              | is\n",
      "noted           | noted           | noted\n",
      "for             | for             | for\n",
      "its             | its             | its\n",
      "snweipeg        | sweeping        | seeeeing\n",
      "coerrns         | corners         | correes\n",
      "and             | and             | and\n",
      "wide            | wide            | wide\n",
      "sitrghtas       | straights       | shrttghhs\n",
      "prel            | perl            | peek\n",
      "rvceeied        | received        | rebehved\n",
      "hlaf            | half            | half\n",
      "for             | for             | for\n",
      "the             | the             | the\n",
      "dvscrioey       | discovery       | duproscry\n",
      "of              | of              | of\n",
      "the             | the             | the\n",
      "\n",
      "test Loss: 2.8207\n",
      "\n",
      "test Accuracy: 0.3774, F1 Score: 0.3283\n",
      "\n",
      "test Average Normalized Edit Distance Word-Level Pred-Label: 0.1697\n",
      "\n",
      "test Average Normalized Edit Distance Word-Level Typo-Label: 0.2415\n",
      "\n",
      "test Average Normalized Edit Distance Sentence-Level Pred-Label: 0.17229655271623248\n",
      "\n",
      "test Average Normalized Edit Distance Sentence-Level Typo-Label: 0.2435861814003325\n"
     ]
    }
   ],
   "source": [
    "get_metrics(test_loader, model, \"test\", f\"test_predictions_{complexity_level}.csv\", n_print)"
   ]
  },
  {
   "cell_type": "markdown",
   "id": "04ee906c",
   "metadata": {},
   "source": [
    "# Model Analysis"
   ]
  },
  {
   "cell_type": "code",
   "execution_count": 25,
   "id": "0d46a77c",
   "metadata": {},
   "outputs": [
    {
     "name": "stdout",
     "output_type": "stream",
     "text": [
      "Correlation between Frequency and Avg_Edit_Distance: -0.017291266680612438\n",
      "Correlation between Length and Avg_Edit_Distance: 0.06825150948150824\n",
      "Correlation between Frequency and Avg_Edit_Distance: -0.016191566128198297\n",
      "Correlation between Length and Avg_Edit_Distance: 0.05909745763675323\n"
     ]
    }
   ],
   "source": [
    "analyze_predictions(\"validation\")\n",
    "analyze_predictions(\"test\")"
   ]
  }
 ],
 "metadata": {
  "kernelspec": {
   "display_name": "base",
   "language": "python",
   "name": "python3"
  },
  "language_info": {
   "codemirror_mode": {
    "name": "ipython",
    "version": 3
   },
   "file_extension": ".py",
   "mimetype": "text/x-python",
   "name": "python",
   "nbconvert_exporter": "python",
   "pygments_lexer": "ipython3",
   "version": "3.12.7"
  }
 },
 "nbformat": 4,
 "nbformat_minor": 5
}
