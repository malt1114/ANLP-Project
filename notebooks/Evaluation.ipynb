{
 "cells": [
  {
   "cell_type": "markdown",
   "id": "1ea4a4c3-44d9-415d-855d-afa58addf0be",
   "metadata": {},
   "source": [
    "# Settings"
   ]
  },
  {
   "cell_type": "code",
   "execution_count": 1,
   "id": "0a00071e-4324-4de2-947f-d0385b367325",
   "metadata": {},
   "outputs": [
    {
     "data": {
      "text/plain": [
       "'c:\\\\Users\\\\ruben\\\\OneDrive\\\\Dokumenter\\\\GitHub\\\\ANLP-Project'"
      ]
     },
     "execution_count": 1,
     "metadata": {},
     "output_type": "execute_result"
    }
   ],
   "source": [
    "import sys\n",
    "import os\n",
    "\n",
    "os.chdir('..')\n",
    "os.getcwd()"
   ]
  },
  {
   "cell_type": "code",
   "execution_count": 2,
   "id": "6000c37a",
   "metadata": {},
   "outputs": [
    {
     "data": {
      "text/plain": [
       "'c:\\\\Users\\\\ruben\\\\OneDrive\\\\Dokumenter\\\\GitHub\\\\ANLP-Project'"
      ]
     },
     "execution_count": 2,
     "metadata": {},
     "output_type": "execute_result"
    }
   ],
   "source": [
    "import os\n",
    "os.getcwd()\n"
   ]
  },
  {
   "cell_type": "markdown",
   "id": "cddda24b-27a5-40cc-93d9-6a0fbf3c2de1",
   "metadata": {},
   "source": [
    "# Imports"
   ]
  },
  {
   "cell_type": "code",
   "execution_count": 3,
   "id": "f6abbde7-dc63-471e-8d5f-5a31201c1963",
   "metadata": {},
   "outputs": [
    {
     "name": "stderr",
     "output_type": "stream",
     "text": [
      "C:\\Users\\ruben\\AppData\\Local\\Temp\\ipykernel_26688\\2098325508.py:12: TqdmExperimentalWarning: Using `tqdm.autonotebook.tqdm` in notebook mode. Use `tqdm.tqdm` instead to force console mode (e.g. in jupyter console)\n",
      "  from tqdm.autonotebook import trange, tqdm\n"
     ]
    }
   ],
   "source": [
    "from scripts.model import CharBiLSTM, prepare_data\n",
    "from scripts.data import create_data_loader, load_data\n",
    "from scripts.preprocessing import get_typoglycemia_modified_data, sentence_tokennizer, tokenize_dataframe, get_max_length\n",
    "from scripts.baseline import get_base_line_score\n",
    "\n",
    "from torch import nn, optim\n",
    "import torch\n",
    "\n",
    "from sklearn.model_selection import train_test_split\n",
    "\n",
    "import editdistance\n",
    "from tqdm.autonotebook import trange, tqdm\n",
    "import random \n",
    "\n",
    "from sklearn.metrics import f1_score, accuracy_score\n",
    "import numpy as np\n",
    "\n",
    "import pandas as pd\n",
    "import matplotlib.pyplot as plt"
   ]
  },
  {
   "cell_type": "markdown",
   "id": "1176928e-b58d-46cb-a601-262e9fecfd37",
   "metadata": {},
   "source": [
    "# Easy"
   ]
  },
  {
   "cell_type": "code",
   "execution_count": 4,
   "id": "fd431642-6d32-4817-8b8c-f89994953e5b",
   "metadata": {},
   "outputs": [
    {
     "name": "stdout",
     "output_type": "stream",
     "text": [
      "cuda:0\n",
      "True\n"
     ]
    }
   ],
   "source": [
    "from model_train_easy import device, complexity_level, max_length, batch_size, input_size, hidden_size, output_size, num_layers, complexity_level, model, loss_function, optimizer, epochs"
   ]
  },
  {
   "cell_type": "code",
   "execution_count": 5,
   "id": "6ac98230-142d-40ba-9c8c-1fc24e06329e",
   "metadata": {},
   "outputs": [
    {
     "data": {
      "text/plain": [
       "(device(type='cuda', index=0), 'Easy')"
      ]
     },
     "execution_count": 5,
     "metadata": {},
     "output_type": "execute_result"
    }
   ],
   "source": [
    "device, complexity_level"
   ]
  },
  {
   "cell_type": "code",
   "execution_count": 6,
   "id": "a58c359c-3e09-4364-9a7d-a6ac8de05764",
   "metadata": {},
   "outputs": [],
   "source": [
    "train_loader, validation_loader, test_loader = prepare_data(complexity_level = complexity_level,\n",
    "                                                            max_length = max_length,\n",
    "                                                            batch_size = batch_size)"
   ]
  },
  {
   "cell_type": "code",
   "execution_count": 7,
   "id": "df6bdb0d-0e96-4f74-b6b2-572c8b485716",
   "metadata": {},
   "outputs": [
    {
     "name": "stdout",
     "output_type": "stream",
     "text": [
      "torch.Size([512, 151]) torch.Size([512, 151])\n",
      "(array([ 0,  1,  2,  3,  4,  5,  6,  7,  8,  9, 10, 11, 12, 13, 14, 15, 16,\n",
      "       17, 18, 19, 20, 21, 22, 23, 24, 25, 26, 27], dtype=int64), array([42664,  2671,   496,   871,  1070,  3389,   641,   505,  1458,\n",
      "        2273,    73,   228,  1136,   731,  2182,  1902,   517,    19,\n",
      "        1799,  1956,  2492,   765,   248,   511,    41,   438,    44,\n",
      "        6192], dtype=int64))\n",
      "cpu\n"
     ]
    }
   ],
   "source": [
    "for sample in train_loader:\n",
    "    X, y = sample\n",
    "    print(X.shape, y.shape)\n",
    "    print(np.unique(y.cpu(), return_counts=True))\n",
    "    print(X.device)\n",
    "    break"
   ]
  },
  {
   "cell_type": "code",
   "execution_count": 8,
   "id": "7eeb2c90",
   "metadata": {},
   "outputs": [
    {
     "data": {
      "text/plain": [
       "'c:\\\\Users\\\\ruben\\\\OneDrive\\\\Dokumenter\\\\GitHub\\\\ANLP-Project'"
      ]
     },
     "execution_count": 8,
     "metadata": {},
     "output_type": "execute_result"
    }
   ],
   "source": [
    "os.getcwd()"
   ]
  },
  {
   "cell_type": "code",
   "execution_count": 9,
   "id": "8479efdc-13ab-473f-8de5-76b7a0f3ff9d",
   "metadata": {},
   "outputs": [
    {
     "data": {
      "text/plain": [
       "CharBiLSTM(\n",
       "  (lstm): LSTM(1, 512, batch_first=True, bidirectional=True)\n",
       "  (fc): Linear(in_features=1024, out_features=29, bias=True)\n",
       ")"
      ]
     },
     "execution_count": 9,
     "metadata": {},
     "output_type": "execute_result"
    }
   ],
   "source": [
    "if complexity_level.lower() == 'easy':\n",
    "    PATH = f'models/{complexity_level.lower()}/model_408.pt'\n",
    "else:\n",
    "    PATH = f'models/{complexity_level.lower()}/model_951.pt'\n",
    "\n",
    "model.load_state_dict(torch.load(PATH, weights_only=True, map_location=torch.device('cpu')))\n",
    "model.eval()"
   ]
  },
  {
   "cell_type": "code",
   "execution_count": 17,
   "id": "adb9886f-f783-4894-9471-a33d36e5120d",
   "metadata": {},
   "outputs": [],
   "source": [
    "# def index_to_char(index, target = True):\n",
    "#     if target == False:\n",
    "#         index = round(index*100, 0)\n",
    "#     index = int(index)\n",
    "#     if 1 <= index <= 25:\n",
    "#         return chr(index + ord('a') - 1), index\n",
    "#     elif index == 26:\n",
    "#         return ' ', index\n",
    "#     elif index == 27:\n",
    "#         return \"<SENTSTOP>\", index\n",
    "#     else:\n",
    "#         return \"_\", index  # for all other values, return None\n",
    "    \n",
    "\n",
    "def index_to_char(index, target = True):\n",
    "    if target == False:\n",
    "        index = round(index*100, 0)\n",
    "    index = int(index)\n",
    "    if 1 <= index <= 26:\n",
    "        return chr(index + ord('a') - 1), index\n",
    "    elif index == 27:\n",
    "        return ' ', index\n",
    "    elif index == 28:\n",
    "        return \"<SENTSTOP>\", index\n",
    "    else:\n",
    "        return \"_\", index  # for all other values, return None"
   ]
  },
  {
   "cell_type": "code",
   "execution_count": 26,
   "id": "31edfb9a",
   "metadata": {},
   "outputs": [],
   "source": [
    "import csv\n",
    "import editdistance\n",
    "\n",
    "def get_metrics(loader, model, loader_str, output_file=\"output.csv\", sample_size=10):\n",
    "    preds = []\n",
    "    labels = []\n",
    "    inputs = []  # To store input sequences\n",
    "    \n",
    "    model.eval()\n",
    "    loss = 0.0\n",
    "    csv_data = [[\"Input Word\", \"Label_Input_Editdistance\", \"Label Word\", \"Pred_label_Editdistance\", \"Predicted Word\"]]  # CSV header\n",
    "    sentence_label = []\n",
    "    sentence_pred = []\n",
    "    sentence_input = []  # To store input words\n",
    "    all_edit_distances = []\n",
    "    print_count = 0\n",
    "    all_typo_edit_distances = []\n",
    "    all_edit_sentence_distances = []\n",
    "    all_typo_edit_sentence_distances = []\n",
    "\n",
    "    with torch.no_grad():\n",
    "        for batch in tqdm(loader, position=3, leave=False):\n",
    "            typo_batch, sentence_batch = batch  # typo_batch is the input, sentence_batch is the target sequence\n",
    "            typo_batch = typo_batch.to(device)\n",
    "            sentence_batch =sentence_batch.to(device)\n",
    "            \n",
    "            sentence_batch = sentence_batch.reshape(-1, max_length, 1)\n",
    "            typo_batch = typo_batch.reshape(-1, max_length, 1)\n",
    "            \n",
    "            # print(sentence_batch[0])\n",
    "            # for index in range(len(sentence_batch)):\n",
    "            #     sentence = sentence_batch[index].cpu().numpy().reshape(-1)\n",
    "            #     typo = typo_batch[index].cpu().numpy().reshape(-1)\n",
    "\n",
    "            #     for i, value in enumerate(sentence):\n",
    "            #         if value == -1:\n",
    "            #             sentence[i] = 26\n",
    "            #             break\n",
    "\n",
    "            #     for i, value in enumerate(typo):\n",
    "            #         if value == -1:\n",
    "            #             typo[i] = 26\n",
    "            #             break\n",
    "                \n",
    "            #     sentence_batch[index] = torch.tensor(sentence).reshape(max_length, 1).to(device)\n",
    "            #     typo_batch[index] = torch.tensor(typo).reshape(max_length, 1).to(device)\n",
    "            # print(sentence_batch[0])\n",
    "                \n",
    "            # print(typo_batch.shape)\n",
    "            y = model.forward(typo_batch, train=False)\n",
    "\n",
    "            \n",
    "            sentence_batch_loss = sentence_batch.reshape(-1)\n",
    "            # Calculate and accumulate loss\n",
    "            loss_batch = loss_function(y, sentence_batch_loss)\n",
    "            loss += loss_batch.item()\n",
    "            \n",
    "            \n",
    "\n",
    "            word_label = []\n",
    "            word_pred = []\n",
    "            word_input = []\n",
    "            \n",
    "            y = y.reshape(-1, max_length, output_size)\n",
    "            ### Make it work for the nabsew dimensionality\n",
    "            for sentence_index in range(len(y)):\n",
    "                sentence = y[sentence_index]\n",
    "                sentence_labels = sentence_batch[sentence_index]\n",
    "                sentence_inputs = typo_batch[sentence_index]\n",
    "                \n",
    "                sentence_edit_distances = []\n",
    "                typo_sentence_edit_distances = []\n",
    "\n",
    "\n",
    "                # Get predictions, labels, and inputs in a flattened form\n",
    "                batch_preds = torch.argmax(sentence, dim=1).cpu().numpy().reshape(-1)\n",
    "                batch_labels = sentence_labels.cpu().numpy().reshape(-1)\n",
    "                batch_inputs = sentence_inputs.cpu().numpy().reshape(-1)\n",
    "                \n",
    "                # Append these results for later accuracy and F1 calculations\n",
    "                preds.extend(batch_preds)\n",
    "                labels.extend(batch_labels)\n",
    "                inputs.extend(batch_inputs)\n",
    "                # print(\"label_char\", \"pred_char\", \"input_char\")\n",
    "                \n",
    "                # Process each element in the batch\n",
    "                for label_idx in range(len(batch_preds)):\n",
    "                    label_char, label_index_ = index_to_char(batch_labels[label_idx])\n",
    "                    pred_char, pred_index_ = index_to_char(batch_preds[label_idx])\n",
    "                    input_char, input_index_ = index_to_char(batch_inputs[label_idx],target = False)\n",
    "\n",
    "                    # print(f\"label_index_: {label_index_}, pred_index_: {pred_index_}, input_index_: {input_index_}\")\n",
    "\n",
    "                    # Ignore padding characters\n",
    "                    # if label_char != \"_\":\n",
    "                    #     word_label.append(label_char)\n",
    "                    # if pred_char != \"_\":\n",
    "                    #     word_pred.append(pred_char)\n",
    "                    # if input_char != \"_\":\n",
    "                    #     word_input.append(input_char)\n",
    "                    \n",
    "                    if label_char not in [\"_\", \" \"]:\n",
    "                        word_label.append(label_char)\n",
    "                    if pred_char not in [\"_\", \" \"]:\n",
    "                        word_pred.append(pred_char)\n",
    "                    if input_char not in [\"_\", \" \"]:\n",
    "                        word_input.append(input_char)\n",
    "\n",
    "                    print(\"Label\", label_char, label_index_, \"Input\", input_char, input_index_, \"Pred\", pred_char, pred_index_)\n",
    " \n",
    "\n",
    "                    # If end of a word (detected by space), append word to csv_data\n",
    "                    # print(\"Label\", label_char, label_index_, \"Input\", input_char, input_index_, \"Pred\", pred_char, pred_index_)\n",
    "\n",
    "                    if ((label_char == \" \" ) or (label_char == \"<SENTSTOP>\" )) and len(word_label) > 0:\n",
    "                        # Join and append the completed word to csv data\n",
    "                        \n",
    "                        # remove any instances of \"<SENTSTOP>\" from the word_label\n",
    "                        word_label = [char for char in word_label if char != \"<SENTSTOP>\"]\n",
    "                        word_pred = [char for char in word_pred if char != \"<SENTSTOP>\"]\n",
    "                        word_input = [char for char in word_input if char != \"<SENTSTOP>\"]\n",
    "                        try:\n",
    "                            distance = editdistance.eval(\"\".join(word_pred), \"\".join(word_label)) / len(\"\".join(word_label))\n",
    "                            sentence_edit_distances.append(distance)\n",
    "                        except:\n",
    "                            pass                        \n",
    "                        try:\n",
    "                            distance_typo_label = editdistance.eval(\"\".join(word_input), \"\".join(word_label)) / len(\"\".join(word_label))\n",
    "                            typo_sentence_edit_distances.append(distance_typo_label)\n",
    "                        except:\n",
    "                            pass\n",
    "\n",
    "                        if print_count == 0 and len(word_label) > 0:\n",
    "                            ...\n",
    "                            #print(f\"Word input: {''.join(word_input)} Word pred: {''.join(word_pred)} Editdistance: {distance_typo_label}\")\n",
    "                            #print(f\"Word label: {''.join(word_label)} Word pred: {''.join(word_pred)} Editdistance: {distance}\\n\")\n",
    "                        csv_data.append([\"\".join(word_input), distance_typo_label, \"\".join(word_label), distance, \"\".join(word_pred)])\n",
    "                        # Clear the lists for the next word\n",
    "                        word_label = []\n",
    "                        word_pred = []\n",
    "                        word_input = []\n",
    "                \n",
    "                try:\n",
    "                    distance = editdistance.eval(\"\".join(word_pred), \"\".join(word_label)) / len(\"\".join(word_label))\n",
    "                    sentence_edit_distances.append(distance)\n",
    "\n",
    "                    distance_typo_label = editdistance.eval(\"\".join(word_input), \"\".join(word_label)) / len(\"\".join(word_label))\n",
    "                    typo_sentence_edit_distances.append(distance_typo_label)\n",
    "                    csv_data.append([\"\".join(word_input), distance_typo_label, \"\".join(word_label), distance, \"\".join(word_pred)])\n",
    "                    \n",
    "                except:\n",
    "                    pass\n",
    "                    #print(f\"FAILED ON word_input '{word_input}'\", \"word_pred\", word_pred)\n",
    "\n",
    "                all_edit_distances.extend(sentence_edit_distances)\n",
    "                all_edit_sentence_distances.append(np.mean(sentence_edit_distances))\n",
    "                all_typo_edit_distances.extend(typo_sentence_edit_distances)\n",
    "                all_typo_edit_sentence_distances.append(np.mean(typo_sentence_edit_distances))\n",
    "\n",
    "                if print_count == 0 and len(word_label) > 0:\n",
    "                    ...\n",
    "                    #print(f\"Word input: {''.join(word_input)} Word pred: {''.join(word_pred)} Editdistance: {distance_typo_label}\")\n",
    "                    #print(f\"Word label: {''.join(word_label)} Word pred: {''.join(word_pred)} Editdistance: {distance}\\n\")\n",
    "                    #print(f\"Word label: {\"\".join(word_label)} Word pred: {\"\".join(word_pred)} Editdistance: {distance} \\n\")                   \n",
    "                    #print(f\"All sentence edit distances\", sentence_edit_distances)\n",
    "                    #print(f\"Average Normalized Edit Distance Pred-Label: {sum(sentence_edit_distances) / len(sentence_edit_distances):.4f}\")\n",
    "                    #print(f\"Average Normalized Edit Distance Input-Label: {sum(typo_sentence_edit_distances) / len(typo_sentence_edit_distances):.4f}\")\n",
    "                word_label = []\n",
    "                word_pred = []\n",
    "                word_input = []\n",
    "                # print_count += 1\n",
    "            #     break\n",
    "            # break\n",
    "            \n",
    "\n",
    "    # Write data to CSV file\n",
    "    with open(output_file, mode=\"w\", newline=\"\") as file:\n",
    "        writer = csv.writer(file)\n",
    "        writer.writerows(csv_data)\n",
    "    \n",
    "    # Display a subset of rows in the old format for console output\n",
    "    print(f\"\\nDisplaying the first {sample_size} rows from the output file:\\n\")\n",
    "    print(\"Input Word      | Label Word      | Predicted Word\")\n",
    "    print(\"-\" * 50)\n",
    "    for row in csv_data[1:sample_size + 1]:  # Skip header row, take only `sample_size` rows\n",
    "        print(f\"{row[0]:<15} | {row[2]:<15} | {row[4]}\")\n",
    "    \n",
    "    # Compute and display metrics\n",
    "    loss_avg = loss / len(loader)\n",
    "    print(f\"\\n{loader_str} Loss: {loss_avg:.4f}\")\n",
    "    accuracy = accuracy_score(labels, preds)\n",
    "    f1 = f1_score(labels, preds, average='weighted')\n",
    "\n",
    "\n",
    "    # # ADD EDIT DISTANCE METRIC HERE\n",
    "    \n",
    "    \n",
    "    print(f\"\\n{loader_str} Accuracy: {accuracy:.4f}, F1 Score: {f1:.4f}\")\n",
    "    # Calculate average edit distance\n",
    "    avg_edit_distance = sum(all_edit_distances) / len(all_edit_distances)\n",
    "    avg_edit_distance_typo = sum(all_typo_edit_distances) / len(all_typo_edit_distances)\n",
    "    print(f\"\\n{loader_str} Average Normalized Edit Distance Word-Level Pred-Label: {avg_edit_distance:.4f}\")\n",
    "    print(f\"\\n{loader_str} Average Normalized Edit Distance Word-Level Typo-Label: {avg_edit_distance_typo:.4f}\")\n",
    "\n",
    "    print(f\"\\n{loader_str} Average Normalized Edit Distance Sentence-Level Pred-Label: {np.mean(all_edit_sentence_distances)}\")\n",
    "    print(f\"\\n{loader_str} Average Normalized Edit Distance Sentence-Level Typo-Label: {np.mean(all_typo_edit_sentence_distances)}\")\n"
   ]
  },
  {
   "cell_type": "code",
   "execution_count": 27,
   "id": "14f76451-8a1f-4457-aba3-32bfccc076e0",
   "metadata": {},
   "outputs": [],
   "source": [
    "n_print = 100"
   ]
  },
  {
   "cell_type": "code",
   "execution_count": 28,
   "id": "835e22cb-97f5-4232-b739-32b39935cf48",
   "metadata": {},
   "outputs": [],
   "source": [
    "# get_metrics(train_loader, model, \"train\", f\"train_predictions_{complexity_level}.csv\", n_print)"
   ]
  },
  {
   "cell_type": "code",
   "execution_count": 29,
   "id": "16f02c01-46d1-4249-ba0c-28021e49ecbe",
   "metadata": {
    "scrolled": true
   },
   "outputs": [
    {
     "data": {
      "application/vnd.jupyter.widget-view+json": {
       "model_id": "4792cd1fac9d42cc9a591c1a151846f2",
       "version_major": 2,
       "version_minor": 0
      },
      "text/plain": [
       "  0%|          | 0/95 [00:00<?, ?it/s]"
      ]
     },
     "metadata": {},
     "output_type": "display_data"
    },
    {
     "name": "stdout",
     "output_type": "stream",
     "text": [
      "Label i 9 Input i 9 Pred i 9\n",
      "Label t 20 Input t 20 Pred t 20\n",
      "Label   27 Input   27 Pred   27\n",
      "Label i 9 Input i 9 Pred i 9\n",
      "Label s 19 Input s 19 Pred s 19\n",
      "Label   27 Input   27 Pred   27\n",
      "Label a 1 Input a 1 Pred a 1\n",
      "Label   27 Input   27 Pred   27\n",
      "Label m 13 Input m 13 Pred m 13\n",
      "Label u 21 Input u 21 Pred a 1\n",
      "Label c 3 Input c 3 Pred c 3\n",
      "Label h 8 Input h 8 Pred h 8\n",
      "Label   27 Input   27 Pred   27\n",
      "Label d 4 Input d 4 Pred d 4\n",
      "Label r 18 Input i 9 Pred i 9\n",
      "Label i 9 Input e 5 Pred s 19\n",
      "Label e 5 Input r 18 Pred e 5\n",
      "Label r 18 Input r 18 Pred r 18\n",
      "Label   27 Input   27 Pred   27\n",
      "Label a 1 Input a 1 Pred a 1\n",
      "Label r 18 Input e 5 Pred r 18\n",
      "Label e 5 Input r 18 Pred e 5\n",
      "Label a 1 Input a 1 Pred a 1\n",
      "Label   27 Input   27 Pred   27\n",
      "Label o 15 Input o 15 Pred o 15\n",
      "Label f 6 Input f 6 Pred f 6\n",
      "Label   27 Input   27 Pred   27\n",
      "Label t 20 Input t 20 Pred t 20\n",
      "Label h 8 Input h 8 Pred h 8\n",
      "Label e 5 Input e 5 Pred e 5\n",
      "Label   27 Input   27 Pred   27\n",
      "Label c 3 Input c 3 Pred c 3\n",
      "Label o 15 Input r 18 Pred o 15\n",
      "Label u 21 Input n 14 Pred u 21\n",
      "Label n 14 Input o 15 Pred n 14\n",
      "Label t 20 Input u 21 Pred t 20\n",
      "Label r 18 Input t 20 Pred r 18\n",
      "Label y 25 Input y 25 Pred y 25\n",
      "Label   27 Input   27 Pred   27\n",
      "Label t 20 Input t 20 Pred t 20\n",
      "Label h 8 Input a 1 Pred h 8\n",
      "Label a 1 Input h 8 Pred a 1\n",
      "Label n 14 Input n 14 Pred n 14\n",
      "Label   27 Input   27 Pred   27\n",
      "Label t 20 Input t 20 Pred t 20\n",
      "Label h 8 Input h 8 Pred h 8\n",
      "Label e 5 Input e 5 Pred a 1\n",
      "Label   27 Input   27 Pred   27\n",
      "Label s 19 Input s 19 Pred s 19\n",
      "Label o 15 Input o 15 Pred o 15\n",
      "Label u 21 Input t 20 Pred u 21\n",
      "Label t 20 Input u 21 Pred t 20\n",
      "Label h 8 Input h 8 Pred h 8\n",
      "Label   27 Input   27 Pred <SENTSTOP> 28\n",
      "Label _ 0 Input _ 0 Pred a 1\n",
      "Label _ 0 Input _ 0 Pred f 6\n",
      "Label _ 0 Input _ 0 Pred a 1\n",
      "Label _ 0 Input _ 0 Pred i 9\n",
      "Label _ 0 Input _ 0 Pred a 1\n",
      "Label _ 0 Input _ 0 Pred a 1\n",
      "Label _ 0 Input _ 0 Pred a 1\n",
      "Label _ 0 Input _ 0 Pred h 8\n",
      "Label _ 0 Input _ 0 Pred f 6\n",
      "Label _ 0 Input _ 0 Pred i 9\n",
      "Label _ 0 Input _ 0 Pred a 1\n",
      "Label _ 0 Input _ 0 Pred a 1\n",
      "Label _ 0 Input _ 0 Pred a 1\n",
      "Label _ 0 Input _ 0 Pred a 1\n",
      "Label _ 0 Input _ 0 Pred a 1\n",
      "Label _ 0 Input _ 0 Pred a 1\n",
      "Label _ 0 Input _ 0 Pred a 1\n",
      "Label _ 0 Input _ 0 Pred a 1\n",
      "Label _ 0 Input _ 0 Pred a 1\n",
      "Label _ 0 Input _ 0 Pred a 1\n",
      "Label _ 0 Input _ 0 Pred k 11\n",
      "Label _ 0 Input _ 0 Pred a 1\n",
      "Label _ 0 Input _ 0 Pred a 1\n",
      "Label _ 0 Input _ 0 Pred f 6\n",
      "Label _ 0 Input _ 0 Pred h 8\n",
      "Label _ 0 Input _ 0 Pred a 1\n",
      "Label _ 0 Input _ 0 Pred a 1\n",
      "Label _ 0 Input _ 0 Pred a 1\n",
      "Label _ 0 Input _ 0 Pred a 1\n",
      "Label _ 0 Input _ 0 Pred f 6\n",
      "Label _ 0 Input _ 0 Pred a 1\n",
      "Label _ 0 Input _ 0 Pred a 1\n",
      "Label _ 0 Input _ 0 Pred a 1\n",
      "Label _ 0 Input _ 0 Pred f 6\n",
      "Label _ 0 Input _ 0 Pred a 1\n",
      "Label _ 0 Input _ 0 Pred f 6\n",
      "Label _ 0 Input _ 0 Pred a 1\n",
      "Label _ 0 Input _ 0 Pred a 1\n",
      "Label _ 0 Input _ 0 Pred a 1\n",
      "Label _ 0 Input _ 0 Pred a 1\n",
      "Label _ 0 Input _ 0 Pred a 1\n",
      "Label _ 0 Input _ 0 Pred a 1\n",
      "Label _ 0 Input _ 0 Pred a 1\n",
      "Label _ 0 Input _ 0 Pred a 1\n",
      "Label _ 0 Input _ 0 Pred a 1\n",
      "Label _ 0 Input _ 0 Pred a 1\n",
      "Label _ 0 Input _ 0 Pred a 1\n",
      "Label _ 0 Input _ 0 Pred a 1\n",
      "Label _ 0 Input _ 0 Pred f 6\n",
      "Label _ 0 Input _ 0 Pred f 6\n",
      "Label _ 0 Input _ 0 Pred f 6\n",
      "Label _ 0 Input _ 0 Pred a 1\n",
      "Label _ 0 Input _ 0 Pred f 6\n",
      "Label _ 0 Input _ 0 Pred f 6\n",
      "Label _ 0 Input _ 0 Pred f 6\n",
      "Label _ 0 Input _ 0 Pred f 6\n",
      "Label _ 0 Input _ 0 Pred f 6\n",
      "Label _ 0 Input _ 0 Pred f 6\n",
      "Label _ 0 Input _ 0 Pred f 6\n",
      "Label _ 0 Input _ 0 Pred f 6\n",
      "Label _ 0 Input _ 0 Pred h 8\n",
      "Label _ 0 Input _ 0 Pred f 6\n",
      "Label _ 0 Input _ 0 Pred f 6\n",
      "Label _ 0 Input _ 0 Pred a 1\n",
      "Label _ 0 Input _ 0 Pred f 6\n",
      "Label _ 0 Input _ 0 Pred f 6\n",
      "Label _ 0 Input _ 0 Pred f 6\n",
      "Label _ 0 Input _ 0 Pred a 1\n",
      "Label _ 0 Input _ 0 Pred f 6\n",
      "Label _ 0 Input _ 0 Pred f 6\n",
      "Label _ 0 Input _ 0 Pred f 6\n",
      "Label _ 0 Input _ 0 Pred f 6\n",
      "Label _ 0 Input _ 0 Pred f 6\n",
      "Label _ 0 Input _ 0 Pred f 6\n",
      "Label _ 0 Input _ 0 Pred a 1\n",
      "Label _ 0 Input _ 0 Pred f 6\n",
      "Label _ 0 Input _ 0 Pred a 1\n",
      "Label _ 0 Input _ 0 Pred a 1\n",
      "Label _ 0 Input _ 0 Pred a 1\n",
      "Label _ 0 Input _ 0 Pred a 1\n",
      "Label _ 0 Input _ 0 Pred a 1\n",
      "Label _ 0 Input _ 0 Pred a 1\n",
      "Label _ 0 Input _ 0 Pred a 1\n",
      "Label _ 0 Input _ 0 Pred a 1\n",
      "Label _ 0 Input _ 0 Pred a 1\n",
      "Label _ 0 Input _ 0 Pred a 1\n",
      "Label _ 0 Input _ 0 Pred a 1\n",
      "Label _ 0 Input _ 0 Pred a 1\n",
      "Label _ 0 Input _ 0 Pred a 1\n",
      "Label _ 0 Input _ 0 Pred a 1\n",
      "Label _ 0 Input _ 0 Pred a 1\n",
      "Label _ 0 Input _ 0 Pred a 1\n",
      "Label _ 0 Input _ 0 Pred a 1\n",
      "Label _ 0 Input _ 0 Pred a 1\n",
      "Label _ 0 Input _ 0 Pred a 1\n",
      "Label _ 0 Input _ 0 Pred u 21\n",
      "Label _ 0 Input _ 0 Pred z 26\n",
      "\n",
      "Displaying the first 100 rows from the output file:\n",
      "\n",
      "Input Word      | Label Word      | Predicted Word\n",
      "--------------------------------------------------\n",
      "it              | it              | it\n",
      "is              | is              | is\n",
      "a               | a               | a\n",
      "much            | much            | mach\n",
      "dierr           | drier           | diser\n",
      "aera            | area            | area\n",
      "of              | of              | of\n",
      "the             | the             | the\n",
      "crnouty         | country         | country\n",
      "tahn            | than            | than\n",
      "the             | the             | tha\n",
      "sotuh           | south           | south\n",
      "\n",
      "validation Loss: 0.0276\n",
      "\n",
      "validation Accuracy: 0.3245, F1 Score: 0.2901\n",
      "\n",
      "validation Average Normalized Edit Distance Word-Level Pred-Label: 0.0819\n",
      "\n",
      "validation Average Normalized Edit Distance Word-Level Typo-Label: 0.1976\n",
      "\n",
      "validation Average Normalized Edit Distance Sentence-Level Pred-Label: 0.08194444444444444\n",
      "\n",
      "validation Average Normalized Edit Distance Sentence-Level Typo-Label: 0.1976190476190476\n"
     ]
    }
   ],
   "source": [
    "get_metrics(validation_loader, model, \"validation\", f\"analysis/validation_predictions_{complexity_level}.csv\", n_print)"
   ]
  },
  {
   "cell_type": "code",
   "execution_count": 15,
   "id": "ac37a233-7f0f-4870-8ae7-fc163bef7c57",
   "metadata": {},
   "outputs": [
    {
     "data": {
      "application/vnd.jupyter.widget-view+json": {
       "model_id": "c31ef21ec57c4f2d90ed3f3306adf553",
       "version_major": 2,
       "version_minor": 0
      },
      "text/plain": [
       "  0%|          | 0/118 [00:00<?, ?it/s]"
      ]
     },
     "metadata": {},
     "output_type": "display_data"
    },
    {
     "name": "stdout",
     "output_type": "stream",
     "text": [
      "\n",
      "Displaying the first 100 rows from the output file:\n",
      "\n",
      "Input Word      | Label Word      | Predicted Word\n",
      "--------------------------------------------------\n",
      "cclkos          | clocks          | collis\n",
      "is              | is              | is\n",
      "the             | the             | the\n",
      "tihrd           | third           | third\n",
      "siglne          | single          | single\n",
      "off             | off             | off\n",
      "briisth         | british         | british\n",
      "atelratnive     | alternative     | anternatine\n",
      "rcok            | rock            | rock\n",
      "band            | band            | band\n",
      "cldpolay        | coldplay        | dollally\n",
      "s               | s               | s\n",
      "socned          | second          | second\n",
      "studio          | studio          | studio\n",
      "aublm           | album           | album\n",
      "a               | a               | a\n",
      "rsuh            | rush            | rush\n",
      "of              | of              | of\n",
      "boold           | blood           | boood\n",
      "to              | to              | to\n",
      "the             | the             | the\n",
      "head            | head            | head\n",
      "tehy            | they            | they\n",
      "love            | love            | love\n",
      "one             | one             | one\n",
      "aonhetr         | another         | another\n",
      "so              | so              | so\n",
      "mcuh            | much            | much\n",
      "and             | and             | and\n",
      "agree           | agree           | aggge\n",
      "to              | to              | to\n",
      "saty            | stay            | stry\n",
      "ttoegher        | together        | together\n",
      "uintl           | until           | until\n",
      "the             | the             | the\n",
      "sipnrg          | spring          | string\n",
      "san             | san             | san\n",
      "mnraio          | marino          | marino\n",
      "is              | is              | is\n",
      "the             | the             | the\n",
      "wlord           | world           | world\n",
      "s               | s               | s\n",
      "oedlst          | oldest          | ollist\n",
      "rpulibec        | republic        | republic\n",
      "that            | that            | that\n",
      "sitll           | still           | stiio\n",
      "exsits          | exists          | fxiits\n",
      "in              | in              | in\n",
      "the             | the             | the\n",
      "sotuh           | south           | south\n",
      "the             | the             | the\n",
      "st              | st              | st\n",
      "iatfrnny        | infantry        | infantry\n",
      "diiiovsn        | division        | division\n",
      "atcaketd        | attacked        | attacted\n",
      "on              | on              | or\n",
      "ocbetor         | october         | occober\n",
      "the             | the             | the\n",
      "mg              | mg              | ne\n",
      "was             | was             | was\n",
      "used            | used            | used\n",
      "as              | as              | as\n",
      "granemy         | germany         | germany\n",
      "s               | s               | s\n",
      "main            | main            | main\n",
      "mcniahe         | machine         | mechine\n",
      "gun             | gun             | gun\n",
      "in              | in              | is\n",
      "the             | the             | the\n",
      "s               | s               | s\n",
      "wbeb            | webb            | webb\n",
      "is              | is              | is\n",
      "ctlernury       | currently       | cuururtly\n",
      "mriaerd         | married         | married\n",
      "to              | to              | to\n",
      "hnog            | hong            | hong\n",
      "lee             | lee             | kee\n",
      "sncie           | since           | since\n",
      "sam             | sam             | sam\n",
      "rewoclkl        | rockwell        | sejkwwlk\n",
      "bron            | born            | born\n",
      "nvmebeor        | november        | november\n",
      "is              | is              | is\n",
      "an              | an              | an\n",
      "arcemian        | american        | americar\n",
      "acotr           | actor           | actor\n",
      "cieroytnbaaca   | cyanobacteria   | chrnoctancaa\n",
      "are             | are             | are\n",
      "in              | in              | in\n",
      "most            | most            | most\n",
      "etvninemrons    | environments    | evtotonnnnns\n",
      "on              | on              | on\n",
      "eatrh           | earth           | ebyth\n",
      "she             | she             | she\n",
      "was             | was             | was\n",
      "aslo            | also            | also\n",
      "the             | the             | the\n",
      "soeetpmthr      | stepmother      | sttonether\n",
      "of              | of              | of\n",
      "huokyiri        | hiroyuki        | hoklkiki\n",
      "\n",
      "test Loss: 2.6288\n",
      "\n",
      "test Accuracy: 0.3769, F1 Score: 0.3322\n",
      "\n",
      "test Average Normalized Edit Distance Word-Level Pred-Label: 0.1253\n",
      "\n",
      "test Average Normalized Edit Distance Word-Level Typo-Label: 0.2288\n",
      "\n",
      "test Average Normalized Edit Distance Sentence-Level Pred-Label: 0.1308158771101859\n",
      "\n",
      "test Average Normalized Edit Distance Sentence-Level Typo-Label: 0.22966545498690688\n"
     ]
    }
   ],
   "source": [
    "get_metrics(test_loader, model, \"test\", f\"analysis/test_predictions_{complexity_level}.csv\", n_print)"
   ]
  },
  {
   "cell_type": "markdown",
   "id": "099dcf39",
   "metadata": {},
   "source": [
    "# Model Analysis"
   ]
  },
  {
   "cell_type": "code",
   "execution_count": 16,
   "id": "fff0ed57",
   "metadata": {},
   "outputs": [
    {
     "ename": "SyntaxError",
     "evalue": "f-string: expecting '}' (520987571.py, line 1)",
     "output_type": "error",
     "traceback": [
      "\u001b[1;36m  Cell \u001b[1;32mIn[16], line 1\u001b[1;36m\u001b[0m\n\u001b[1;33m    df = pd.read_csv(f\"{\"validation\"}_predictions_{complexity_level}.csv\")\u001b[0m\n\u001b[1;37m                         ^\u001b[0m\n\u001b[1;31mSyntaxError\u001b[0m\u001b[1;31m:\u001b[0m f-string: expecting '}'\n"
     ]
    }
   ],
   "source": [
    "df = pd.read_csv(f\"{\"validation\"}_predictions_{complexity_level}.csv\")\n",
    "# Calculate word frequency, length, and average edit distance\n",
    "df['Word'] = df['Input Word'].str.strip()\n",
    "df['Frequency'] = df.groupby('Word')['Word'].transform('count')\n",
    "df['Length'] = df['Word'].str.len()\n",
    "df['Avg_Edit_Distance'] = df.groupby('Word')['Pred_label_Editdistance'].transform('mean')\n",
    "\n",
    "\n",
    "df.groupby(\"Label Word\")[\"Pred_label_Editdistance\"].mean().mean()"
   ]
  },
  {
   "cell_type": "code",
   "execution_count": null,
   "id": "5bcb9732",
   "metadata": {},
   "outputs": [],
   "source": [
    "df = pd.read_csv(f\"{\"validation\"}_predictions_{complexity_level}.csv\")\n",
    "\n",
    "df['Label Word Length'] = df['Label Word'].str.len()\n",
    "grouped = df.groupby(\"Label Word\").agg({\"Label Word\": \"count\", \"Pred_label_Editdistance\": \"sum\", \"Label Word Length\": \"mean\"}).rename({\"Label Word\": \"Count\", \"Pred_label_Editdistance\": \"Total_Edit_Distance\"}, axis=1)\n",
    "grouped[\"mean\"] = grouped[\"Total_Edit_Distance\"] / grouped[\"Count\"]\n",
    "grouped[\"mean\"].mean()\n"
   ]
  },
  {
   "cell_type": "code",
   "execution_count": null,
   "id": "33cc9782-d57d-4cf2-9d25-d2c9cbbc07b8",
   "metadata": {},
   "outputs": [],
   "source": [
    "def analyze_predictions(data_type):\n",
    "    if data_type not in [\"validation\", \"test\"]:\n",
    "        raise ValueError(\"data_type must be either 'validation' or 'test'\")\n",
    "    \n",
    "    df = pd.read_csv(f\"analysis/{data_type}_predictions_{complexity_level}.csv\")\n",
    "    # Calculate word frequency, length, and average edit distance\n",
    "    df['Word'] = df['Label Word'].str.strip()\n",
    "    df['Frequency'] = df.groupby('Word')['Word'].transform('count')\n",
    "    df['Length'] = df['Word'].str.len()\n",
    "    df['Avg_Edit_Distance'] = df.groupby('Word')['Pred_label_Editdistance'].transform('mean')\n",
    "\n",
    "    # Drop duplicates to keep unique words\n",
    "    df_unique = df[['Word', 'Frequency', 'Length', 'Avg_Edit_Distance']].drop_duplicates()\n",
    "\n",
    "    # Calculate correlations\n",
    "    freq_avg_edit_corr = df_unique['Frequency'].corr(df_unique['Avg_Edit_Distance'])\n",
    "    length_avg_edit_corr = df_unique['Length'].corr(df_unique['Avg_Edit_Distance'])\n",
    "\n",
    "    print(f\"Correlation between Frequency and Avg_Edit_Distance: {freq_avg_edit_corr}\")\n",
    "    print(f\"Correlation between Length and Avg_Edit_Distance: {length_avg_edit_corr}\")\n",
    "\n",
    "    df_unique.to_csv(f\"analysis/{data_type}_aggregated_{complexity_level}.csv\", index=False)\n",
    "\n",
    "\n",
    "analyze_predictions(\"validation\")\n",
    "analyze_predictions(\"test\")\n"
   ]
  },
  {
   "cell_type": "markdown",
   "id": "96fe360b",
   "metadata": {},
   "source": [
    "# Hard"
   ]
  },
  {
   "cell_type": "code",
   "execution_count": null,
   "id": "a0683f51",
   "metadata": {},
   "outputs": [],
   "source": [
    "from model_train_hard import device, complexity_level, max_length, batch_size, input_size, hidden_size, output_size, num_layers, complexity_level, model, loss_function, optimizer, epochs"
   ]
  },
  {
   "cell_type": "code",
   "execution_count": null,
   "id": "452ff379",
   "metadata": {},
   "outputs": [],
   "source": [
    "device, complexity_level"
   ]
  },
  {
   "cell_type": "code",
   "execution_count": 36,
   "id": "ba89c68c",
   "metadata": {},
   "outputs": [],
   "source": [
    "train_loader, validation_loader, test_loader = prepare_data(complexity_level = complexity_level,\n",
    "                                                            max_length = max_length,\n",
    "                                                            batch_size = batch_size)"
   ]
  },
  {
   "cell_type": "code",
   "execution_count": null,
   "id": "01af1f91",
   "metadata": {},
   "outputs": [],
   "source": [
    "for sample in train_loader:\n",
    "    X, y = sample\n",
    "    print(X.shape, y.shape)\n",
    "    print(np.unique(y.cpu(), return_counts=True))\n",
    "    print(X.device)\n",
    "    break"
   ]
  },
  {
   "cell_type": "code",
   "execution_count": null,
   "id": "f917ca86",
   "metadata": {},
   "outputs": [],
   "source": [
    "if complexity_level.lower() == 'easy':\n",
    "    PATH = f'models/{complexity_level.lower()}/model_408.pt'\n",
    "else:\n",
    "    PATH = f'models/{complexity_level.lower()}/model_951.pt'\n",
    "\n",
    "model.load_state_dict(torch.load(PATH, weights_only=True, map_location=torch.device('cpu')))\n",
    "model.eval()"
   ]
  },
  {
   "cell_type": "code",
   "execution_count": 39,
   "id": "847dc751",
   "metadata": {},
   "outputs": [],
   "source": [
    "# get_metrics(train_loader, model, \"train\", f\"train_predictions_{complexity_level}.csv\", n_print)"
   ]
  },
  {
   "cell_type": "code",
   "execution_count": 40,
   "id": "217b281e",
   "metadata": {},
   "outputs": [],
   "source": [
    "get_metrics(validation_loader, model, \"validation\", f\"analysis/validation_predictions_{complexity_level}.csv\", n_print)"
   ]
  },
  {
   "cell_type": "code",
   "execution_count": null,
   "id": "e0f5b5bc",
   "metadata": {},
   "outputs": [],
   "source": [
    "get_metrics(test_loader, model, \"test\", f\"analysis/test_predictions_{complexity_level}.csv\", n_print)"
   ]
  },
  {
   "cell_type": "markdown",
   "id": "04ee906c",
   "metadata": {},
   "source": [
    "# Model Analysis"
   ]
  },
  {
   "cell_type": "code",
   "execution_count": null,
   "id": "0d46a77c",
   "metadata": {},
   "outputs": [],
   "source": [
    "analyze_predictions(\"validation\")"
   ]
  },
  {
   "cell_type": "code",
   "execution_count": null,
   "id": "1bdc1d68",
   "metadata": {},
   "outputs": [],
   "source": [
    "analyze_predictions(\"test\")\n"
   ]
  }
 ],
 "metadata": {
  "kernelspec": {
   "display_name": "base",
   "language": "python",
   "name": "python3"
  },
  "language_info": {
   "codemirror_mode": {
    "name": "ipython",
    "version": 3
   },
   "file_extension": ".py",
   "mimetype": "text/x-python",
   "name": "python",
   "nbconvert_exporter": "python",
   "pygments_lexer": "ipython3",
   "version": "3.11.7"
  }
 },
 "nbformat": 4,
 "nbformat_minor": 5
}
