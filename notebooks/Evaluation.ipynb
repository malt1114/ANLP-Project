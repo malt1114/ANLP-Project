{
 "cells": [
  {
   "cell_type": "markdown",
   "id": "1ea4a4c3-44d9-415d-855d-afa58addf0be",
   "metadata": {},
   "source": [
    "# Settings"
   ]
  },
  {
   "cell_type": "code",
   "execution_count": 1,
   "id": "0a00071e-4324-4de2-947f-d0385b367325",
   "metadata": {},
   "outputs": [
    {
     "data": {
      "text/plain": [
       "'c:\\\\Users\\\\ruben\\\\OneDrive\\\\Dokumenter\\\\GitHub\\\\ANLP-Project'"
      ]
     },
     "execution_count": 1,
     "metadata": {},
     "output_type": "execute_result"
    }
   ],
   "source": [
    "import sys\n",
    "import os\n",
    "\n",
    "os.chdir('..')\n",
    "os.getcwd()"
   ]
  },
  {
   "cell_type": "code",
   "execution_count": 2,
   "id": "6000c37a",
   "metadata": {},
   "outputs": [
    {
     "data": {
      "text/plain": [
       "'c:\\\\Users\\\\ruben\\\\OneDrive\\\\Dokumenter\\\\GitHub\\\\ANLP-Project'"
      ]
     },
     "execution_count": 2,
     "metadata": {},
     "output_type": "execute_result"
    }
   ],
   "source": [
    "import os\n",
    "os.getcwd()\n"
   ]
  },
  {
   "cell_type": "markdown",
   "id": "cddda24b-27a5-40cc-93d9-6a0fbf3c2de1",
   "metadata": {},
   "source": [
    "# Imports"
   ]
  },
  {
   "cell_type": "code",
   "execution_count": 3,
   "id": "f6abbde7-dc63-471e-8d5f-5a31201c1963",
   "metadata": {},
   "outputs": [
    {
     "name": "stderr",
     "output_type": "stream",
     "text": [
      "C:\\Users\\ruben\\AppData\\Local\\Temp\\ipykernel_23936\\2098325508.py:12: TqdmExperimentalWarning: Using `tqdm.autonotebook.tqdm` in notebook mode. Use `tqdm.tqdm` instead to force console mode (e.g. in jupyter console)\n",
      "  from tqdm.autonotebook import trange, tqdm\n"
     ]
    }
   ],
   "source": [
    "from scripts.model import CharBiLSTM, prepare_data\n",
    "from scripts.data import create_data_loader, load_data\n",
    "from scripts.preprocessing import get_typoglycemia_modified_data, sentence_tokennizer, tokenize_dataframe, get_max_length\n",
    "from scripts.baseline import get_base_line_score\n",
    "\n",
    "from torch import nn, optim\n",
    "import torch\n",
    "\n",
    "from sklearn.model_selection import train_test_split\n",
    "\n",
    "import editdistance\n",
    "from tqdm.autonotebook import trange, tqdm\n",
    "import random \n",
    "\n",
    "from sklearn.metrics import f1_score, accuracy_score\n",
    "import numpy as np\n",
    "\n",
    "import pandas as pd\n",
    "import matplotlib.pyplot as plt"
   ]
  },
  {
   "cell_type": "markdown",
   "id": "1176928e-b58d-46cb-a601-262e9fecfd37",
   "metadata": {},
   "source": [
    "# Easy"
   ]
  },
  {
   "cell_type": "code",
   "execution_count": 4,
   "id": "fd431642-6d32-4817-8b8c-f89994953e5b",
   "metadata": {},
   "outputs": [
    {
     "name": "stdout",
     "output_type": "stream",
     "text": [
      "cuda:0\n",
      "True\n"
     ]
    }
   ],
   "source": [
    "from model_train_easy import device, complexity_level, max_length, batch_size, input_size, hidden_size, output_size, num_layers, complexity_level, model, loss_function, optimizer, epochs"
   ]
  },
  {
   "cell_type": "code",
   "execution_count": 5,
   "id": "6ac98230-142d-40ba-9c8c-1fc24e06329e",
   "metadata": {},
   "outputs": [
    {
     "data": {
      "text/plain": [
       "(device(type='cuda', index=0), 'Easy')"
      ]
     },
     "execution_count": 5,
     "metadata": {},
     "output_type": "execute_result"
    }
   ],
   "source": [
    "device, complexity_level"
   ]
  },
  {
   "cell_type": "code",
   "execution_count": 6,
   "id": "a58c359c-3e09-4364-9a7d-a6ac8de05764",
   "metadata": {},
   "outputs": [],
   "source": [
    "train_loader, validation_loader, test_loader = prepare_data(complexity_level = complexity_level,\n",
    "                                                            max_length = max_length,\n",
    "                                                            batch_size = batch_size)"
   ]
  },
  {
   "cell_type": "code",
   "execution_count": 7,
   "id": "df6bdb0d-0e96-4f74-b6b2-572c8b485716",
   "metadata": {},
   "outputs": [
    {
     "name": "stdout",
     "output_type": "stream",
     "text": [
      "torch.Size([512, 151]) torch.Size([512, 151])\n",
      "(array([ 0,  1,  2,  3,  4,  5,  6,  7,  8,  9, 10, 11, 12, 13, 14, 15, 16,\n",
      "       17, 18, 19, 20, 21, 22, 23, 24, 25, 26, 27], dtype=int64), array([42474,  2600,   484,   924,  1021,  3417,   605,   535,  1392,\n",
      "        2304,    82,   204,  1194,   803,  2161,  1933,   539,    15,\n",
      "        1813,  2010,  2472,   712,   252,   488,    52,   564,    44,\n",
      "        6218], dtype=int64))\n",
      "cpu\n"
     ]
    }
   ],
   "source": [
    "for sample in train_loader:\n",
    "    X, y = sample\n",
    "    print(X.shape, y.shape)\n",
    "    print(np.unique(y.cpu(), return_counts=True))\n",
    "    print(X.device)\n",
    "    break"
   ]
  },
  {
   "cell_type": "code",
   "execution_count": 8,
   "id": "7eeb2c90",
   "metadata": {},
   "outputs": [
    {
     "data": {
      "text/plain": [
       "'c:\\\\Users\\\\ruben\\\\OneDrive\\\\Dokumenter\\\\GitHub\\\\ANLP-Project'"
      ]
     },
     "execution_count": 8,
     "metadata": {},
     "output_type": "execute_result"
    }
   ],
   "source": [
    "os.getcwd()"
   ]
  },
  {
   "cell_type": "code",
   "execution_count": 9,
   "id": "8479efdc-13ab-473f-8de5-76b7a0f3ff9d",
   "metadata": {},
   "outputs": [
    {
     "data": {
      "text/plain": [
       "CharBiLSTM(\n",
       "  (lstm): LSTM(1, 512, batch_first=True, bidirectional=True)\n",
       "  (fc): Linear(in_features=1024, out_features=29, bias=True)\n",
       ")"
      ]
     },
     "execution_count": 9,
     "metadata": {},
     "output_type": "execute_result"
    }
   ],
   "source": [
    "if complexity_level.lower() == 'easy':\n",
    "    PATH = f'models/{complexity_level.lower()}/model_1154.pt'\n",
    "else:\n",
    "    PATH = f'models/{complexity_level.lower()}/model_987.pt'\n",
    "\n",
    "model.load_state_dict(torch.load(PATH, weights_only=True))\n",
    "model.eval()"
   ]
  },
  {
   "cell_type": "code",
   "execution_count": 10,
   "id": "adb9886f-f783-4894-9471-a33d36e5120d",
   "metadata": {},
   "outputs": [],
   "source": [
    "def index_to_char(index, target = True):\n",
    "    if target == False:\n",
    "        index = round(index*100, 0)\n",
    "    index = int(index)\n",
    "    if 1 <= index <= 25:\n",
    "        return chr(index + ord('a') - 1), index\n",
    "    elif index == 26:\n",
    "        return ' ', index\n",
    "    elif index == 27:\n",
    "        return \"<SENTSTOP>\", index\n",
    "    else:\n",
    "        return \"_\", index  # for all other values, return None\n",
    "    \n",
    "\n",
    "# def index_to_char(index, target = True):\n",
    "#     if target == False:\n",
    "#         index = round(index*100, 0)\n",
    "#     index = int(index)\n",
    "#     if 1 <= index <= 26:\n",
    "#         return chr(index + ord('a') - 1), index\n",
    "#     elif index == 27:\n",
    "#         return ' ', index\n",
    "#     elif index == 28:\n",
    "#         return \"<SENTSTOP>\", index\n",
    "#     else:\n",
    "#         return \"_\", index  # for all other values, return None"
   ]
  },
  {
   "cell_type": "code",
   "execution_count": 11,
   "id": "31edfb9a",
   "metadata": {},
   "outputs": [],
   "source": [
    "import csv\n",
    "import editdistance\n",
    "\n",
    "def get_metrics(loader, model, loader_str, output_file=\"output.csv\", sample_size=10):\n",
    "    preds = []\n",
    "    labels = []\n",
    "    inputs = []  # To store input sequences\n",
    "    \n",
    "    model.eval()\n",
    "    loss = 0.0\n",
    "    csv_data = [[\"Input Word\", \"Label_Input_Editdistance\", \"Label Word\", \"Pred_label_Editdistance\", \"Predicted Word\"]]  # CSV header\n",
    "    sentence_label = []\n",
    "    sentence_pred = []\n",
    "    sentence_input = []  # To store input words\n",
    "    all_edit_distances = []\n",
    "    print_count = 0\n",
    "    all_typo_edit_distances = []\n",
    "\n",
    "    with torch.no_grad():\n",
    "        for batch in tqdm(loader, position=3, leave=False):\n",
    "            typo_batch, sentence_batch = batch  # typo_batch is the input, sentence_batch is the target sequence\n",
    "            typo_batch = typo_batch.to(device)\n",
    "            sentence_batch =sentence_batch.to(device)\n",
    "            \n",
    "            sentence_batch = sentence_batch.reshape(-1, max_length, 1)\n",
    "            typo_batch = typo_batch.reshape(-1, max_length, 1)\n",
    "            \n",
    "            # print(sentence_batch[0])\n",
    "            # for index in range(len(sentence_batch)):\n",
    "            #     sentence = sentence_batch[index].cpu().numpy().reshape(-1)\n",
    "            #     typo = typo_batch[index].cpu().numpy().reshape(-1)\n",
    "\n",
    "            #     for i, value in enumerate(sentence):\n",
    "            #         if value == -1:\n",
    "            #             sentence[i] = 26\n",
    "            #             break\n",
    "\n",
    "            #     for i, value in enumerate(typo):\n",
    "            #         if value == -1:\n",
    "            #             typo[i] = 26\n",
    "            #             break\n",
    "                \n",
    "            #     sentence_batch[index] = torch.tensor(sentence).reshape(max_length, 1).to(device)\n",
    "            #     typo_batch[index] = torch.tensor(typo).reshape(max_length, 1).to(device)\n",
    "            # print(sentence_batch[0])\n",
    "                \n",
    "            # print(typo_batch.shape)\n",
    "            y = model.forward(typo_batch, train=False)\n",
    "\n",
    "            \n",
    "            sentence_batch_loss = sentence_batch.reshape(-1)\n",
    "            # Calculate and accumulate loss\n",
    "            loss_batch = loss_function(y, sentence_batch_loss)\n",
    "            loss += loss_batch.item()\n",
    "            \n",
    "            \n",
    "\n",
    "            word_label = []\n",
    "            word_pred = []\n",
    "            word_input = []\n",
    "            \n",
    "            y = y.reshape(-1, max_length, output_size)\n",
    "            ### Make it work for the nabsew dimensionality\n",
    "            for sentence_index in range(len(y)):\n",
    "                sentence = y[sentence_index]\n",
    "                sentence_labels = sentence_batch[sentence_index]\n",
    "                sentence_inputs = typo_batch[sentence_index]\n",
    "                \n",
    "                sentence_edit_distances = []\n",
    "                typo_sentence_edit_distances = []\n",
    "\n",
    "\n",
    "                # Get predictions, labels, and inputs in a flattened form\n",
    "                batch_preds = torch.argmax(sentence, dim=1).cpu().numpy().reshape(-1)\n",
    "                batch_labels = sentence_labels.cpu().numpy().reshape(-1)\n",
    "                batch_inputs = sentence_inputs.cpu().numpy().reshape(-1)\n",
    "                \n",
    "                # Append these results for later accuracy and F1 calculations\n",
    "                preds.extend(batch_preds)\n",
    "                labels.extend(batch_labels)\n",
    "                inputs.extend(batch_inputs)\n",
    "                # print(\"label_char\", \"pred_char\", \"input_char\")\n",
    "                \n",
    "                # Process each element in the batch\n",
    "                for label_idx in range(len(batch_preds)):\n",
    "                    label_char, label_index_ = index_to_char(batch_labels[label_idx])\n",
    "                    pred_char, pred_index_ = index_to_char(batch_preds[label_idx])\n",
    "                    input_char, input_index_ = index_to_char(batch_inputs[label_idx],target = False)\n",
    "\n",
    "                    # print(f\"label_index_: {label_index_}, pred_index_: {pred_index_}, input_index_: {input_index_}\")\n",
    "\n",
    "                    # Ignore padding characters\n",
    "                    # if label_char != \"_\":\n",
    "                    #     word_label.append(label_char)\n",
    "                    # if pred_char != \"_\":\n",
    "                    #     word_pred.append(pred_char)\n",
    "                    # if input_char != \"_\":\n",
    "                    #     word_input.append(input_char)\n",
    "                    \n",
    "                    if label_char not in [\"_\", \" \"]:\n",
    "                        word_label.append(label_char)\n",
    "                    if pred_char not in [\"_\", \" \"]:\n",
    "                        word_pred.append(pred_char)\n",
    "                    if input_char not in [\"_\", \" \"]:\n",
    "                        word_input.append(input_char)\n",
    " \n",
    " \n",
    "\n",
    "                    # If end of a word (detected by space), append word to csv_data\n",
    "                    # print(\"Label\", label_char, label_index_, \"Input\", input_char, input_index_, \"Pred\", pred_char, pred_index_)\n",
    "\n",
    "                    if ((label_char == \" \" ) or (label_char == \"<SENTSTOP>\" )) and len(word_label) > 0:\n",
    "                        # Join and append the completed word to csv data\n",
    "                        \n",
    "                        # remove any instances of \"<SENTSTOP>\" from the word_label\n",
    "                        word_label = [char for char in word_label if char != \"<SENTSTOP>\"]\n",
    "                        word_pred = [char for char in word_pred if char != \"<SENTSTOP>\"]\n",
    "                        word_input = [char for char in word_input if char != \"<SENTSTOP>\"]\n",
    "                        try:\n",
    "                            distance = editdistance.eval(\"\".join(word_pred), \"\".join(word_label)) / len(\"\".join(word_label))\n",
    "                            sentence_edit_distances.append(distance)\n",
    "                        except:\n",
    "                            pass\n",
    "                        \n",
    "                        try:\n",
    "                            distance_typo_label = editdistance.eval(\"\".join(word_input), \"\".join(word_label)) / len(\"\".join(word_label))\n",
    "                            typo_sentence_edit_distances.append(distance_typo_label)\n",
    "                        except:\n",
    "                            pass\n",
    "\n",
    "                        if print_count == 0 and len(word_label) > 0:\n",
    "                            print(f\"Word input: {''.join(word_input)} Word pred: {''.join(word_pred)} Editdistance: {distance_typo_label}\")\n",
    "                            print(f\"Word label: {''.join(word_label)} Word pred: {''.join(word_pred)} Editdistance: {distance}\\n\")\n",
    "                        csv_data.append([\"\".join(word_input), distance_typo_label, \"\".join(word_label), distance, \"\".join(word_pred)])\n",
    "                        # Clear the lists for the next word\n",
    "                        word_label = []\n",
    "                        word_pred = []\n",
    "                        word_input = []\n",
    "                \n",
    "                try:\n",
    "                    distance = editdistance.eval(\"\".join(word_pred), \"\".join(word_label)) / len(\"\".join(word_label))\n",
    "                    sentence_edit_distances.append(distance)\n",
    "\n",
    "                    distance_typo_label = editdistance.eval(\"\".join(word_input), \"\".join(word_label)) / len(\"\".join(word_label))\n",
    "                    typo_sentence_edit_distances.append(distance_typo_label)\n",
    "                    csv_data.append([\"\".join(word_input), distance_typo_label, \"\".join(word_label), distance, \"\".join(word_pred)])\n",
    "                    \n",
    "                except:\n",
    "                    pass\n",
    "                    # print(f\"FAILED ON word_input '{word_input}'\", \"word_pred\", word_pred)\n",
    "\n",
    "                all_edit_distances.extend(sentence_edit_distances)\n",
    "                all_typo_edit_distances.extend(typo_sentence_edit_distances)\n",
    "\n",
    "                if print_count == 0 and len(word_label) > 0:\n",
    "                    print(f\"Word input: {''.join(word_input)} Word pred: {''.join(word_pred)} Editdistance: {distance_typo_label}\")\n",
    "                    print(f\"Word label: {''.join(word_label)} Word pred: {''.join(word_pred)} Editdistance: {distance}\\n\")\n",
    "                    print(f\"Word label: {\"\".join(word_label)} Word pred: {\"\".join(word_pred)} Editdistance: {distance}\\n\")                   \n",
    "                    print(f\"All sentence edit distances\", sentence_edit_distances)\n",
    "                    print(f\"Average Normalized Edit Distance Pred-Label: {sum(sentence_edit_distances) / len(sentence_edit_distances):.4f}\")\n",
    "                    print(f\"Average Normalized Edit Distance Input-Label: {sum(typo_sentence_edit_distances) / len(typo_sentence_edit_distances):.4f}\")\n",
    "                word_label = []\n",
    "                word_pred = []\n",
    "                word_input = []\n",
    "                print_count += 1\n",
    "                \n",
    "            \n",
    "\n",
    "    # Write data to CSV file\n",
    "    with open(output_file, mode=\"w\", newline=\"\") as file:\n",
    "        writer = csv.writer(file)\n",
    "        writer.writerows(csv_data)\n",
    "    \n",
    "    # Display a subset of rows in the old format for console output\n",
    "    print(f\"\\nDisplaying the first {sample_size} rows from the output file:\\n\")\n",
    "    print(\"Input Word      | Label Word      | Predicted Word\")\n",
    "    print(\"-\" * 50)\n",
    "    for row in csv_data[1:sample_size + 1]:  # Skip header row, take only `sample_size` rows\n",
    "        print(f\"{row[0]:<15} | {row[2]:<15} | {row[4]}\")\n",
    "    \n",
    "    # Compute and display metrics\n",
    "    loss_avg = loss / len(loader)\n",
    "    print(f\"\\n{loader_str} Loss: {loss_avg:.4f}\")\n",
    "    accuracy = accuracy_score(labels, preds)\n",
    "    f1 = f1_score(labels, preds, average='weighted')\n",
    "\n",
    "\n",
    "    # # ADD EDIT DISTANCE METRIC HERE\n",
    "    \n",
    "    \n",
    "    print(f\"\\n{loader_str} Accuracy: {accuracy:.4f}, F1 Score: {f1:.4f}\")\n",
    "    # Calculate average edit distance\n",
    "    avg_edit_distance = sum(all_edit_distances) / len(all_edit_distances)\n",
    "    avg_edit_distance_typo = sum(all_typo_edit_distances) / len(all_typo_edit_distances)\n",
    "    print(f\"\\n{loader_str} Average Normalized Edit Distance Pred-Label: {avg_edit_distance:.4f}\")\n",
    "    print(f\"\\n{loader_str} Average Normalized Edit Distance Typo-Label: {avg_edit_distance_typo:.4f}\")"
   ]
  },
  {
   "cell_type": "code",
   "execution_count": 12,
   "id": "14f76451-8a1f-4457-aba3-32bfccc076e0",
   "metadata": {},
   "outputs": [],
   "source": [
    "n_print = 20"
   ]
  },
  {
   "cell_type": "code",
   "execution_count": 13,
   "id": "835e22cb-97f5-4232-b739-32b39935cf48",
   "metadata": {},
   "outputs": [],
   "source": [
    "# get_metrics(train_loader, model, \"train\", f\"train_predictions_{complexity_level}.csv\", n_print)"
   ]
  },
  {
   "cell_type": "code",
   "execution_count": 14,
   "id": "16f02c01-46d1-4249-ba0c-28021e49ecbe",
   "metadata": {
    "scrolled": true
   },
   "outputs": [
    {
     "data": {
      "application/vnd.jupyter.widget-view+json": {
       "model_id": "5c3f77b3c58141e2b45c85399b323ef4",
       "version_major": 2,
       "version_minor": 0
      },
      "text/plain": [
       "  0%|          | 0/95 [00:00<?, ?it/s]"
      ]
     },
     "metadata": {},
     "output_type": "display_data"
    },
    {
     "name": "stdout",
     "output_type": "stream",
     "text": [
      "Word input: a Word pred: a Editdistance: 0.0\n",
      "Word label: a Word pred: a Editdistance: 0.0\n",
      "\n",
      "Word input: ptodcuorin Word pred: prrttcttin Editdistance: 0.5\n",
      "Word label: production Word pred: prrttcttin Editdistance: 0.5\n",
      "\n",
      "Word input: nebumr Word pred: mumbes Editdistance: 0.6666666666666666\n",
      "Word label: number Word pred: mumbes Editdistance: 0.3333333333333333\n",
      "\n",
      "Word input: on Word pred: on Editdistance: 0.0\n",
      "Word label: on Word pred: on Editdistance: 0.0\n",
      "\n",
      "Word input: the Word pred: the Editdistance: 0.0\n",
      "Word label: the Word pred: the Editdistance: 0.0\n",
      "\n",
      "Word input: svete Word pred: stbee Editdistance: 0.4\n",
      "Word label: steve Word pred: stbee Editdistance: 0.4\n",
      "\n",
      "Word input: allen Word pred: alleo Editdistance: 0.0\n",
      "Word label: allen Word pred: alleo Editdistance: 0.2\n",
      "\n",
      "Word input: show Word pred: shw Editdistance: 0.0\n",
      "Word label: show Word pred: shw Editdistance: 0.25\n",
      "\n",
      "Word input: a Word pred: a Editdistance: 0.0\n",
      "Word label: a Word pred: a Editdistance: 0.0\n",
      "\n",
      "Word input: teilvoivsen Word pred: treevvvviio Editdistance: 0.5454545454545454\n",
      "Word label: televvision Word pred: treevvvviio Editdistance: 0.5454545454545454\n",
      "\n",
      "Word input: vteraiy Word pred: verirt Editdistance: 0.7142857142857143\n",
      "Word label: variety Word pred: verirt Editdistance: 0.42857142857142855\n",
      "\n",
      "Word input: show Word pred: show Editdistance: 0.0\n",
      "Word label: show Word pred: show Editdistance: 0.0\n",
      "\n",
      "Word input: paleyd Word pred: played Editdistance: 0.5\n",
      "Word label: played Word pred: played Editdistance: 0.0\n",
      "\n",
      "Word input: the Word pred: the Editdistance: 0.0\n",
      "Word label: the Word pred: the Editdistance: 0.0\n",
      "\n",
      "Word input: thmee Word pred: theme Editdistance: 0.4\n",
      "Word label: theme Word pred: theme Editdistance: 0.0\n",
      "\n",
      "Word input: music Word pred: mustc Editdistance: 0.0\n",
      "Word label: music Word pred: mustc Editdistance: 0.2\n",
      "\n",
      "\n",
      "Displaying the first 20 rows from the output file:\n",
      "\n",
      "Input Word      | Label Word      | Predicted Word\n",
      "--------------------------------------------------\n",
      "a               | a               | a\n",
      "ptodcuorin      | production      | prrttcttin\n",
      "nebumr          | number          | mumbes\n",
      "on              | on              | on\n",
      "the             | the             | the\n",
      "svete           | steve           | stbee\n",
      "allen           | allen           | alleo\n",
      "show            | show            | shw\n",
      "a               | a               | a\n",
      "teilvoivsen     | televvision     | treevvvviio\n",
      "vteraiy         | variety         | verirt\n",
      "show            | show            | show\n",
      "paleyd          | played          | played\n",
      "the             | the             | the\n",
      "thmee           | theme           | theme\n",
      "music           | music           | mustc\n",
      "evqulaelinty    | equivalently    | euertiiiatly\n",
      "it              | it              | it\n",
      "is              | is              | is\n",
      "the             | the             | the\n",
      "\n",
      "validation Loss: 2.8116\n",
      "\n",
      "validation Accuracy: 0.2931, F1 Score: 0.2588\n",
      "\n",
      "validation Average Normalized Edit Distance Pred-Label: 0.1697\n",
      "\n",
      "validation Average Normalized Edit Distance Typo-Label: 0.2293\n"
     ]
    }
   ],
   "source": [
    "get_metrics(validation_loader, model, \"validation\", f\"validation_predictions_{complexity_level}.csv\", n_print)"
   ]
  },
  {
   "cell_type": "code",
   "execution_count": 15,
   "id": "ac37a233-7f0f-4870-8ae7-fc163bef7c57",
   "metadata": {},
   "outputs": [
    {
     "data": {
      "application/vnd.jupyter.widget-view+json": {
       "model_id": "d8134b917b18456cb787efa26afeb7d6",
       "version_major": 2,
       "version_minor": 0
      },
      "text/plain": [
       "  0%|          | 0/118 [00:00<?, ?it/s]"
      ]
     },
     "metadata": {},
     "output_type": "display_data"
    },
    {
     "name": "stdout",
     "output_type": "stream",
     "text": [
      "Word input: the Word pred: the Editdistance: 0.0\n",
      "Word label: the Word pred: the Editdistance: 0.0\n",
      "\n",
      "Word input: pupa Word pred: pura Editdistance: 0.0\n",
      "Word label: pupa Word pred: pura Editdistance: 0.25\n",
      "\n",
      "Word input: sgate Word pred: ttage Editdistance: 0.4\n",
      "Word label: stage Word pred: ttage Editdistance: 0.2\n",
      "\n",
      "Word input: of Word pred: of Editdistance: 0.0\n",
      "Word label: of Word pred: of Editdistance: 0.0\n",
      "\n",
      "Word input: a Word pred: a Editdistance: 0.0\n",
      "Word label: a Word pred: a Editdistance: 0.0\n",
      "\n",
      "Word input: bfluttrey Word pred: buttetsly Editdistance: 0.5555555555555556\n",
      "Word label: butterfly Word pred: buttetsly Editdistance: 0.2222222222222222\n",
      "\n",
      "Word input: caelld Word pred: cllled Editdistance: 0.3333333333333333\n",
      "Word label: called Word pred: cllled Editdistance: 0.16666666666666666\n",
      "\n",
      "Word input: a Word pred: a Editdistance: 0.0\n",
      "Word label: a Word pred: a Editdistance: 0.0\n",
      "\n",
      "Word input: clsahyris Word pred: classiris Editdistance: 0.6666666666666666\n",
      "Word label: chrysalis Word pred: classiris Editdistance: 0.5555555555555556\n",
      "\n",
      "Word input: plarul Word pred: priual Editdistance: 0.3333333333333333\n",
      "Word label: plural Word pred: priual Editdistance: 0.5\n",
      "\n",
      "Word input: cirsadlyhs Word pred: chypsciws Editdistance: 0.5\n",
      "Word label: chrysalids Word pred: chypsciws Editdistance: 0.5\n",
      "\n",
      "Word input: is Word pred: is Editdistance: 0.0\n",
      "Word label: is Word pred: is Editdistance: 0.0\n",
      "\n",
      "Word input: a Word pred: a Editdistance: 0.0\n",
      "Word label: a Word pred: a Editdistance: 0.0\n",
      "\n",
      "Word input: wkenwllon Word pred: velkkkeoo Editdistance: 0.6666666666666666\n",
      "Word label: wellknown Word pred: velkkkeoo Editdistance: 0.6666666666666666\n",
      "\n",
      "Word input: elmxpae Word pred: examale Editdistance: 0.5714285714285714\n",
      "Word label: example Word pred: examale Editdistance: 0.14285714285714285\n",
      "\n",
      "Word input: of Word pred: of Editdistance: 0.0\n",
      "Word label: of Word pred: of Editdistance: 0.0\n",
      "\n",
      "Word input: a Word pred: a Editdistance: 0.0\n",
      "Word label: a Word pred: a Editdistance: 0.0\n",
      "\n",
      "Word input: pupa Word pred: pura Editdistance: 0.0\n",
      "Word label: pupa Word pred: pura Editdistance: 0.25\n",
      "\n",
      "Word input: bucesae Word pred: because Editdistance: 0.5714285714285714\n",
      "Word label: because Word pred: because Editdistance: 0.0\n",
      "\n",
      "Word input: tehy Word pred: they Editdistance: 0.5\n",
      "Word label: they Word pred: they Editdistance: 0.0\n",
      "\n",
      "Word input: are Word pred: are Editdistance: 0.0\n",
      "Word label: are Word pred: are Editdistance: 0.0\n",
      "\n",
      "Word input: otfen Word pred: often Editdistance: 0.4\n",
      "Word label: often Word pred: often Editdistance: 0.0\n",
      "\n",
      "Word input: fuond Word pred: founb Editdistance: 0.4\n",
      "Word label: found Word pred: founb Editdistance: 0.2\n",
      "\n",
      "Word input: in Word pred: in Editdistance: 0.0\n",
      "Word label: in Word pred: in Editdistance: 0.0\n",
      "\n",
      "Word input: the Word pred: the Editdistance: 0.0\n",
      "Word label: the Word pred: the Editdistance: 0.0\n",
      "\n",
      "Word input: oepn Word pred: ppen Editdistance: 0.5\n",
      "Word label: open Word pred: ppen Editdistance: 0.25\n",
      "\n",
      "\n",
      "Displaying the first 20 rows from the output file:\n",
      "\n",
      "Input Word      | Label Word      | Predicted Word\n",
      "--------------------------------------------------\n",
      "the             | the             | the\n",
      "pupa            | pupa            | pura\n",
      "sgate           | stage           | ttage\n",
      "of              | of              | of\n",
      "a               | a               | a\n",
      "bfluttrey       | butterfly       | buttetsly\n",
      "caelld          | called          | cllled\n",
      "a               | a               | a\n",
      "clsahyris       | chrysalis       | classiris\n",
      "plarul          | plural          | priual\n",
      "cirsadlyhs      | chrysalids      | chypsciws\n",
      "is              | is              | is\n",
      "a               | a               | a\n",
      "wkenwllon       | wellknown       | velkkkeoo\n",
      "elmxpae         | example         | examale\n",
      "of              | of              | of\n",
      "a               | a               | a\n",
      "pupa            | pupa            | pura\n",
      "bucesae         | because         | because\n",
      "tehy            | they            | they\n",
      "\n",
      "test Loss: 2.8119\n",
      "\n",
      "test Accuracy: 0.2921, F1 Score: 0.2579\n",
      "\n",
      "test Average Normalized Edit Distance Pred-Label: 0.1697\n",
      "\n",
      "test Average Normalized Edit Distance Typo-Label: 0.2288\n"
     ]
    }
   ],
   "source": [
    "get_metrics(test_loader, model, \"test\", f\"test_predictions_{complexity_level}.csv\", n_print)"
   ]
  },
  {
   "cell_type": "markdown",
   "id": "099dcf39",
   "metadata": {},
   "source": [
    "# Model Analysis"
   ]
  },
  {
   "cell_type": "code",
   "execution_count": 16,
   "id": "33cc9782-d57d-4cf2-9d25-d2c9cbbc07b8",
   "metadata": {},
   "outputs": [
    {
     "name": "stdout",
     "output_type": "stream",
     "text": [
      "Correlation between Frequency and Avg_Edit_Distance: -0.017754464790179014\n",
      "Correlation between Length and Avg_Edit_Distance: 0.05360365101755376\n",
      "Correlation between Frequency and Avg_Edit_Distance: -0.016739915769517968\n",
      "Correlation between Length and Avg_Edit_Distance: 0.04985416790346141\n"
     ]
    }
   ],
   "source": [
    "def analyze_predictions(data_type):\n",
    "    if data_type not in [\"validation\", \"test\"]:\n",
    "        raise ValueError(\"data_type must be either 'validation' or 'test'\")\n",
    "    \n",
    "    df = pd.read_csv(f\"{data_type}_predictions_{complexity_level}.csv\")\n",
    "    # Calculate word frequency, length, and average edit distance\n",
    "    df['Word'] = df['Input Word'].str.strip()\n",
    "    df['Frequency'] = df.groupby('Word')['Word'].transform('count')\n",
    "    df['Length'] = df['Word'].str.len()\n",
    "    df['Avg_Edit_Distance'] = df.groupby('Word')['Pred_label_Editdistance'].transform('mean')\n",
    "\n",
    "    # Drop duplicates to keep unique words\n",
    "    df_unique = df[['Word', 'Frequency', 'Length', 'Avg_Edit_Distance']].drop_duplicates()\n",
    "\n",
    "    # Calculate correlations\n",
    "    freq_avg_edit_corr = df_unique['Frequency'].corr(df_unique['Avg_Edit_Distance'])\n",
    "    length_avg_edit_corr = df_unique['Length'].corr(df_unique['Avg_Edit_Distance'])\n",
    "\n",
    "    print(f\"Correlation between Frequency and Avg_Edit_Distance: {freq_avg_edit_corr}\")\n",
    "    print(f\"Correlation between Length and Avg_Edit_Distance: {length_avg_edit_corr}\")\n",
    "\n",
    "    df_unique.to_csv(f\"{data_type}_aggregated_{complexity_level}.csv\", index=False)\n",
    "\n",
    "\n",
    "analyze_predictions(\"validation\")\n",
    "analyze_predictions(\"test\")\n"
   ]
  },
  {
   "cell_type": "markdown",
   "id": "96fe360b",
   "metadata": {},
   "source": [
    "# Hard"
   ]
  },
  {
   "cell_type": "code",
   "execution_count": 17,
   "id": "a0683f51",
   "metadata": {},
   "outputs": [
    {
     "name": "stdout",
     "output_type": "stream",
     "text": [
      "cuda:0\n",
      "True\n"
     ]
    }
   ],
   "source": [
    "from model_train_hard import device, complexity_level, max_length, batch_size, input_size, hidden_size, output_size, num_layers, complexity_level, model, loss_function, optimizer, epochs"
   ]
  },
  {
   "cell_type": "code",
   "execution_count": 18,
   "id": "452ff379",
   "metadata": {},
   "outputs": [
    {
     "data": {
      "text/plain": [
       "(device(type='cuda', index=0), 'Hard')"
      ]
     },
     "execution_count": 18,
     "metadata": {},
     "output_type": "execute_result"
    }
   ],
   "source": [
    "device, complexity_level"
   ]
  },
  {
   "cell_type": "code",
   "execution_count": 19,
   "id": "ba89c68c",
   "metadata": {},
   "outputs": [],
   "source": [
    "train_loader, validation_loader, test_loader = prepare_data(complexity_level = complexity_level,\n",
    "                                                            max_length = max_length,\n",
    "                                                            batch_size = batch_size)"
   ]
  },
  {
   "cell_type": "code",
   "execution_count": 20,
   "id": "01af1f91",
   "metadata": {},
   "outputs": [
    {
     "name": "stdout",
     "output_type": "stream",
     "text": [
      "torch.Size([512, 151]) torch.Size([512, 151])\n",
      "(array([ 0,  1,  2,  3,  4,  5,  6,  7,  8,  9, 10, 11, 12, 13, 14, 15, 16,\n",
      "       17, 18, 19, 20, 21, 22, 23, 24, 25, 26, 27], dtype=int64), array([31345,  3442,   618,  1264,  1426,  4420,   886,   691,  1836,\n",
      "        2990,   117,   224,  1628,  1013,  2931,  2832,   770,    32,\n",
      "        2461,  2621,  3233,   913,   361,   638,    68,   586,    53,\n",
      "        7913], dtype=int64))\n",
      "cpu\n"
     ]
    }
   ],
   "source": [
    "for sample in train_loader:\n",
    "    X, y = sample\n",
    "    print(X.shape, y.shape)\n",
    "    print(np.unique(y.cpu(), return_counts=True))\n",
    "    print(X.device)\n",
    "    break"
   ]
  },
  {
   "cell_type": "code",
   "execution_count": 21,
   "id": "f917ca86",
   "metadata": {},
   "outputs": [
    {
     "data": {
      "text/plain": [
       "CharBiLSTM(\n",
       "  (lstm): LSTM(1, 512, batch_first=True, bidirectional=True)\n",
       "  (fc): Linear(in_features=1024, out_features=29, bias=True)\n",
       ")"
      ]
     },
     "execution_count": 21,
     "metadata": {},
     "output_type": "execute_result"
    }
   ],
   "source": [
    "if complexity_level.lower() == 'easy':\n",
    "    PATH = f'models/{complexity_level.lower()}/model_1154.pt'\n",
    "else:\n",
    "    PATH = f'models/{complexity_level.lower()}/model_987.pt'\n",
    "\n",
    "model.load_state_dict(torch.load(PATH, weights_only=True))\n",
    "model.eval()"
   ]
  },
  {
   "cell_type": "code",
   "execution_count": 22,
   "id": "847dc751",
   "metadata": {},
   "outputs": [],
   "source": [
    "# get_metrics(train_loader, model, \"train\", f\"train_predictions_{complexity_level}.csv\", n_print)"
   ]
  },
  {
   "cell_type": "code",
   "execution_count": 23,
   "id": "217b281e",
   "metadata": {},
   "outputs": [
    {
     "data": {
      "application/vnd.jupyter.widget-view+json": {
       "model_id": "256fcd7bc8f2449da883f8de09d2fa4d",
       "version_major": 2,
       "version_minor": 0
      },
      "text/plain": [
       "  0%|          | 0/77 [00:00<?, ?it/s]"
      ]
     },
     "metadata": {},
     "output_type": "display_data"
    },
    {
     "name": "stdout",
     "output_type": "stream",
     "text": [
      "Word input: that Word pred: that Editdistance: 0.0\n",
      "Word label: that Word pred: that Editdistance: 0.0\n",
      "\n",
      "Word input: is Word pred: is Editdistance: 0.0\n",
      "Word label: is Word pred: is Editdistance: 0.0\n",
      "\n",
      "Word input: to Word pred: to Editdistance: 0.0\n",
      "Word label: to Word pred: to Editdistance: 0.0\n",
      "\n",
      "Word input: say Word pred: saw Editdistance: 0.0\n",
      "Word label: say Word pred: saw Editdistance: 0.3333333333333333\n",
      "\n",
      "Word input: in Word pred: in Editdistance: 0.0\n",
      "Word label: in Word pred: in Editdistance: 0.0\n",
      "\n",
      "Word input: a Word pred: a Editdistance: 0.0\n",
      "Word label: a Word pred: a Editdistance: 0.0\n",
      "\n",
      "Word input: maennr Word pred: nanner Editdistance: 0.3333333333333333\n",
      "Word label: manner Word pred: nanner Editdistance: 0.16666666666666666\n",
      "\n",
      "Word input: taht Word pred: that Editdistance: 0.5\n",
      "Word label: that Word pred: that Editdistance: 0.0\n",
      "\n",
      "Word input: ceusad Word pred: caused Editdistance: 0.3333333333333333\n",
      "Word label: caused Word pred: caused Editdistance: 0.0\n",
      "\n",
      "Word input: or Word pred: or Editdistance: 0.0\n",
      "Word label: or Word pred: or Editdistance: 0.0\n",
      "\n",
      "Word input: was Word pred: was Editdistance: 0.0\n",
      "Word label: was Word pred: was Editdistance: 0.0\n",
      "\n",
      "Word input: lilkey Word pred: likkly Editdistance: 0.3333333333333333\n",
      "Word label: likely Word pred: likkly Editdistance: 0.16666666666666666\n",
      "\n",
      "Word input: to Word pred: to Editdistance: 0.0\n",
      "Word label: to Word pred: to Editdistance: 0.0\n",
      "\n",
      "Word input: csuae Word pred: crase Editdistance: 0.4\n",
      "Word label: cause Word pred: crase Editdistance: 0.4\n",
      "\n",
      "Word input: hasamrsnet Word pred: gasssaranu Editdistance: 0.5\n",
      "Word label: harassment Word pred: gasssaranu Editdistance: 0.7\n",
      "\n",
      "Word input: aarlm Word pred: alral Editdistance: 0.4\n",
      "Word label: alarm Word pred: alral Editdistance: 0.6\n",
      "\n",
      "Word input: or Word pred: or Editdistance: 0.0\n",
      "Word label: or Word pred: or Editdistance: 0.0\n",
      "\n",
      "Word input: dtesisrs Word pred: dessrtes Editdistance: 0.75\n",
      "Word label: distress Word pred: dessrtes Editdistance: 0.5\n",
      "\n",
      "Word input: to Word pred: to Editdistance: 0.0\n",
      "Word label: to Word pred: to Editdistance: 0.0\n",
      "\n",
      "Word input: one Word pred: one Editdistance: 0.0\n",
      "Word label: one Word pred: one Editdistance: 0.0\n",
      "\n",
      "Word input: or Word pred: or Editdistance: 0.0\n",
      "Word label: or Word pred: or Editdistance: 0.0\n",
      "\n",
      "Word input: mroe Word pred: more Editdistance: 0.5\n",
      "Word label: more Word pred: more Editdistance: 0.0\n",
      "\n",
      "Word input: psneros Word pred: poreons Editdistance: 0.5714285714285714\n",
      "Word label: persons Word pred: poreons Editdistance: 0.2857142857142857\n",
      "\n",
      "Word input: not Word pred: oos Editdistance: 0.0\n",
      "Word label: not Word pred: oos Editdistance: 0.6666666666666666\n",
      "\n",
      "Word input: of Word pred: of Editdistance: 0.0\n",
      "Word label: of Word pred: of Editdistance: 0.0\n",
      "\n",
      "Word input: the Word pred: the Editdistance: 0.0\n",
      "Word label: the Word pred: the Editdistance: 0.0\n",
      "\n",
      "Word input: same Word pred: same Editdistance: 0.0\n",
      "Word label: same Word pred: same Editdistance: 0.0\n",
      "\n",
      "Word input: hhsoouled Word pred: honolosed Editdistance: 0.6666666666666666\n",
      "Word label: household Word pred: honolosed Editdistance: 0.6666666666666666\n",
      "\n",
      "Word input: as Word pred: ar Editdistance: 0.0\n",
      "Word label: as Word pred: ar Editdistance: 0.5\n",
      "\n",
      "Word input: hesimlf Word pred: himsele Editdistance: 0.5714285714285714\n",
      "Word label: himself Word pred: himsele Editdistance: 0.14285714285714285\n",
      "\n",
      "\n",
      "Displaying the first 20 rows from the output file:\n",
      "\n",
      "Input Word      | Label Word      | Predicted Word\n",
      "--------------------------------------------------\n",
      "that            | that            | that\n",
      "is              | is              | is\n",
      "to              | to              | to\n",
      "say             | say             | saw\n",
      "in              | in              | in\n",
      "a               | a               | a\n",
      "maennr          | manner          | nanner\n",
      "taht            | that            | that\n",
      "ceusad          | caused          | caused\n",
      "or              | or              | or\n",
      "was             | was             | was\n",
      "lilkey          | likely          | likkly\n",
      "to              | to              | to\n",
      "csuae           | cause           | crase\n",
      "hasamrsnet      | harassment      | gasssaranu\n",
      "aarlm           | alarm           | alral\n",
      "or              | or              | or\n",
      "dtesisrs        | distress        | dessrtes\n",
      "to              | to              | to\n",
      "one             | one             | one\n",
      "\n",
      "validation Loss: 2.8217\n",
      "\n",
      "validation Accuracy: 0.3774, F1 Score: 0.3284\n",
      "\n",
      "validation Average Normalized Edit Distance Pred-Label: 0.1706\n",
      "\n",
      "validation Average Normalized Edit Distance Typo-Label: 0.2413\n"
     ]
    }
   ],
   "source": [
    "get_metrics(validation_loader, model, \"validation\", f\"validation_predictions_{complexity_level}.csv\", n_print)"
   ]
  },
  {
   "cell_type": "code",
   "execution_count": 24,
   "id": "e0f5b5bc",
   "metadata": {},
   "outputs": [
    {
     "data": {
      "application/vnd.jupyter.widget-view+json": {
       "model_id": "903cb390db444a9cacd89dd3ee4471bb",
       "version_major": 2,
       "version_minor": 0
      },
      "text/plain": [
       "  0%|          | 0/96 [00:00<?, ?it/s]"
      ]
     },
     "metadata": {},
     "output_type": "display_data"
    },
    {
     "name": "stdout",
     "output_type": "stream",
     "text": [
      "Word input: emtxree Word pred: expeure Editdistance: 0.42857142857142855\n",
      "Word label: extreme Word pred: expeure Editdistance: 0.5714285714285714\n",
      "\n",
      "Word input: snehotrss Word pred: toonprrrs Editdistance: 0.5555555555555556\n",
      "Word label: shortness Word pred: toonprrrs Editdistance: 0.7777777777777778\n",
      "\n",
      "Word input: in Word pred: in Editdistance: 0.0\n",
      "Word label: in Word pred: in Editdistance: 0.0\n",
      "\n",
      "Word input: hnumas Word pred: huatus Editdistance: 0.3333333333333333\n",
      "Word label: humans Word pred: huatus Editdistance: 0.5\n",
      "\n",
      "Word input: wtih Word pred: wish Editdistance: 0.5\n",
      "Word label: with Word pred: wish Editdistance: 0.25\n",
      "\n",
      "Word input: ptoorrpaonil Word pred: pororotonnal Editdistance: 0.5\n",
      "Word label: proportional Word pred: pororotonnal Editdistance: 0.4166666666666667\n",
      "\n",
      "Word input: bdoy Word pred: baoy Editdistance: 0.5\n",
      "Word label: body Word pred: baoy Editdistance: 0.5\n",
      "\n",
      "Word input: parts Word pred: pasus Editdistance: 0.0\n",
      "Word label: parts Word pred: pasus Editdistance: 0.4\n",
      "\n",
      "Word input: uuaslly Word pred: usually Editdistance: 0.2857142857142857\n",
      "Word label: usually Word pred: usually Editdistance: 0.0\n",
      "\n",
      "Word input: has Word pred: has Editdistance: 0.0\n",
      "Word label: has Word pred: has Editdistance: 0.0\n",
      "\n",
      "Word input: a Word pred: a Editdistance: 0.0\n",
      "Word label: a Word pred: a Editdistance: 0.0\n",
      "\n",
      "Word input: hmoaonrl Word pred: hommnman Editdistance: 0.5\n",
      "Word label: hormonal Word pred: hommnman Editdistance: 0.5\n",
      "\n",
      "Word input: csuae Word pred: caase Editdistance: 0.4\n",
      "Word label: cause Word pred: caase Editdistance: 0.2\n",
      "\n",
      "Word input: scuh Word pred: such Editdistance: 0.5\n",
      "Word label: such Word pred: such Editdistance: 0.0\n",
      "\n",
      "Word input: as Word pred: as Editdistance: 0.0\n",
      "Word label: as Word pred: as Editdistance: 0.0\n",
      "\n",
      "Word input: grnwmhorohote Word pred: goonnnohhttre Editdistance: 0.46153846153846156\n",
      "Word label: growthhormone Word pred: goonnnohhttre Editdistance: 0.7692307692307693\n",
      "\n",
      "Word input: deicfecniy Word pred: efffciincy Editdistance: 0.4\n",
      "Word label: deficiency Word pred: efffciincy Editdistance: 0.4\n",
      "\n",
      "Word input: once Word pred: once Editdistance: 0.0\n",
      "Word label: once Word pred: once Editdistance: 0.0\n",
      "\n",
      "Word input: claeld Word pred: called Editdistance: 0.5\n",
      "Word label: called Word pred: called Editdistance: 0.0\n",
      "\n",
      "Word input: piiatrtuy Word pred: puitttit Editdistance: 0.6666666666666666\n",
      "Word label: pituitary Word pred: puitttit Editdistance: 0.6666666666666666\n",
      "\n",
      "Word input: driawfsm Word pred: deswaran Editdistance: 0.5\n",
      "Word label: dwarfism Word pred: deswaran Editdistance: 0.75\n",
      "\n",
      "\n",
      "Displaying the first 20 rows from the output file:\n",
      "\n",
      "Input Word      | Label Word      | Predicted Word\n",
      "--------------------------------------------------\n",
      "emtxree         | extreme         | expeure\n",
      "snehotrss       | shortness       | toonprrrs\n",
      "in              | in              | in\n",
      "hnumas          | humans          | huatus\n",
      "wtih            | with            | wish\n",
      "ptoorrpaonil    | proportional    | pororotonnal\n",
      "bdoy            | body            | baoy\n",
      "parts           | parts           | pasus\n",
      "uuaslly         | usually         | usually\n",
      "has             | has             | has\n",
      "a               | a               | a\n",
      "hmoaonrl        | hormonal        | hommnman\n",
      "csuae           | cause           | caase\n",
      "scuh            | such            | such\n",
      "as              | as              | as\n",
      "grnwmhorohote   | growthhormone   | goonnnohhttre\n",
      "deicfecniy      | deficiency      | efffciincy\n",
      "once            | once            | once\n",
      "claeld          | called          | called\n",
      "piiatrtuy       | pituitary       | puitttit\n",
      "\n",
      "test Loss: 2.8207\n",
      "\n",
      "test Accuracy: 0.3774, F1 Score: 0.3283\n",
      "\n",
      "test Average Normalized Edit Distance Pred-Label: 0.1697\n",
      "\n",
      "test Average Normalized Edit Distance Typo-Label: 0.2415\n"
     ]
    }
   ],
   "source": [
    "get_metrics(test_loader, model, \"test\", f\"test_predictions_{complexity_level}.csv\", n_print)"
   ]
  },
  {
   "cell_type": "markdown",
   "id": "04ee906c",
   "metadata": {},
   "source": [
    "# Model Analysis"
   ]
  },
  {
   "cell_type": "code",
   "execution_count": 25,
   "id": "0d46a77c",
   "metadata": {},
   "outputs": [
    {
     "name": "stdout",
     "output_type": "stream",
     "text": [
      "Correlation between Frequency and Avg_Edit_Distance: -0.017291266680612392\n",
      "Correlation between Length and Avg_Edit_Distance: 0.06825150948150853\n",
      "Correlation between Frequency and Avg_Edit_Distance: -0.016191566128198172\n",
      "Correlation between Length and Avg_Edit_Distance: 0.05909745763675317\n"
     ]
    }
   ],
   "source": [
    "analyze_predictions(\"validation\")\n",
    "analyze_predictions(\"test\")"
   ]
  }
 ],
 "metadata": {
  "kernelspec": {
   "display_name": "base",
   "language": "python",
   "name": "python3"
  },
  "language_info": {
   "codemirror_mode": {
    "name": "ipython",
    "version": 3
   },
   "file_extension": ".py",
   "mimetype": "text/x-python",
   "name": "python",
   "nbconvert_exporter": "python",
   "pygments_lexer": "ipython3",
   "version": "3.12.7"
  }
 },
 "nbformat": 4,
 "nbformat_minor": 5
}
