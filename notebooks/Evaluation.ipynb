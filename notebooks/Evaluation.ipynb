{
 "cells": [
  {
   "cell_type": "markdown",
   "id": "1ea4a4c3-44d9-415d-855d-afa58addf0be",
   "metadata": {},
   "source": [
    "# Settings"
   ]
  },
  {
   "cell_type": "code",
   "execution_count": 1,
   "id": "0a00071e-4324-4de2-947f-d0385b367325",
   "metadata": {},
   "outputs": [
    {
     "data": {
      "text/plain": [
       "'C:\\\\Users\\\\ruben\\\\OneDrive\\\\Dokumenter\\\\GitHub\\\\ANLP-Project'"
      ]
     },
     "execution_count": 1,
     "metadata": {},
     "output_type": "execute_result"
    }
   ],
   "source": [
    "import sys\n",
    "import os\n",
    "\n",
    "os.chdir('..')\n",
    "os.getcwd()"
   ]
  },
  {
   "cell_type": "markdown",
   "id": "cddda24b-27a5-40cc-93d9-6a0fbf3c2de1",
   "metadata": {},
   "source": [
    "# Imports"
   ]
  },
  {
   "cell_type": "code",
   "execution_count": 2,
   "id": "f6abbde7-dc63-471e-8d5f-5a31201c1963",
   "metadata": {},
   "outputs": [
    {
     "name": "stderr",
     "output_type": "stream",
     "text": [
      "C:\\Users\\ruben\\AppData\\Local\\Temp\\ipykernel_3916\\2098325508.py:12: TqdmExperimentalWarning: Using `tqdm.autonotebook.tqdm` in notebook mode. Use `tqdm.tqdm` instead to force console mode (e.g. in jupyter console)\n",
      "  from tqdm.autonotebook import trange, tqdm\n"
     ]
    }
   ],
   "source": [
    "from scripts.model import CharBiLSTM, prepare_data\n",
    "from scripts.data import create_data_loader, load_data\n",
    "from scripts.preprocessing import get_typoglycemia_modified_data, sentence_tokennizer, tokenize_dataframe, get_max_length\n",
    "from scripts.baseline import get_base_line_score\n",
    "\n",
    "from torch import nn, optim\n",
    "import torch\n",
    "\n",
    "from sklearn.model_selection import train_test_split\n",
    "\n",
    "import editdistance\n",
    "from tqdm.autonotebook import trange, tqdm\n",
    "import random \n",
    "\n",
    "from sklearn.metrics import f1_score, accuracy_score\n",
    "import numpy as np\n",
    "\n",
    "import pandas as pd\n",
    "import matplotlib.pyplot as plt"
   ]
  },
  {
   "cell_type": "code",
   "execution_count": 3,
   "id": "61c492de-55ea-4198-9255-c276af7a043a",
   "metadata": {},
   "outputs": [],
   "source": [
    "# train_easy = pd.read_csv(\"data/processed/easy/train_easy.csv\")\n",
    "# test_easy = pd.read_csv(\"data/processed/easy/test_easy.csv\")\n",
    "# train_hard = pd.read_csv(\"data/processed/hard/train_hard.csv\")\n",
    "# test_hard = pd.read_csv(\"data/processed/hard/test_hard.csv\")\n",
    "# validation_hard = pd.read_csv(\"data/processed/hard/validation_hard.csv\")\n",
    "# validation_easy = pd.read_csv(\"data/processed/easy/validation_easy.csv\")"
   ]
  },
  {
   "cell_type": "markdown",
   "id": "1176928e-b58d-46cb-a601-262e9fecfd37",
   "metadata": {},
   "source": [
    "# Hard"
   ]
  },
  {
   "cell_type": "code",
   "execution_count": 4,
   "id": "fd431642-6d32-4817-8b8c-f89994953e5b",
   "metadata": {},
   "outputs": [
    {
     "name": "stdout",
     "output_type": "stream",
     "text": [
      "cuda:0\n",
      "True\n"
     ]
    }
   ],
   "source": [
    "from model_train_easy import device, complexity_level, max_length, batch_size, input_size, hidden_size, output_size, num_layers, complexity_level, model, loss_function, optimizer, epochs"
   ]
  },
  {
   "cell_type": "code",
   "execution_count": 6,
   "id": "6ac98230-142d-40ba-9c8c-1fc24e06329e",
   "metadata": {},
   "outputs": [
    {
     "data": {
      "text/plain": [
       "(device(type='cuda', index=0), 'Easy')"
      ]
     },
     "execution_count": 6,
     "metadata": {},
     "output_type": "execute_result"
    }
   ],
   "source": [
    "device, complexity_level"
   ]
  },
  {
   "cell_type": "code",
   "execution_count": 7,
   "id": "a58c359c-3e09-4364-9a7d-a6ac8de05764",
   "metadata": {},
   "outputs": [],
   "source": [
    "train_loader, validation_loader, test_loader = prepare_data(complexity_level = complexity_level,\n",
    "                                                            max_length = max_length,\n",
    "                                                            batch_size = batch_size)"
   ]
  },
  {
   "cell_type": "code",
   "execution_count": 8,
   "id": "df6bdb0d-0e96-4f74-b6b2-572c8b485716",
   "metadata": {},
   "outputs": [
    {
     "name": "stdout",
     "output_type": "stream",
     "text": [
      "torch.Size([512, 150]) torch.Size([512, 150])\n",
      "(array([-1,  1,  2,  3,  4,  5,  6,  7,  8,  9, 10, 11, 12, 13, 14, 15, 16,\n",
      "       17, 18, 19, 20, 21, 22, 23, 24, 25, 26], dtype=int64), array([42402,  2689,   439,   944,   996,  3396,   657,   506,  1519,\n",
      "        2357,    86,   237,  1147,   738,  2110,  1948,   543,    28,\n",
      "        1851,  2053,  2481,   740,   267,   481,    50,   429,  5706],\n",
      "      dtype=int64))\n",
      "cpu\n"
     ]
    }
   ],
   "source": [
    "for sample in train_loader:\n",
    "    X, y = sample\n",
    "    print(X.shape, y.shape)\n",
    "    print(np.unique(y.cpu(), return_counts=True))\n",
    "    print(X.device)\n",
    "    break"
   ]
  },
  {
   "cell_type": "code",
   "execution_count": 9,
   "id": "8479efdc-13ab-473f-8de5-76b7a0f3ff9d",
   "metadata": {},
   "outputs": [
    {
     "data": {
      "text/plain": [
       "CharBiLSTM(\n",
       "  (lstm): LSTM(1, 512, batch_first=True, bidirectional=True)\n",
       "  (fc): Linear(in_features=1024, out_features=28, bias=True)\n",
       ")"
      ]
     },
     "execution_count": 9,
     "metadata": {},
     "output_type": "execute_result"
    }
   ],
   "source": [
    "# PATH = f'models/{complexity_level.lower()}/model_{epochs}.pt'\n",
    "PATH = \"models/model_182.pt\"\n",
    "model.load_state_dict(torch.load(PATH, weights_only=True))\n",
    "model.eval()"
   ]
  },
  {
   "cell_type": "code",
   "execution_count": 10,
   "id": "adb9886f-f783-4894-9471-a33d36e5120d",
   "metadata": {},
   "outputs": [],
   "source": [
    "def index_to_char(index, target = True):\n",
    "    if target == False:\n",
    "        index = round(index*100, 0)\n",
    "    index = int(index)\n",
    "    if 1 <= index <= 25:\n",
    "        return chr(index + ord('a') - 1), index\n",
    "    elif index == 26:\n",
    "        return ' ', index\n",
    "    else:\n",
    "        return \"_\", index  # for all other values, return None"
   ]
  },
  {
   "cell_type": "code",
   "execution_count": 77,
   "id": "9b23dc96-f6dd-4d73-a97d-edb8fac842a9",
   "metadata": {},
   "outputs": [],
   "source": [
    "import csv\n",
    "\n",
    "def get_metrics(loader, model, loader_str, output_file=\"output.csv\", sample_size=10):\n",
    "    preds = []\n",
    "    labels = []\n",
    "    inputs = []  # To store input sequences\n",
    "    \n",
    "    model.eval()\n",
    "    loss = 0.0\n",
    "    csv_data = [[\"Input Word\", \"Label Word\", \"Predicted Word\"]]  # CSV header\n",
    "    sentence_label = []\n",
    "    sentence_pred = []\n",
    "    sentence_input = []  # To store input words\n",
    "    \n",
    "\n",
    "    with torch.no_grad():\n",
    "        for batch in tqdm(loader, position=3, leave=False):\n",
    "            typo_batch, sentence_batch = batch  # typo_batch is the input, sentence_batch is the target sequence\n",
    "            typo_batch = typo_batch.to(device)\n",
    "            sentence_batch =sentence_batch.to(device)\n",
    "            \n",
    "            sentence_batch = sentence_batch.reshape(-1, max_length, 1)\n",
    "            typo_batch = typo_batch.reshape(-1, max_length, 1)\n",
    "            y = model.forward(typo_batch, train=False)\n",
    "\n",
    "            \n",
    "            sentence_batch_loss = sentence_batch.reshape(-1)\n",
    "            # Calculate and accumulate loss\n",
    "            loss_batch = loss_function(y, sentence_batch_loss)\n",
    "            loss += loss_batch.item()\n",
    "            \n",
    "            \n",
    "\n",
    "            word_label = []\n",
    "            word_pred = []\n",
    "            word_input = []\n",
    "            \n",
    "            y = y.reshape(-1, max_length, output_size)\n",
    "            ### Make it work for the nabsew dimensionality\n",
    "            for sentence_index in range(len(y)):\n",
    "                sentence = y[sentence_index]\n",
    "                sentence_labels = sentence_batch[sentence_index]\n",
    "                sentence_inputs = typo_batch[sentence_index]\n",
    "                \n",
    "                # Get predictions, labels, and inputs in a flattened form\n",
    "                batch_preds = torch.argmax(sentence, dim=1).cpu().numpy().reshape(-1)\n",
    "                batch_labels = sentence_labels.cpu().numpy().reshape(-1)\n",
    "                batch_inputs = sentence_inputs.cpu().numpy().reshape(-1)\n",
    "                \n",
    "                # Append these results for later accuracy and F1 calculations\n",
    "                preds.extend(batch_preds)\n",
    "                labels.extend(batch_labels)\n",
    "                inputs.extend(batch_inputs)\n",
    "                \n",
    "                # Process each element in the batch\n",
    "                for label_idx in range(len(batch_preds)):\n",
    "                    label_char, label_index_ = index_to_char(batch_labels[label_idx])\n",
    "                    pred_char, pred_index_ = index_to_char(batch_preds[label_idx])\n",
    "                    input_char, input_index_ = index_to_char(batch_inputs[label_idx],target = False)\n",
    "                \n",
    "                    # Ignore padding characters\n",
    "                    if label_char != \"_\":\n",
    "                        word_label.append(label_char)\n",
    "                    if pred_char != \"_\":\n",
    "                        word_pred.append(pred_char)\n",
    "                    if input_char != \"_\":\n",
    "                        word_input.append(input_char)\n",
    "                    \n",
    "                    # If end of a word (detected by space), append word to csv_data\n",
    "                    if label_char == \" \":\n",
    "                        # Join and append the completed word to csv data\n",
    "                        csv_data.append([\"\".join(word_input), \"\".join(word_label), \"\".join(word_pred)])\n",
    "                        # Clear the lists for the next word\n",
    "                        word_label = []\n",
    "                        word_pred = []\n",
    "                        word_input = []\n",
    "                \n",
    "    # Write data to CSV file\n",
    "    with open(output_file, mode=\"w\", newline=\"\") as file:\n",
    "        writer = csv.writer(file)\n",
    "        writer.writerows(csv_data)\n",
    "    \n",
    "    # Display a subset of rows in the old format for console output\n",
    "    print(f\"\\nDisplaying the first {sample_size} rows from the output file:\\n\")\n",
    "    print(\"Input Word      | Label Word      | Predicted Word\")\n",
    "    print(\"-\" * 50)\n",
    "    for row in csv_data[1:sample_size + 1]:  # Skip header row, take only `sample_size` rows\n",
    "        print(f\"{row[0]:<15} | {row[1]:<15} | {row[2]}\")\n",
    "    \n",
    "    # Compute and display metrics\n",
    "    loss_avg = loss / len(loader)\n",
    "    print(f\"\\n{loader_str} Loss: {loss_avg:.4f}\")\n",
    "    accuracy = accuracy_score(labels, preds)\n",
    "    f1 = f1_score(labels, preds, average='weighted')\n",
    "\n",
    "\n",
    "    # # ADD EDIT DISTANCE METRIC HERE\n",
    "    \n",
    "    \n",
    "    # print(f\"\\n{loader_str} Accuracy: {accuracy:.4f}, F1 Score: {f1:.4f}\")\n"
   ]
  },
  {
   "cell_type": "code",
   "execution_count": 78,
   "id": "14f76451-8a1f-4457-aba3-32bfccc076e0",
   "metadata": {},
   "outputs": [],
   "source": [
    "n_print = 100"
   ]
  },
  {
   "cell_type": "code",
   "execution_count": 79,
   "id": "835e22cb-97f5-4232-b739-32b39935cf48",
   "metadata": {},
   "outputs": [
    {
     "data": {
      "application/vnd.jupyter.widget-view+json": {
       "model_id": "a076efd4a5784c0b87f565227aab97f8",
       "version_major": 2,
       "version_minor": 0
      },
      "text/plain": [
       "  0%|          | 0/377 [00:00<?, ?it/s]"
      ]
     },
     "metadata": {},
     "output_type": "display_data"
    },
    {
     "ename": "KeyboardInterrupt",
     "evalue": "",
     "output_type": "error",
     "traceback": [
      "\u001b[1;31m---------------------------------------------------------------------------\u001b[0m",
      "\u001b[1;31mKeyboardInterrupt\u001b[0m                         Traceback (most recent call last)",
      "Cell \u001b[1;32mIn[79], line 1\u001b[0m\n\u001b[1;32m----> 1\u001b[0m get_metrics(train_loader, model, \u001b[38;5;124m\"\u001b[39m\u001b[38;5;124mtrain\u001b[39m\u001b[38;5;124m\"\u001b[39m, \u001b[38;5;124m\"\u001b[39m\u001b[38;5;124mtrain_predictions.csv\u001b[39m\u001b[38;5;124m\"\u001b[39m, n_print)\n",
      "Cell \u001b[1;32mIn[77], line 30\u001b[0m, in \u001b[0;36mget_metrics\u001b[1;34m(loader, model, loader_str, output_file, sample_size)\u001b[0m\n\u001b[0;32m     28\u001b[0m \u001b[38;5;66;03m# Calculate and accumulate loss\u001b[39;00m\n\u001b[0;32m     29\u001b[0m loss_batch \u001b[38;5;241m=\u001b[39m loss_function(y, sentence_batch_loss)\n\u001b[1;32m---> 30\u001b[0m loss \u001b[38;5;241m+\u001b[39m\u001b[38;5;241m=\u001b[39m loss_batch\u001b[38;5;241m.\u001b[39mitem()\n\u001b[0;32m     34\u001b[0m word_label \u001b[38;5;241m=\u001b[39m []\n\u001b[0;32m     35\u001b[0m word_pred \u001b[38;5;241m=\u001b[39m []\n",
      "\u001b[1;31mKeyboardInterrupt\u001b[0m: "
     ]
    }
   ],
   "source": [
    "get_metrics(train_loader, model, \"train\", \"train_predictions.csv\", n_print)"
   ]
  },
  {
   "cell_type": "code",
   "execution_count": 80,
   "id": "16f02c01-46d1-4249-ba0c-28021e49ecbe",
   "metadata": {
    "scrolled": true
   },
   "outputs": [
    {
     "data": {
      "application/vnd.jupyter.widget-view+json": {
       "model_id": "f6ec16354ec742a981d3d18b50d1708d",
       "version_major": 2,
       "version_minor": 0
      },
      "text/plain": [
       "  0%|          | 0/95 [00:00<?, ?it/s]"
      ]
     },
     "metadata": {},
     "output_type": "display_data"
    },
    {
     "name": "stdout",
     "output_type": "stream",
     "text": [
      "\n",
      "Displaying the first 100 rows from the output file:\n",
      "\n",
      "Input Word      | Label Word      | Predicted Word\n",
      "--------------------------------------------------\n",
      "it              | it              | it \n",
      "was             | was             | was \n",
      "catreed         | created         | created \n",
      "in              | in              | in \n",
      "by              | by              | by \n",
      "b  r            | bli             | by s\n",
      "i               |                 | l\n",
      "ald             | ard             | lle \n",
      "emitennnetartsome  | entertainmentsome  | ententannmnntaaaaaaaaaaaaaaaaaaaaaaaaaaaaaaaaaaaaaaaaaaaaaaaaaaaaaaaaaaaaaaaaaaaaaaaaaaaaaaaaaaaaaaaaaaaaaaaaaaaaaaaaabasome \n",
      "of              | of              | of \n",
      "his             | his             | his \n",
      "sgnos           | songs           | songs \n",
      "ildcnue         | include         | include \n",
      "rinaing         | raining         | raining \n",
      "blood           | blood           | boold \n",
      "war             | war             | was \n",
      "eselmbne        | ensemble        | emmicnle \n",
      "sesaons         | seasons         | sononns \n",
      "in              | in              | in \n",
      "the             | the             | the \n",
      "asybs           | abyss           | artes \n",
      "and             | and             | and \n",
      "aegnl           | angel           | angel \n",
      "of              | of              | of \n",
      "detahin         | deathin         | daathaaaaaaaaaaaaaaaaaaaaaaaaaaaaaaaaaaaaaaaaaaaaaaaaaaaaaaaaaain \n",
      "pskatian        | pakistan        | patissan \n",
      "it              | it              | it \n",
      "is              | is              | is \n",
      "malniy          | mainly          | lainly \n",
      "skeopn          | spoken          | spoken \n",
      "in              | in              | in \n",
      "the             | the             | the \n",
      "kaalt           | kalat           | kakas \n",
      "rogein          | region          | region \n",
      "of              | of              | of \n",
      "basaihtclonthe  | balochistanthe  | aarllacssomaaaaaaaaaaaaaaaaaaaaaaaaaaaaaaaaaaaaaaaaaaaaaaaaaaaaaaaaaaaaaaaaaaaaaaaaaaaaaaaaaaaathe \n",
      "purectefres     | prefectures     | peteuereers \n",
      "of              | of              | of \n",
      "the             | the             | the \n",
      "ctarenl         | central         | central \n",
      "aifacrn         | african         | african \n",
      "rbupeilc        | republic        | republic \n",
      "iculdnea        | includea        | includeaaaaaaaaaaaaaaaaaaaaaaaaaaaaaaaaaaaaaaaaaaaaaaaaaaaaaaaaaaaaaaaaaaaaaaaaaaaaaaaaaaaaaaaaaaaaaaaa \n",
      "slaimir         | similar         | siiller \n",
      "cslas           | class           | caass \n",
      "of              | of              | of \n",
      "vhielce         | vehicle         | villcge \n",
      "is              | is              | is \n",
      "the             | the             | the \n",
      "coveorssr       | crossover       | crovestes \n",
      "cuv             | cuv             | cot \n",
      "but             | but             | but \n",
      "it              | it              | it \n",
      "is              | is              | is \n",
      "bluit           | built           | built \n",
      "on              | on              | on \n",
      "a               | a               | a \n",
      "car             | car             | car \n",
      "cashsisblbioarld  | chassisbillboard  | cassaesaaaaaaaaaaaaaaaaaaaaaaaaaaaaaaaaaaaaaaaaaaaaaaaaaaaaaaaaaaaaaaaaaaaaaabillboard \n",
      "hotfrom         | hotfrom         | gotaaaaaaaaaaaaaaaaaaaaaaaaaaaaaaaaaaaaaaaaaaaaaaaaaaaaaaaaaaaaaaaaaaaaaaaaaaaaaaaaaaaaaaaaaaaaaaaaaaaaaaaaaaaaaaaaaaaaaaaaaaaaaaaaaaaaaaaaafrom \n",
      "to              | to              | to \n",
      "he              | he              | he \n",
      "was             | was             | was \n",
      "the             | the             | the \n",
      "meniitsr        | minister        | ministus \n",
      "peensridt       | president       | president \n",
      "of              | of              | of \n",
      "the             | the             | the \n",
      "sttae           | state           | state \n",
      "of              | of              | of \n",
      "rlaphaeaaittinnlnde  | rhinelandpalatinate  | ramallaadannnnnnnnd \n",
      "and             | and             | and \n",
      "form            | from            | from \n",
      "to              | to              | to \n",
      "cllcnaoehr      | chancellor      | chanmelger \n",
      "of              | of              | of \n",
      "the             | the             | the \n",
      "freaedl         | federal         | federal \n",
      "riupblec        | republic        | republic \n",
      "of              | of              | of \n",
      "gemarnythe      | germanythe      | germanyaaaaaaaaaaaaaaaaaaathe \n",
      "ltiims          | limits          | mititt \n",
      "to              | to              | to \n",
      "ainmal          | animal          | aniial \n",
      "tsnetig         | testing         | seetine \n",
      "is              | is              | is \n",
      "dfefienrt       | different       | diffgrent \n",
      "in              | in              | in \n",
      "vaurois         | various         | uariour \n",
      "ceonruitshe     | countrieshe     | couruttesaaaaaaaaaaaaaaaaaaaaaaaaaaaaaaaaaaaaaaaaaaaaaaaaaaaaaaaaaaaaaaaaaaaaaaaaaaaaaaaaaaaaaaaahe \n",
      "was             | was             | was \n",
      "eudatced        | educated        | edecated \n",
      "in              | in              | in \n",
      "mroccoo         | morocco         | morcoco \n",
      "the             | the             | the \n",
      "uneitd          | united          | united \n",
      "saetts          | states          | states \n",
      "and             | and             | and \n",
      "the             | the             | the \n",
      "ueintd          | united          | united \n",
      "\n",
      "validation Loss: 2.6021\n"
     ]
    }
   ],
   "source": [
    "get_metrics(validation_loader, model, \"validation\", \"validation_predictions.csv\", n_print)"
   ]
  },
  {
   "cell_type": "code",
   "execution_count": null,
   "id": "ac37a233-7f0f-4870-8ae7-fc163bef7c57",
   "metadata": {},
   "outputs": [],
   "source": [
    "get_metrics(test_loader, model, \"test\", \"test_predictions.csv\", n_print)"
   ]
  },
  {
   "cell_type": "code",
   "execution_count": null,
   "id": "33cc9782-d57d-4cf2-9d25-d2c9cbbc07b8",
   "metadata": {},
   "outputs": [],
   "source": []
  }
 ],
 "metadata": {
  "kernelspec": {
   "display_name": "Python 3 (ipykernel)",
   "language": "python",
   "name": "python3"
  },
  "language_info": {
   "codemirror_mode": {
    "name": "ipython",
    "version": 3
   },
   "file_extension": ".py",
   "mimetype": "text/x-python",
   "name": "python",
   "nbconvert_exporter": "python",
   "pygments_lexer": "ipython3",
   "version": "3.12.7"
  }
 },
 "nbformat": 4,
 "nbformat_minor": 5
}
