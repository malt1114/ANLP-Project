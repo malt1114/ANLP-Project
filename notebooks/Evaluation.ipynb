{
 "cells": [
  {
   "cell_type": "markdown",
   "id": "1ea4a4c3-44d9-415d-855d-afa58addf0be",
   "metadata": {},
   "source": [
    "# Settings"
   ]
  },
  {
   "cell_type": "code",
   "execution_count": 24,
   "id": "0a00071e-4324-4de2-947f-d0385b367325",
   "metadata": {},
   "outputs": [
    {
     "data": {
      "text/plain": [
       "'c:\\\\Users\\\\ruben\\\\OneDrive\\\\Dokumenter\\\\GitHub'"
      ]
     },
     "execution_count": 24,
     "metadata": {},
     "output_type": "execute_result"
    }
   ],
   "source": [
    "import sys\n",
    "import os\n",
    "\n",
    "os.chdir('..')\n",
    "os.getcwd()"
   ]
  },
  {
   "cell_type": "markdown",
   "id": "cddda24b-27a5-40cc-93d9-6a0fbf3c2de1",
   "metadata": {},
   "source": [
    "# Imports"
   ]
  },
  {
   "cell_type": "code",
   "execution_count": 25,
   "id": "f6abbde7-dc63-471e-8d5f-5a31201c1963",
   "metadata": {},
   "outputs": [],
   "source": [
    "from scripts.model import CharBiLSTM, prepare_data\n",
    "from scripts.data import create_data_loader, load_data\n",
    "from scripts.preprocessing import get_typoglycemia_modified_data, sentence_tokennizer, tokenize_dataframe, get_max_length\n",
    "from scripts.baseline import get_base_line_score\n",
    "\n",
    "from torch import nn, optim\n",
    "import torch\n",
    "\n",
    "from sklearn.model_selection import train_test_split\n",
    "\n",
    "import editdistance\n",
    "from tqdm.autonotebook import trange, tqdm\n",
    "import random \n",
    "\n",
    "from sklearn.metrics import f1_score, accuracy_score\n",
    "import numpy as np\n",
    "\n",
    "import pandas as pd\n",
    "import matplotlib.pyplot as plt"
   ]
  },
  {
   "cell_type": "markdown",
   "id": "1176928e-b58d-46cb-a601-262e9fecfd37",
   "metadata": {},
   "source": [
    "# Hard"
   ]
  },
  {
   "cell_type": "code",
   "execution_count": 26,
   "id": "fd431642-6d32-4817-8b8c-f89994953e5b",
   "metadata": {},
   "outputs": [],
   "source": [
    "from model_train_easy import device, complexity_level, max_length, batch_size, input_size, hidden_size, output_size, num_layers, complexity_level, model, loss_function, optimizer, epochs"
   ]
  },
  {
   "cell_type": "code",
   "execution_count": 27,
   "id": "6ac98230-142d-40ba-9c8c-1fc24e06329e",
   "metadata": {},
   "outputs": [
    {
     "data": {
      "text/plain": [
       "(device(type='cuda', index=0), 'Easy')"
      ]
     },
     "execution_count": 27,
     "metadata": {},
     "output_type": "execute_result"
    }
   ],
   "source": [
    "device, complexity_level"
   ]
  },
  {
   "cell_type": "code",
   "execution_count": 28,
   "id": "a58c359c-3e09-4364-9a7d-a6ac8de05764",
   "metadata": {},
   "outputs": [
    {
     "name": "stderr",
     "output_type": "stream",
     "text": [
      "\n",
      "KeyboardInterrupt\n",
      "\n"
     ]
    }
   ],
   "source": [
    "train_loader, validation_loader, test_loader = prepare_data(complexity_level = complexity_level,\n",
    "                                                            max_length = max_length,\n",
    "                                                            batch_size = batch_size)"
   ]
  },
  {
   "cell_type": "code",
   "execution_count": null,
   "id": "df6bdb0d-0e96-4f74-b6b2-572c8b485716",
   "metadata": {},
   "outputs": [
    {
     "name": "stdout",
     "output_type": "stream",
     "text": [
      "torch.Size([512, 150]) torch.Size([512, 150])\n",
      "(array([-1,  1,  2,  3,  4,  5,  6,  7,  8,  9, 10, 11, 12, 13, 14, 15, 16,\n",
      "       17, 18, 19, 20, 21, 22, 23, 24, 25, 26], dtype=int64), array([42620,  2678,   481,   906,  1049,  3331,   633,   519,  1435,\n",
      "        2236,    99,   215,  1187,   741,  2139,  2026,   591,    35,\n",
      "        1931,  1878,  2414,   736,   248,   496,    40,   502,  5634],\n",
      "      dtype=int64))\n",
      "cpu\n"
     ]
    }
   ],
   "source": [
    "for sample in train_loader:\n",
    "    X, y = sample\n",
    "    print(X.shape, y.shape)\n",
    "    print(np.unique(y.cpu(), return_counts=True))\n",
    "    print(X.device)\n",
    "    break"
   ]
  },
  {
   "cell_type": "code",
   "execution_count": null,
   "id": "8479efdc-13ab-473f-8de5-76b7a0f3ff9d",
   "metadata": {},
   "outputs": [
    {
     "data": {
      "text/plain": [
       "CharBiLSTM(\n",
       "  (lstm): LSTM(1, 512, batch_first=True, bidirectional=True)\n",
       "  (fc): Linear(in_features=1024, out_features=28, bias=True)\n",
       ")"
      ]
     },
     "execution_count": 9,
     "metadata": {},
     "output_type": "execute_result"
    }
   ],
   "source": [
    "# PATH = f'models/{complexity_level.lower()}/model_{epochs}.pt'\n",
    "PATH = \"models/model_182.pt\"\n",
    "model.load_state_dict(torch.load(PATH, weights_only=True))\n",
    "model.eval()"
   ]
  },
  {
   "cell_type": "code",
   "execution_count": null,
   "id": "adb9886f-f783-4894-9471-a33d36e5120d",
   "metadata": {},
   "outputs": [],
   "source": [
    "def index_to_char(index, target = True):\n",
    "    if target == False:\n",
    "        index = round(index*100, 0)\n",
    "    index = int(index)\n",
    "    if 1 <= index <= 25:\n",
    "        return chr(index + ord('a') - 1), index\n",
    "    elif index == 26:\n",
    "        return ' ', index\n",
    "    else:\n",
    "        return \"_\", index  # for all other values, return None"
   ]
  },
  {
   "cell_type": "code",
   "execution_count": 62,
   "id": "9b23dc96-f6dd-4d73-a97d-edb8fac842a9",
   "metadata": {},
   "outputs": [],
   "source": [
    "import csv\n",
    "import editdistance\n",
    "\n",
    "def get_metrics(loader, model, loader_str, output_file=\"output.csv\", sample_size=10):\n",
    "    preds = []\n",
    "    labels = []\n",
    "    inputs = []  # To store input sequences\n",
    "    \n",
    "    model.eval()\n",
    "    loss = 0.0\n",
    "    csv_data = [[\"Input Word\", \"Label Word\", \"Predicted Word\"]]  # CSV header\n",
    "    sentence_label = []\n",
    "    sentence_pred = []\n",
    "    sentence_input = []  # To store input words\n",
    "    \n",
    "\n",
    "    with torch.no_grad():\n",
    "        for batch in tqdm(loader, position=3, leave=False):\n",
    "            typo_batch, sentence_batch = batch  # typo_batch is the input, sentence_batch is the target sequence\n",
    "            typo_batch = typo_batch.to(device)\n",
    "            sentence_batch =sentence_batch.to(device)\n",
    "            \n",
    "            sentence_batch = sentence_batch.reshape(-1, max_length, 1)\n",
    "            typo_batch = typo_batch.reshape(-1, max_length, 1)\n",
    "            y = model.forward(typo_batch, train=False)\n",
    "\n",
    "            \n",
    "            sentence_batch_loss = sentence_batch.reshape(-1)\n",
    "            # Calculate and accumulate loss\n",
    "            loss_batch = loss_function(y, sentence_batch_loss)\n",
    "            loss += loss_batch.item()\n",
    "            \n",
    "            \n",
    "\n",
    "            word_label = []\n",
    "            word_pred = []\n",
    "            word_input = []\n",
    "            \n",
    "            y = y.reshape(-1, max_length, output_size)\n",
    "            ### Make it work for the nabsew dimensionality\n",
    "            for sentence_index in range(len(y)):\n",
    "                sentence = y[sentence_index]\n",
    "                sentence_labels = sentence_batch[sentence_index]\n",
    "                sentence_inputs = typo_batch[sentence_index]\n",
    "                \n",
    "                # Get predictions, labels, and inputs in a flattened form\n",
    "                batch_preds = torch.argmax(sentence, dim=1).cpu().numpy().reshape(-1)\n",
    "                batch_labels = sentence_labels.cpu().numpy().reshape(-1)\n",
    "                batch_inputs = sentence_inputs.cpu().numpy().reshape(-1)\n",
    "                \n",
    "                # Append these results for later accuracy and F1 calculations\n",
    "                preds.extend(batch_preds)\n",
    "                labels.extend(batch_labels)\n",
    "                inputs.extend(batch_inputs)\n",
    "                # print(\"label_char\", \"pred_char\", \"input_char\")\n",
    "                \n",
    "                # Process each element in the batch\n",
    "                for label_idx in range(len(batch_preds)):\n",
    "                    label_char, label_index_ = index_to_char(batch_labels[label_idx])\n",
    "                    pred_char, pred_index_ = index_to_char(batch_preds[label_idx])\n",
    "                    input_char, input_index_ = index_to_char(batch_inputs[label_idx],target = False)\n",
    "\n",
    "\n",
    "                    # print(label_char, pred_char, input_char)\n",
    "                    # Ignore padding characters\n",
    "                    if label_char != \"_\":\n",
    "                        word_label.append(label_char)\n",
    "                    if pred_char != \"_\":\n",
    "                        word_pred.append(pred_char)\n",
    "                    if input_char != \"_\":\n",
    "                        word_input.append(input_char)\n",
    "                    \n",
    "                    # If end of a word (detected by space), append word to csv_data\n",
    "                    if label_char == \" \":\n",
    "                        # Join and append the completed word to csv data\n",
    "                        csv_data.append([\"\".join(word_input), \"\".join(word_label), \"\".join(word_pred)])\n",
    "                        # Clear the lists for the next word\n",
    "                        word_label = []\n",
    "                        word_pred = []\n",
    "                        word_input = []\n",
    "                csv_data.append([\"\".join(word_input), \"\".join(word_label), \"\".join(word_pred)])\n",
    "                word_label = []\n",
    "                word_pred = []\n",
    "                word_input = []\n",
    "            #     if sentence_index == 2:\n",
    "            #         break\n",
    "            # break\n",
    "\n",
    "    # Write data to CSV file\n",
    "    with open(output_file, mode=\"w\", newline=\"\") as file:\n",
    "        writer = csv.writer(file)\n",
    "        writer.writerows(csv_data)\n",
    "    \n",
    "    # Display a subset of rows in the old format for console output\n",
    "    print(f\"\\nDisplaying the first {sample_size} rows from the output file:\\n\")\n",
    "    print(\"Input Word      | Label Word      | Predicted Word\")\n",
    "    print(\"-\" * 50)\n",
    "    for row in csv_data[1:sample_size + 1]:  # Skip header row, take only `sample_size` rows\n",
    "        print(f\"{row[0]:<15} | {row[1]:<15} | {row[2]}\")\n",
    "    \n",
    "    # Compute and display metrics\n",
    "    loss_avg = loss / len(loader)\n",
    "    print(f\"\\n{loader_str} Loss: {loss_avg:.4f}\")\n",
    "    accuracy = accuracy_score(labels, preds)\n",
    "    f1 = f1_score(labels, preds, average='weighted')\n",
    "\n",
    "\n",
    "    # # ADD EDIT DISTANCE METRIC HERE\n",
    "    \n",
    "    \n",
    "    print(f\"\\n{loader_str} Accuracy: {accuracy:.4f}, F1 Score: {f1:.4f}\")\n",
    "    # Calculate edit distance for each word and store in a list\n",
    "    edit_distances = []\n",
    "    for row in csv_data[1:]:  # Skip header row\n",
    "        input_word = row[0]\n",
    "        predicted_word = row[2]\n",
    "        if input_word != \"\" and input_word != \" \":\n",
    "            try:\n",
    "                edit_distances.append(editdistance.eval(input_word, predicted_word) / len(input_word))\n",
    "            except:\n",
    "                print(f\"input_word '{input_word}'\", \"predicted_word\", predicted_word)\n",
    "    # Calculate average edit distance\n",
    "    avg_edit_distance = sum(edit_distances) / len(edit_distances)\n",
    "    print(f\"\\n{loader_str} Average Normalized Edit Distance: {avg_edit_distance:.4f}\")"
   ]
  },
  {
   "cell_type": "code",
   "execution_count": 63,
   "id": "14f76451-8a1f-4457-aba3-32bfccc076e0",
   "metadata": {},
   "outputs": [],
   "source": [
    "n_print = 200"
   ]
  },
  {
   "cell_type": "code",
   "execution_count": 64,
   "id": "835e22cb-97f5-4232-b739-32b39935cf48",
   "metadata": {},
   "outputs": [],
   "source": [
    "# get_metrics(train_loader, model, \"train\", \"train_predictions.csv\", n_print)"
   ]
  },
  {
   "cell_type": "code",
   "execution_count": 65,
   "id": "16f02c01-46d1-4249-ba0c-28021e49ecbe",
   "metadata": {
    "scrolled": true
   },
   "outputs": [
    {
     "data": {
      "application/vnd.jupyter.widget-view+json": {
       "model_id": "042fc3e5c16b4c25a9a594abaca99f82",
       "version_major": 2,
       "version_minor": 0
      },
      "text/plain": [
       "  0%|          | 0/95 [00:00<?, ?it/s]"
      ]
     },
     "metadata": {},
     "output_type": "display_data"
    },
    {
     "name": "stdout",
     "output_type": "stream",
     "text": [
      "\n",
      "Displaying the first 200 rows from the output file:\n",
      "\n",
      "Input Word      | Label Word      | Predicted Word\n",
      "--------------------------------------------------\n",
      "mike            | mike            | mile \n",
      "ncoihls         | nichols         | kichios \n",
      "won             | won             | won \n",
      "the             | the             | the \n",
      "acmeday         | academy         | academy \n",
      "aarwd           | award           | award \n",
      "for             | for             | for \n",
      "bset            | best            | best \n",
      "dotircer        | director        | directoraaaaaaaaaaaaaaaaaaaaaaaaaaaaaaaaaaaaaaaaaaaaaaaaaaaaaaaaaaaaaaaaaaaaaaaaaaaaaaaaaaaaaaaaaaaaaaaaaa\n",
      "it              | it              | it \n",
      "was             | was             | was \n",
      "the             | the             | the \n",
      "frsit           | first           | first \n",
      "slb             | si              | sha\n",
      "ia e            | able            | la e \n",
      "pnaenmret       | permanent       | prneement \n",
      "eligsnh         | english         | engiish \n",
      "stnelmeett      | settlement      | septtement \n",
      "in              | in              | in \n",
      "the             | the             | the \n",
      "new             | new             | new \n",
      "egnnald         | england         | england \n",
      "rogein          | region          | regionaaaaaaaaaaaaaaaaaaaaaaaaaaaaaaaaaaaaaaaaaaaaaaaaaaaaaaaaaaaaaaaaaaaaaaa\n",
      "saletrl         | sartell         | sthtrek \n",
      "staretd         | started         | started \n",
      "as              | as              | as \n",
      "a               | a               | a \n",
      "samll           | small           | small \n",
      "town            | town            | town \n",
      "near            | near            | near \n",
      "the             | the             | the \n",
      "mspssipiisi     | mississippi     | mississippi \n",
      "rveir           | river           | riveraaaaaaaaaaaaaaaaaaaaaaaaaaaaaaaaaaaaaaaaaaaaaaaaaaaaaaaaaaaaaaaaaaaaaaaaaaaaaaaaaaaaaaaaaaaa\n",
      "it              | it              | it \n",
      "was             | was             | was \n",
      "the             | the             | the \n",
      "iiandtsurl      | industrial      | hncustunal \n",
      "ruloteivon      | revolution      | revulutionaaaaaaaaaaaaaaaaaaaaaaaaaaaaaaaaaaaaaaaaaaaaaaaaaaaaaaaaaaaaaaaaaaaaaaaaaaaaaaaaaaaaaaaaaaaaaaaaaaaaaaaaaaaaaaaaaaaaaa\n",
      "tonorto         | toronto         | tooonto \n",
      "won             | won             | won \n",
      "the             | the             | the \n",
      "nhl             | nhl             | pil \n",
      "pfylaof         | playoff         | peyyofg \n",
      "and             | and             | and \n",
      "tehn            | then            | then \n",
      "won             | won             | won \n",
      "the             | the             | the \n",
      "senatly         | stanley         | stanley \n",
      "cup             | cup             | cup \n",
      "by              | by              | by \n",
      "dftenaieg       | defeating       | defeaeing \n",
      "the             | the             | the \n",
      "pcha            | pcha            | paic \n",
      "s               | s               | s \n",
      "vecnvuoar       | vancouver       | vonreuvar \n",
      "mlrloiienais    | millionaires    | miliiiniiiis \n",
      "three           | three           | three \n",
      "geams           | games           | games \n",
      "to              | to              | to \n",
      "two             | two             | two \n",
      "in              | in              | in \n",
      "a               | a               | a \n",
      "bfveioftse      | bestoffive      | aigvenhire \n",
      "seeris          | series          | sereesaaaaa\n",
      "the             | the             | the \n",
      "fanil           | final           | fonal \n",
      "lerihftgt       | leftright       | letgeight \n",
      "chiacne         | chicane         | cianacd \n",
      "has             | has             | has \n",
      "been            | been            | been \n",
      "rmoeevd         | removed         | relovedadaaaaaaaaaaaaaaaaaaaaaaaaaaaaaaaaaaaaaaaaaaaaaaaaaaaaaaaaaaaaaaaaaaaaaaaaaaaaaaaaaaaaaaaaaaaaaaaaaaaaaaaa\n",
      "in              | in              | in \n",
      "octboer         | october         | pccober \n",
      "pseriendt       | president       | president \n",
      "baacrk          | barack          | barack \n",
      "oabma           | obama           | obama \n",
      "nimnaoted       | nominated       | noneonamd \n",
      "yeleln          | yellen          | welkel \n",
      "to              | to              | to \n",
      "be              | be              | be \n",
      "first           | first           | first \n",
      "female          | female          | female \n",
      "ciahr           | chair           | chaes \n",
      "of              | of              | of \n",
      "the             | the             | the \n",
      "fedrael         | federal         | feeeral \n",
      "rsveree         | reserve         | reserveaaaaaaaaaaaaaaaaaaaaaaaaaaaaaaaaaaaaaaaaaaaaaaaaaaaa\n",
      "he              | he              | he \n",
      "was             | was             | was \n",
      "the             | the             | the \n",
      "foruth          | fourth          | fourth \n",
      "fiumltle        | fulltime        | fulillme \n",
      "host            | host            | hors \n",
      "of              | of              | of \n",
      "the             | the             | the \n",
      "cdrhelin        | children        | children \n",
      "s               | s               | s \n",
      "tviosieeln      | television      | tilevision \n",
      "prrogam         | program         | program \n",
      "wermonada       | wonderama       | toernranaaaaaaaaaaaaaaaaaaaaaaaaaaaaaaaaaaaaaaaaaaaaaaaaaaaaaaaaaaaaaaaaaaaaaaaaa\n",
      "cisuaem         | caesium         | chusesm \n",
      "is              | is              | is \n",
      "an              | an              | an \n",
      "akllai          | alkali          | allllk \n",
      "matel           | metal           | matalaaaaaaaaaaaaaaaaaaaaaaaaaaaaaaaaaaaaaaaaaaaaaaaaaaaaaaaaaaaaaaaaaaaaaaaaaaaaaaaaaaaaaaaaaaaaaaaaaaaaaaaaaaaaaaaaaaaaaaaaaaaa\n",
      "the             | the             | the \n",
      "mbmeers         | members         | members \n",
      "are             | are             | are \n",
      "lruean          | lauren          | mareer \n",
      "meryrbay        | mayberry        | nyrbrwby \n",
      "iian            | iain            | iian \n",
      "cook            | cook            | conk \n",
      "and             | and             | and \n",
      "mrtain          | martin          | marian \n",
      "dorehty         | doherty         | drotrryaaaaaaaaaaaaaaaaaaaaaaaaaaaaaaaaaaaaaaaaaaaaaaaaaaaaaaaaaaaaaaaaaaaaaaaaaaaaaaaaaaaaaaaaaa\n",
      "the             | the             | the \n",
      "jma             | jma             | jma \n",
      "cnntoeiud       | continued       | continued \n",
      "to              | to              | to \n",
      "moniotr         | monitor         | monitor \n",
      "the             | the             | the \n",
      "sseytm          | system          | system \n",
      "as              | as              | as \n",
      "a               | a               | a \n",
      "tpcioral        | tropical        | tropical \n",
      "dspeoisern      | depression      | depression \n",
      "for             | for             | for \n",
      "anthoer         | another         | another \n",
      "day             | day             | day \n",
      "borefe          | before          | before \n",
      "iusnisg         | issuing         | itsuing \n",
      "tiher           | their           | their \n",
      "last            | last            | last \n",
      "wrnaing         | warning         | warning \n",
      "on              | on              | on \n",
      "the             | the             | the \n",
      "sseytm          | system          | systemaaaaaaaaaaaaaaaaaaaaaa\n",
      "he              | he              | he \n",
      "had             | had             | had \n",
      "mnay            | many            | many \n",
      "aintcg          | acting          | antine \n",
      "relos           | roles           | soles \n",
      "in              | in              | in \n",
      "miove           | movie           | movie \n",
      "and             | and             | and \n",
      "tivioelesn      | television      | teievision \n",
      "scine           | since           | since \n",
      "the             | the             | the \n",
      "s               | s               | saaaaaaaaaaaaaaaaaaaaaaaaaaaaaaaaaaaaaaaaaaaaaaaaaaaaaaaaaaaaaaaaaaaaaaaaaaaaaaaaaaaaaaaaaa\n",
      "mray            | mary            | mary \n",
      "mcnndoell       | mcdonnell       | moconnell \n",
      "was             | was             | was \n",
      "bron            | born            | born \n",
      "waliesbrrke     | wilkesbarre     | vesliaarlle \n",
      "pninenvasyla    | pennsylvania    | ponnnnnaaliaaaaaaaaaaaaaaaaaaaaaaaaaaaaaaaaaaaaaaaaaaaaaaaaaaaaaaaaaaaaaaaaaaaaaaaaaaaaaaaaaaaaaaaaaaaaaaaaaaaaaaa\n",
      "she             | she             | she \n",
      "was             | was             | was \n",
      "nmtniaeod       | nominated       | noninated \n",
      "to              | to              | to \n",
      "gimeni          | gemini          | fennne \n",
      "arwads          | awards          | ataras \n",
      "in              | in              | in \n",
      "for             | for             | fou \n",
      "due             | due             | dec \n",
      "stouh           | south           | toute \n",
      "tv              | tv              | tw \n",
      "seeris          | series          | seriesaaaaaaaaaaaaaaaaaaaaaaaaaaaaaaaaaaaaaaaaaaaaaaaaaaaaaaaaaaaaaaaaaaaaaaaaaaaaaaaaaaaaaaaaa\n",
      "on              | on              | on \n",
      "macrh           | march           | march \n",
      "the             | the             | the \n",
      "utneid          | united          | united \n",
      "staets          | states          | states \n",
      "senate          | senate          | stnate \n",
      "vteod           | voted           | weted \n",
      "in              | in              | in \n",
      "sprpuot         | support         | suprort \n",
      "of              | of              | of \n",
      "psipronog       | proposing       | porsosong \n",
      "an              | an              | an \n",
      "aemmednnt       | amendment       | ampnnment \n",
      "taht            | that            | that \n",
      "wuold           | would           | would \n",
      "leowr           | lower           | loves \n",
      "the             | the             | the \n",
      "muinmim         | minimum         | miniiin \n",
      "votnig          | voting          | viting \n",
      "age             | age             | age \n",
      "to              | to              | to \n",
      "eeyrewhrve      | everywhere      | exeryivvve \n",
      "in              | in              | in \n",
      "the             | the             | the \n",
      "curntoy         | country         | countryaaaaa\n",
      "the             | the             | the \n",
      "satte           | state           | state \n",
      "is              | is              | is \n",
      "split           | split           | split \n",
      "itno            | into            | into \n",
      "two             | two             | two \n",
      "parts           | parts           | prots \n",
      "notrh           | north           | oorth \n",
      "\n",
      "validation Loss: 2.6020\n",
      "\n",
      "validation Accuracy: 0.3757, F1 Score: 0.3499\n",
      "\n",
      "validation Average Normalized Edit Distance: 1.8302\n"
     ]
    }
   ],
   "source": [
    "get_metrics(validation_loader, model, \"validation\", \"validation_predictions.csv\", n_print)"
   ]
  },
  {
   "cell_type": "code",
   "execution_count": null,
   "id": "ac37a233-7f0f-4870-8ae7-fc163bef7c57",
   "metadata": {},
   "outputs": [],
   "source": [
    "# get_metrics(test_loader, model, \"test\", \"test_predictions.csv\", n_print)"
   ]
  },
  {
   "cell_type": "code",
   "execution_count": null,
   "id": "33cc9782-d57d-4cf2-9d25-d2c9cbbc07b8",
   "metadata": {},
   "outputs": [],
   "source": []
  }
 ],
 "metadata": {
  "kernelspec": {
   "display_name": "base",
   "language": "python",
   "name": "python3"
  },
  "language_info": {
   "codemirror_mode": {
    "name": "ipython",
    "version": 3
   },
   "file_extension": ".py",
   "mimetype": "text/x-python",
   "name": "python",
   "nbconvert_exporter": "python",
   "pygments_lexer": "ipython3",
   "version": "3.11.7"
  }
 },
 "nbformat": 4,
 "nbformat_minor": 5
}
